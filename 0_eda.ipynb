{
 "cells": [
  {
   "cell_type": "code",
   "execution_count": 1,
   "metadata": {},
   "outputs": [],
   "source": [
    "# Data source:\n",
    "# https://www.kaggle.com/datasets/redwankarimsony/heart-disease-data\n",
    "# Use this one because its already combined into a single csv\n",
    "\n",
    "import pandas as pd\n",
    "pd.set_option('display.max_columns', None)\n",
    "pd.set_option('display.max_rows', None)"
   ]
  },
  {
   "cell_type": "code",
   "execution_count": 2,
   "metadata": {},
   "outputs": [
    {
     "data": {
      "text/html": [
       "<div>\n",
       "<style scoped>\n",
       "    .dataframe tbody tr th:only-of-type {\n",
       "        vertical-align: middle;\n",
       "    }\n",
       "\n",
       "    .dataframe tbody tr th {\n",
       "        vertical-align: top;\n",
       "    }\n",
       "\n",
       "    .dataframe thead th {\n",
       "        text-align: right;\n",
       "    }\n",
       "</style>\n",
       "<table border=\"1\" class=\"dataframe\">\n",
       "  <thead>\n",
       "    <tr style=\"text-align: right;\">\n",
       "      <th></th>\n",
       "      <th>id</th>\n",
       "      <th>age</th>\n",
       "      <th>sex</th>\n",
       "      <th>dataset</th>\n",
       "      <th>cp</th>\n",
       "      <th>trestbps</th>\n",
       "      <th>chol</th>\n",
       "      <th>fbs</th>\n",
       "      <th>restecg</th>\n",
       "      <th>thalch</th>\n",
       "      <th>exang</th>\n",
       "      <th>oldpeak</th>\n",
       "      <th>slope</th>\n",
       "      <th>ca</th>\n",
       "      <th>thal</th>\n",
       "      <th>num</th>\n",
       "    </tr>\n",
       "  </thead>\n",
       "  <tbody>\n",
       "    <tr>\n",
       "      <th>0</th>\n",
       "      <td>1</td>\n",
       "      <td>63</td>\n",
       "      <td>Male</td>\n",
       "      <td>Cleveland</td>\n",
       "      <td>typical angina</td>\n",
       "      <td>145.0</td>\n",
       "      <td>233.0</td>\n",
       "      <td>True</td>\n",
       "      <td>lv hypertrophy</td>\n",
       "      <td>150.0</td>\n",
       "      <td>False</td>\n",
       "      <td>2.3</td>\n",
       "      <td>downsloping</td>\n",
       "      <td>0.0</td>\n",
       "      <td>fixed defect</td>\n",
       "      <td>0</td>\n",
       "    </tr>\n",
       "    <tr>\n",
       "      <th>1</th>\n",
       "      <td>2</td>\n",
       "      <td>67</td>\n",
       "      <td>Male</td>\n",
       "      <td>Cleveland</td>\n",
       "      <td>asymptomatic</td>\n",
       "      <td>160.0</td>\n",
       "      <td>286.0</td>\n",
       "      <td>False</td>\n",
       "      <td>lv hypertrophy</td>\n",
       "      <td>108.0</td>\n",
       "      <td>True</td>\n",
       "      <td>1.5</td>\n",
       "      <td>flat</td>\n",
       "      <td>3.0</td>\n",
       "      <td>normal</td>\n",
       "      <td>2</td>\n",
       "    </tr>\n",
       "    <tr>\n",
       "      <th>2</th>\n",
       "      <td>3</td>\n",
       "      <td>67</td>\n",
       "      <td>Male</td>\n",
       "      <td>Cleveland</td>\n",
       "      <td>asymptomatic</td>\n",
       "      <td>120.0</td>\n",
       "      <td>229.0</td>\n",
       "      <td>False</td>\n",
       "      <td>lv hypertrophy</td>\n",
       "      <td>129.0</td>\n",
       "      <td>True</td>\n",
       "      <td>2.6</td>\n",
       "      <td>flat</td>\n",
       "      <td>2.0</td>\n",
       "      <td>reversable defect</td>\n",
       "      <td>1</td>\n",
       "    </tr>\n",
       "    <tr>\n",
       "      <th>3</th>\n",
       "      <td>4</td>\n",
       "      <td>37</td>\n",
       "      <td>Male</td>\n",
       "      <td>Cleveland</td>\n",
       "      <td>non-anginal</td>\n",
       "      <td>130.0</td>\n",
       "      <td>250.0</td>\n",
       "      <td>False</td>\n",
       "      <td>normal</td>\n",
       "      <td>187.0</td>\n",
       "      <td>False</td>\n",
       "      <td>3.5</td>\n",
       "      <td>downsloping</td>\n",
       "      <td>0.0</td>\n",
       "      <td>normal</td>\n",
       "      <td>0</td>\n",
       "    </tr>\n",
       "    <tr>\n",
       "      <th>4</th>\n",
       "      <td>5</td>\n",
       "      <td>41</td>\n",
       "      <td>Female</td>\n",
       "      <td>Cleveland</td>\n",
       "      <td>atypical angina</td>\n",
       "      <td>130.0</td>\n",
       "      <td>204.0</td>\n",
       "      <td>False</td>\n",
       "      <td>lv hypertrophy</td>\n",
       "      <td>172.0</td>\n",
       "      <td>False</td>\n",
       "      <td>1.4</td>\n",
       "      <td>upsloping</td>\n",
       "      <td>0.0</td>\n",
       "      <td>normal</td>\n",
       "      <td>0</td>\n",
       "    </tr>\n",
       "  </tbody>\n",
       "</table>\n",
       "</div>"
      ],
      "text/plain": [
       "   id  age     sex    dataset               cp  trestbps   chol    fbs  \\\n",
       "0   1   63    Male  Cleveland   typical angina     145.0  233.0   True   \n",
       "1   2   67    Male  Cleveland     asymptomatic     160.0  286.0  False   \n",
       "2   3   67    Male  Cleveland     asymptomatic     120.0  229.0  False   \n",
       "3   4   37    Male  Cleveland      non-anginal     130.0  250.0  False   \n",
       "4   5   41  Female  Cleveland  atypical angina     130.0  204.0  False   \n",
       "\n",
       "          restecg  thalch  exang  oldpeak        slope   ca  \\\n",
       "0  lv hypertrophy   150.0  False      2.3  downsloping  0.0   \n",
       "1  lv hypertrophy   108.0   True      1.5         flat  3.0   \n",
       "2  lv hypertrophy   129.0   True      2.6         flat  2.0   \n",
       "3          normal   187.0  False      3.5  downsloping  0.0   \n",
       "4  lv hypertrophy   172.0  False      1.4    upsloping  0.0   \n",
       "\n",
       "                thal  num  \n",
       "0       fixed defect    0  \n",
       "1             normal    2  \n",
       "2  reversable defect    1  \n",
       "3             normal    0  \n",
       "4             normal    0  "
      ]
     },
     "execution_count": 2,
     "metadata": {},
     "output_type": "execute_result"
    }
   ],
   "source": [
    "df = pd.read_csv('data/heart_disease_uci.csv')\n",
    "df.head()"
   ]
  },
  {
   "cell_type": "code",
   "execution_count": null,
   "metadata": {},
   "outputs": [
    {
     "name": "stdout",
     "output_type": "stream",
     "text": [
      "<class 'pandas.core.frame.DataFrame'>\n",
      "RangeIndex: 920 entries, 0 to 919\n",
      "Data columns (total 16 columns):\n",
      " #   Column    Non-Null Count  Dtype  \n",
      "---  ------    --------------  -----  \n",
      " 0   id        920 non-null    int64  \n",
      " 1   age       920 non-null    int64  \n",
      " 2   sex       920 non-null    object \n",
      " 3   dataset   920 non-null    object \n",
      " 4   cp        920 non-null    object \n",
      " 5   trestbps  861 non-null    float64\n",
      " 6   chol      890 non-null    float64\n",
      " 7   fbs       830 non-null    object \n",
      " 8   restecg   918 non-null    object \n",
      " 9   thalch    865 non-null    float64\n",
      " 10  exang     865 non-null    object \n",
      " 11  oldpeak   858 non-null    float64\n",
      " 12  slope     611 non-null    object \n",
      " 13  ca        309 non-null    float64\n",
      " 14  thal      434 non-null    object \n",
      " 15  num       920 non-null    int64  \n",
      "dtypes: float64(5), int64(3), object(8)\n",
      "memory usage: 115.1+ KB\n"
     ]
    }
   ],
   "source": [
    "# Column Descriptions:\n",
    "# * `id `(Unique id for each patient)\n",
    "# * `age` (Age of the patient in years)\n",
    "# * `origin` (place of study)\n",
    "# * `sex` (Male/Female)\n",
    "# * `cp` chest pain type \n",
    "#   1. typical angina.\n",
    "#   2. atypical angina.\n",
    "#   3. non-anginal.\n",
    "#   4. asymptomatic.\n",
    "# * `trestbps` resting blood pressure (resting blood pressure (in mm Hg on admission to the hospital))\n",
    "# * `chol` (serum cholesterol in mg/dl)\n",
    "# * `fbs` (if fasting blood sugar > 120 mg/dl)\n",
    "# * `restecg` (resting electrocardiographic results)\n",
    "# * `-- Values:` [normal, stt abnormality, lv hypertrophy]\n",
    "# * `thalach:` maximum heart rate achieved\n",
    "# * `exang:` exercise-induced angina (True/ False)\n",
    "# * `oldpeak:` ST depression induced by exercise relative to rest\n",
    "# * `slope:` the slope of the peak exercise ST segment\n",
    "# * `ca:` number of major vessels (0-3) colored by fluoroscopy\n",
    "# * `thal:`[normal; fixed defect; reversible defect]\n",
    "# * `num:` the predicted attribute\n",
    "df.info()"
   ]
  },
  {
   "cell_type": "code",
   "execution_count": null,
   "metadata": {},
   "outputs": [
    {
     "name": "stdout",
     "output_type": "stream",
     "text": [
      "\n",
      "Missing Values Report:\n",
      "ca          611\n",
      "thal        486\n",
      "slope       309\n",
      "fbs          90\n",
      "oldpeak      62\n",
      "trestbps     59\n",
      "exang        55\n",
      "thalch       55\n",
      "chol         30\n",
      "restecg       2\n",
      "dtype: int64\n"
     ]
    }
   ],
   "source": [
    "missing_values = df.isna().sum()\n",
    "missing_report = missing_values[missing_values > 0].sort_values(ascending=False)\n",
    "print(\"\\nMissing Values Report:\")\n",
    "print(missing_report)"
   ]
  },
  {
   "cell_type": "code",
   "execution_count": 5,
   "metadata": {},
   "outputs": [],
   "source": [
    "df = df.where(pd.notnull(df), None)"
   ]
  },
  {
   "cell_type": "code",
   "execution_count": 6,
   "metadata": {},
   "outputs": [
    {
     "name": "stdout",
     "output_type": "stream",
     "text": [
      "Column: age\n"
     ]
    },
    {
     "name": "stdout",
     "output_type": "stream",
     "text": [
      "\n",
      "Basic Statistics:\n",
      "count: 920\n",
      "missing: 0\n",
      "mean: 53.51\n",
      "median: 54.0\n",
      "std: 9.42\n",
      "min: 28\n",
      "max: 77\n",
      "skew: -0.2\n",
      "kurtosis: -0.38\n",
      "\n",
      "Outliers: 0 found\n",
      "Outlier bounds: [27.50, 79.50]\n"
     ]
    },
    {
     "data": {
      "application/vnd.plotly.v1+json": {
       "config": {
        "plotlyServerURL": "https://plot.ly"
       },
       "data": [
        {
         "name": "Histogram",
         "nbinsx": 30,
         "type": "histogram",
         "x": {
          "bdata": "P0NDJSk4Pjk/NTk4OCw0OTA2MDFAOjo6PDI6QisoRTxAOywqKzk3PUEoRzs9OjMyQTUpQSwsPDYyKTYzMy46NjY8PDY7LkFDPkEsQTwzMDotNSdENCwvNTUzQj4+LD80Ozw0MC0iOUcxNjs5PSc9ODQrPik6Iz9BMD8zN0EtODYsPjYzHTMrN0Y+IzM7OzRAOi85KS08NCpDN0BGMzo8RC5NNjowOTQ2Iy1GNTs+QDk0OCs1MDgqOzw/KkI2RTIzKz5EQ0UtMjsyQDlAKy06Mjc+JSYpQjQ4Li5AOyk2JzU/Ii9DNkI0NzFKNjY4LjEqKSkxPTxDOi80Pjk6QDMrKkNMRjksOjwsPSo0OygqPUIuRztAQic5OjkvNyM9Ojo6ODhDNyw/Pyk7OS1EOTkmHB0dHh8gICAhIiIiIyMjIyQkJCQlJSUlJSUlJiYmJycnJycnJycnJygoKCgoKSkpKSkpKSoqKioqKiorKysrKysrKywsLCwtLS0tLS0tLi4uLi4uLi8vLy8vMDAwMDAwMDAwMDAxMTExMTExMTIyMjIyMjIzMzMzMzMzNDQ0NDQ0NDQ1NTU1NTU1NTU2NjY2NjY2NjY2NjY2NjY2Nzc3Nzc3Nzc3Nzg4ODg4OTk5Ojo6Ojs7Ozs7PD09Pj4fISIjJCUmJiYoKSkrLi4uLy8wMDAxMTEyMjM0NjY3OTo7PD9BICYnKCstLi4wMDAwMjQ0NTY2NjY2Nzg5OjopKywsLi8wMTEzNDQ0NDU1Njc3Nzg4ODo7O0FCKSssLy8xMTIyNDQ2ODpBICIjJCYmJiYmJigpKiorKystLi4vLy8vMDIyMjIzMzMzMzMzNDQ0NDU1NTU1NTU1NjY2Nzc3Nzg4ODg4ODg4OTk5OTk5Ojo6Ozs7Ozs8PDw8PDw9PT09PT09PT0+Pj4+Pj4+Pz8/Pz9AQEBBQUFBQkJDRERFRUZGSElKPyw8N0JCQTw8PDg7Pj85Pj8uPzw6QD9KNEUzPDg3Nk0/NzRAPDw6Oz0oPSk5PzszOyo3Pz44NUQ1PD47Mz05ODpFQzpBPzc5QTZISzEzPEA6PUM+QT9FMz43SyhDOjw/Iz4rP0RBMD9APTI7Ny1BPTFIMkA3Pzs4Pko2OT5MNkY9MDA9QkQ3PkdKNTpLODpANjY7Nzk9KUcmNzhFQEhFOD5DOUUzMEVFQDk1JUNKPzo9QDo8OTc3ODk9PTpKRDM+NT4uNj43Oj4=",
          "dtype": "i1"
         },
         "xaxis": "x",
         "yaxis": "y"
        },
        {
         "name": "Box Plot",
         "type": "box",
         "xaxis": "x2",
         "y": {
          "bdata": "P0NDJSk4Pjk/NTk4OCw0OTA2MDFAOjo6PDI6QisoRTxAOywqKzk3PUEoRzs9OjMyQTUpQSwsPDYyKTYzMy46NjY8PDY7LkFDPkEsQTwzMDotNSdENCwvNTUzQj4+LD80Ozw0MC0iOUcxNjs5PSc9ODQrPik6Iz9BMD8zN0EtODYsPjYzHTMrN0Y+IzM7OzRAOi85KS08NCpDN0BGMzo8RC5NNjowOTQ2Iy1GNTs+QDk0OCs1MDgqOzw/KkI2RTIzKz5EQ0UtMjsyQDlAKy06Mjc+JSYpQjQ4Li5AOyk2JzU/Ii9DNkI0NzFKNjY4LjEqKSkxPTxDOi80Pjk6QDMrKkNMRjksOjwsPSo0OygqPUIuRztAQic5OjkvNyM9Ojo6ODhDNyw/Pyk7OS1EOTkmHB0dHh8gICAhIiIiIyMjIyQkJCQlJSUlJSUlJiYmJycnJycnJycnJygoKCgoKSkpKSkpKSoqKioqKiorKysrKysrKywsLCwtLS0tLS0tLi4uLi4uLi8vLy8vMDAwMDAwMDAwMDAxMTExMTExMTIyMjIyMjIzMzMzMzMzNDQ0NDQ0NDQ1NTU1NTU1NTU2NjY2NjY2NjY2NjY2NjY2Nzc3Nzc3Nzc3Nzg4ODg4OTk5Ojo6Ojs7Ozs7PD09Pj4fISIjJCUmJiYoKSkrLi4uLy8wMDAxMTEyMjM0NjY3OTo7PD9BICYnKCstLi4wMDAwMjQ0NTY2NjY2Nzg5OjopKywsLi8wMTEzNDQ0NDU1Njc3Nzg4ODo7O0FCKSssLy8xMTIyNDQ2ODpBICIjJCYmJiYmJigpKiorKystLi4vLy8vMDIyMjIzMzMzMzMzNDQ0NDU1NTU1NTU1NjY2Nzc3Nzg4ODg4ODg4OTk5OTk5Ojo6Ozs7Ozs8PDw8PDw9PT09PT09PT0+Pj4+Pj4+Pz8/Pz9AQEBBQUFBQkJDRERFRUZGSElKPyw8N0JCQTw8PDg7Pj85Pj8uPzw6QD9KNEUzPDg3Nk0/NzRAPDw6Oz0oPSk5PzszOyo3Pz44NUQ1PD47Mz05ODpFQzpBPzc5QTZISzEzPEA6PUM+QT9FMz43SyhDOjw/Iz4rP0RBMD9APTI7Ny1BPTFIMkA3Pzs4Pko2OT5MNkY9MDA9QkQ3PkdKNTpLODpANjY7Nzk9KUcmNzhFQEhFOD5DOUUzMEVFQDk1JUNKPzo9QDo8OTc3ODk9PTpKRDM+NT4uNj43Oj4=",
          "dtype": "i1"
         },
         "yaxis": "y2"
        },
        {
         "mode": "markers",
         "name": "Q-Q Plot",
         "type": "scatter",
         "x": {
          "bdata": "batVTEVjCcD3mWa2TUAHwAp8OEHSDgbA6hbjXz43BcDgAKeu+o4EwMK3gxEoBATAEcaWJYSNA8DvBftkniUDwCz357r8yALAjov3g0J1AsAoMrmhwSgCwPW+l9Q84gHAA5AuL8OgAcDqd81FmWMBwGTFClQqKgHA+1bKOP7zAMDyETWBssAAwP2QlnP1jwDAROfBcoJhAMC0QkRPHzUAwCx3aUCaCgDACP8QrJDD/7/Ooo2FCHX/v7hYXNBaKf+/7zXfKE7g/r8qwUHMr5n+vw2ItZpSVf6/h2SgRw4T/r9CLhOuvtL9v6z0KkJDlP2/KtWvmX5X/b9ZUYcHVhz9v0lJg0ax4vy/69nPMHqq/L+ni9CBnHP8v+pdq6AFPvy/pzwWcqQJ/L86Fz8wadb7v5Nu3EdFpPu/FveeOStz+78+QV9/DkP7v0wXfnTjE/u/x8QEQZ/l+r8s4CTHN7j6v4hHxpKji/q/XnPeytlf+r9Dk1Yk0jT6v498TtaECvq/hJ+Rj+rg+b+lOxlt/Lf5vxAdfPGzj/m/cXUw/Qpo+b9zBYjH+0D5v/PiUdiAGvm/+8wPApX0+L/ZQK9cM8/4v+x1uEBXqvi/6hHnQvyF+L/s2SEwHmL4v3Plxwm5Pvi/B+9KAskb+L8DUQ96Svn3v1wQi/w51/e/LBGePZS19782Mh4XVpT3vyqckoZ8c/e/iw4aqwRT978qY3jD6zL3v9DiRywvE/e/FF1LXszz9r+PQd7swNT2v809gIQKtva/wB966aaX9r8f85n2k3n2v46ABJzPW/a/+IAa3lc+9r9A/m/UKiH2v7R91KhGBPa/sa9qlqnn9b+mfM7oUcv1v6dgSPs9r/W/KB4NOGyT9b8H5YgX23f1v+YdtR+JXPW/DBt443RB9b9M/w0CnSb1v3I5eiYADPW/4v8AB53x9L8iQ6hkctf0vxCZvwp/vfS/NKxuzsGj9L/owkmOOYr0v/j66zHlcPS/F92WqcNX9L+C8tbt0z70v3gNLf8UJvS/x/q75YUN9L/iV/qwJfXzv+RNaHfz3PO/FvZIVu7E878YMV9xFa3zv968rfJnlfO/9Fk6CuV987/20tPti2bzv7282thbT/O//McMDFQ487/7f1LNcyHzvzZUj2e6CvO/2MxzKif08r88zFFqud3yv07B8n9wx/K/dbBvyEux8r9W+gqlSpvyvzTJC3tshfK/Fg+bs7Bv8r9LAKK7Flryv+/2qQOeRPK/Pa29/0Uv8r+4vUsnDhryv/lYCvX1BPK/+CHc5vzv8b96IrZ9Itvxv0LKhj1mxvG/+usdrcex8b8yrBVWRp3xv7RWvMThiPG/hg//h5l08b+1VVUxbWDxv7FNrVRcTPG/zspYiGY48b+yDvtkiyTxv9g2d4XKEPG/TlDfhiP98L9WCmQIlunwv/MARash1vC/ppjBEsbC8L9gZQrkgq/wv00WM8ZXnPC/IeEkYkSJ8L9FZ5FiSHbwv/4P5nNjY/C/btI/RJVQ8L8Qa1+D3T3wvwb4neI7K/C/NvjhFLAY8L8TqZTOOQbwv7d+L4ux5++/G+52YhnD779m7mmUqp7vv3IMKpVkeu+/ARd+20ZW77/HtsDgUDLvvzSVzyCCDu+/sgz7Gdrq7r8cXfZMWMfuv1RfyDz8o+6/KrO8bsWA7r8mY1Vqs13uv6D5PLnFOu6/GwM55/sX7r/C+RyCVfXtv1iWvRnS0u2/s4LkP3Gw7b9+akSIMo7tv6tmbYgVbO2/csDB1xlK7b/QCGsPPyjtv2KBT8qEBu2/9tMHperk7L/8FdU9cMPsvx8VlzQVouy/vOrCKtmA7L+V01nDu1/sv4pJ4KK8Puy/Gl1Vb9sd7L96TCrQF/3rv09WOm5x3Ou/7MXC8+e7679JN1sMe5vrv9EQ7mQqe+u/WDGxq/Va679g0B6Q3DrrvzqP7sLeGuu/V7kO9vv66r9Isp3cM9vqvwaQ4yqGu+q/C+BLlvKb6r/0lV/VeHzqv1oiv58YXeq/k7AcrtE96r9Dija6ox7qv3mf0X6O/+m/QzK0t5Hg6b+rpKAhrcHpvxZoUHrgoum/3gxvgCuE6b9pcZXzjWXpv58PRZQHR+m/42fjI5go6b/LiLVkPwrpv4uy2xn96+i/gRVNB9HN6L/VqtPxuq/ov7AmCJ+6kei/FANO1c9z6L+8os9b+lXov2CLevo5OOi/jbb7eY4a6L+U+Luj9/znv9l83EF13+e/8lYzHwfC57/6J0gHraTnv6DXUMZmh+e/P2AuKTRq57+grWn9FE3nv8mNMBEJMOe/arNSMxAT579dyT4zKvbmv+GW/+BW2ea/+zM5DZa85r+kTSaJ55/mv1Z5lSZLg+a/e5fmt8Bm5r+ARAgQSErmvwxYdQLhLea/+nEyY4sR5r/UlMsGR/Xlv1vNUcIT2eW/2eZYa/G85b/XK/XX36Dlv/oyud7ehOW/pbezVu5o5b8cfm0XDk3lv+ZC5/g9MeW/GLWX030V5b85e2mAzfnkv61Cudgs3uS/HdlTtpvC5L/VT3TzGafkv8Iowmqni+S/14xP90Nw5L+Zi5d071Tkv6NjfL6pOeS/5NNFsXIe5L9ndZ8pSgPkv1sdlwQw6OO/U0ebHyTN479gh3lYJrLjv98DXY02l+O/+fbMnFR8479XN6tlgGHjvyDIMse5RuO/B3D2oAAs478gV9/SVBHjv3qrKz229uK/TExtwCTc4r9ze4g9oMHiv0mVspUop+K/jM5wqr2M4r8/+JZdX3Liv2hJRpENWOK/dy7sJ8g94r9OHkEEjyPiv7d0RwliCeK/JFJKGkHv4b+7gNwaLNXhv2le1+4iu+G/8MtZeiWh4b/lIMehM4fhv18kxklNbeG/VQpAV3JT4b+XdV+vojnhvyt+jzfeH+G/Drx61SQG4b9BVgpvduzgv/sVZerS0uC/7H3uLTq54L+V5UUgrJ/gv3SYRagohuC/CvkBra9s4L+up8gVQVPgv/+sH8rcOeC/76fEsYIg4L9U/6u0Mgfgv+otAHbZ29+/yw9BWmGp379tuELn/Hbfv9KblO6rRN+/ChIsQm4S37+N4WK0Q+Dev8nP9Rcsrt6/fTcDQCd83r/8pAkANUrevzd45itVGN6/P4zUl4fm3b9T5GoYzLTdv1Zem4Iig92/gWqxq4pR3b8tyFBpBCDdv9JHdJGP7ty/2JFs+iu93L9V8t562Yvcv4IpxOmXWty/7EBnHmcp3L8rZWTwRvjbvw7Epzc3x9u/SW9szDeW279WQzuHSGXbv5PS6UBpNNu/m1SZ0pkD27+fmbUV2tLav6wB9OMpotq/AHhSF4lx2r8VchaK90Dav27yyxZ1ENq/M49EmAHg2b9EfJbpnK/Zv+yYG+ZGf9m/EoFwaf9O2b/LoXNPxh7Zv0hRRHSb7ti/AupBtH6+2L896Qrsb47Yv5gQfPhuXti/toqvtnsu2L8PE/wDlv7Xv6Ig9L29zte/mRNlwvKe17/aZVbvNG/Xv2reCCOEP9e/eMf1O+AP179MJ84YSeDWv8T7eZi+sNa/bngXmkCB1r9FR/r8zlHWv/LLqqBpIta/ZWnlZBDz1b8Rypkpw8PVv2sq6s6BlNW/sqUqNUxl1b8uheA8IjbVv5CRwcYDB9W/lGazs/DX1L+/yMrk6KjUv2X9SjvsedS/pySlmPpK1L97lXfeExzUv9s7je437dO/0vjcqma+079+BIn1n4/TvwpS3rDjYNO/g/VTvzEy079si4oDigPTv1CiS2Ds1NK/8SWJuFim0r8/zFzvznfSvxqEB+hOSdK/qOXwhdga0r9VpKasa+zRv4YC3D8IvtG/y0ZpI66P0b+sMks7XWHRv/d6omsVM9G/m0GzmNYE0b/2kOSmoNbQv4rYv3pzqNC/OGvw+E560L/N/kIGM0zQv+kspYcfHtC/uepJxCjgz79qg+D1IoTPv0nUqG4tKM+/cnd7+UfMzr+F/21hcnDOv+gI0nGsFM6/k0009vW4zb8Yu1u6Tl3Nv/KKSIq2Ac2/TF0zMi2mzL/PVYx+skrMv746+jtG78u/GZZZN+iTy78S2bs9mDjLv1iBZhxW3cq/fEDSoCGCyr9tJaqY+ibKv8zHytHgy8m/EnVBGtRwyb/cX0tA1BXJv8zQVBLhusi/QFn4XvpfyL/+B/70HwXIv16fWqNRqse/Os0uOY9Px7+kZMaF2PTGvxmZl1gtmsa/RTtCgY0/xr+N947P+OTFv+qVbhNvisW/Sjv5HPAvxb+LrG28e9XEv8eSMMIRe8S/EMHL/rEgxL93e+1CXMbDv6G/Z18QbMO/fI4vJc4Rw783N1xllbfCv7KjJvFlXcK/+aXomT8Dwr/sRhwxIqnBv00WW4gNT8G/tXtdcQH1wL+4CPq9/ZrAv0PMJEACQcC/v03dkx3Ov78LQAlbRhq/vyt5Xnp+Zr6/WKyjlsWyvb/E5tNUG/+8v2BCHVp/S7y/EJrfS/GXu7/XP6vPcOS6v5a0P4v9MLq/wGGKJJd9ub9tVKVBPcq4v/X51YjvFri/dt6LoK1jt791bF8vd7C2v/atENxL/bW/Tg+GTStKtb/+IssqFZe0v9BmDxsJ5LO/nwqlxQYxs7/qt//RDX6yv6has+cdy7G/h+tyrjYYsb/sOg/OV2WwvwV669wBZa+/Nq5eb2P/rb9eW76j05msv47mgspRNKu/QHFUNN3Oqb92eggydWmov/GBnxQZBKe/XaxCLciepb/CaUHNgTmkv4ccD0ZF1KK/s8FA6RFvob8Wm4oI5wmgv5Kze+uHSZ2/YZOMBVB/mr9D/U8DJbWXv1ED+ogF65S/Ff7lOvAgkr/T1iN7x62Ovx2aM2u9GYm/mRBmj7+Fg7+aH59iluN7v0d1STW7u3C/FiiKqaBPVr8WKIqpoE9WP0d1STW7u3A/OiCfYpbjez9JEGaPv4WDP82ZM2u9GYk/09Yje8etjj8V/uU68CCSP1ED+ogF65Q/bP1PAyW1lz84k4wFUH+aP2qze+uHSZ0/FpuKCOcJoD+zwUDpEW+hP4ccD0ZF1KI/1mlBzYE5pD9xrEItyJ6lP92BnxQZBKc/dnoIMnVpqD9AcVQ03c6pP47mgspRNKs/Xlu+o9OZrD9Krl5vY/+tP/F569wBZa8/4joPzldlsD+H63KuNhixP6has+cdy7E/6rf/0Q1+sj+pCqXFBjGzP8ZmDxsJ5LM/9CLLKhWXtD9OD4ZNK0q1P/atENxL/bU/dWxfL3ewtj+A3ougrWO3P//51YjvFrg/Y1SlQT3KuD/AYYokl325P5a0P4v9MLo/1z+rz3Dkuj8amt9L8Ze7P2pCHVp/S7w/uubTVBv/vD9OrKOWxbK9Pyt5Xnp+Zr4/C0AJW0Yavz+/Td2THc6/P0jMJEACQcA/swj6vf2awD+we11xAfXAP00WW4gNT8E/7EYcMSKpwT/5peiZPwPCP7ejJvFlXcI/PDdcZZW3wj93ji8lzhHDP6G/Z18QbMM/d3vtQlzGwz8Qwcv+sSDEP82SMMIRe8Q/kKxtvHvVxD9FO/kc8C/FP+WVbhNvisU/jfeOz/jkxT9FO0KBjT/GPxmZl1gtmsY/qWTGhdj0xj81zS45j0/HP1mfWqNRqsc//gf+9B8FyD9AWfhe+l/IP8zQVBLhusg/4V9LQNQVyT8XdUEa1HDJP8fHytHgy8k/bSWqmPomyj98QNKgIYLKP1iBZhxW3co/F9m7PZg4yz8ellk36JPLP7k6+jtG78s/z1WMfrJKzD9MXTMyLabMP/KKSIq2Ac0/GLtbuk5dzT+YTTT29bjNP+MI0nGsFM4/gP9tYXJwzj9yd3v5R8zOP0nUqG4tKM8/aoPg9SKEzz++6knEKODPP+wspYcfHtA/yv5CBjNM0D84a/D4TnrQP4rYv3pzqNA/9pDkpqDW0D+eQbOY1gTRP/l6omsVM9E/qjJLO11h0T/LRmkjro/RP4YC3D8IvtE/VaSmrGvs0T+o5fCF2BrSPx2EB+hOSdI/Pcxc78530j/vJYm4WKbSP1CiS2Ds1NI/bIuKA4oD0z+D9VO/MTLTPw1S3rDjYNM/ewSJ9Z+P0z/Q+NyqZr7TP9s7je437dM/e5V33hMc1D+nJKWY+krUP2n9SjvsedQ/wsjK5Oio1D+SZrOz8NfUP5CRwcYDB9U/LoXgPCI21T+ypSo1TGXVP2sq6s6BlNU/FMqZKcPD1T9haeVkEPPVP+/LqqBpItY/RUf6/M5R1j9ueBeaQIHWP8T7eZi+sNY/TifOGEng1j91x/U74A/XP2jeCCOEP9c/2mVW7zRv1z+ZE2XC8p7XP6Ig9L29ztc/ERP8A5b+1z+5iq+2ey7YP5UQfPhuXtg/PekK7G+O2D8C6kG0fr7YP0hRRHSb7tg/zqFzT8Ye2T8WgXBp/07ZP+mYG+ZGf9k/QXyW6Zyv2T8zj0SYAeDZP27yyxZ1ENo/FXIWivdA2j8DeFIXiXHaP6oB9OMpoto/nZm1FdrS2j+bVJnSmQPbP5PS6UBpNNs/VkM7h0hl2z9Mb2zMN5bbPxDEpzc3x9s/KGVk8Eb42z/sQGceZyncP4IpxOmXWtw/VfLeetmL3D/akWz6K73cP9VHdJGP7tw/KchQaQQg3T9+arGrilHdP1Zem4Iig90/U+RqGMy03T8/jNSXh+bdPzl45itVGN4/+aQJADVK3j95NwNAJ3zeP8nP9Rcsrt4/jeFitEPg3j8KEixCbhLfP9SblO6rRN8/b7hC5/x23z/JD0FaYanfP+otAHbZ298/VP+rtDIH4D/vp8SxgiDgPwCtH8rcOeA/r6fIFUFT4D8I+QGtr2zgP3OYRagohuA/leVFIKyf4D/sfe4tOrngP/sVZerS0uA/QlYKb3bs4D8MvHrVJAbhPyl+jzfeH+E/l3Vfr6I54T9VCkBXclPhP18kxklNbeE/5iDHoTOH4T/yy1l6JaHhP2he1+4iu+E/u4DcGizV4T8kUkoaQe/hP7d0RwliCeI/UB5BBI8j4j95LuwnyD3iP2dJRpENWOI/P/iWXV9y4j+MznCqvYziP0mVspUop+I/c3uIPaDB4j9NTG3AJNziP3mrKz229uI/Hlff0lQR4z8HcPagACzjPyDIMse5RuM/VzerZYBh4z/79sycVHzjP94DXY02l+M/Xod5WCay4z9TR5sfJM3jP1sdlwQw6OM/Z3WfKUoD5D/l00Wxch7kP6RjfL6pOeQ/mIuXdO9U5D/XjE/3Q3DkP8Iowmqni+Q/1U908xmn5D8d2VO2m8LkP69Cudgs3uQ/OHtpgM355D8WtZfTfRXlP+ZC5/g9MeU/HH5tFw5N5T+lt7NW7mjlP/syud7ehOU/1iv119+g5T/Z5lhr8bzlP1vNUcIT2eU/1JTLBkf15T/6cTJjixHmPwxYdQLhLeY/gUQIEEhK5j94l+a3wGbmP1Z5lSZLg+Y/pE0mieef5j/7MzkNlrzmP+GW/+BW2eY/Xsk+Myr25j9ps1IzEBPnP8mNMBEJMOc/oK1p/RRN5z8/YC4pNGrnP6DXUMZmh+c/+idIB62k5z/vVjMfB8LnP9l83EF13+c/lPi7o/f85z+Ntvt5jhroP2CLevo5OOg/vKLPW/pV6D8VA07Vz3PoP7AmCJ+6keg/1arT8bqv6D+BFU0H0c3oP4uy2xn96+g/y4i1ZD8K6T/lZ+MjmCjpP54PRZQHR+k/aXGV841l6T/eDG+AK4TpPxZoUHrgouk/q6SgIa3B6T9DMrS3keDpP3if0X6O/+k/Q4o2uqMe6j+TsByu0T3qP1oiv58YXeo/9JVf1Xh86j8L4EuW8pvqPwmQ4yqGu+o/SLKd3DPb6j9XuQ72+/rqPzqP7sLeGus/YNAekNw66z9YMbGr9VrrP9IQ7mQqe+s/RzdbDHub6z/sxcLz57vrP09WOm5x3Os/ekwq0Bf96z8aXVVv2x3sP4xJ4KK8Puw/lNNZw7tf7D+86sIq2YDsPx8VlzQVouw//BXVPXDD7D/20wel6uTsP2KBT8qEBu0/0QhrDz8o7T9ywMHXGUrtP6tmbYgVbO0/fmpEiDKO7T+zguQ/cbDtP1iWvRnS0u0/xPkcglX17T8YAznn+xfuP6D5PLnFOu4/JmNVarNd7j8qs7xuxYDuP1RfyDz8o+4/H132TFjH7j+wDPsZ2uruPzSVzyCCDu8/x7bA4FAy7z8BF37bRlbvP3IMKpVkeu8/Zu5plKqe7z8b7nZiGcPvP7d+L4ux5+8/E6mUzjkG8D82+OEUsBjwPwb4neI7K/A/EGtfg9098D9v0j9ElVDwP/0P5nNjY/A/RWeRYkh28D8h4SRiRInwP00WM8ZXnPA/YGUK5IKv8D+mmMESxsLwP/IARash1vA/VgpkCJbp8D9OUN+GI/3wP9g2d4XKEPE/sg77ZIsk8T/OyliIZjjxP7BNrVRcTPE/tVVVMW1g8T+GD/+HmXTxP7RWvMThiPE/MqwVVkad8T/66x2tx7HxP0LKhj1mxvE/eiK2fSLb8T/4Idzm/O/xP/lYCvX1BPI/uL1LJw4a8j89rb3/RS/yP/H2qQOeRPI/SwCiuxZa8j8SD5uzsG/yPzLJC3tshfI/VvoKpUqb8j91sG/IS7HyP1DB8n9wx/I/OMxRarnd8j/YzHMqJ/TyPzZUj2e6CvM/+39SzXMh8z/8xwwMVDjzP7282thbT/M/+NLT7Ytm8z/yWToK5X3zP968rfJnlfM/GDFfcRWt8z8W9khW7sTzP+RNaHfz3PM/5lf6sCX18z/H+rvlhQ30P3gNLf8UJvQ/gvLW7dM+9D8X3Zapw1f0P/j66zHlcPQ/6MJJjjmK9D80rG7OwaP0PxCZvwp/vfQ/H0OoZHLX9D/i/wAHnfH0P3I5eiYADPU/Tf8NAp0m9T8QG3jjdEH1P+YdtR+JXPU/B+WIF9t39T8oHg04bJP1P6dgSPs9r/U/pnzO6FHL9T+0r2qWqef1P7N91KhGBPY/QP5v1Coh9j/4gBreVz72P46ABJzPW/Y/H/OZ9pN59j/AH3rpppf2P8s9gIQKtvY/jEHe7MDU9j8UXUtezPP2P9DiRywvE/c/KmN4w+sy9z+LDhqrBFP3PyqckoZ8c/c/NjIeF1aU9z8sEZ49lLX3P1wQi/w51/c/A1EPekr59z8K70oCyRv4P3Plxwm5Pvg/69khMB5i+D/oEedC/IX4P+x1uEBXqvg/2UCvXDPP+D/7zA8ClfT4P/biUdiAGvk/cAWIx/tA+T9xdTD9Cmj5Pw8dfPGzj/k/pTsZbfy3+T+Gn5GP6uD5P498TtaECvo/RZNWJNI0+j9Zc97K2V/6P4hHxpKji/o/LOAkxze4+j/HxARBn+X6P0wXfnTjE/s/QUFffw5D+z8V9545K3P7P5Bu3EdFpPs/Ohc/MGnW+z+nPBZypAn8P+pdq6AFPvw/qYvQgZxz/D/n2c8weqr8P0VJg0ax4vw/V1GHB1Yc/T8q1a+Zflf9P670KkJDlP0/RC4Trr7S/T+EZKBHDhP+PwqItZpSVf4/KMFBzK+Z/j/vNd8oTuD+P7hYXNBaKf8/0KKNhQh1/z8K/xCskMP/Pyx3aUCaCgBAs0JETx81AEBC58FygmEAQP6QlnP1jwBA8hE1gbLAAED9Vso4/vMAQGHFClQqKgFA6XfNRZljAUADkC4vw6ABQPS+l9Q84gFAKTK5ocEoAkCQi/eDQnUCQCb357r8yAJA6wX7ZJ4lA0APxpYlhI0DQMK3gxEoBARA4gCnrvqOBEDxFuNfPjcFQBd8OEHSDgZA5plmtk1AB0Btq1VMRWMJQA==",
          "dtype": "f8"
         },
         "xaxis": "x3",
         "y": {
          "bdata": "HB0dHR4fHyAgICAgISEiIiIiIiIiIyMjIyMjIyMjIyMkJCQkJCQlJSUlJSUlJSUlJSYmJiYmJiYmJiYmJiYmJiYnJycnJycnJycnJycnJycoKCgoKCgoKCgoKCgoKSkpKSkpKSkpKSkpKSkpKSkpKSkpKSkpKioqKioqKioqKioqKioqKioqKysrKysrKysrKysrKysrKysrKysrKysrLCwsLCwsLCwsLCwsLCwsLCwsLC0tLS0tLS0tLS0tLS0tLS0tLS4uLi4uLi4uLi4uLi4uLi4uLi4uLi4uLi8vLy8vLy8vLy8vLy8vLy8vLy8wMDAwMDAwMDAwMDAwMDAwMDAwMDAwMDAwMDAwMDAwMTExMTExMTExMTExMTExMTExMTExMTIyMjIyMjIyMjIyMjIyMjIyMjIyMjIyMjIzMzMzMzMzMzMzMzMzMzMzMzMzMzMzMzMzMzMzMzMzMzMzMzQ0NDQ0NDQ0NDQ0NDQ0NDQ0NDQ0NDQ0NDQ0NDQ0NDQ0NDQ0NDU1NTU1NTU1NTU1NTU1NTU1NTU1NTU1NTU1NTU1NTU1NTY2NjY2NjY2NjY2NjY2NjY2NjY2NjY2NjY2NjY2NjY2NjY2NjY2NjY2NjY2NjY2NjY2Njc3Nzc3Nzc3Nzc3Nzc3Nzc3Nzc3Nzc3Nzc3Nzc3Nzc3Nzc3Nzc3Nzc3ODg4ODg4ODg4ODg4ODg4ODg4ODg4ODg4ODg4ODg4ODg4ODg4ODg5OTk5OTk5OTk5OTk5OTk5OTk5OTk5OTk5OTk5OTk5OTk5OTk5OTo6Ojo6Ojo6Ojo6Ojo6Ojo6Ojo6Ojo6Ojo6Ojo6Ojo6Ojo6Ojo6Ojo6Ojo7Ozs7Ozs7Ozs7Ozs7Ozs7Ozs7Ozs7Ozs7Ozs7Ozs7Ozs7Ozw8PDw8PDw8PDw8PDw8PDw8PDw8PDw8PDw8PDw8PDw8PT09PT09PT09PT09PT09PT09PT09PT09PT09PT09PT4+Pj4+Pj4+Pj4+Pj4+Pj4+Pj4+Pj4+Pj4+Pj4+Pj4+Pj4+Pz8/Pz8/Pz8/Pz8/Pz8/Pz8/Pz8/Pz8/Pz8/Pz8/QEBAQEBAQEBAQEBAQEBAQEBAQEBAQEFBQUFBQUFBQUFBQUFBQUFBQUFBQUJCQkJCQkJCQkJCQkJDQ0NDQ0NDQ0NDQ0NDQ0NERERERERERERERUVFRUVFRUVFRUVFRUZGRkZGRkZHR0dHR0hISEhJSkpKSkpKSktLS0xMTU0=",
          "dtype": "i1"
         },
         "yaxis": "y3"
        },
        {
         "name": "Violin Plot",
         "type": "violin",
         "xaxis": "x4",
         "y": {
          "bdata": "P0NDJSk4Pjk/NTk4OCw0OTA2MDFAOjo6PDI6QisoRTxAOywqKzk3PUEoRzs9OjMyQTUpQSwsPDYyKTYzMy46NjY8PDY7LkFDPkEsQTwzMDotNSdENCwvNTUzQj4+LD80Ozw0MC0iOUcxNjs5PSc9ODQrPik6Iz9BMD8zN0EtODYsPjYzHTMrN0Y+IzM7OzRAOi85KS08NCpDN0BGMzo8RC5NNjowOTQ2Iy1GNTs+QDk0OCs1MDgqOzw/KkI2RTIzKz5EQ0UtMjsyQDlAKy06Mjc+JSYpQjQ4Li5AOyk2JzU/Ii9DNkI0NzFKNjY4LjEqKSkxPTxDOi80Pjk6QDMrKkNMRjksOjwsPSo0OygqPUIuRztAQic5OjkvNyM9Ojo6ODhDNyw/Pyk7OS1EOTkmHB0dHh8gICAhIiIiIyMjIyQkJCQlJSUlJSUlJiYmJycnJycnJycnJygoKCgoKSkpKSkpKSoqKioqKiorKysrKysrKywsLCwtLS0tLS0tLi4uLi4uLi8vLy8vMDAwMDAwMDAwMDAxMTExMTExMTIyMjIyMjIzMzMzMzMzNDQ0NDQ0NDQ1NTU1NTU1NTU2NjY2NjY2NjY2NjY2NjY2Nzc3Nzc3Nzc3Nzg4ODg4OTk5Ojo6Ojs7Ozs7PD09Pj4fISIjJCUmJiYoKSkrLi4uLy8wMDAxMTEyMjM0NjY3OTo7PD9BICYnKCstLi4wMDAwMjQ0NTY2NjY2Nzg5OjopKywsLi8wMTEzNDQ0NDU1Njc3Nzg4ODo7O0FCKSssLy8xMTIyNDQ2ODpBICIjJCYmJiYmJigpKiorKystLi4vLy8vMDIyMjIzMzMzMzMzNDQ0NDU1NTU1NTU1NjY2Nzc3Nzg4ODg4ODg4OTk5OTk5Ojo6Ozs7Ozs8PDw8PDw9PT09PT09PT0+Pj4+Pj4+Pz8/Pz9AQEBBQUFBQkJDRERFRUZGSElKPyw8N0JCQTw8PDg7Pj85Pj8uPzw6QD9KNEUzPDg3Nk0/NzRAPDw6Oz0oPSk5PzszOyo3Pz44NUQ1PD47Mz05ODpFQzpBPzc5QTZISzEzPEA6PUM+QT9FMz43SyhDOjw/Iz4rP0RBMD9APTI7Ny1BPTFIMkA3Pzs4Pko2OT5MNkY9MDA9QkQ3PkdKNTpLODpANjY7Nzk9KUcmNzhFQEhFOD5DOUUzMEVFQDk1JUNKPzo9QDo8OTc3ODk9PTpKRDM+NT4uNj43Oj4=",
          "dtype": "i1"
         },
         "yaxis": "y4"
        }
       ],
       "layout": {
        "annotations": [
         {
          "font": {
           "size": 16
          },
          "showarrow": false,
          "text": "Distribution",
          "x": 0.225,
          "xanchor": "center",
          "xref": "paper",
          "y": 1,
          "yanchor": "bottom",
          "yref": "paper"
         },
         {
          "font": {
           "size": 16
          },
          "showarrow": false,
          "text": "Box Plot",
          "x": 0.775,
          "xanchor": "center",
          "xref": "paper",
          "y": 1,
          "yanchor": "bottom",
          "yref": "paper"
         },
         {
          "font": {
           "size": 16
          },
          "showarrow": false,
          "text": "Q-Q Plot",
          "x": 0.225,
          "xanchor": "center",
          "xref": "paper",
          "y": 0.375,
          "yanchor": "bottom",
          "yref": "paper"
         },
         {
          "font": {
           "size": 16
          },
          "showarrow": false,
          "text": "Violin Plot",
          "x": 0.775,
          "xanchor": "center",
          "xref": "paper",
          "y": 0.375,
          "yanchor": "bottom",
          "yref": "paper"
         }
        ],
        "height": 800,
        "showlegend": false,
        "template": {
         "data": {
          "bar": [
           {
            "error_x": {
             "color": "#2a3f5f"
            },
            "error_y": {
             "color": "#2a3f5f"
            },
            "marker": {
             "line": {
              "color": "#E5ECF6",
              "width": 0.5
             },
             "pattern": {
              "fillmode": "overlay",
              "size": 10,
              "solidity": 0.2
             }
            },
            "type": "bar"
           }
          ],
          "barpolar": [
           {
            "marker": {
             "line": {
              "color": "#E5ECF6",
              "width": 0.5
             },
             "pattern": {
              "fillmode": "overlay",
              "size": 10,
              "solidity": 0.2
             }
            },
            "type": "barpolar"
           }
          ],
          "carpet": [
           {
            "aaxis": {
             "endlinecolor": "#2a3f5f",
             "gridcolor": "white",
             "linecolor": "white",
             "minorgridcolor": "white",
             "startlinecolor": "#2a3f5f"
            },
            "baxis": {
             "endlinecolor": "#2a3f5f",
             "gridcolor": "white",
             "linecolor": "white",
             "minorgridcolor": "white",
             "startlinecolor": "#2a3f5f"
            },
            "type": "carpet"
           }
          ],
          "choropleth": [
           {
            "colorbar": {
             "outlinewidth": 0,
             "ticks": ""
            },
            "type": "choropleth"
           }
          ],
          "contour": [
           {
            "colorbar": {
             "outlinewidth": 0,
             "ticks": ""
            },
            "colorscale": [
             [
              0,
              "#0d0887"
             ],
             [
              0.1111111111111111,
              "#46039f"
             ],
             [
              0.2222222222222222,
              "#7201a8"
             ],
             [
              0.3333333333333333,
              "#9c179e"
             ],
             [
              0.4444444444444444,
              "#bd3786"
             ],
             [
              0.5555555555555556,
              "#d8576b"
             ],
             [
              0.6666666666666666,
              "#ed7953"
             ],
             [
              0.7777777777777778,
              "#fb9f3a"
             ],
             [
              0.8888888888888888,
              "#fdca26"
             ],
             [
              1,
              "#f0f921"
             ]
            ],
            "type": "contour"
           }
          ],
          "contourcarpet": [
           {
            "colorbar": {
             "outlinewidth": 0,
             "ticks": ""
            },
            "type": "contourcarpet"
           }
          ],
          "heatmap": [
           {
            "colorbar": {
             "outlinewidth": 0,
             "ticks": ""
            },
            "colorscale": [
             [
              0,
              "#0d0887"
             ],
             [
              0.1111111111111111,
              "#46039f"
             ],
             [
              0.2222222222222222,
              "#7201a8"
             ],
             [
              0.3333333333333333,
              "#9c179e"
             ],
             [
              0.4444444444444444,
              "#bd3786"
             ],
             [
              0.5555555555555556,
              "#d8576b"
             ],
             [
              0.6666666666666666,
              "#ed7953"
             ],
             [
              0.7777777777777778,
              "#fb9f3a"
             ],
             [
              0.8888888888888888,
              "#fdca26"
             ],
             [
              1,
              "#f0f921"
             ]
            ],
            "type": "heatmap"
           }
          ],
          "histogram": [
           {
            "marker": {
             "pattern": {
              "fillmode": "overlay",
              "size": 10,
              "solidity": 0.2
             }
            },
            "type": "histogram"
           }
          ],
          "histogram2d": [
           {
            "colorbar": {
             "outlinewidth": 0,
             "ticks": ""
            },
            "colorscale": [
             [
              0,
              "#0d0887"
             ],
             [
              0.1111111111111111,
              "#46039f"
             ],
             [
              0.2222222222222222,
              "#7201a8"
             ],
             [
              0.3333333333333333,
              "#9c179e"
             ],
             [
              0.4444444444444444,
              "#bd3786"
             ],
             [
              0.5555555555555556,
              "#d8576b"
             ],
             [
              0.6666666666666666,
              "#ed7953"
             ],
             [
              0.7777777777777778,
              "#fb9f3a"
             ],
             [
              0.8888888888888888,
              "#fdca26"
             ],
             [
              1,
              "#f0f921"
             ]
            ],
            "type": "histogram2d"
           }
          ],
          "histogram2dcontour": [
           {
            "colorbar": {
             "outlinewidth": 0,
             "ticks": ""
            },
            "colorscale": [
             [
              0,
              "#0d0887"
             ],
             [
              0.1111111111111111,
              "#46039f"
             ],
             [
              0.2222222222222222,
              "#7201a8"
             ],
             [
              0.3333333333333333,
              "#9c179e"
             ],
             [
              0.4444444444444444,
              "#bd3786"
             ],
             [
              0.5555555555555556,
              "#d8576b"
             ],
             [
              0.6666666666666666,
              "#ed7953"
             ],
             [
              0.7777777777777778,
              "#fb9f3a"
             ],
             [
              0.8888888888888888,
              "#fdca26"
             ],
             [
              1,
              "#f0f921"
             ]
            ],
            "type": "histogram2dcontour"
           }
          ],
          "mesh3d": [
           {
            "colorbar": {
             "outlinewidth": 0,
             "ticks": ""
            },
            "type": "mesh3d"
           }
          ],
          "parcoords": [
           {
            "line": {
             "colorbar": {
              "outlinewidth": 0,
              "ticks": ""
             }
            },
            "type": "parcoords"
           }
          ],
          "pie": [
           {
            "automargin": true,
            "type": "pie"
           }
          ],
          "scatter": [
           {
            "fillpattern": {
             "fillmode": "overlay",
             "size": 10,
             "solidity": 0.2
            },
            "type": "scatter"
           }
          ],
          "scatter3d": [
           {
            "line": {
             "colorbar": {
              "outlinewidth": 0,
              "ticks": ""
             }
            },
            "marker": {
             "colorbar": {
              "outlinewidth": 0,
              "ticks": ""
             }
            },
            "type": "scatter3d"
           }
          ],
          "scattercarpet": [
           {
            "marker": {
             "colorbar": {
              "outlinewidth": 0,
              "ticks": ""
             }
            },
            "type": "scattercarpet"
           }
          ],
          "scattergeo": [
           {
            "marker": {
             "colorbar": {
              "outlinewidth": 0,
              "ticks": ""
             }
            },
            "type": "scattergeo"
           }
          ],
          "scattergl": [
           {
            "marker": {
             "colorbar": {
              "outlinewidth": 0,
              "ticks": ""
             }
            },
            "type": "scattergl"
           }
          ],
          "scattermap": [
           {
            "marker": {
             "colorbar": {
              "outlinewidth": 0,
              "ticks": ""
             }
            },
            "type": "scattermap"
           }
          ],
          "scattermapbox": [
           {
            "marker": {
             "colorbar": {
              "outlinewidth": 0,
              "ticks": ""
             }
            },
            "type": "scattermapbox"
           }
          ],
          "scatterpolar": [
           {
            "marker": {
             "colorbar": {
              "outlinewidth": 0,
              "ticks": ""
             }
            },
            "type": "scatterpolar"
           }
          ],
          "scatterpolargl": [
           {
            "marker": {
             "colorbar": {
              "outlinewidth": 0,
              "ticks": ""
             }
            },
            "type": "scatterpolargl"
           }
          ],
          "scatterternary": [
           {
            "marker": {
             "colorbar": {
              "outlinewidth": 0,
              "ticks": ""
             }
            },
            "type": "scatterternary"
           }
          ],
          "surface": [
           {
            "colorbar": {
             "outlinewidth": 0,
             "ticks": ""
            },
            "colorscale": [
             [
              0,
              "#0d0887"
             ],
             [
              0.1111111111111111,
              "#46039f"
             ],
             [
              0.2222222222222222,
              "#7201a8"
             ],
             [
              0.3333333333333333,
              "#9c179e"
             ],
             [
              0.4444444444444444,
              "#bd3786"
             ],
             [
              0.5555555555555556,
              "#d8576b"
             ],
             [
              0.6666666666666666,
              "#ed7953"
             ],
             [
              0.7777777777777778,
              "#fb9f3a"
             ],
             [
              0.8888888888888888,
              "#fdca26"
             ],
             [
              1,
              "#f0f921"
             ]
            ],
            "type": "surface"
           }
          ],
          "table": [
           {
            "cells": {
             "fill": {
              "color": "#EBF0F8"
             },
             "line": {
              "color": "white"
             }
            },
            "header": {
             "fill": {
              "color": "#C8D4E3"
             },
             "line": {
              "color": "white"
             }
            },
            "type": "table"
           }
          ]
         },
         "layout": {
          "annotationdefaults": {
           "arrowcolor": "#2a3f5f",
           "arrowhead": 0,
           "arrowwidth": 1
          },
          "autotypenumbers": "strict",
          "coloraxis": {
           "colorbar": {
            "outlinewidth": 0,
            "ticks": ""
           }
          },
          "colorscale": {
           "diverging": [
            [
             0,
             "#8e0152"
            ],
            [
             0.1,
             "#c51b7d"
            ],
            [
             0.2,
             "#de77ae"
            ],
            [
             0.3,
             "#f1b6da"
            ],
            [
             0.4,
             "#fde0ef"
            ],
            [
             0.5,
             "#f7f7f7"
            ],
            [
             0.6,
             "#e6f5d0"
            ],
            [
             0.7,
             "#b8e186"
            ],
            [
             0.8,
             "#7fbc41"
            ],
            [
             0.9,
             "#4d9221"
            ],
            [
             1,
             "#276419"
            ]
           ],
           "sequential": [
            [
             0,
             "#0d0887"
            ],
            [
             0.1111111111111111,
             "#46039f"
            ],
            [
             0.2222222222222222,
             "#7201a8"
            ],
            [
             0.3333333333333333,
             "#9c179e"
            ],
            [
             0.4444444444444444,
             "#bd3786"
            ],
            [
             0.5555555555555556,
             "#d8576b"
            ],
            [
             0.6666666666666666,
             "#ed7953"
            ],
            [
             0.7777777777777778,
             "#fb9f3a"
            ],
            [
             0.8888888888888888,
             "#fdca26"
            ],
            [
             1,
             "#f0f921"
            ]
           ],
           "sequentialminus": [
            [
             0,
             "#0d0887"
            ],
            [
             0.1111111111111111,
             "#46039f"
            ],
            [
             0.2222222222222222,
             "#7201a8"
            ],
            [
             0.3333333333333333,
             "#9c179e"
            ],
            [
             0.4444444444444444,
             "#bd3786"
            ],
            [
             0.5555555555555556,
             "#d8576b"
            ],
            [
             0.6666666666666666,
             "#ed7953"
            ],
            [
             0.7777777777777778,
             "#fb9f3a"
            ],
            [
             0.8888888888888888,
             "#fdca26"
            ],
            [
             1,
             "#f0f921"
            ]
           ]
          },
          "colorway": [
           "#636efa",
           "#EF553B",
           "#00cc96",
           "#ab63fa",
           "#FFA15A",
           "#19d3f3",
           "#FF6692",
           "#B6E880",
           "#FF97FF",
           "#FECB52"
          ],
          "font": {
           "color": "#2a3f5f"
          },
          "geo": {
           "bgcolor": "white",
           "lakecolor": "white",
           "landcolor": "#E5ECF6",
           "showlakes": true,
           "showland": true,
           "subunitcolor": "white"
          },
          "hoverlabel": {
           "align": "left"
          },
          "hovermode": "closest",
          "mapbox": {
           "style": "light"
          },
          "paper_bgcolor": "white",
          "plot_bgcolor": "#E5ECF6",
          "polar": {
           "angularaxis": {
            "gridcolor": "white",
            "linecolor": "white",
            "ticks": ""
           },
           "bgcolor": "#E5ECF6",
           "radialaxis": {
            "gridcolor": "white",
            "linecolor": "white",
            "ticks": ""
           }
          },
          "scene": {
           "xaxis": {
            "backgroundcolor": "#E5ECF6",
            "gridcolor": "white",
            "gridwidth": 2,
            "linecolor": "white",
            "showbackground": true,
            "ticks": "",
            "zerolinecolor": "white"
           },
           "yaxis": {
            "backgroundcolor": "#E5ECF6",
            "gridcolor": "white",
            "gridwidth": 2,
            "linecolor": "white",
            "showbackground": true,
            "ticks": "",
            "zerolinecolor": "white"
           },
           "zaxis": {
            "backgroundcolor": "#E5ECF6",
            "gridcolor": "white",
            "gridwidth": 2,
            "linecolor": "white",
            "showbackground": true,
            "ticks": "",
            "zerolinecolor": "white"
           }
          },
          "shapedefaults": {
           "line": {
            "color": "#2a3f5f"
           }
          },
          "ternary": {
           "aaxis": {
            "gridcolor": "white",
            "linecolor": "white",
            "ticks": ""
           },
           "baxis": {
            "gridcolor": "white",
            "linecolor": "white",
            "ticks": ""
           },
           "bgcolor": "#E5ECF6",
           "caxis": {
            "gridcolor": "white",
            "linecolor": "white",
            "ticks": ""
           }
          },
          "title": {
           "x": 0.05
          },
          "xaxis": {
           "automargin": true,
           "gridcolor": "white",
           "linecolor": "white",
           "ticks": "",
           "title": {
            "standoff": 15
           },
           "zerolinecolor": "white",
           "zerolinewidth": 2
          },
          "yaxis": {
           "automargin": true,
           "gridcolor": "white",
           "linecolor": "white",
           "ticks": "",
           "title": {
            "standoff": 15
           },
           "zerolinecolor": "white",
           "zerolinewidth": 2
          }
         }
        },
        "title": {
         "text": "EDA for age"
        },
        "xaxis": {
         "anchor": "y",
         "domain": [
          0,
          0.45
         ]
        },
        "xaxis2": {
         "anchor": "y2",
         "domain": [
          0.55,
          1
         ]
        },
        "xaxis3": {
         "anchor": "y3",
         "domain": [
          0,
          0.45
         ]
        },
        "xaxis4": {
         "anchor": "y4",
         "domain": [
          0.55,
          1
         ]
        },
        "yaxis": {
         "anchor": "x",
         "domain": [
          0.625,
          1
         ]
        },
        "yaxis2": {
         "anchor": "x2",
         "domain": [
          0.625,
          1
         ]
        },
        "yaxis3": {
         "anchor": "x3",
         "domain": [
          0,
          0.375
         ]
        },
        "yaxis4": {
         "anchor": "x4",
         "domain": [
          0,
          0.375
         ]
        }
       }
      }
     },
     "metadata": {},
     "output_type": "display_data"
    },
    {
     "name": "stdout",
     "output_type": "stream",
     "text": [
      "Column: trestbps\n",
      "\n",
      "Basic Statistics:\n",
      "count: 861\n",
      "missing: 59\n",
      "mean: 132.13\n",
      "median: 130.0\n",
      "std: 19.07\n",
      "min: 0.0\n",
      "max: 200.0\n",
      "skew: 0.21\n",
      "kurtosis: 2.96\n",
      "\n",
      "Outliers: 28 found\n",
      "Outlier bounds: [90.00, 170.00]\n"
     ]
    },
    {
     "data": {
      "application/vnd.plotly.v1+json": {
       "config": {
        "plotlyServerURL": "https://plot.ly"
       },
       "data": [
        {
         "name": "Histogram",
         "nbinsx": 30,
         "type": "histogram",
         "x": {
          "bdata": "AAAAAAAgYkAAAAAAAABkQAAAAAAAAF5AAAAAAABAYEAAAAAAAEBgQAAAAAAAAF5AAAAAAACAYUAAAAAAAABeQAAAAAAAQGBAAAAAAACAYUAAAAAAAIBhQAAAAAAAgGFAAAAAAABAYEAAAAAAAABeQAAAAAAAgGVAAAAAAADAYkAAAAAAAIBbQAAAAAAAgGFAAAAAAABAYEAAAAAAAEBgQAAAAAAAgFtAAAAAAADAYkAAAAAAAABeQAAAAAAAgGBAAAAAAABAYEAAAAAAAABeQAAAAAAAAF5AAAAAAADAYkAAAAAAAMBiQAAAAAAAgFtAAAAAAACAYUAAAAAAAEBdQAAAAAAAgGFAAAAAAADgYEAAAAAAAEBgQAAAAAAAgGFAAAAAAAAAXkAAAAAAAMBiQAAAAAAAgGBAAAAAAADAYkAAAAAAAMBiQAAAAAAAgGFAAAAAAAAAZEAAAAAAAMBiQAAAAAAAQGBAAAAAAAAAXEAAAAAAAIBbQAAAAAAAwGJAAAAAAACAYUAAAAAAAEBgQAAAAAAAQFpAAAAAAAAAXkAAAAAAAABcQAAAAAAAQGBAAAAAAABAYEAAAAAAAABfQAAAAAAAgGFAAAAAAACAW0AAAAAAAEBfQAAAAAAAQF9AAAAAAABAYEAAAAAAAMBhQAAAAAAAAGBAAAAAAADgYEAAAAAAAABeQAAAAAAAIGJAAAAAAACAYUAAAAAAAMBiQAAAAAAAQGVAAAAAAADAYkAAAAAAAGBjQAAAAAAAQF9AAAAAAAAAXkAAAAAAAIBbQAAAAAAAgFtAAAAAAAAAZEAAAAAAAEBfQAAAAAAAgGFAAAAAAABAYEAAAAAAAMBiQAAAAAAAAFpAAAAAAABAYEAAAAAAAIBhQAAAAAAAgGZAAAAAAAAAXkAAAAAAAIBhQAAAAAAAQGFAAAAAAAAAYEAAAAAAAEBhQAAAAAAAQGBAAAAAAAAAXkAAAAAAAABkQAAAAAAAQGBAAAAAAAAAW0AAAAAAAOBgQAAAAAAAAGBAAAAAAACAW0AAAAAAAMBiQAAAAAAAwGBAAAAAAACAXkAAAAAAAMBcQAAAAAAAgF1AAAAAAAAAYEAAAAAAAIBbQAAAAAAAAF5AAAAAAAAAW0AAAAAAAIBhQAAAAAAAAGBAAAAAAAAAXkAAAAAAAIBdQAAAAAAAIGJAAAAAAABAX0AAAAAAAIBdQAAAAAAAgGBAAAAAAABAYEAAAAAAAOBgQAAAAAAAgGFAAAAAAABAYUAAAAAAAEBgQAAAAAAA4GBAAAAAAABAYEAAAAAAAMBiQAAAAAAAAFlAAAAAAACAYUAAAAAAAEBhQAAAAAAAQGBAAAAAAAAAaUAAAAAAAIBbQAAAAAAAAF5AAAAAAAAAX0AAAAAAAABeQAAAAAAAgFdAAAAAAABAYEAAAAAAAIBhQAAAAAAAgF5AAAAAAADgYEAAAAAAACBiQAAAAAAAAF5AAAAAAAAAXkAAAAAAAEBfQAAAAAAAgGFAAAAAAABAZUAAAAAAAABgQAAAAAAAQF9AAAAAAABAWkAAAAAAAABbQAAAAAAAoGRAAAAAAAAAXEAAAAAAAABgQAAAAAAAgFlAAAAAAAAAY0AAAAAAAIBZQAAAAAAAwFxAAAAAAAAAZEAAAAAAAABeQAAAAAAAQGBAAAAAAACAYUAAAAAAAEBfQAAAAAAAgGFAAAAAAACAXUAAAAAAAEBZQAAAAAAAQF9AAAAAAACAW0AAAAAAAABZQAAAAAAAAF9AAAAAAACAYEAAAAAAAEBhQAAAAAAAgGBAAAAAAACAX0AAAAAAAABcQAAAAAAAAGRAAAAAAADAYUAAAAAAAMBlQAAAAAAAgGFAAAAAAAAgYkAAAAAAAABjQAAAAAAAAFtAAAAAAACAYEAAAAAAAEBgQAAAAAAAQGBAAAAAAAAAX0AAAAAAAMBgQAAAAAAAgGJAAAAAAABAZkAAAAAAAMBjQAAAAAAAgGFAAAAAAAAAXkAAAAAAAABkQAAAAAAAAGhAAAAAAACAYUAAAAAAACBgQAAAAAAAgGFAAAAAAACAYEAAAAAAAEBhQAAAAAAAAF5AAAAAAAAAWUAAAAAAAABkQAAAAAAAQGFAAAAAAAAAXkAAAAAAAABkQAAAAAAAgFtAAAAAAACAZkAAAAAAAMBiQAAAAAAAgGFAAAAAAACAW0AAAAAAAMBhQAAAAAAAAGBAAAAAAAAAYkAAAAAAAEBgQAAAAAAAwGJAAAAAAAAAXkAAAAAAAABeQAAAAAAAQGBAAAAAAABAZkAAAAAAAABcQAAAAAAAAF5AAAAAAABAWkAAAAAAAEBhQAAAAAAAQGBAAAAAAABAYUAAAAAAAABcQAAAAAAAAFtAAAAAAACAV0AAAAAAAMBeQAAAAAAAAFtAAAAAAACAXUAAAAAAAABcQAAAAAAAAGNAAAAAAACAW0AAAAAAAABcQAAAAAAAAGFAAAAAAACAZkAAAAAAAIBdQAAAAAAAAF5AAAAAAAAAZEAAAAAAAIBeQAAAAAAAQGBAAAAAAAAAXkAAAAAAAMBgQAAAAAAAAF5AAAAAAACAW0AAAAAAAIBfQAAAAAAAQGBAAAAAAADAYEAAAAAAAABeQAAAAAAAAF5AAAAAAAAAWUAAAAAAAIBbQAAAAAAAQF9AAAAAAAAAYEAAAAAAAIBbQAAAAAAAQGJAAAAAAAAAYEAAAAAAAABeQAAAAAAAwFxAAAAAAAAAXkAAAAAAAIBaQAAAAAAAgGFAAAAAAACAY0AAAAAAAABfQAAAAAAAgF1AAAAAAAAAYUAAAAAAAMBiQAAAAAAAAF5AAAAAAABAYUAAAAAAAABhQAAAAAAAAGBAAAAAAACAX0AAAAAAAABjQAAAAAAAQGBAAAAAAACAYUAAAAAAAABkQAAAAAAAgGFAAAAAAAAAXEAAAAAAAMBgQAAAAAAAQGVAAAAAAABAYkAAAAAAAEBhQAAAAAAAQGNAAAAAAABAYEAAAAAAAIBbQAAAAAAAQGBAAAAAAAAAYEAAAAAAAIBeQAAAAAAAgGJAAAAAAACAXEAAAAAAAEBlQAAAAAAAQF9AAAAAAABAYEAAAAAAAABeQAAAAAAAAGNAAAAAAACAYEAAAAAAAABeQAAAAAAAgGFAAAAAAAAAX0AAAAAAAABeQAAAAAAAgGRAAAAAAACAYUAAAAAAAIBbQAAAAAAAAGJAAAAAAABAYEAAAAAAAEBgQAAAAAAAQGFAAAAAAABAYEAAAAAAAABeQAAAAAAAgGFAAAAAAABAZUAAAAAAAABZQAAAAAAAQFpAAAAAAACAW0AAAAAAAEBfQAAAAAAAAF5AAAAAAABAYEAAAAAAAMBiQAAAAAAAgFhAAAAAAAAAXkAAAAAAAIBhQAAAAAAAAF5AAAAAAADAYkAAAAAAAABeQAAAAAAAAFxAAAAAAABAYEAAAAAAAMBiQAAAAAAAAF5AAAAAAABAYEAAAAAAAEBgQAAAAAAAQGBAAAAAAABAYEAAAAAAAABeQAAAAAAAQGBAAAAAAAAAXkAAAAAAAIBhQAAAAAAAIGJAAAAAAACAW0AAAAAAAABeQAAAAAAAAF5AAAAAAAAAXkAAAAAAAEBgQAAAAAAAwGdAAAAAAAAAXkAAAAAAAABkQAAAAAAAgFtAAAAAAABAYEAAAAAAAEBgQAAAAAAAgGFAAAAAAABAYEAAAAAAAEBgQAAAAAAAgGFAAAAAAACAW0AAAAAAAEBfQAAAAAAAQGBAAAAAAAAAXkAAAAAAAABeQAAAAAAAQF9AAAAAAAAAXEAAAAAAAMBcQAAAAAAAAF5AAAAAAAAAXkAAAAAAAMBiQAAAAAAAAF5AAAAAAAAAZEAAAAAAAIBhQAAAAAAAAFlAAAAAAAAAXkAAAAAAAABeQAAAAAAAAF5AAAAAAAAAXkAAAAAAAMBiQAAAAAAAwGJAAAAAAADAYUAAAAAAAABeQAAAAAAAAF5AAAAAAABAYEAAAAAAAMBiQAAAAAAAQGBAAAAAAACAZkAAAAAAAIBgQAAAAAAAgGFAAAAAAADgYEAAAAAAAABeQAAAAAAAgGFAAAAAAABAYEAAAAAAAIBhQAAAAAAAAF5AAAAAAADAYkAAAAAAAIBbQAAAAAAAgFtAAAAAAACAZkAAAAAAAIBhQAAAAAAAQGBAAAAAAACAW0AAAAAAAABkQAAAAAAAgGFAAAAAAAAA+H8AAAAAAABeQAAAAAAAAF5AAAAAAAAAXkAAAAAAAABbQAAAAAAAAF5AAAAAAADAYkAAAAAAAABZQAAAAAAAQGBAAAAAAACAYUAAAAAAAIBbQAAAAAAAgFtAAAAAAACAW0AAAAAAAABfQAAAAAAAQGBAAAAAAAAAWUAAAAAAAIBhQAAAAAAAAF5AAAAAAACAYUAAAAAAAIBbQAAAAAAAAF5AAAAAAAAAXkAAAAAAAIBhQAAAAAAAQGVAAAAAAACAYUAAAAAAAMBiQAAAAAAAAGRAAAAAAACAW0AAAAAAAEBgQAAAAAAAwGJAAAAAAABAX0AAAAAAAEBgQAAAAAAAQGBAAAAAAAAAXkAAAAAAAIBhQAAAAAAAQF9AAAAAAABAYEAAAAAAAABeQAAAAAAAgGFAAAAAAAAAZEAAAAAAAIBhQAAAAAAAQFxAAAAAAACAYUAAAAAAAABeQAAAAAAAAF5AAAAAAACAYUAAAAAAAABeQAAAAAAAAF9AAAAAAABAYEAAAAAAAIBhQAAAAAAAAF5AAAAAAAAAXkAAAAAAAABeQAAAAAAAQGBAAAAAAACAYUAAAAAAAMBiQAAAAAAAAGRAAAAAAAAAXkAAAAAAAIBbQAAAAAAAAF5AAAAAAAAAXkAAAAAAAABkQAAAAAAAAGRAAAAAAAAAXkAAAAAAAMBiQAAAAAAAwGJAAAAAAACAW0AAAAAAAIBeQAAAAAAAQGBAAAAAAAAAXkAAAAAAAIBhQAAAAAAAIGJAAAAAAACAW0AAAAAAAABeQAAAAAAAAF5AAAAAAACAYUAAAAAAAEBgQAAAAAAAQGBAAAAAAABAYEAAAAAAAEBgQAAAAAAAAF5AAAAAAABAYEAAAAAAAIBmQAAAAAAAgGFAAAAAAABAYEAAAAAAAEBgQAAAAAAAgGFAAAAAAADgYEAAAAAAAEBgQAAAAAAAgGFAAAAAAABAYEAAAAAAAIBmQAAAAAAAgGFAAAAAAAAAXkAAAAAAAEBgQAAAAAAAQF9AAAAAAAAAZEAAAAAAAIBhQAAAAAAAAF5AAAAAAAAAWUAAAAAAAIBhQAAAAAAAgFtAAAAAAAAAXkAAAAAAAIBhQAAAAAAAgFtAAAAAAAAAXkAAAAAAAABXQAAAAAAAAF5AAAAAAACAW0AAAAAAAABeQAAAAAAAwGJAAAAAAACAW0AAAAAAAIBdQAAAAAAAAF5AAAAAAACAYUAAAAAAAMBiQAAAAAAAgFpAAAAAAAAAXkAAAAAAAABkQAAAAAAAAGRAAAAAAADAXEAAAAAAAEBgQAAAAAAAgGFAAAAAAAAgYkAAAAAAAABkQAAAAAAAQGBAAAAAAABAX0AAAAAAAEBfQAAAAAAAgGFAAAAAAACAYUAAAAAAAEBgQAAAAAAAQGBAAAAAAAAAWUAAAAAAAMBiQAAAAAAAgGFAAAAAAACAXUAAAAAAAIBbQAAAAAAAgFtAAAAAAADAYkAAAAAAAABeQAAAAAAAQGBAAAAAAAAAXkAAAAAAAEBgQAAAAAAAgF5AAAAAAAAAZEAAAAAAAABkQAAAAAAAAGRAAAAAAABAYEAAAAAAAABeQAAAAAAAQGVAAAAAAAAAXkAAAAAAAABeQAAAAAAAQGBAAAAAAABAYEAAAAAAAIBhQAAAAAAAAGlAAAAAAACAYUAAAAAAAMBiQAAAAAAAwGJAAAAAAAAAZEAAAAAAAEBgQAAAAAAAQGBAAAAAAAAAXkAAAAAAAMBiQAAAAAAAQGBAAAAAAACAYUAAAAAAAOBgQAAAAAAAQGFAAAAAAABAYEAAAAAAAIBhQAAAAAAA4GBAAAAAAAAAXEAAAAAAAEBgQAAAAAAAgGFAAAAAAAAAZEAAAAAAACBiQAAAAAAAgGZAAAAAAACAYUAAAAAAAIBhQAAAAAAAAGRAAAAAAAAgYkAAAAAAAABeQAAAAAAAwGJAAAAAAABAZUAAAAAAAABhQAAAAAAAQGBAAAAAAACAYUAAAAAAAEBlQAAAAAAAgGFAAAAAAAAAXkAAAAAAAIBhQAAAAAAA4GBAAAAAAAAAXkAAAAAAAABkQAAAAAAAAGBAAAAAAADAYkAAAAAAAIBhQAAAAAAAgGFAAAAAAACAYUAAAAAAAABkQAAAAAAAQGBAAAAAAABgY0AAAAAAAIBmQAAAAAAAQGBAAAAAAADAV0AAAAAAAMBcQAAAAAAAAPh/AAAAAACAW0AAAAAAAEBaQAAAAAAAgFtAAAAAAAAAWUAAAAAAAMBcQAAAAAAA4GBAAAAAAADAYkAAAAAAAMBXQAAAAAAAQF9AAAAAAABAWkAAAAAAACBiQAAAAAAAAFlAAAAAAADAXEAAAAAAAIBhQAAAAAAAgFtAAAAAAAAAWUAAAAAAAMBcQAAAAAAAgFtAAAAAAABgY0AAAAAAAIBbQAAAAAAAAGRAAAAAAADAXEAAAAAAAABkQAAAAAAAwFxAAAAAAAAAXkAAAAAAACBiQAAAAAAAAF5AAAAAAACAW0AAAAAAAABeQAAAAAAAQGBAAAAAAABAYEAAAAAAAIBhQAAAAAAAwFdAAAAAAABAYEAAAAAAAOBgQAAAAAAAoGRAAAAAAADAV0AAAAAAAABeQAAAAAAAQGBAAAAAAABAWkAAAAAAAABkQAAAAAAAAF5AAAAAAABAX0AAAAAAAEBgQAAAAAAAAFRAAAAAAAAAXkAAAAAAAEBgQAAAAAAAgGZAAAAAAACAYUAAAAAAAMBcQAAAAAAAAF5AAAAAAACAYUAAAAAAAABeQAAAAAAAQF9AAAAAAABgY0AAAAAAAMBcQAAAAAAAAF5AAAAAAAAAXkAAAAAAAEBfQAAAAAAAgGFAAAAAAABAWkAAAAAAAIBbQAAAAAAAgGFAAAAAAACAYUAAAAAAAABkQAAAAAAAwFdAAAAAAADAXEAAAAAAAEBgQAAAAAAAQGVAAAAAAABAX0AAAAAAAIBbQAAAAAAAAF5AAAAAAABAX0AAAAAAAOBgQAAAAAAAwFxAAAAAAABAX0AAAAAAAEBgQAAAAAAA4GBAAAAAAAAAZEAAAAAAAABkQAAAAAAAAGlAAAAAAABAWkAAAAAAAIBbQAAAAAAAQF9AAAAAAABAYEAAAAAAAEBgQAAAAAAAwGJAAAAAAADAYkAAAAAAAABkQAAAAAAAgGFAAAAAAAAAXkAAAAAAAABeQAAAAAAAAGRAAAAAAADAXEAAAAAAAMBcQAAAAAAAwGJAAAAAAAAAWUAAAAAAAIBhQAAAAAAAwGJAAAAAAADAYkAAAAAAACBnQAAAAAAAAGlAAAAAAADAV0AAAAAAAIBbQAAAAAAAwFxAAAAAAAAgYkAAAAAAAGBjQAAAAAAAAGRAAAAAAABgY0AAAAAAAMBiQAAAAAAAIGJAAAAAAADgYEAAAAAAACBiQAAAAAAA4GBAAAAAAAAA+H8AAAAAAMBcQAAAAAAAgGFAAAAAAAAAZEAAAAAAAABkQAAAAAAAIGJAAAAAAACAYUAAAAAAAEBgQAAAAAAAgGBAAAAAAADAYUAAAAAAAIBbQAAAAAAAAF5AAAAAAADAYkAAAAAAAIBmQAAAAAAAAF5AAAAAAAAAZEAAAAAAAIBfQAAAAAAAgGFAAAAAAACAW0AAAAAAAAD4fwAAAAAAAGBAAAAAAAAAXkAAAAAAAEBlQAAAAAAAgFtAAAAAAACAX0AAAAAAAABjQAAAAAAAAF1AAAAAAAAAXkAAAAAAAEBgQAAAAAAAAPh/AAAAAAAAYEAAAAAAAEBgQAAAAAAAAPh/AAAAAABAYEAAAAAAAABeQAAAAAAAAPh/AAAAAAAA+H8AAAAAAABfQAAAAAAAAGRAAAAAAAAAAAAAAAAAAIBeQAAAAAAAAGJAAAAAAAAA+H8AAAAAAABeQAAAAAAAAPh/AAAAAABAY0AAAAAAAABeQAAAAAAAQF9AAAAAAAAA+H8AAAAAAABaQAAAAAAAAPh/AAAAAAAAYUAAAAAAAIBeQAAAAAAAAGBAAAAAAAAA+H8AAAAAAMBgQAAAAAAAAF5AAAAAAAAA+H8AAAAAAABjQAAAAAAAAF9AAAAAAACAX0AAAAAAAEBhQAAAAAAAQGNAAAAAAAAA+H8AAAAAAAD4fwAAAAAAQGZAAAAAAAAA+H8AAAAAAIBbQAAAAAAAQGBAAAAAAABAZUAAAAAAAIBfQAAAAAAAgGFAAAAAAADAYUAAAAAAAABeQAAAAAAAAPh/AAAAAAAA+H8AAAAAAIBbQAAAAAAAgGFAAAAAAAAA+H8AAAAAAABhQAAAAAAAAF5AAAAAAABAZUAAAAAAAEBgQAAAAAAAAPh/AAAAAADAYUAAAAAAAMBhQAAAAAAAgGBAAAAAAABAYkAAAAAAAABkQAAAAAAA4GBAAAAAAAAAYUAAAAAAAEBgQAAAAAAAgGFAAAAAAAAA+H8AAAAAAMBjQAAAAAAAAPh/AAAAAAAAYUAAAAAAAIBaQAAAAAAAAF5AAAAAAACAW0AAAAAAAAD4fwAAAAAAAGRAAAAAAAAA+H8AAAAAAABcQAAAAAAAgF5AAAAAAABAYEAAAAAAAMBiQAAAAAAAwGJAAAAAAACAWUAAAAAAAABYQAAAAAAAQGBAAAAAAAAAXkAAAAAAAABiQAAAAAAAAF9AAAAAAADAYkAAAAAAAAD4fwAAAAAAAPh/AAAAAAAA+H8AAAAAAAD4fwAAAAAAAPh/AAAAAAAA+H8AAAAAAAD4fwAAAAAAAF1AAAAAAACAW0AAAAAAAEBfQAAAAAAAAPh/AAAAAAAA+H8AAAAAAMBiQAAAAAAAQGBAAAAAAACAW0AAAAAAAAD4fwAAAAAAAFpAAAAAAABAYUAAAAAAAEBlQAAAAAAAgGFAAAAAAAAA+H8AAAAAAIBgQAAAAAAAwGFAAAAAAAAAXEAAAAAAAAD4fwAAAAAAgGVAAAAAAAAAXkAAAAAAAAD4fwAAAAAAAPh/AAAAAABgY0AAAAAAAMBiQAAAAAAAAGRAAAAAAAAA+H8AAAAAAAD4fwAAAAAAwGBAAAAAAAAA+H8AAAAAAAD4fwAAAAAAgGFAAAAAAAAA+H8AAAAAAABiQAAAAAAAAPh/AAAAAADAYkAAAAAAAEBgQAAAAAAAgFtAAAAAAADAY0AAAAAAAABgQAAAAAAAAPh/AAAAAADAYkAAAAAAAABkQAAAAAAAAPh/AAAAAAAA+H8AAAAAAAD4fwAAAAAAAPh/AAAAAACAY0AAAAAAAAD4fwAAAAAAAPh/AAAAAACAYUAAAAAAAIBeQAAAAAAAAPh/AAAAAAAA+H8AAAAAAIBmQAAAAAAAAF9AAAAAAACAXUAAAAAAAIBhQAAAAAAAgGFAAAAAAAAA+H8AAAAAAABZQAAAAAAAwGdAAAAAAABAYEAAAAAAAABkQAAAAAAAQGBAAAAAAACAXkAAAAAAAAD4fwAAAAAAAF5AAAAAAABAYEAAAAAAAEBgQAAAAAAAAPh/AAAAAAAAXkAAAAAAAMBiQAAAAAAAYGNAAAAAAADAYEAAAAAAAIBcQAAAAAAAAGRAAAAAAAAAYkAAAAAAAMBjQAAAAAAAwGBAAAAAAADAX0AAAAAAAAD4fwAAAAAAgF5AAAAAAAAA+H8AAAAAAABeQA==",
          "dtype": "f8"
         },
         "xaxis": "x",
         "yaxis": "y"
        },
        {
         "name": "Box Plot",
         "type": "box",
         "xaxis": "x2",
         "y": {
          "bdata": "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",
          "dtype": "f8"
         },
         "yaxis": "y2"
        },
        {
         "mode": "markers",
         "name": "Q-Q Plot",
         "type": "scatter",
         "x": {
          "bdata": "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",
          "dtype": "f8"
         },
         "xaxis": "x3",
         "y": {
          "bdata": "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",
          "dtype": "f8"
         },
         "yaxis": "y3"
        },
        {
         "name": "Violin Plot",
         "type": "violin",
         "xaxis": "x4",
         "y": {
          "bdata": "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",
          "dtype": "f8"
         },
         "yaxis": "y4"
        }
       ],
       "layout": {
        "annotations": [
         {
          "font": {
           "size": 16
          },
          "showarrow": false,
          "text": "Distribution",
          "x": 0.225,
          "xanchor": "center",
          "xref": "paper",
          "y": 1,
          "yanchor": "bottom",
          "yref": "paper"
         },
         {
          "font": {
           "size": 16
          },
          "showarrow": false,
          "text": "Box Plot",
          "x": 0.775,
          "xanchor": "center",
          "xref": "paper",
          "y": 1,
          "yanchor": "bottom",
          "yref": "paper"
         },
         {
          "font": {
           "size": 16
          },
          "showarrow": false,
          "text": "Q-Q Plot",
          "x": 0.225,
          "xanchor": "center",
          "xref": "paper",
          "y": 0.375,
          "yanchor": "bottom",
          "yref": "paper"
         },
         {
          "font": {
           "size": 16
          },
          "showarrow": false,
          "text": "Violin Plot",
          "x": 0.775,
          "xanchor": "center",
          "xref": "paper",
          "y": 0.375,
          "yanchor": "bottom",
          "yref": "paper"
         }
        ],
        "height": 800,
        "showlegend": false,
        "template": {
         "data": {
          "bar": [
           {
            "error_x": {
             "color": "#2a3f5f"
            },
            "error_y": {
             "color": "#2a3f5f"
            },
            "marker": {
             "line": {
              "color": "#E5ECF6",
              "width": 0.5
             },
             "pattern": {
              "fillmode": "overlay",
              "size": 10,
              "solidity": 0.2
             }
            },
            "type": "bar"
           }
          ],
          "barpolar": [
           {
            "marker": {
             "line": {
              "color": "#E5ECF6",
              "width": 0.5
             },
             "pattern": {
              "fillmode": "overlay",
              "size": 10,
              "solidity": 0.2
             }
            },
            "type": "barpolar"
           }
          ],
          "carpet": [
           {
            "aaxis": {
             "endlinecolor": "#2a3f5f",
             "gridcolor": "white",
             "linecolor": "white",
             "minorgridcolor": "white",
             "startlinecolor": "#2a3f5f"
            },
            "baxis": {
             "endlinecolor": "#2a3f5f",
             "gridcolor": "white",
             "linecolor": "white",
             "minorgridcolor": "white",
             "startlinecolor": "#2a3f5f"
            },
            "type": "carpet"
           }
          ],
          "choropleth": [
           {
            "colorbar": {
             "outlinewidth": 0,
             "ticks": ""
            },
            "type": "choropleth"
           }
          ],
          "contour": [
           {
            "colorbar": {
             "outlinewidth": 0,
             "ticks": ""
            },
            "colorscale": [
             [
              0,
              "#0d0887"
             ],
             [
              0.1111111111111111,
              "#46039f"
             ],
             [
              0.2222222222222222,
              "#7201a8"
             ],
             [
              0.3333333333333333,
              "#9c179e"
             ],
             [
              0.4444444444444444,
              "#bd3786"
             ],
             [
              0.5555555555555556,
              "#d8576b"
             ],
             [
              0.6666666666666666,
              "#ed7953"
             ],
             [
              0.7777777777777778,
              "#fb9f3a"
             ],
             [
              0.8888888888888888,
              "#fdca26"
             ],
             [
              1,
              "#f0f921"
             ]
            ],
            "type": "contour"
           }
          ],
          "contourcarpet": [
           {
            "colorbar": {
             "outlinewidth": 0,
             "ticks": ""
            },
            "type": "contourcarpet"
           }
          ],
          "heatmap": [
           {
            "colorbar": {
             "outlinewidth": 0,
             "ticks": ""
            },
            "colorscale": [
             [
              0,
              "#0d0887"
             ],
             [
              0.1111111111111111,
              "#46039f"
             ],
             [
              0.2222222222222222,
              "#7201a8"
             ],
             [
              0.3333333333333333,
              "#9c179e"
             ],
             [
              0.4444444444444444,
              "#bd3786"
             ],
             [
              0.5555555555555556,
              "#d8576b"
             ],
             [
              0.6666666666666666,
              "#ed7953"
             ],
             [
              0.7777777777777778,
              "#fb9f3a"
             ],
             [
              0.8888888888888888,
              "#fdca26"
             ],
             [
              1,
              "#f0f921"
             ]
            ],
            "type": "heatmap"
           }
          ],
          "histogram": [
           {
            "marker": {
             "pattern": {
              "fillmode": "overlay",
              "size": 10,
              "solidity": 0.2
             }
            },
            "type": "histogram"
           }
          ],
          "histogram2d": [
           {
            "colorbar": {
             "outlinewidth": 0,
             "ticks": ""
            },
            "colorscale": [
             [
              0,
              "#0d0887"
             ],
             [
              0.1111111111111111,
              "#46039f"
             ],
             [
              0.2222222222222222,
              "#7201a8"
             ],
             [
              0.3333333333333333,
              "#9c179e"
             ],
             [
              0.4444444444444444,
              "#bd3786"
             ],
             [
              0.5555555555555556,
              "#d8576b"
             ],
             [
              0.6666666666666666,
              "#ed7953"
             ],
             [
              0.7777777777777778,
              "#fb9f3a"
             ],
             [
              0.8888888888888888,
              "#fdca26"
             ],
             [
              1,
              "#f0f921"
             ]
            ],
            "type": "histogram2d"
           }
          ],
          "histogram2dcontour": [
           {
            "colorbar": {
             "outlinewidth": 0,
             "ticks": ""
            },
            "colorscale": [
             [
              0,
              "#0d0887"
             ],
             [
              0.1111111111111111,
              "#46039f"
             ],
             [
              0.2222222222222222,
              "#7201a8"
             ],
             [
              0.3333333333333333,
              "#9c179e"
             ],
             [
              0.4444444444444444,
              "#bd3786"
             ],
             [
              0.5555555555555556,
              "#d8576b"
             ],
             [
              0.6666666666666666,
              "#ed7953"
             ],
             [
              0.7777777777777778,
              "#fb9f3a"
             ],
             [
              0.8888888888888888,
              "#fdca26"
             ],
             [
              1,
              "#f0f921"
             ]
            ],
            "type": "histogram2dcontour"
           }
          ],
          "mesh3d": [
           {
            "colorbar": {
             "outlinewidth": 0,
             "ticks": ""
            },
            "type": "mesh3d"
           }
          ],
          "parcoords": [
           {
            "line": {
             "colorbar": {
              "outlinewidth": 0,
              "ticks": ""
             }
            },
            "type": "parcoords"
           }
          ],
          "pie": [
           {
            "automargin": true,
            "type": "pie"
           }
          ],
          "scatter": [
           {
            "fillpattern": {
             "fillmode": "overlay",
             "size": 10,
             "solidity": 0.2
            },
            "type": "scatter"
           }
          ],
          "scatter3d": [
           {
            "line": {
             "colorbar": {
              "outlinewidth": 0,
              "ticks": ""
             }
            },
            "marker": {
             "colorbar": {
              "outlinewidth": 0,
              "ticks": ""
             }
            },
            "type": "scatter3d"
           }
          ],
          "scattercarpet": [
           {
            "marker": {
             "colorbar": {
              "outlinewidth": 0,
              "ticks": ""
             }
            },
            "type": "scattercarpet"
           }
          ],
          "scattergeo": [
           {
            "marker": {
             "colorbar": {
              "outlinewidth": 0,
              "ticks": ""
             }
            },
            "type": "scattergeo"
           }
          ],
          "scattergl": [
           {
            "marker": {
             "colorbar": {
              "outlinewidth": 0,
              "ticks": ""
             }
            },
            "type": "scattergl"
           }
          ],
          "scattermap": [
           {
            "marker": {
             "colorbar": {
              "outlinewidth": 0,
              "ticks": ""
             }
            },
            "type": "scattermap"
           }
          ],
          "scattermapbox": [
           {
            "marker": {
             "colorbar": {
              "outlinewidth": 0,
              "ticks": ""
             }
            },
            "type": "scattermapbox"
           }
          ],
          "scatterpolar": [
           {
            "marker": {
             "colorbar": {
              "outlinewidth": 0,
              "ticks": ""
             }
            },
            "type": "scatterpolar"
           }
          ],
          "scatterpolargl": [
           {
            "marker": {
             "colorbar": {
              "outlinewidth": 0,
              "ticks": ""
             }
            },
            "type": "scatterpolargl"
           }
          ],
          "scatterternary": [
           {
            "marker": {
             "colorbar": {
              "outlinewidth": 0,
              "ticks": ""
             }
            },
            "type": "scatterternary"
           }
          ],
          "surface": [
           {
            "colorbar": {
             "outlinewidth": 0,
             "ticks": ""
            },
            "colorscale": [
             [
              0,
              "#0d0887"
             ],
             [
              0.1111111111111111,
              "#46039f"
             ],
             [
              0.2222222222222222,
              "#7201a8"
             ],
             [
              0.3333333333333333,
              "#9c179e"
             ],
             [
              0.4444444444444444,
              "#bd3786"
             ],
             [
              0.5555555555555556,
              "#d8576b"
             ],
             [
              0.6666666666666666,
              "#ed7953"
             ],
             [
              0.7777777777777778,
              "#fb9f3a"
             ],
             [
              0.8888888888888888,
              "#fdca26"
             ],
             [
              1,
              "#f0f921"
             ]
            ],
            "type": "surface"
           }
          ],
          "table": [
           {
            "cells": {
             "fill": {
              "color": "#EBF0F8"
             },
             "line": {
              "color": "white"
             }
            },
            "header": {
             "fill": {
              "color": "#C8D4E3"
             },
             "line": {
              "color": "white"
             }
            },
            "type": "table"
           }
          ]
         },
         "layout": {
          "annotationdefaults": {
           "arrowcolor": "#2a3f5f",
           "arrowhead": 0,
           "arrowwidth": 1
          },
          "autotypenumbers": "strict",
          "coloraxis": {
           "colorbar": {
            "outlinewidth": 0,
            "ticks": ""
           }
          },
          "colorscale": {
           "diverging": [
            [
             0,
             "#8e0152"
            ],
            [
             0.1,
             "#c51b7d"
            ],
            [
             0.2,
             "#de77ae"
            ],
            [
             0.3,
             "#f1b6da"
            ],
            [
             0.4,
             "#fde0ef"
            ],
            [
             0.5,
             "#f7f7f7"
            ],
            [
             0.6,
             "#e6f5d0"
            ],
            [
             0.7,
             "#b8e186"
            ],
            [
             0.8,
             "#7fbc41"
            ],
            [
             0.9,
             "#4d9221"
            ],
            [
             1,
             "#276419"
            ]
           ],
           "sequential": [
            [
             0,
             "#0d0887"
            ],
            [
             0.1111111111111111,
             "#46039f"
            ],
            [
             0.2222222222222222,
             "#7201a8"
            ],
            [
             0.3333333333333333,
             "#9c179e"
            ],
            [
             0.4444444444444444,
             "#bd3786"
            ],
            [
             0.5555555555555556,
             "#d8576b"
            ],
            [
             0.6666666666666666,
             "#ed7953"
            ],
            [
             0.7777777777777778,
             "#fb9f3a"
            ],
            [
             0.8888888888888888,
             "#fdca26"
            ],
            [
             1,
             "#f0f921"
            ]
           ],
           "sequentialminus": [
            [
             0,
             "#0d0887"
            ],
            [
             0.1111111111111111,
             "#46039f"
            ],
            [
             0.2222222222222222,
             "#7201a8"
            ],
            [
             0.3333333333333333,
             "#9c179e"
            ],
            [
             0.4444444444444444,
             "#bd3786"
            ],
            [
             0.5555555555555556,
             "#d8576b"
            ],
            [
             0.6666666666666666,
             "#ed7953"
            ],
            [
             0.7777777777777778,
             "#fb9f3a"
            ],
            [
             0.8888888888888888,
             "#fdca26"
            ],
            [
             1,
             "#f0f921"
            ]
           ]
          },
          "colorway": [
           "#636efa",
           "#EF553B",
           "#00cc96",
           "#ab63fa",
           "#FFA15A",
           "#19d3f3",
           "#FF6692",
           "#B6E880",
           "#FF97FF",
           "#FECB52"
          ],
          "font": {
           "color": "#2a3f5f"
          },
          "geo": {
           "bgcolor": "white",
           "lakecolor": "white",
           "landcolor": "#E5ECF6",
           "showlakes": true,
           "showland": true,
           "subunitcolor": "white"
          },
          "hoverlabel": {
           "align": "left"
          },
          "hovermode": "closest",
          "mapbox": {
           "style": "light"
          },
          "paper_bgcolor": "white",
          "plot_bgcolor": "#E5ECF6",
          "polar": {
           "angularaxis": {
            "gridcolor": "white",
            "linecolor": "white",
            "ticks": ""
           },
           "bgcolor": "#E5ECF6",
           "radialaxis": {
            "gridcolor": "white",
            "linecolor": "white",
            "ticks": ""
           }
          },
          "scene": {
           "xaxis": {
            "backgroundcolor": "#E5ECF6",
            "gridcolor": "white",
            "gridwidth": 2,
            "linecolor": "white",
            "showbackground": true,
            "ticks": "",
            "zerolinecolor": "white"
           },
           "yaxis": {
            "backgroundcolor": "#E5ECF6",
            "gridcolor": "white",
            "gridwidth": 2,
            "linecolor": "white",
            "showbackground": true,
            "ticks": "",
            "zerolinecolor": "white"
           },
           "zaxis": {
            "backgroundcolor": "#E5ECF6",
            "gridcolor": "white",
            "gridwidth": 2,
            "linecolor": "white",
            "showbackground": true,
            "ticks": "",
            "zerolinecolor": "white"
           }
          },
          "shapedefaults": {
           "line": {
            "color": "#2a3f5f"
           }
          },
          "ternary": {
           "aaxis": {
            "gridcolor": "white",
            "linecolor": "white",
            "ticks": ""
           },
           "baxis": {
            "gridcolor": "white",
            "linecolor": "white",
            "ticks": ""
           },
           "bgcolor": "#E5ECF6",
           "caxis": {
            "gridcolor": "white",
            "linecolor": "white",
            "ticks": ""
           }
          },
          "title": {
           "x": 0.05
          },
          "xaxis": {
           "automargin": true,
           "gridcolor": "white",
           "linecolor": "white",
           "ticks": "",
           "title": {
            "standoff": 15
           },
           "zerolinecolor": "white",
           "zerolinewidth": 2
          },
          "yaxis": {
           "automargin": true,
           "gridcolor": "white",
           "linecolor": "white",
           "ticks": "",
           "title": {
            "standoff": 15
           },
           "zerolinecolor": "white",
           "zerolinewidth": 2
          }
         }
        },
        "title": {
         "text": "EDA for trestbps"
        },
        "xaxis": {
         "anchor": "y",
         "domain": [
          0,
          0.45
         ]
        },
        "xaxis2": {
         "anchor": "y2",
         "domain": [
          0.55,
          1
         ]
        },
        "xaxis3": {
         "anchor": "y3",
         "domain": [
          0,
          0.45
         ]
        },
        "xaxis4": {
         "anchor": "y4",
         "domain": [
          0.55,
          1
         ]
        },
        "yaxis": {
         "anchor": "x",
         "domain": [
          0.625,
          1
         ]
        },
        "yaxis2": {
         "anchor": "x2",
         "domain": [
          0.625,
          1
         ]
        },
        "yaxis3": {
         "anchor": "x3",
         "domain": [
          0,
          0.375
         ]
        },
        "yaxis4": {
         "anchor": "x4",
         "domain": [
          0,
          0.375
         ]
        }
       }
      }
     },
     "metadata": {},
     "output_type": "display_data"
    },
    {
     "name": "stdout",
     "output_type": "stream",
     "text": [
      "Column: chol\n",
      "\n",
      "Basic Statistics:\n",
      "count: 890\n",
      "missing: 30\n",
      "mean: 199.13\n",
      "median: 223.0\n",
      "std: 110.78\n",
      "min: 0.0\n",
      "max: 603.0\n",
      "skew: -0.61\n",
      "kurtosis: 0.06\n",
      "\n",
      "Outliers: 183 found\n",
      "Outlier bounds: [35.50, 407.50]\n"
     ]
    },
    {
     "data": {
      "application/vnd.plotly.v1+json": {
       "config": {
        "plotlyServerURL": "https://plot.ly"
       },
       "data": [
        {
         "name": "Histogram",
         "nbinsx": 30,
         "type": "histogram",
         "x": {
          "bdata": "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",
          "dtype": "f8"
         },
         "xaxis": "x",
         "yaxis": "y"
        },
        {
         "name": "Box Plot",
         "type": "box",
         "xaxis": "x2",
         "y": {
          "bdata": "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",
          "dtype": "f8"
         },
         "yaxis": "y2"
        },
        {
         "mode": "markers",
         "name": "Q-Q Plot",
         "type": "scatter",
         "x": {
          "bdata": "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",
          "dtype": "f8"
         },
         "xaxis": "x3",
         "y": {
          "bdata": "AAAAAAAAAAAAAAAAAAAAAAAAAAAAAAAAAAAAAAAAAAAAAAAAAAAAAAAAAAAAAAAAAAAAAAAAAAAAAAAAAAAAAAAAAAAAAAAAAAAAAAAAAAAAAAAAAAAAAAAAAAAAAAAAAAAAAAAAAAAAAAAAAAAAAAAAAAAAAAAAAAAAAAAAAAAAAAAAAAAAAAAAAAAAAAAAAAAAAAAAAAAAAAAAAAAAAAAAAAAAAAAAAAAAAAAAAAAAAAAAAAAAAAAAAAAAAAAAAAAAAAAAAAAAAAAAAAAAAAAAAAAAAAAAAAAAAAAAAAAAAAAAAAAAAAAAAAAAAAAAAAAAAAAAAAAAAAAAAAAAAAAAAAAAAAAAAAAAAAAAAAAAAAAAAAAAAAAAAAAAAAAAAAAAAAAAAAAAAAAAAAAAAAAAAAAAAAAAAAAAAAAAAAAAAAAAAAAAAAAAAAAAAAAAAAAAAAAAAAAAAAAAAAAAAAAAAAAAAAAAAAAAAAAAAAAAAAAAAAAAAAAAAAAAAAAAAAAAAAAAAAAAAAAAAAAAAAAAAAAAAAAAAAAAAAAAAAAAAAAAAAAAAAAAAAAAAAAAAAAAAAAAAAAAAAAAAAAAAAAAAAAAAAAAAAAAAAAAAAAAAAAAAAAAAAAAAAAAAAAAAAAAAAAAAAAAAAAAAAAAAAAAAAAAAAAAAAAAAAAAAAAAAAAAAAAAAAAAAAAAAAAAAAAAAAAAAAAAAAAAAAAAAAAAAAAAAAAAAAAAAAAAAAAAAAAAAAAAAAAAAAAAAAAAAAAAAAAAAAAAAAAAAAAAAAAAAAAAAAAAAAAAAAAAAAAAAAAAAAAAAAAAAAAAAAAAAAAAAAAAAAAAAAAAAAAAAAAAAAAAAAAAAAAAAAAAAAAAAAAAAAAAAAAAAAAAAAAAAAAAAAAAAAAAAAAAAAAAAAAAAAAAAAAAAAAAAAAAAAAAAAAAAAAAAAAAAAAAAAAAAAAAAAAAAAAAAAAAAAAAAAAAAAAAAAAAAAAAAAAAAAAAAAAAAAAAAAAAAAAAAAAAAAAAAAAAAAAAAAAAAAAAAAAAAAAAAAAAAAAAAAAAAAAAAAAAAAAAAAAAAAAAAAAAAAAAAAAAAAAAAAAAAAAAAAAAAAAAAAAAAAAAAAAAAAAAAAAAAAAAAAAAAAAAAAAAAAAAAAAAAAAAAAAAAAAAAAAAAAAAAAAAAAAAAAAAAAAAAAAAAAAAAAAAAAAAAAAAAAAAAAAAAAAAAAAAAAAAAAAAAAAAAAAAAAAAAAAAAAAAAAAAAAAAAAAAAAAAAAAAAAAAAAAAAAAAAAAAAAAAAAAAAAAAAAAAAAAAAAAAAAAAAAAAAAAAAAAAAAAAAAAAAAAAAAAAAAAAAAAAAAAAAAAAAAAAAAAAAAAAAAAAAAAAAAAAAAAAAAAAAAAAAAAAAAAAAAAAAAAAAAAAAAAAAAAAAAAAAAAAAAAAAAAAAAAAAAAAAAAAAAAAAAAAAAAAAAAAAAAAAAAAAAAAAAAAAAAAAAAAAAAAAAAAAAAAAAAAAAAAAAAAAAAAAAAAAAAAAAAAAAAAAAAAAAAAAAAAAAAAAAAAAAAAAAAAAAAAAAAAAAAAAAAAAAAAAAAAAAAAAAAAAAAAAAAAAAAAAAAAAAAAAAAAAAAAAAAAAAAAAAAAAAAAAAAAAAAAAAAAAAAAAAAAAAAAAAAAAAAAAAAAAAAAAAAAAAAAAAAAAAAAAAAAAAAAAAAAAAAAAAAAAAAAAAAAAAAAAAAAAAAAAAAAAAAAAAAAAAAAAAAAAAAAAAAAAAAAAAAAAAAAAAAAAAAAAAAAAAAAAAAAAAAAAAAAAAAAAAAAAAAAAAAAAAAAAAAAAAAAAEBVQAAAAAAAAFlAAAAAAAAAWUAAAAAAAEBdQAAAAAAAgF9AAAAAAAAgYEAAAAAAAGBgQAAAAAAAgGBAAAAAAABgYUAAAAAAAKBhQAAAAAAAwGFAAAAAAABgYkAAAAAAAGBiQAAAAAAAoGJAAAAAAACgYkAAAAAAACBjQAAAAAAAgGNAAAAAAACgY0AAAAAAAABkQAAAAAAAAGRAAAAAAAAAZEAAAAAAAABkQAAAAAAAAGRAAAAAAAAgZEAAAAAAACBkQAAAAAAAYGRAAAAAAABgZEAAAAAAAIBkQAAAAAAAgGRAAAAAAACgZEAAAAAAAMBkQAAAAAAAwGRAAAAAAADAZEAAAAAAAOBkQAAAAAAA4GRAAAAAAAAAZUAAAAAAAABlQAAAAAAAIGVAAAAAAABAZUAAAAAAAEBlQAAAAAAAYGVAAAAAAABgZUAAAAAAAGBlQAAAAAAAgGVAAAAAAACAZUAAAAAAAKBlQAAAAAAAoGVAAAAAAADAZUAAAAAAAOBlQAAAAAAA4GVAAAAAAADgZUAAAAAAAOBlQAAAAAAAAGZAAAAAAAAgZkAAAAAAACBmQAAAAAAAIGZAAAAAAAAgZkAAAAAAACBmQAAAAAAAQGZAAAAAAABgZkAAAAAAAGBmQAAAAAAAgGZAAAAAAACAZkAAAAAAAIBmQAAAAAAAoGZAAAAAAADAZkAAAAAAAMBmQAAAAAAAwGZAAAAAAADAZkAAAAAAAMBmQAAAAAAA4GZAAAAAAAAAZ0AAAAAAAABnQAAAAAAAAGdAAAAAAAAAZ0AAAAAAACBnQAAAAAAAQGdAAAAAAABAZ0AAAAAAAEBnQAAAAAAAQGdAAAAAAABAZ0AAAAAAAEBnQAAAAAAAYGdAAAAAAABgZ0AAAAAAAIBnQAAAAAAAgGdAAAAAAACAZ0AAAAAAAIBnQAAAAAAAwGdAAAAAAAAAaEAAAAAAAABoQAAAAAAAAGhAAAAAAAAgaEAAAAAAACBoQAAAAAAAIGhAAAAAAAAgaEAAAAAAACBoQAAAAAAAIGhAAAAAAABAaEAAAAAAAEBoQAAAAAAAYGhAAAAAAABgaEAAAAAAAGBoQAAAAAAAYGhAAAAAAABgaEAAAAAAAGBoQAAAAAAAgGhAAAAAAACAaEAAAAAAAIBoQAAAAAAAgGhAAAAAAACAaEAAAAAAAIBoQAAAAAAAoGhAAAAAAACgaEAAAAAAAKBoQAAAAAAAoGhAAAAAAACgaEAAAAAAAKBoQAAAAAAAoGhAAAAAAADAaEAAAAAAAMBoQAAAAAAAwGhAAAAAAADAaEAAAAAAAMBoQAAAAAAAwGhAAAAAAADgaEAAAAAAAOBoQAAAAAAA4GhAAAAAAAAAaUAAAAAAAABpQAAAAAAAAGlAAAAAAAAAaUAAAAAAACBpQAAAAAAAIGlAAAAAAAAgaUAAAAAAACBpQAAAAAAAIGlAAAAAAAAgaUAAAAAAAEBpQAAAAAAAQGlAAAAAAABAaUAAAAAAAGBpQAAAAAAAYGlAAAAAAABgaUAAAAAAAGBpQAAAAAAAYGlAAAAAAABgaUAAAAAAAGBpQAAAAAAAgGlAAAAAAACAaUAAAAAAAIBpQAAAAAAAgGlAAAAAAACAaUAAAAAAAIBpQAAAAAAAgGlAAAAAAACAaUAAAAAAAIBpQAAAAAAAoGlAAAAAAACgaUAAAAAAAKBpQAAAAAAAwGlAAAAAAADAaUAAAAAAAMBpQAAAAAAA4GlAAAAAAADgaUAAAAAAAOBpQAAAAAAA4GlAAAAAAADgaUAAAAAAAOBpQAAAAAAAAGpAAAAAAAAAakAAAAAAAABqQAAAAAAAAGpAAAAAAAAAakAAAAAAACBqQAAAAAAAIGpAAAAAAAAgakAAAAAAACBqQAAAAAAAIGpAAAAAAABAakAAAAAAAEBqQAAAAAAAQGpAAAAAAABAakAAAAAAAGBqQAAAAAAAYGpAAAAAAABgakAAAAAAAGBqQAAAAAAAYGpAAAAAAABgakAAAAAAAGBqQAAAAAAAYGpAAAAAAABgakAAAAAAAIBqQAAAAAAAgGpAAAAAAACAakAAAAAAAIBqQAAAAAAAgGpAAAAAAACAakAAAAAAAKBqQAAAAAAAoGpAAAAAAACgakAAAAAAAKBqQAAAAAAAoGpAAAAAAACgakAAAAAAAKBqQAAAAAAAwGpAAAAAAADAakAAAAAAAMBqQAAAAAAAwGpAAAAAAADAakAAAAAAAMBqQAAAAAAAwGpAAAAAAADgakAAAAAAAOBqQAAAAAAA4GpAAAAAAADgakAAAAAAAOBqQAAAAAAAAGtAAAAAAAAAa0AAAAAAAABrQAAAAAAAAGtAAAAAAAAAa0AAAAAAAABrQAAAAAAAAGtAAAAAAAAAa0AAAAAAAABrQAAAAAAAIGtAAAAAAAAga0AAAAAAACBrQAAAAAAAIGtAAAAAAABAa0AAAAAAAEBrQAAAAAAAQGtAAAAAAABAa0AAAAAAAEBrQAAAAAAAQGtAAAAAAABga0AAAAAAAGBrQAAAAAAAYGtAAAAAAABga0AAAAAAAGBrQAAAAAAAYGtAAAAAAABga0AAAAAAAGBrQAAAAAAAYGtAAAAAAACAa0AAAAAAAIBrQAAAAAAAgGtAAAAAAACAa0AAAAAAAIBrQAAAAAAAgGtAAAAAAACAa0AAAAAAAIBrQAAAAAAAgGtAAAAAAACAa0AAAAAAAKBrQAAAAAAAoGtAAAAAAACga0AAAAAAAKBrQAAAAAAAoGtAAAAAAADAa0AAAAAAAMBrQAAAAAAAwGtAAAAAAADAa0AAAAAAAMBrQAAAAAAAwGtAAAAAAADga0AAAAAAAOBrQAAAAAAA4GtAAAAAAADga0AAAAAAAOBrQAAAAAAA4GtAAAAAAADga0AAAAAAAOBrQAAAAAAA4GtAAAAAAAAAbEAAAAAAAABsQAAAAAAAAGxAAAAAAAAAbEAAAAAAAABsQAAAAAAAAGxAAAAAAAAgbEAAAAAAACBsQAAAAAAAIGxAAAAAAAAgbEAAAAAAACBsQAAAAAAAIGxAAAAAAABAbEAAAAAAAEBsQAAAAAAAQGxAAAAAAABAbEAAAAAAAEBsQAAAAAAAQGxAAAAAAABgbEAAAAAAAGBsQAAAAAAAYGxAAAAAAABgbEAAAAAAAIBsQAAAAAAAgGxAAAAAAACAbEAAAAAAAIBsQAAAAAAAgGxAAAAAAACgbEAAAAAAAKBsQAAAAAAAoGxAAAAAAACgbEAAAAAAAMBsQAAAAAAAwGxAAAAAAADAbEAAAAAAAMBsQAAAAAAAwGxAAAAAAADAbEAAAAAAAMBsQAAAAAAAwGxAAAAAAADAbEAAAAAAAOBsQAAAAAAA4GxAAAAAAADgbEAAAAAAAOBsQAAAAAAA4GxAAAAAAAAAbUAAAAAAAABtQAAAAAAAAG1AAAAAAAAgbUAAAAAAACBtQAAAAAAAIG1AAAAAAAAgbUAAAAAAACBtQAAAAAAAIG1AAAAAAABAbUAAAAAAAEBtQAAAAAAAQG1AAAAAAABAbUAAAAAAAEBtQAAAAAAAQG1AAAAAAABAbUAAAAAAAGBtQAAAAAAAYG1AAAAAAABgbUAAAAAAAIBtQAAAAAAAgG1AAAAAAACAbUAAAAAAAIBtQAAAAAAAgG1AAAAAAACAbUAAAAAAAKBtQAAAAAAAoG1AAAAAAACgbUAAAAAAAKBtQAAAAAAAoG1AAAAAAACgbUAAAAAAAMBtQAAAAAAAwG1AAAAAAADAbUAAAAAAAMBtQAAAAAAA4G1AAAAAAADgbUAAAAAAAOBtQAAAAAAA4G1AAAAAAAAAbkAAAAAAAABuQAAAAAAAAG5AAAAAAAAAbkAAAAAAAABuQAAAAAAAAG5AAAAAAAAAbkAAAAAAAABuQAAAAAAAIG5AAAAAAAAgbkAAAAAAACBuQAAAAAAAQG5AAAAAAABAbkAAAAAAAGBuQAAAAAAAYG5AAAAAAABgbkAAAAAAAGBuQAAAAAAAYG5AAAAAAABgbkAAAAAAAGBuQAAAAAAAgG5AAAAAAACAbkAAAAAAAIBuQAAAAAAAgG5AAAAAAACgbkAAAAAAAKBuQAAAAAAAoG5AAAAAAACgbkAAAAAAAKBuQAAAAAAAoG5AAAAAAADAbkAAAAAAAMBuQAAAAAAAwG5AAAAAAADAbkAAAAAAAMBuQAAAAAAAwG5AAAAAAADAbkAAAAAAAMBuQAAAAAAA4G5AAAAAAADgbkAAAAAAAOBuQAAAAAAAAG9AAAAAAAAAb0AAAAAAAABvQAAAAAAAAG9AAAAAAAAAb0AAAAAAAABvQAAAAAAAIG9AAAAAAAAgb0AAAAAAACBvQAAAAAAAIG9AAAAAAAAgb0AAAAAAAEBvQAAAAAAAQG9AAAAAAABAb0AAAAAAAEBvQAAAAAAAQG9AAAAAAABgb0AAAAAAAIBvQAAAAAAAgG9AAAAAAACAb0AAAAAAAKBvQAAAAAAAoG9AAAAAAACgb0AAAAAAAKBvQAAAAAAAwG9AAAAAAADAb0AAAAAAAMBvQAAAAAAAwG9AAAAAAADAb0AAAAAAAMBvQAAAAAAAwG9AAAAAAADAb0AAAAAAAMBvQAAAAAAAwG9AAAAAAADgb0AAAAAAAOBvQAAAAAAA4G9AAAAAAAAAcEAAAAAAAABwQAAAAAAAAHBAAAAAAAAAcEAAAAAAAABwQAAAAAAAEHBAAAAAAAAQcEAAAAAAABBwQAAAAAAAIHBAAAAAAAAgcEAAAAAAACBwQAAAAAAAIHBAAAAAAAAgcEAAAAAAACBwQAAAAAAAIHBAAAAAAAAwcEAAAAAAADBwQAAAAAAAQHBAAAAAAABAcEAAAAAAAEBwQAAAAAAAQHBAAAAAAABAcEAAAAAAAEBwQAAAAAAAQHBAAAAAAABAcEAAAAAAAFBwQAAAAAAAUHBAAAAAAABQcEAAAAAAAGBwQAAAAAAAcHBAAAAAAABwcEAAAAAAAHBwQAAAAAAAcHBAAAAAAABwcEAAAAAAAHBwQAAAAAAAcHBAAAAAAACAcEAAAAAAAIBwQAAAAAAAgHBAAAAAAACAcEAAAAAAAIBwQAAAAAAAgHBAAAAAAACQcEAAAAAAAJBwQAAAAAAAkHBAAAAAAACQcEAAAAAAAKBwQAAAAAAAoHBAAAAAAACgcEAAAAAAAKBwQAAAAAAAsHBAAAAAAACwcEAAAAAAALBwQAAAAAAAsHBAAAAAAACwcEAAAAAAAMBwQAAAAAAAwHBAAAAAAADAcEAAAAAAAMBwQAAAAAAAwHBAAAAAAADQcEAAAAAAANBwQAAAAAAA0HBAAAAAAADQcEAAAAAAANBwQAAAAAAA0HBAAAAAAADgcEAAAAAAAOBwQAAAAAAA4HBAAAAAAADgcEAAAAAAAOBwQAAAAAAA4HBAAAAAAADwcEAAAAAAAPBwQAAAAAAA8HBAAAAAAADwcEAAAAAAAABxQAAAAAAAAHFAAAAAAAAAcUAAAAAAABBxQAAAAAAAEHFAAAAAAAAQcUAAAAAAABBxQAAAAAAAEHFAAAAAAAAgcUAAAAAAACBxQAAAAAAAIHFAAAAAAAAgcUAAAAAAACBxQAAAAAAAIHFAAAAAAAAwcUAAAAAAADBxQAAAAAAAMHFAAAAAAAAwcUAAAAAAADBxQAAAAAAAMHFAAAAAAAAwcUAAAAAAAEBxQAAAAAAAQHFAAAAAAABAcUAAAAAAAEBxQAAAAAAAUHFAAAAAAABQcUAAAAAAAFBxQAAAAAAAUHFAAAAAAABQcUAAAAAAAGBxQAAAAAAAcHFAAAAAAACAcUAAAAAAAIBxQAAAAAAAkHFAAAAAAACQcUAAAAAAAJBxQAAAAAAAoHFAAAAAAACgcUAAAAAAAKBxQAAAAAAAoHFAAAAAAACgcUAAAAAAAKBxQAAAAAAAoHFAAAAAAACwcUAAAAAAALBxQAAAAAAAsHFAAAAAAACwcUAAAAAAALBxQAAAAAAAwHFAAAAAAADAcUAAAAAAAMBxQAAAAAAAwHFAAAAAAADQcUAAAAAAANBxQAAAAAAA4HFAAAAAAADgcUAAAAAAAPBxQAAAAAAA8HFAAAAAAAAAckAAAAAAAAByQAAAAAAAAHJAAAAAAAAAckAAAAAAAAByQAAAAAAAAHJAAAAAAAAQckAAAAAAABByQAAAAAAAEHJAAAAAAAAQckAAAAAAABByQAAAAAAAEHJAAAAAAAAgckAAAAAAACByQAAAAAAAMHJAAAAAAAAwckAAAAAAADByQAAAAAAAQHJAAAAAAABAckAAAAAAAEByQAAAAAAAQHJAAAAAAABQckAAAAAAAGByQAAAAAAAYHJAAAAAAABgckAAAAAAAGByQAAAAAAAcHJAAAAAAABwckAAAAAAAHByQAAAAAAAcHJAAAAAAACQckAAAAAAAJByQAAAAAAAkHJAAAAAAACQckAAAAAAAKByQAAAAAAAoHJAAAAAAACgckAAAAAAAKByQAAAAAAAoHJAAAAAAACwckAAAAAAALByQAAAAAAAwHJAAAAAAADAckAAAAAAAOByQAAAAAAA4HJAAAAAAADwckAAAAAAAPByQAAAAAAA8HJAAAAAAADwckAAAAAAAABzQAAAAAAAAHNAAAAAAAAQc0AAAAAAABBzQAAAAAAAEHNAAAAAAAAQc0AAAAAAACBzQAAAAAAAIHNAAAAAAAAgc0AAAAAAADBzQAAAAAAAMHNAAAAAAABAc0AAAAAAAEBzQAAAAAAAQHNAAAAAAABAc0AAAAAAAEBzQAAAAAAAQHNAAAAAAABQc0AAAAAAAFBzQAAAAAAAUHNAAAAAAABQc0AAAAAAAGBzQAAAAAAAYHNAAAAAAABgc0AAAAAAAHBzQAAAAAAAcHNAAAAAAACAc0AAAAAAAIBzQAAAAAAAkHNAAAAAAACwc0AAAAAAALBzQAAAAAAAsHNAAAAAAADAc0AAAAAAAOBzQAAAAAAA4HNAAAAAAADgc0AAAAAAAPBzQAAAAAAAAHRAAAAAAAAAdEAAAAAAABB0QAAAAAAAIHRAAAAAAABQdEAAAAAAAFB0QAAAAAAAYHRAAAAAAABgdEAAAAAAAHB0QAAAAAAAgHRAAAAAAACQdEAAAAAAAKB0QAAAAAAAoHRAAAAAAACwdEAAAAAAANB0QAAAAAAA8HRAAAAAAADwdEAAAAAAAAB1QAAAAAAAEHVAAAAAAAAgdUAAAAAAADB1QAAAAAAAMHVAAAAAAABAdUAAAAAAAEB1QAAAAAAAUHVAAAAAAABQdUAAAAAAAFB1QAAAAAAAYHVAAAAAAABgdUAAAAAAAGB1QAAAAAAAgHVAAAAAAACwdUAAAAAAANB1QAAAAAAAEHZAAAAAAAAgdkAAAAAAADB2QAAAAAAAYHZAAAAAAACAdkAAAAAAANB2QAAAAAAAEHdAAAAAAAAAeEAAAAAAABB4QAAAAAAAQHhAAAAAAACAeEAAAAAAAJB4QAAAAAAAoHhAAAAAAACgeEAAAAAAAEB5QAAAAAAAcHlAAAAAAACQeUAAAAAAAMB5QAAAAAAAEHpAAAAAAACgfEAAAAAAACB9QAAAAAAAQH1AAAAAAACwfkAAAAAAADCAQAAAAAAAiIBAAAAAAACggUAAAAAAANiCQA==",
          "dtype": "f8"
         },
         "yaxis": "y3"
        },
        {
         "name": "Violin Plot",
         "type": "violin",
         "xaxis": "x4",
         "y": {
          "bdata": "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",
          "dtype": "f8"
         },
         "yaxis": "y4"
        }
       ],
       "layout": {
        "annotations": [
         {
          "font": {
           "size": 16
          },
          "showarrow": false,
          "text": "Distribution",
          "x": 0.225,
          "xanchor": "center",
          "xref": "paper",
          "y": 1,
          "yanchor": "bottom",
          "yref": "paper"
         },
         {
          "font": {
           "size": 16
          },
          "showarrow": false,
          "text": "Box Plot",
          "x": 0.775,
          "xanchor": "center",
          "xref": "paper",
          "y": 1,
          "yanchor": "bottom",
          "yref": "paper"
         },
         {
          "font": {
           "size": 16
          },
          "showarrow": false,
          "text": "Q-Q Plot",
          "x": 0.225,
          "xanchor": "center",
          "xref": "paper",
          "y": 0.375,
          "yanchor": "bottom",
          "yref": "paper"
         },
         {
          "font": {
           "size": 16
          },
          "showarrow": false,
          "text": "Violin Plot",
          "x": 0.775,
          "xanchor": "center",
          "xref": "paper",
          "y": 0.375,
          "yanchor": "bottom",
          "yref": "paper"
         }
        ],
        "height": 800,
        "showlegend": false,
        "template": {
         "data": {
          "bar": [
           {
            "error_x": {
             "color": "#2a3f5f"
            },
            "error_y": {
             "color": "#2a3f5f"
            },
            "marker": {
             "line": {
              "color": "#E5ECF6",
              "width": 0.5
             },
             "pattern": {
              "fillmode": "overlay",
              "size": 10,
              "solidity": 0.2
             }
            },
            "type": "bar"
           }
          ],
          "barpolar": [
           {
            "marker": {
             "line": {
              "color": "#E5ECF6",
              "width": 0.5
             },
             "pattern": {
              "fillmode": "overlay",
              "size": 10,
              "solidity": 0.2
             }
            },
            "type": "barpolar"
           }
          ],
          "carpet": [
           {
            "aaxis": {
             "endlinecolor": "#2a3f5f",
             "gridcolor": "white",
             "linecolor": "white",
             "minorgridcolor": "white",
             "startlinecolor": "#2a3f5f"
            },
            "baxis": {
             "endlinecolor": "#2a3f5f",
             "gridcolor": "white",
             "linecolor": "white",
             "minorgridcolor": "white",
             "startlinecolor": "#2a3f5f"
            },
            "type": "carpet"
           }
          ],
          "choropleth": [
           {
            "colorbar": {
             "outlinewidth": 0,
             "ticks": ""
            },
            "type": "choropleth"
           }
          ],
          "contour": [
           {
            "colorbar": {
             "outlinewidth": 0,
             "ticks": ""
            },
            "colorscale": [
             [
              0,
              "#0d0887"
             ],
             [
              0.1111111111111111,
              "#46039f"
             ],
             [
              0.2222222222222222,
              "#7201a8"
             ],
             [
              0.3333333333333333,
              "#9c179e"
             ],
             [
              0.4444444444444444,
              "#bd3786"
             ],
             [
              0.5555555555555556,
              "#d8576b"
             ],
             [
              0.6666666666666666,
              "#ed7953"
             ],
             [
              0.7777777777777778,
              "#fb9f3a"
             ],
             [
              0.8888888888888888,
              "#fdca26"
             ],
             [
              1,
              "#f0f921"
             ]
            ],
            "type": "contour"
           }
          ],
          "contourcarpet": [
           {
            "colorbar": {
             "outlinewidth": 0,
             "ticks": ""
            },
            "type": "contourcarpet"
           }
          ],
          "heatmap": [
           {
            "colorbar": {
             "outlinewidth": 0,
             "ticks": ""
            },
            "colorscale": [
             [
              0,
              "#0d0887"
             ],
             [
              0.1111111111111111,
              "#46039f"
             ],
             [
              0.2222222222222222,
              "#7201a8"
             ],
             [
              0.3333333333333333,
              "#9c179e"
             ],
             [
              0.4444444444444444,
              "#bd3786"
             ],
             [
              0.5555555555555556,
              "#d8576b"
             ],
             [
              0.6666666666666666,
              "#ed7953"
             ],
             [
              0.7777777777777778,
              "#fb9f3a"
             ],
             [
              0.8888888888888888,
              "#fdca26"
             ],
             [
              1,
              "#f0f921"
             ]
            ],
            "type": "heatmap"
           }
          ],
          "histogram": [
           {
            "marker": {
             "pattern": {
              "fillmode": "overlay",
              "size": 10,
              "solidity": 0.2
             }
            },
            "type": "histogram"
           }
          ],
          "histogram2d": [
           {
            "colorbar": {
             "outlinewidth": 0,
             "ticks": ""
            },
            "colorscale": [
             [
              0,
              "#0d0887"
             ],
             [
              0.1111111111111111,
              "#46039f"
             ],
             [
              0.2222222222222222,
              "#7201a8"
             ],
             [
              0.3333333333333333,
              "#9c179e"
             ],
             [
              0.4444444444444444,
              "#bd3786"
             ],
             [
              0.5555555555555556,
              "#d8576b"
             ],
             [
              0.6666666666666666,
              "#ed7953"
             ],
             [
              0.7777777777777778,
              "#fb9f3a"
             ],
             [
              0.8888888888888888,
              "#fdca26"
             ],
             [
              1,
              "#f0f921"
             ]
            ],
            "type": "histogram2d"
           }
          ],
          "histogram2dcontour": [
           {
            "colorbar": {
             "outlinewidth": 0,
             "ticks": ""
            },
            "colorscale": [
             [
              0,
              "#0d0887"
             ],
             [
              0.1111111111111111,
              "#46039f"
             ],
             [
              0.2222222222222222,
              "#7201a8"
             ],
             [
              0.3333333333333333,
              "#9c179e"
             ],
             [
              0.4444444444444444,
              "#bd3786"
             ],
             [
              0.5555555555555556,
              "#d8576b"
             ],
             [
              0.6666666666666666,
              "#ed7953"
             ],
             [
              0.7777777777777778,
              "#fb9f3a"
             ],
             [
              0.8888888888888888,
              "#fdca26"
             ],
             [
              1,
              "#f0f921"
             ]
            ],
            "type": "histogram2dcontour"
           }
          ],
          "mesh3d": [
           {
            "colorbar": {
             "outlinewidth": 0,
             "ticks": ""
            },
            "type": "mesh3d"
           }
          ],
          "parcoords": [
           {
            "line": {
             "colorbar": {
              "outlinewidth": 0,
              "ticks": ""
             }
            },
            "type": "parcoords"
           }
          ],
          "pie": [
           {
            "automargin": true,
            "type": "pie"
           }
          ],
          "scatter": [
           {
            "fillpattern": {
             "fillmode": "overlay",
             "size": 10,
             "solidity": 0.2
            },
            "type": "scatter"
           }
          ],
          "scatter3d": [
           {
            "line": {
             "colorbar": {
              "outlinewidth": 0,
              "ticks": ""
             }
            },
            "marker": {
             "colorbar": {
              "outlinewidth": 0,
              "ticks": ""
             }
            },
            "type": "scatter3d"
           }
          ],
          "scattercarpet": [
           {
            "marker": {
             "colorbar": {
              "outlinewidth": 0,
              "ticks": ""
             }
            },
            "type": "scattercarpet"
           }
          ],
          "scattergeo": [
           {
            "marker": {
             "colorbar": {
              "outlinewidth": 0,
              "ticks": ""
             }
            },
            "type": "scattergeo"
           }
          ],
          "scattergl": [
           {
            "marker": {
             "colorbar": {
              "outlinewidth": 0,
              "ticks": ""
             }
            },
            "type": "scattergl"
           }
          ],
          "scattermap": [
           {
            "marker": {
             "colorbar": {
              "outlinewidth": 0,
              "ticks": ""
             }
            },
            "type": "scattermap"
           }
          ],
          "scattermapbox": [
           {
            "marker": {
             "colorbar": {
              "outlinewidth": 0,
              "ticks": ""
             }
            },
            "type": "scattermapbox"
           }
          ],
          "scatterpolar": [
           {
            "marker": {
             "colorbar": {
              "outlinewidth": 0,
              "ticks": ""
             }
            },
            "type": "scatterpolar"
           }
          ],
          "scatterpolargl": [
           {
            "marker": {
             "colorbar": {
              "outlinewidth": 0,
              "ticks": ""
             }
            },
            "type": "scatterpolargl"
           }
          ],
          "scatterternary": [
           {
            "marker": {
             "colorbar": {
              "outlinewidth": 0,
              "ticks": ""
             }
            },
            "type": "scatterternary"
           }
          ],
          "surface": [
           {
            "colorbar": {
             "outlinewidth": 0,
             "ticks": ""
            },
            "colorscale": [
             [
              0,
              "#0d0887"
             ],
             [
              0.1111111111111111,
              "#46039f"
             ],
             [
              0.2222222222222222,
              "#7201a8"
             ],
             [
              0.3333333333333333,
              "#9c179e"
             ],
             [
              0.4444444444444444,
              "#bd3786"
             ],
             [
              0.5555555555555556,
              "#d8576b"
             ],
             [
              0.6666666666666666,
              "#ed7953"
             ],
             [
              0.7777777777777778,
              "#fb9f3a"
             ],
             [
              0.8888888888888888,
              "#fdca26"
             ],
             [
              1,
              "#f0f921"
             ]
            ],
            "type": "surface"
           }
          ],
          "table": [
           {
            "cells": {
             "fill": {
              "color": "#EBF0F8"
             },
             "line": {
              "color": "white"
             }
            },
            "header": {
             "fill": {
              "color": "#C8D4E3"
             },
             "line": {
              "color": "white"
             }
            },
            "type": "table"
           }
          ]
         },
         "layout": {
          "annotationdefaults": {
           "arrowcolor": "#2a3f5f",
           "arrowhead": 0,
           "arrowwidth": 1
          },
          "autotypenumbers": "strict",
          "coloraxis": {
           "colorbar": {
            "outlinewidth": 0,
            "ticks": ""
           }
          },
          "colorscale": {
           "diverging": [
            [
             0,
             "#8e0152"
            ],
            [
             0.1,
             "#c51b7d"
            ],
            [
             0.2,
             "#de77ae"
            ],
            [
             0.3,
             "#f1b6da"
            ],
            [
             0.4,
             "#fde0ef"
            ],
            [
             0.5,
             "#f7f7f7"
            ],
            [
             0.6,
             "#e6f5d0"
            ],
            [
             0.7,
             "#b8e186"
            ],
            [
             0.8,
             "#7fbc41"
            ],
            [
             0.9,
             "#4d9221"
            ],
            [
             1,
             "#276419"
            ]
           ],
           "sequential": [
            [
             0,
             "#0d0887"
            ],
            [
             0.1111111111111111,
             "#46039f"
            ],
            [
             0.2222222222222222,
             "#7201a8"
            ],
            [
             0.3333333333333333,
             "#9c179e"
            ],
            [
             0.4444444444444444,
             "#bd3786"
            ],
            [
             0.5555555555555556,
             "#d8576b"
            ],
            [
             0.6666666666666666,
             "#ed7953"
            ],
            [
             0.7777777777777778,
             "#fb9f3a"
            ],
            [
             0.8888888888888888,
             "#fdca26"
            ],
            [
             1,
             "#f0f921"
            ]
           ],
           "sequentialminus": [
            [
             0,
             "#0d0887"
            ],
            [
             0.1111111111111111,
             "#46039f"
            ],
            [
             0.2222222222222222,
             "#7201a8"
            ],
            [
             0.3333333333333333,
             "#9c179e"
            ],
            [
             0.4444444444444444,
             "#bd3786"
            ],
            [
             0.5555555555555556,
             "#d8576b"
            ],
            [
             0.6666666666666666,
             "#ed7953"
            ],
            [
             0.7777777777777778,
             "#fb9f3a"
            ],
            [
             0.8888888888888888,
             "#fdca26"
            ],
            [
             1,
             "#f0f921"
            ]
           ]
          },
          "colorway": [
           "#636efa",
           "#EF553B",
           "#00cc96",
           "#ab63fa",
           "#FFA15A",
           "#19d3f3",
           "#FF6692",
           "#B6E880",
           "#FF97FF",
           "#FECB52"
          ],
          "font": {
           "color": "#2a3f5f"
          },
          "geo": {
           "bgcolor": "white",
           "lakecolor": "white",
           "landcolor": "#E5ECF6",
           "showlakes": true,
           "showland": true,
           "subunitcolor": "white"
          },
          "hoverlabel": {
           "align": "left"
          },
          "hovermode": "closest",
          "mapbox": {
           "style": "light"
          },
          "paper_bgcolor": "white",
          "plot_bgcolor": "#E5ECF6",
          "polar": {
           "angularaxis": {
            "gridcolor": "white",
            "linecolor": "white",
            "ticks": ""
           },
           "bgcolor": "#E5ECF6",
           "radialaxis": {
            "gridcolor": "white",
            "linecolor": "white",
            "ticks": ""
           }
          },
          "scene": {
           "xaxis": {
            "backgroundcolor": "#E5ECF6",
            "gridcolor": "white",
            "gridwidth": 2,
            "linecolor": "white",
            "showbackground": true,
            "ticks": "",
            "zerolinecolor": "white"
           },
           "yaxis": {
            "backgroundcolor": "#E5ECF6",
            "gridcolor": "white",
            "gridwidth": 2,
            "linecolor": "white",
            "showbackground": true,
            "ticks": "",
            "zerolinecolor": "white"
           },
           "zaxis": {
            "backgroundcolor": "#E5ECF6",
            "gridcolor": "white",
            "gridwidth": 2,
            "linecolor": "white",
            "showbackground": true,
            "ticks": "",
            "zerolinecolor": "white"
           }
          },
          "shapedefaults": {
           "line": {
            "color": "#2a3f5f"
           }
          },
          "ternary": {
           "aaxis": {
            "gridcolor": "white",
            "linecolor": "white",
            "ticks": ""
           },
           "baxis": {
            "gridcolor": "white",
            "linecolor": "white",
            "ticks": ""
           },
           "bgcolor": "#E5ECF6",
           "caxis": {
            "gridcolor": "white",
            "linecolor": "white",
            "ticks": ""
           }
          },
          "title": {
           "x": 0.05
          },
          "xaxis": {
           "automargin": true,
           "gridcolor": "white",
           "linecolor": "white",
           "ticks": "",
           "title": {
            "standoff": 15
           },
           "zerolinecolor": "white",
           "zerolinewidth": 2
          },
          "yaxis": {
           "automargin": true,
           "gridcolor": "white",
           "linecolor": "white",
           "ticks": "",
           "title": {
            "standoff": 15
           },
           "zerolinecolor": "white",
           "zerolinewidth": 2
          }
         }
        },
        "title": {
         "text": "EDA for chol"
        },
        "xaxis": {
         "anchor": "y",
         "domain": [
          0,
          0.45
         ]
        },
        "xaxis2": {
         "anchor": "y2",
         "domain": [
          0.55,
          1
         ]
        },
        "xaxis3": {
         "anchor": "y3",
         "domain": [
          0,
          0.45
         ]
        },
        "xaxis4": {
         "anchor": "y4",
         "domain": [
          0.55,
          1
         ]
        },
        "yaxis": {
         "anchor": "x",
         "domain": [
          0.625,
          1
         ]
        },
        "yaxis2": {
         "anchor": "x2",
         "domain": [
          0.625,
          1
         ]
        },
        "yaxis3": {
         "anchor": "x3",
         "domain": [
          0,
          0.375
         ]
        },
        "yaxis4": {
         "anchor": "x4",
         "domain": [
          0,
          0.375
         ]
        }
       }
      }
     },
     "metadata": {},
     "output_type": "display_data"
    },
    {
     "name": "stdout",
     "output_type": "stream",
     "text": [
      "Column: thalch\n",
      "\n",
      "Basic Statistics:\n",
      "count: 865\n",
      "missing: 55\n",
      "mean: 137.55\n",
      "median: 140.0\n",
      "std: 25.93\n",
      "min: 60.0\n",
      "max: 202.0\n",
      "skew: -0.21\n",
      "kurtosis: -0.48\n",
      "\n",
      "Outliers: 2 found\n",
      "Outlier bounds: [64.50, 212.50]\n"
     ]
    },
    {
     "data": {
      "application/vnd.plotly.v1+json": {
       "config": {
        "plotlyServerURL": "https://plot.ly"
       },
       "data": [
        {
         "name": "Histogram",
         "nbinsx": 30,
         "type": "histogram",
         "x": {
          "bdata": "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",
          "dtype": "f8"
         },
         "xaxis": "x",
         "yaxis": "y"
        },
        {
         "name": "Box Plot",
         "type": "box",
         "xaxis": "x2",
         "y": {
          "bdata": "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",
          "dtype": "f8"
         },
         "yaxis": "y2"
        },
        {
         "mode": "markers",
         "name": "Q-Q Plot",
         "type": "scatter",
         "x": {
          "bdata": "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",
          "dtype": "f8"
         },
         "xaxis": "x3",
         "y": {
          "bdata": "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",
          "dtype": "f8"
         },
         "yaxis": "y3"
        },
        {
         "name": "Violin Plot",
         "type": "violin",
         "xaxis": "x4",
         "y": {
          "bdata": "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",
          "dtype": "f8"
         },
         "yaxis": "y4"
        }
       ],
       "layout": {
        "annotations": [
         {
          "font": {
           "size": 16
          },
          "showarrow": false,
          "text": "Distribution",
          "x": 0.225,
          "xanchor": "center",
          "xref": "paper",
          "y": 1,
          "yanchor": "bottom",
          "yref": "paper"
         },
         {
          "font": {
           "size": 16
          },
          "showarrow": false,
          "text": "Box Plot",
          "x": 0.775,
          "xanchor": "center",
          "xref": "paper",
          "y": 1,
          "yanchor": "bottom",
          "yref": "paper"
         },
         {
          "font": {
           "size": 16
          },
          "showarrow": false,
          "text": "Q-Q Plot",
          "x": 0.225,
          "xanchor": "center",
          "xref": "paper",
          "y": 0.375,
          "yanchor": "bottom",
          "yref": "paper"
         },
         {
          "font": {
           "size": 16
          },
          "showarrow": false,
          "text": "Violin Plot",
          "x": 0.775,
          "xanchor": "center",
          "xref": "paper",
          "y": 0.375,
          "yanchor": "bottom",
          "yref": "paper"
         }
        ],
        "height": 800,
        "showlegend": false,
        "template": {
         "data": {
          "bar": [
           {
            "error_x": {
             "color": "#2a3f5f"
            },
            "error_y": {
             "color": "#2a3f5f"
            },
            "marker": {
             "line": {
              "color": "#E5ECF6",
              "width": 0.5
             },
             "pattern": {
              "fillmode": "overlay",
              "size": 10,
              "solidity": 0.2
             }
            },
            "type": "bar"
           }
          ],
          "barpolar": [
           {
            "marker": {
             "line": {
              "color": "#E5ECF6",
              "width": 0.5
             },
             "pattern": {
              "fillmode": "overlay",
              "size": 10,
              "solidity": 0.2
             }
            },
            "type": "barpolar"
           }
          ],
          "carpet": [
           {
            "aaxis": {
             "endlinecolor": "#2a3f5f",
             "gridcolor": "white",
             "linecolor": "white",
             "minorgridcolor": "white",
             "startlinecolor": "#2a3f5f"
            },
            "baxis": {
             "endlinecolor": "#2a3f5f",
             "gridcolor": "white",
             "linecolor": "white",
             "minorgridcolor": "white",
             "startlinecolor": "#2a3f5f"
            },
            "type": "carpet"
           }
          ],
          "choropleth": [
           {
            "colorbar": {
             "outlinewidth": 0,
             "ticks": ""
            },
            "type": "choropleth"
           }
          ],
          "contour": [
           {
            "colorbar": {
             "outlinewidth": 0,
             "ticks": ""
            },
            "colorscale": [
             [
              0,
              "#0d0887"
             ],
             [
              0.1111111111111111,
              "#46039f"
             ],
             [
              0.2222222222222222,
              "#7201a8"
             ],
             [
              0.3333333333333333,
              "#9c179e"
             ],
             [
              0.4444444444444444,
              "#bd3786"
             ],
             [
              0.5555555555555556,
              "#d8576b"
             ],
             [
              0.6666666666666666,
              "#ed7953"
             ],
             [
              0.7777777777777778,
              "#fb9f3a"
             ],
             [
              0.8888888888888888,
              "#fdca26"
             ],
             [
              1,
              "#f0f921"
             ]
            ],
            "type": "contour"
           }
          ],
          "contourcarpet": [
           {
            "colorbar": {
             "outlinewidth": 0,
             "ticks": ""
            },
            "type": "contourcarpet"
           }
          ],
          "heatmap": [
           {
            "colorbar": {
             "outlinewidth": 0,
             "ticks": ""
            },
            "colorscale": [
             [
              0,
              "#0d0887"
             ],
             [
              0.1111111111111111,
              "#46039f"
             ],
             [
              0.2222222222222222,
              "#7201a8"
             ],
             [
              0.3333333333333333,
              "#9c179e"
             ],
             [
              0.4444444444444444,
              "#bd3786"
             ],
             [
              0.5555555555555556,
              "#d8576b"
             ],
             [
              0.6666666666666666,
              "#ed7953"
             ],
             [
              0.7777777777777778,
              "#fb9f3a"
             ],
             [
              0.8888888888888888,
              "#fdca26"
             ],
             [
              1,
              "#f0f921"
             ]
            ],
            "type": "heatmap"
           }
          ],
          "histogram": [
           {
            "marker": {
             "pattern": {
              "fillmode": "overlay",
              "size": 10,
              "solidity": 0.2
             }
            },
            "type": "histogram"
           }
          ],
          "histogram2d": [
           {
            "colorbar": {
             "outlinewidth": 0,
             "ticks": ""
            },
            "colorscale": [
             [
              0,
              "#0d0887"
             ],
             [
              0.1111111111111111,
              "#46039f"
             ],
             [
              0.2222222222222222,
              "#7201a8"
             ],
             [
              0.3333333333333333,
              "#9c179e"
             ],
             [
              0.4444444444444444,
              "#bd3786"
             ],
             [
              0.5555555555555556,
              "#d8576b"
             ],
             [
              0.6666666666666666,
              "#ed7953"
             ],
             [
              0.7777777777777778,
              "#fb9f3a"
             ],
             [
              0.8888888888888888,
              "#fdca26"
             ],
             [
              1,
              "#f0f921"
             ]
            ],
            "type": "histogram2d"
           }
          ],
          "histogram2dcontour": [
           {
            "colorbar": {
             "outlinewidth": 0,
             "ticks": ""
            },
            "colorscale": [
             [
              0,
              "#0d0887"
             ],
             [
              0.1111111111111111,
              "#46039f"
             ],
             [
              0.2222222222222222,
              "#7201a8"
             ],
             [
              0.3333333333333333,
              "#9c179e"
             ],
             [
              0.4444444444444444,
              "#bd3786"
             ],
             [
              0.5555555555555556,
              "#d8576b"
             ],
             [
              0.6666666666666666,
              "#ed7953"
             ],
             [
              0.7777777777777778,
              "#fb9f3a"
             ],
             [
              0.8888888888888888,
              "#fdca26"
             ],
             [
              1,
              "#f0f921"
             ]
            ],
            "type": "histogram2dcontour"
           }
          ],
          "mesh3d": [
           {
            "colorbar": {
             "outlinewidth": 0,
             "ticks": ""
            },
            "type": "mesh3d"
           }
          ],
          "parcoords": [
           {
            "line": {
             "colorbar": {
              "outlinewidth": 0,
              "ticks": ""
             }
            },
            "type": "parcoords"
           }
          ],
          "pie": [
           {
            "automargin": true,
            "type": "pie"
           }
          ],
          "scatter": [
           {
            "fillpattern": {
             "fillmode": "overlay",
             "size": 10,
             "solidity": 0.2
            },
            "type": "scatter"
           }
          ],
          "scatter3d": [
           {
            "line": {
             "colorbar": {
              "outlinewidth": 0,
              "ticks": ""
             }
            },
            "marker": {
             "colorbar": {
              "outlinewidth": 0,
              "ticks": ""
             }
            },
            "type": "scatter3d"
           }
          ],
          "scattercarpet": [
           {
            "marker": {
             "colorbar": {
              "outlinewidth": 0,
              "ticks": ""
             }
            },
            "type": "scattercarpet"
           }
          ],
          "scattergeo": [
           {
            "marker": {
             "colorbar": {
              "outlinewidth": 0,
              "ticks": ""
             }
            },
            "type": "scattergeo"
           }
          ],
          "scattergl": [
           {
            "marker": {
             "colorbar": {
              "outlinewidth": 0,
              "ticks": ""
             }
            },
            "type": "scattergl"
           }
          ],
          "scattermap": [
           {
            "marker": {
             "colorbar": {
              "outlinewidth": 0,
              "ticks": ""
             }
            },
            "type": "scattermap"
           }
          ],
          "scattermapbox": [
           {
            "marker": {
             "colorbar": {
              "outlinewidth": 0,
              "ticks": ""
             }
            },
            "type": "scattermapbox"
           }
          ],
          "scatterpolar": [
           {
            "marker": {
             "colorbar": {
              "outlinewidth": 0,
              "ticks": ""
             }
            },
            "type": "scatterpolar"
           }
          ],
          "scatterpolargl": [
           {
            "marker": {
             "colorbar": {
              "outlinewidth": 0,
              "ticks": ""
             }
            },
            "type": "scatterpolargl"
           }
          ],
          "scatterternary": [
           {
            "marker": {
             "colorbar": {
              "outlinewidth": 0,
              "ticks": ""
             }
            },
            "type": "scatterternary"
           }
          ],
          "surface": [
           {
            "colorbar": {
             "outlinewidth": 0,
             "ticks": ""
            },
            "colorscale": [
             [
              0,
              "#0d0887"
             ],
             [
              0.1111111111111111,
              "#46039f"
             ],
             [
              0.2222222222222222,
              "#7201a8"
             ],
             [
              0.3333333333333333,
              "#9c179e"
             ],
             [
              0.4444444444444444,
              "#bd3786"
             ],
             [
              0.5555555555555556,
              "#d8576b"
             ],
             [
              0.6666666666666666,
              "#ed7953"
             ],
             [
              0.7777777777777778,
              "#fb9f3a"
             ],
             [
              0.8888888888888888,
              "#fdca26"
             ],
             [
              1,
              "#f0f921"
             ]
            ],
            "type": "surface"
           }
          ],
          "table": [
           {
            "cells": {
             "fill": {
              "color": "#EBF0F8"
             },
             "line": {
              "color": "white"
             }
            },
            "header": {
             "fill": {
              "color": "#C8D4E3"
             },
             "line": {
              "color": "white"
             }
            },
            "type": "table"
           }
          ]
         },
         "layout": {
          "annotationdefaults": {
           "arrowcolor": "#2a3f5f",
           "arrowhead": 0,
           "arrowwidth": 1
          },
          "autotypenumbers": "strict",
          "coloraxis": {
           "colorbar": {
            "outlinewidth": 0,
            "ticks": ""
           }
          },
          "colorscale": {
           "diverging": [
            [
             0,
             "#8e0152"
            ],
            [
             0.1,
             "#c51b7d"
            ],
            [
             0.2,
             "#de77ae"
            ],
            [
             0.3,
             "#f1b6da"
            ],
            [
             0.4,
             "#fde0ef"
            ],
            [
             0.5,
             "#f7f7f7"
            ],
            [
             0.6,
             "#e6f5d0"
            ],
            [
             0.7,
             "#b8e186"
            ],
            [
             0.8,
             "#7fbc41"
            ],
            [
             0.9,
             "#4d9221"
            ],
            [
             1,
             "#276419"
            ]
           ],
           "sequential": [
            [
             0,
             "#0d0887"
            ],
            [
             0.1111111111111111,
             "#46039f"
            ],
            [
             0.2222222222222222,
             "#7201a8"
            ],
            [
             0.3333333333333333,
             "#9c179e"
            ],
            [
             0.4444444444444444,
             "#bd3786"
            ],
            [
             0.5555555555555556,
             "#d8576b"
            ],
            [
             0.6666666666666666,
             "#ed7953"
            ],
            [
             0.7777777777777778,
             "#fb9f3a"
            ],
            [
             0.8888888888888888,
             "#fdca26"
            ],
            [
             1,
             "#f0f921"
            ]
           ],
           "sequentialminus": [
            [
             0,
             "#0d0887"
            ],
            [
             0.1111111111111111,
             "#46039f"
            ],
            [
             0.2222222222222222,
             "#7201a8"
            ],
            [
             0.3333333333333333,
             "#9c179e"
            ],
            [
             0.4444444444444444,
             "#bd3786"
            ],
            [
             0.5555555555555556,
             "#d8576b"
            ],
            [
             0.6666666666666666,
             "#ed7953"
            ],
            [
             0.7777777777777778,
             "#fb9f3a"
            ],
            [
             0.8888888888888888,
             "#fdca26"
            ],
            [
             1,
             "#f0f921"
            ]
           ]
          },
          "colorway": [
           "#636efa",
           "#EF553B",
           "#00cc96",
           "#ab63fa",
           "#FFA15A",
           "#19d3f3",
           "#FF6692",
           "#B6E880",
           "#FF97FF",
           "#FECB52"
          ],
          "font": {
           "color": "#2a3f5f"
          },
          "geo": {
           "bgcolor": "white",
           "lakecolor": "white",
           "landcolor": "#E5ECF6",
           "showlakes": true,
           "showland": true,
           "subunitcolor": "white"
          },
          "hoverlabel": {
           "align": "left"
          },
          "hovermode": "closest",
          "mapbox": {
           "style": "light"
          },
          "paper_bgcolor": "white",
          "plot_bgcolor": "#E5ECF6",
          "polar": {
           "angularaxis": {
            "gridcolor": "white",
            "linecolor": "white",
            "ticks": ""
           },
           "bgcolor": "#E5ECF6",
           "radialaxis": {
            "gridcolor": "white",
            "linecolor": "white",
            "ticks": ""
           }
          },
          "scene": {
           "xaxis": {
            "backgroundcolor": "#E5ECF6",
            "gridcolor": "white",
            "gridwidth": 2,
            "linecolor": "white",
            "showbackground": true,
            "ticks": "",
            "zerolinecolor": "white"
           },
           "yaxis": {
            "backgroundcolor": "#E5ECF6",
            "gridcolor": "white",
            "gridwidth": 2,
            "linecolor": "white",
            "showbackground": true,
            "ticks": "",
            "zerolinecolor": "white"
           },
           "zaxis": {
            "backgroundcolor": "#E5ECF6",
            "gridcolor": "white",
            "gridwidth": 2,
            "linecolor": "white",
            "showbackground": true,
            "ticks": "",
            "zerolinecolor": "white"
           }
          },
          "shapedefaults": {
           "line": {
            "color": "#2a3f5f"
           }
          },
          "ternary": {
           "aaxis": {
            "gridcolor": "white",
            "linecolor": "white",
            "ticks": ""
           },
           "baxis": {
            "gridcolor": "white",
            "linecolor": "white",
            "ticks": ""
           },
           "bgcolor": "#E5ECF6",
           "caxis": {
            "gridcolor": "white",
            "linecolor": "white",
            "ticks": ""
           }
          },
          "title": {
           "x": 0.05
          },
          "xaxis": {
           "automargin": true,
           "gridcolor": "white",
           "linecolor": "white",
           "ticks": "",
           "title": {
            "standoff": 15
           },
           "zerolinecolor": "white",
           "zerolinewidth": 2
          },
          "yaxis": {
           "automargin": true,
           "gridcolor": "white",
           "linecolor": "white",
           "ticks": "",
           "title": {
            "standoff": 15
           },
           "zerolinecolor": "white",
           "zerolinewidth": 2
          }
         }
        },
        "title": {
         "text": "EDA for thalch"
        },
        "xaxis": {
         "anchor": "y",
         "domain": [
          0,
          0.45
         ]
        },
        "xaxis2": {
         "anchor": "y2",
         "domain": [
          0.55,
          1
         ]
        },
        "xaxis3": {
         "anchor": "y3",
         "domain": [
          0,
          0.45
         ]
        },
        "xaxis4": {
         "anchor": "y4",
         "domain": [
          0.55,
          1
         ]
        },
        "yaxis": {
         "anchor": "x",
         "domain": [
          0.625,
          1
         ]
        },
        "yaxis2": {
         "anchor": "x2",
         "domain": [
          0.625,
          1
         ]
        },
        "yaxis3": {
         "anchor": "x3",
         "domain": [
          0,
          0.375
         ]
        },
        "yaxis4": {
         "anchor": "x4",
         "domain": [
          0,
          0.375
         ]
        }
       }
      }
     },
     "metadata": {},
     "output_type": "display_data"
    },
    {
     "name": "stdout",
     "output_type": "stream",
     "text": [
      "Column: oldpeak\n",
      "\n",
      "Basic Statistics:\n",
      "count: 858\n",
      "missing: 62\n",
      "mean: 0.88\n",
      "median: 0.5\n",
      "std: 1.09\n",
      "min: -2.6\n",
      "max: 6.2\n",
      "skew: 1.04\n",
      "kurtosis: 1.13\n",
      "\n",
      "Outliers: 16 found\n",
      "Outlier bounds: [-2.25, 3.75]\n"
     ]
    },
    {
     "data": {
      "application/vnd.plotly.v1+json": {
       "config": {
        "plotlyServerURL": "https://plot.ly"
       },
       "data": [
        {
         "name": "Histogram",
         "nbinsx": 30,
         "type": "histogram",
         "x": {
          "bdata": "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",
          "dtype": "f8"
         },
         "xaxis": "x",
         "yaxis": "y"
        },
        {
         "name": "Box Plot",
         "type": "box",
         "xaxis": "x2",
         "y": {
          "bdata": "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",
          "dtype": "f8"
         },
         "yaxis": "y2"
        },
        {
         "mode": "markers",
         "name": "Q-Q Plot",
         "type": "scatter",
         "x": {
          "bdata": "NwabYbE5CcAvmOSHeRMHwOu5RrT13wXAGBBJOdcGBcBqxIlLTl0EwDKu/yNj0QPAlHilL8ZZA8CT5tP1/vACwMDCnDCOkwLABXNxpBM/AsBVsjWZ3vEBwO0T2dyvqgHASV0lApVoAcCZvAdv0SoBwJA9PGzP8ADATFZlEha6AMDVUodKQoYAwL6FWtEBVQDAftcjlQ8mAMBxhH4FYvL/v8ot8/ZnnP+/jA7UiNpJ/7/YT5Sdbvr+v1QpDIXirf6/Lg2Odfxj/r+0kGdRiRz+vzubgKdb1/2/qBM14kqU/b/PzrCaMlP9vwNgZAnyE/2/KvrcjWvW/L/WUI5JhJr8v4YgEsojYPy/NkIbwDMn/L+wNunAn+/7v+nkdxBVufu/pM39ckKE+79rDI8EWFD7v8dx8RWHHfu/4gzZDcLr+r8gCedN/Lr6v3Sr4Boqi/q/k+aqh0Bc+r8KfqliNS76v9/hLyX/APq/lnK+5JTU+b/wPtFF7qj5v6TvDXADfvm/FM2lA81T+b9u2cYPRCr5vwIT/AliAfm/20JhxiDZ+L9aY5JwerH4vxPIQYVpivi/XthizOhj+L8RddlT8z34v7EWoGqEGPi/5mBYnJfz97+yXDutKM/3vzDOX5Yzq/e/sjJOgrSH97+j6NrJp2T3v87XP/EJQve/papvpdcf979ETZ25Df72vxv28iSp3Pa/u3p0AKe79r8TIwmFBJv2v8KPqQm/eva/pZ+uAdRa9r9Mjj77QDv2v/bJ1Z0DHPa/3zzpqBn99b+o/J/ygN71v1GDomY3wPW/CsH9BDui9b9+fRjhiYT1vz6iuSAiZ/W/Xice+wFK9b+veB24Jy31v3BCW6+REPW/dqyFRz709L9oH5/1K9j0v1zCUjxZvPS/1PBSq8Sg9L81+MDebIX0v0B6nX5QavS/3t5APm5P9L80S9vbxDT0v8qe+x9TGvS/GAEd3RcA9L/wkjrvEebzvzLfaDtAzPO/lK10r6Gy879o4YZBNZnzv0gUze/5f/O/XKImwO5m878w49W/Ek7zvxlPNQNlNfO/RlVwpeQc878Qqz/IkATzv5rgqJNo7PK/lgrBNWvU8r8EVHLil7zyv9xNRNPtpPK/XtUmR2yN8r8ibD+CEnbyv57fuM3fXvK/4h+Vd9NH8r9MJ4HS7DDyvwrXqjUrGvK/vq2Y/I0D8r92PwOHFO3xv4ZXsDi+1vG/Vq5PeYrA8b9qHlm0eKrxv0VF7FiIlPG/4H2x2bh+8b9gI7ysCWnxv/QLbkt6U/G/cCxcMgo+8b9cVjThuCjxv6gCpNqFE/G/WhxApHD+8L8Gv23GeOnwv3/dS8yd1PC/EsadQ9+/8L/beba8PKvwv73NZMq1lvC/hEvgAUqC8L++yrb6+G3wv++4uk7CWfC/PQnymaVF8L9wxIV6ojHwv9oxspC4HfC/45K3fucJ8L8n1ZbRXezvv5aWFOocxe+/mknUlgue77+xGlorKXfvv+4Aqf50UO+/ZB0qa+4p778W85TOlAPvv01u2Iln3e6/BrMEAWa37r9jqjWbj5Huv1VHfsLja+6/R3vU42FG7r+10/1uCSHuvxu6fNbZ++2/yk9+j9LW7b+i38gR87Htv9jfqtc6je2/Qn7qXalo7b/osbUjPkTtv8jMkqr4H+2/6ohRdtj77L88jPwM3dfsv7Zey/YFtOy/ps4UvlKQ7L/6vkHvwmzsv7tbwBhWSey/BrH3ygsm7L/qoDuY4wLsv800wRTd3+u/C0eT1ve867/GgYd1M5rrv8OvM4uPd+u/nVzjsgtV679qwY2JpzLrv0j7y61iEOu/KYnPvzzu6r+VDllhNczqv+hYrzVMquq/4KSW4YCI6r9JIkgL02bqv8KzaVpCReq/fOgFeM4j6r86LoQOdwLqv4M5ock74em/bqJnVhzA6b87tChjGJ/pvxFudZ8vfum/YrMXvGFd6b9Vqgtrrjzpv+hGeV8VHOm/HQGuTZb76L8jtRbrMNvov/urOe7kuui/YsuwDrKa6L/N6yMFmHrov0VTQ4uWWui/EVTCW6066L/7DVIy3Brovz9RnMsi++e/D6I+5YDb57/DW8U99rvnv57yppSCnOe/fFM/qiV9579CYMs/313nv3iIZBevPue//nz885Qf579G/liZkADnvy3ED8yh4ea/x36CUcjC5r9T79rvA6Tmv8cYB25Uhea/JYe1k7lm5r8OrVEpM0jmv+FWAPjAKea/2DKcyWIL5r+RbbJoGO3lv1Jif6DhzuW/rV7rPL6w5b/ReIcKrpLlvyR4itawdOW/js/NbsZW5b8Lqcqh7jjlvwQClz4pG+W/A9jiFHb95L9JZfX01N/kv+Fsqq9FwuS/vJVvFsik5L+I1EH7W4fkv8LjqjABauS/sMm+ibdM5L/0axnafi/kv0Ew3PVWEuS/+KmrsT/1478+VK3iONjjv1RYhV5Cu+O/zl9U+1ue479RcrWPhYHjv7zeu/K+ZOO/Ni/x+wdI478MKFODYCvjv/vQUWHIDuO/uYjNbj/y4r9jIhWFxdXiv7YM5H1aueK/qYJgM/6c4r9SxRmAsIDiv85eBj9xZOK/622CS0BI4r9x+k2BHSziv8NRi7wIEOK/s2u92QH04b9EV8a1CNjhv0iv5S0dvOG/hBa3Hz+g4b9RuzBpboThv3PioeiqaOG/BnmxfPRM4b9TrVwESzHhv2yO9V6uFeG/VLIhbB764L+j4tgLm97gv3HPYx4kw+C/Z8hahLmn4L/Se6QeW4zgv5O7dM4IceC/1kdLdcJV4L9Un/L0hzrgvxjVfi9ZH+C/rWtMBzYE4L/eav69PNLfvx10AjMknN+/IUIDNCJm379fQueHNjDfvyPpGvZg+t6/N6OORqHE3r/Q0LRB947ev2XJf7BiWd6/R+hfXOMj3r/VoUEPee7dvwChi5Mjud2/JO0ctOKD3b/AF0s8tk7dvyJy4PedGd2/xUoas5nk3L8mMqc6qa/cv/5GpVvMety/tomg4wJG3L/WNpGgTBHcv3so2mCp3Nu/aT5H8xio27/azAsnm3Pbv7YRwcsvP9u/MLBksdYK27+KMleoj9bav/aRWoFaotq/ecSQDTdu2r+AUHoeJTrav1Hm9IUkBtq//f45FjXS2b/ZgN2hVp7Zv0ppzPuIatm/4HtL98s22b+M9vVnHwPZv+5KvCGDz9i/htzi+Pab2L/HwwDCemjYv+mV/lEONdi/XTEVfrEB2L/TjswbZM7Xv7GW+gAmm9e//vrBA/dn1792FZH61jTXv+fJILzFAde/tWxzH8PO1r9NrdP7zpvWv6SE0yjpaNa/jidLfhE21r/X/FfURwPWvzmXWwOM0NW/xbL6492d1b8MNhxPPWvVv7426B2qONW/qwHHKSQG1b87JmBMq9PUvx2FmV8/odS/T2KWPeBu1L84erbAjTzUv+8ZlcNHCtS/jjoIIQ7Y07+Fnx+04KXTv9j3I1i/c9O/QAKW6KlB078gtC1BoA/Tv0Vj2T2i3dK/SvK8uq+r0r+2/zCUyHnSv7AXwqbsR9K/RegvzxsW0r8peGzqVeTRv/Jfm9WastG/xQURbuqA0b9H21GRRE/Rv/edER2pHdG/yZky7xfs0L/y7cTlkLrQv+rTBd8TidC/kOheuaBX0L9md2VTNybQv8+Psxev6c+/kdlMgwKHz7+TKr+naCTPv+XAhEPhwc6/XmRoFWxfzr+ZFITcCP3Nv4y6P1i3ms2/zd1PSHc4zb8pXbRsSNbMv9Qqt4UqdMy/5AvrUx0SzL8VWyqYILDLv9POlRM0Tsu/XkKTh1fsyr8Pgsy1iorKv7QaLmDNKMq/vCvmSB/Hyb93PGMygGXJvxIUU9/vA8m/cpShEm6iyL+2l3eP+kDIv23QORmV38e/e6yHcz1+x79iOjpi8xzHvzQRY6m2u8a/5jpLDYdaxr8RIXJSZPnFv/l7jD1OmMW/9UODk0Q3xb/4pHIZR9bEv3r0qJRVdcS/P6mlym8UxL9wVRiBlbPDv6Si333GUsO/608IhwLywr/IMcxiSZHCvxU0kdeaMMK/zV3oq/bPwb991oymXG/Bv6XtYo7MDsG/tyN3KkauwL/LNP1ByU3Av91Jnjir2r+/JJzYAdYZv7/p3vBuElm+v119dQ9gmL2//vM5c77XvL9t+FQqLRe8v9KjHsWrVru//58u1DmWur8jV1ro1tW5vwIms5KCFbm/ypCEZDxVuL/jeVLvA5W3v3Rb18TY1La/5oICd7oUtr+UTvaXqFS1v5VtBrqilLS/eiG2b6jUs7/1gbZLuRSzv4fC5ODUVLK/k3lIwvqUsb+D6RGDKtWwv2pLmLZjFbC/Yjaw4Eurrr+ZyuKH4Sutv6MrTIqHrKu/M5KwDz0tqr+IOhFAAa6ov70KqUPTLqe/8zrpQrKvpb/A/3VmnTCkv6A2I9eTsaK/VhTxvZQyob/eqRGIPmefv63bciVlaZy/NoHopptrmb+5n5Nf4G2WvyLqzKIxcJO/8S4exI1ykL8ykHcu5umKv78Y/N+/7oS/zAtriUrnfb+IWnoJJvFxvy64aEIu7Fe/LrhoQi7sVz+IWnoJJvFxP8wLa4lK530/vxj837/uhD/ij3cu5umKP8kuHsSNcpA/+unMojFwkz/hn5Nf4G2WP16B6Kaba5k/1dtyJWVpnD8GqhGIPmefP1YU8b2UMqE/oDYj15Oxoj/A/3VmnTCkP/M66UKyr6U/vQqpQ9Mupz+IOhFAAa6oPzOSsA89Lao/oytMioesqz+FyuKH4SutP042sOBLq64/YEuYtmMVsD+N6RGDKtWwP515SML6lLE/kcLk4NRUsj//gbZLuRSzP3ohtm+o1LM/lW0GuqKUtD+UTvaXqFS1P+aCAne6FLY/dFvXxNjUtj/jeVLvA5W3P8qQhGQ8Vbg/AiazkoIVuT8ZV1ro1tW5P/WfLtQ5lro/yKMexatWuz93+FQqLRe8Pwj0OXO+17w/Z311D2CYvT/z3vBuElm+PySc2AHWGb8/3UmeOKvavz/LNP1ByU3AP7cjdypGrsA/pe1ijswOwT991oymXG/BP81d6Kv2z8E/FTSR15owwj/DMcxiSZHCP+VPCIcC8sI/n6LffcZSwz92VRiBlbPDP0SppcpvFMQ/f/SolFV1xD/+pHIZR9bEP/VDg5NEN8U/+XuMPU6YxT8RIXJSZPnFP+Y6Sw2HWsY/NBFjqba7xj9iOjpi8xzHP3ush3M9fsc/bdA5GZXfxz+xl3eP+kDIP22UoRJuosg/DRRT3+8DyT98PGMygGXJP8Er5kgfx8k/uRouYM0oyj8Ugsy1iorKP15Ck4dX7Mo/086VEzROyz8VWyqYILDLP+QL61MdEsw/1Cq3hSp0zD8pXbRsSNbMP83dT0h3OM0/jLo/WLeazT+UFITcCP3NP1lkaBVsX84/4MCEQ+HBzj+YKr+naCTPP5bZTIMCh88/1I+zF6/pzz9pd2VTNybQP5DoXrmgV9A/6tMF3xOJ0D/y7cTlkLrQP8mZMu8X7NA/950RHakd0T9H21GRRE/RP8UFEW7qgNE/8l+b1Zqy0T8neGzqVeTRP0LoL88bFtI/rRfCpuxH0j+4/zCUyHnSP03yvLqvq9I/SGPZPaLd0j8itC1BoA/TP0ACluipQdM/2PcjWL9z0z+Fnx+04KXTP446CCEO2NM/7xmVw0cK1D84erbAjTzUP09ilj3gbtQ/HYWZXz+h1D84JmBMq9PUP6kBxykkBtU/uzboHao41T8PNhxPPWvVP8ey+uPdndU/O5dbA4zQ1T/b/FfURwPWP44nS34RNtY/pITTKOlo1j9NrdP7zpvWP7Vscx/DztY/58kgvMUB1z92FZH61jTXP/76wQP3Z9c/sZb6ACab1z/QjswbZM7XP1sxFX6xAdg/55X+UQ412D/LwwDCemjYP4nc4vj2m9g/8kq8IYPP2D+O9vVnHwPZP+B7S/fLNtk/SmnM+4hq2T/ZgN2hVp7ZP/3+ORY10tk/Ueb0hSQG2j+AUHoeJTraP3nEkA03bto/9pFagVqi2j+GMleoj9baPy2wZLHWCts/tBHByy8/2z/czAsnm3PbP2w+R/MYqNs/fSjaYKnc2z/YNpGgTBHcP7aJoOMCRtw//kalW8x63D8mMqc6qa/cP8VKGrOZ5Nw/InLg950Z3T/AF0s8tk7dPyTtHLTig90/AKGLkyO53T/RoUEPee7dP0XoX1zjI94/Ycl/sGJZ3j/T0LRB947ePzqjjkahxN4/Juka9mD63j9hQueHNjDfPyFCAzQiZt8/HXQCMySc3z/eav69PNLfP61rTAc2BOA/GNV+L1kf4D9Un/L0hzrgP9ZHS3XCVeA/k7t0zghx4D/Qe6QeW4zgP2XIWoS5p+A/b89jHiTD4D+k4tgLm97gP1WyIWwe+uA/bo71Xq4V4T9VrVwESzHhPwZ5sXz0TOE/c+Kh6Kpo4T9RuzBpboThP4QWtx8/oOE/SK/lLR284T9EV8a1CNjhP7NrvdkB9OE/w1GLvAgQ4j9w+k2BHSziP+ptgktASOI/zF4GP3Fk4j9UxRmAsIDiP6qCYDP+nOI/uAzkfVq54j9lIhWFxdXiP7mIzW4/8uI/+9BRYcgO4z8MKFODYCvjPzYv8fsHSOM/vN678r5k4z9RcrWPhYHjP85fVPtbnuM/VFiFXkK74z88VK3iONjjP/apq7E/9eM/QDDc9VYS5D/1axnafi/kP7LJvom3TOQ/w+OqMAFq5D+J1EH7W4fkP7yVbxbIpOQ/4Wyqr0XC5D9JZfX01N/kPwPY4hR2/eQ/BAKXPikb5T8Lqcqh7jjlP47PzW7GVuU/JHiK1rB05T/QeIcKrpLlP6te6zy+sOU/UWJ/oOHO5T+SbbJoGO3lP9oynMliC+Y/4VYA+MAp5j8OrVEpM0jmPyWHtZO5ZuY/xxgHblSF5j9T79rvA6TmP8d+glHIwuY/LcQPzKHh5j9G/liZkADnP/58/POUH+c/eIhkF68+5z9CYMs/313nP3tTP6olfec/nfKmlIKc5z/EW8U99rvnPxKiPuWA2+c/P1GcyyL75z/7DVIy3BroPxFUwlutOug/RVNDi5Za6D/N6yMFmHroP2LLsA6ymug/+6s57uS66D8jtRbrMNvoPx0Brk2W++g/6EZ5XxUc6T9VqgtrrjzpP2CzF7xhXek/EG51ny9+6T8+tChjGJ/pP3CiZ1YcwOk/gzmhyTvh6T86LoQOdwLqP3zoBXjOI+o/wrNpWkJF6j9JIkgL02bqP+CkluGAiOo/6FivNUyq6j+VDllhNczqPymJz7887uo/SPvLrWIQ6z9qwY2JpzLrP5xc47ILVes/wK8zi4936z/HgYd1M5rrPw1Hk9b3vOs/zTTBFN3f6z/qoDuY4wLsPwax98oLJuw/u1vAGFZJ7D/6vkHvwmzsP6bOFL5SkOw/tl7L9gW07D88jPwM3dfsP+qIUXbY++w/yMySqvgf7T/osbUjPkTtP0B+6l2paO0/1t+q1zqN7T+k38gR87HtP8pPfo/S1u0/G7p81tn77T+10/1uCSHuP0d71ONhRu4/VUd+wuNr7j9jqjWbj5HuPwazBAFmt+4/TW7YiWfd7j8W85TOlAPvP2QdKmvuKe8/7gCp/nRQ7z+xGlorKXfvP5hJ1JYLnu8/lJYU6hzF7z8o1ZbRXezvP+SSt37nCfA/2jGykLgd8D9wxIV6ojHwPz0J8pmlRfA/77i6TsJZ8D++yrb6+G3wP4RL4AFKgvA/vc1kyrWW8D/beba8PKvwPxLGnUPfv/A/f91LzJ3U8D8Gv23GeOnwP1ocQKRw/vA/pwKk2oUT8T9cVjThuCjxP3IsXDIKPvE/9AtuS3pT8T9gI7ysCWnxP+B9sdm4fvE/RUXsWIiU8T9qHlm0eKrxP1auT3mKwPE/hlewOL7W8T92PwOHFO3xP76tmPyNA/I/CteqNSsa8j9KJ4HS7DDyP+IflXfTR/I/nt+4zd9e8j8kbD+CEnbyP17VJkdsjfI/3k1E0+2k8j8EVHLil7zyP5YKwTVr1PI/muCok2js8j8Qqz/IkATzP0ZVcKXkHPM/GU81A2U18z8w49W/Ek7zP1yiJsDuZvM/SBTN7/l/8z9o4YZBNZnzP5KtdK+hsvM/MN9oO0DM8z/ykjrvEebzPxgBHd0XAPQ/zJ77H1Ma9D82S9vbxDT0P97eQD5uT/Q/QHqdflBq9D81+MDebIX0P9TwUqvEoPQ/XMJSPFm89D9oH5/1K9j0P3ashUc+9PQ/bkJbr5EQ9T+veB24Jy31P14nHvsBSvU/PKK5ICJn9T+BfRjhiYT1PwrB/QQ7ovU/UYOiZjfA9T+r/J/ygN71P9886agZ/fU/9snVnQMc9j9Mjj77QDv2P6WfrgHUWvY/wo+pCb969j8TIwmFBJv2P7h6dACnu/Y/G/byJKnc9j9ETZ25Df72P6Kqb6XXH/c/zNc/8QlC9z+m6NrJp2T3P7IyToK0h/c/NM5fljOr9z+zXDutKM/3P+ZgWJyX8/c/sRagaoQY+D8RddlT8z34P17YYszoY/g/E8hBhWmK+D9aY5JwerH4P9tCYcYg2fg/AhP8CWIB+T9s2cYPRCr5PxTNpQPNU/k/ou8NcAN++T/yPtFF7qj5P5hyvuSU1Pk/3+EvJf8A+j8LfqliNS76P5PmqodAXPo/dKvgGiqL+j8gCedN/Lr6P+IM2Q3C6/o/x3HxFYcd+z9rDI8EWFD7P6LN/XJChPs/6eR3EFW5+z+uNunAn+/7PzJCG8AzJ/w/gSASyiNg/D/YUI5JhJr8Py763I1r1vw/BWBkCfIT/T/SzrCaMlP9P6sTNeJKlP0/PpuAp1vX/T+0kGdRiRz+Py4NjnX8Y/4/VCkMheKt/j/XT5Sdbvr+P4wO1IjaSf8/yC3z9mec/z9vhH4FYvL/P3vXI5UPJgBAvIVa0QFVAEDYUodKQoYAQE9WZRIWugBAkj08bM/wAECbvAdv0SoBQEpdJQKVaAFA7hPZ3K+qAUBVsjWZ3vEBQAVzcaQTPwJAv8KcMI6TAkCS5tP1/vACQJF4pS/GWQNALa7/I2PRA0BkxIlLTl0EQBAQSTnXBgVA3rlGtPXfBUBBmOSHeRMHQDcGm2GxOQlA",
          "dtype": "f8"
         },
         "xaxis": "x3",
         "y": {
          "bdata": "zczMzMzMBMAAAAAAAAAAwAAAAAAAAPi/mpmZmZmZ8b8AAAAAAADwvwAAAAAAAPC/zczMzMzM7L+amZmZmZnpv2ZmZmZmZua/AAAAAAAA4L8AAAAAAADgv5qZmZmZmbm/AAAAAAAAAAAAAAAAAAAAAAAAAAAAAAAAAAAAAAAAAAAAAAAAAAAAAAAAAAAAAAAAAAAAAAAAAAAAAAAAAAAAAAAAAAAAAAAAAAAAAAAAAAAAAAAAAAAAAAAAAAAAAAAAAAAAAAAAAAAAAAAAAAAAAAAAAAAAAAAAAAAAAAAAAAAAAAAAAAAAAAAAAAAAAAAAAAAAAAAAAAAAAAAAAAAAAAAAAAAAAAAAAAAAAAAAAAAAAAAAAAAAAAAAAAAAAAAAAAAAAAAAAAAAAAAAAAAAAAAAAAAAAAAAAAAAAAAAAAAAAAAAAAAAAAAAAAAAAAAAAAAAAAAAAAAAAAAAAAAAAAAAAAAAAAAAAAAAAAAAAAAAAAAAAAAAAAAAAAAAAAAAAAAAAAAAAAAAAAAAAAAAAAAAAAAAAAAAAAAAAAAAAAAAAAAAAAAAAAAAAAAAAAAAAAAAAAAAAAAAAAAAAAAAAAAAAAAAAAAAAAAAAAAAAAAAAAAAAAAAAAAAAAAAAAAAAAAAAAAAAAAAAAAAAAAAAAAAAAAAAAAAAAAAAAAAAAAAAAAAAAAAAAAAAAAAAAAAAAAAAAAAAAAAAAAAAAAAAAAAAAAAAAAAAAAAAAAAAAAAAAAAAAAAAAAAAAAAAAAAAAAAAAAAAAAAAAAAAAAAAAAAAAAAAAAAAAAAAAAAAAAAAAAAAAAAAAAAAAAAAAAAAAAAAAAAAAAAAAAAAAAAAAAAAAAAAAAAAAAAAAAAAAAAAAAAAAAAAAAAAAAAAAAAAAAAAAAAAAAAAAAAAAAAAAAAAAAAAAAAAAAAAAAAAAAAAAAAAAAAAAAAAAAAAAAAAAAAAAAAAAAAAAAAAAAAAAAAAAAAAAAAAAAAAAAAAAAAAAAAAAAAAAAAAAAAAAAAAAAAAAAAAAAAAAAAAAAAAAAAAAAAAAAAAAAAAAAAAAAAAAAAAAAAAAAAAAAAAAAAAAAAAAAAAAAAAAAAAAAAAAAAAAAAAAAAAAAAAAAAAAAAAAAAAAAAAAAAAAAAAAAAAAAAAAAAAAAAAAAAAAAAAAAAAAAAAAAAAAAAAAAAAAAAAAAAAAAAAAAAAAAAAAAAAAAAAAAAAAAAAAAAAAAAAAAAAAAAAAAAAAAAAAAAAAAAAAAAAAAAAAAAAAAAAAAAAAAAAAAAAAAAAAAAAAAAAAAAAAAAAAAAAAAAAAAAAAAAAAAAAAAAAAAAAAAAAAAAAAAAAAAAAAAAAAAAAAAAAAAAAAAAAAAAAAAAAAAAAAAAAAAAAAAAAAAAAAAAAAAAAAAAAAAAAAAAAAAAAAAAAAAAAAAAAAAAAAAAAAAAAAAAAAAAAAAAAAAAAAAAAAAAAAAAAAAAAAAAAAAAAAAAAAAAAAAAAAAAAAAAAAAAAAAAAAAAAAAAAAAAAAAAAAAAAAAAAAAAAAAAAAAAAAAAAAAAAAAAAAAAAAAAAAAAAAAAAAAAAAAAAAAAAAAAAAAAAAAAAAAAAAAAAAAAAAAAAAAAAAAAAAAAAAAAAAAAAAAAAAAAAAAAAAAAAAAAAAAAAAAAAAAAAAAAAAAAAAAAAAAAAAAAAAAAAAAAAAAAAAAAAAAAAAAAAAAAAAAAAAAAAAAAAAAAAAAAAAAAAAAAAAAAAAAAAAAAAAAAAAAAAAAAAAAAAAAAAAAAAAAAAAAAAAAAAAAAAAAAAAAAAAAAAAAAAAAAAAAAAAAAAAAAAAAAAAAAAAAAAAAAAAAAAAAAAAAAAAAAAAAAAAAAAAAAAAAAAAAAAAAAAAAAAAAAAAAAAAAAAAAAAAAAAAAAAAAAAAAAAAAAAAAAAAAAAAAAAAAAAAAAAAAAAAAAAAAAAAAAAAAAAAAAAAAAAAAAAAAAAAAAAAAAAAAAAAAAAAAAAAAAAAAAAAAAAAAAAAAAAAAAAAAAAAAAAAAAAAAAAAAAAAAAAAAAAAAAAAAAAAAAAAAAAAAAAAAAAAAAAAAAAAAAAAAAAAAAAAAAAAAAAAAAAAAAAAAAAAAAAAAAAAAAAAAAAAAAAAAAAAAAAAAAAAAAAAAAAAAAAAAAAAAAAAAAAAAAAAAAAAAAAAAAAAAAAAAAAAAAAAAAAAAAAAAAAAAAAAAAAAAAAAAAAAAAAAAAAAAAAAAAAAAAAAAAAAAAAAAAAAAAAAAAAAAAAAAAAAAAAAAAAAAAAAAAAAAAAAAAAAAAAAAAAAAAAAAAAAAAAAAAAAAAAAAAAAAAAAAAAAAAAAAAAAAAAAAAAAAAAAAAAAAAAAAAAAAAAAAAAAAAAAAAAAAAAAAAAAAAAAAAAAAAAAAAAAAAAAAAAAAAAAAAAAAAAAAAAAAAAAAAAAAAAAAAAAAAAAAAAAAAAAAAAAAAAAAAAAAAAAAAAAAAAAAAAAAAAAAAAAAAAAAAAAAAAAAAAAAAAAAAAAAAAAAAAAAAAAAAAAAAAAAAAAAAAAAAAAAAAAAAAAAAAAAAAAAAAAAAAAAAAAAAAAAAAAAAAAAAAAAAAAAAAAAAAAAAAAAAAAAAAAAAAAAAAAAAAAAAAAAAAAAAAAAAAAAAAAAAAAAAAAAAAAAAAAAAAAAAAAAAAAAAAAAAAAAAAAAAAAAAAAAAAAAAAAAAAAAAAAAAAAAAAAAAAAAAAAAAAAAAAAAAAAAAAAAAAAAAAAAAAAAAAAAAAAAAAAAAAAAAAAAAAAAAAAAAAAAAAAAAAAAAAAAAAAAAAAAAAAAAAAAAAAAAAAAAAAAAAAAAAAAAAAAAAAAAAAAAAAAAAAAAAAAAAAAAAAAAAAAAAAAAAAAAAAAAAAAAAAAAAAAAAAAAAAAAAAAAAAAAAAAAAAAAAAAAAAAAAAAAAAAAAAAAAAAAAAAAAAAAAAAAAAAAAAAAAAAAAAAAAAAAAAAAAAAAAAAAAAAAAAAAAAAAAAAAAAAAAAAAAAAAAAAAAAAAAAAAAAAAAAAAAAAAAAAAAAAAAAAAAAAAAAAAAAAAAAAAAAAAAAAAAAAAAAAAAAAAAAAAAAAAAAAAAAAAAAAAAAAAAAAAAAAAAAAAAAAAAAAAAAAAAAAAAAAAAAAAAAAAAAAAAAAAAAAAAAAAAAAAAAAAAAAAAAAAAAAAAAAAAAAAAAAAAAAAAAAAAAAAAAAAAAAAAAAAAAAAAAAAAAAAAAAAAAAAAAAAAAAAAAAAAAAAAAAAAAAAAAAAAAAAAAAAAAAAAAAAAAAAAAAAAAAAAAAAAAAAAAAAAAAAAAAAAAAAAAAAAAAAAAAAAAAAAAAAAAAAAAAAAAAAAAAAAAAAAAAAAAAAAAAAAAAAAAAAAAAAAAAAAAAAAAAAAAAAAAAAAAAAAAAAAAAAAAAAAAAAAAAAAAAAAAAAAAAAAAAAAAAAAAAAAAAAAAAAAAAAAAAAAAAAAAAAAAAAAAAAAAAAAAAAAAAAAAAAAAAAAAAAAAAAAAAAAAAAAAAAAAAAAAAAAAAAAAAAAAAAAAAAAAAAAAAAAAAAAAAAAAAAAAAAAAAAAAAAAAAAAAAAAAAAAAAAAAAAAAAAAAAAAAAAAAAAAAAAAAAAAAAAAAAAAAAAAAAAAAAAAAAAAAAAAAAAAAAAAAAAAAAAAAAAAAAAAAAAAAAAAAAAAAAAAAAAAAAAAAAAAAAAAAAAAAAAAAAAAAAAAAAAAAAAAAAAAAAAAAAAAAAAAAAAAAAAAAAAAAAAAAAAAAAAAAAAAAAAAAAAAAAAAAAAAAAAAAAAAAAAAAAAAAAAAAAAAAAAAAAAAAAAAAAAAAAAAAAAAAAAAAAAAAAAAAAAAAAAAAAAAAAAAAAAAAAAAAAAAAAAAAAAAAAAAAAAAAAAAAAAAAAAAAAAAAAAAAAAAAAAAAAAAAAAAAAAAAAAAAAAAAAAAAAAAAAAAAAAAAAAAAAAAAAAAAAAAAAAAAAAAAAAAAAAAAAAAAAAAAAAAAAAAAAAAAAAAAAAAAAAAAAAAAAAAAAAAAAAAAAAAAAAAAAAAACamZmZmZm5P5qZmZmZmbk/mpmZmZmZuT+amZmZmZm5P5qZmZmZmbk/mpmZmZmZuT+amZmZmZm5P5qZmZmZmbk/mpmZmZmZuT+amZmZmZnJP5qZmZmZmck/mpmZmZmZyT+amZmZmZnJP5qZmZmZmck/mpmZmZmZyT+amZmZmZnJP5qZmZmZmck/mpmZmZmZyT+amZmZmZnJP5qZmZmZmck/mpmZmZmZyT+amZmZmZnJP5qZmZmZmck/MzMzMzMz0z8zMzMzMzPTPzMzMzMzM9M/MzMzMzMz0z8zMzMzMzPTP5qZmZmZmdk/mpmZmZmZ2T+amZmZmZnZP5qZmZmZmdk/mpmZmZmZ2T+amZmZmZnZP5qZmZmZmdk/mpmZmZmZ2T+amZmZmZnZP5qZmZmZmdk/AAAAAAAA4D8AAAAAAADgPwAAAAAAAOA/AAAAAAAA4D8AAAAAAADgPwAAAAAAAOA/AAAAAAAA4D8AAAAAAADgPwAAAAAAAOA/AAAAAAAA4D8AAAAAAADgPwAAAAAAAOA/AAAAAAAA4D8AAAAAAADgPwAAAAAAAOA/AAAAAAAA4D8AAAAAAADgPwAAAAAAAOA/AAAAAAAA4D8zMzMzMzPjPzMzMzMzM+M/MzMzMzMz4z8zMzMzMzPjPzMzMzMzM+M/MzMzMzMz4z8zMzMzMzPjPzMzMzMzM+M/MzMzMzMz4z8zMzMzMzPjPzMzMzMzM+M/MzMzMzMz4z8zMzMzMzPjPzMzMzMzM+M/ZmZmZmZm5j9mZmZmZmbmP2ZmZmZmZuY/ZmZmZmZm5j9mZmZmZmbmP5qZmZmZmek/mpmZmZmZ6T+amZmZmZnpP5qZmZmZmek/mpmZmZmZ6T+amZmZmZnpP5qZmZmZmek/mpmZmZmZ6T+amZmZmZnpP5qZmZmZmek/mpmZmZmZ6T+amZmZmZnpP5qZmZmZmek/mpmZmZmZ6T+amZmZmZnpP83MzMzMzOw/zczMzMzM7D/NzMzMzMzsP83MzMzMzOw/AAAAAAAA8D8AAAAAAADwPwAAAAAAAPA/AAAAAAAA8D8AAAAAAADwPwAAAAAAAPA/AAAAAAAA8D8AAAAAAADwPwAAAAAAAPA/AAAAAAAA8D8AAAAAAADwPwAAAAAAAPA/AAAAAAAA8D8AAAAAAADwPwAAAAAAAPA/AAAAAAAA8D8AAAAAAADwPwAAAAAAAPA/AAAAAAAA8D8AAAAAAADwPwAAAAAAAPA/AAAAAAAA8D8AAAAAAADwPwAAAAAAAPA/AAAAAAAA8D8AAAAAAADwPwAAAAAAAPA/AAAAAAAA8D8AAAAAAADwPwAAAAAAAPA/AAAAAAAA8D8AAAAAAADwPwAAAAAAAPA/AAAAAAAA8D8AAAAAAADwPwAAAAAAAPA/AAAAAAAA8D8AAAAAAADwPwAAAAAAAPA/AAAAAAAA8D8AAAAAAADwPwAAAAAAAPA/AAAAAAAA8D8AAAAAAADwPwAAAAAAAPA/AAAAAAAA8D8AAAAAAADwPwAAAAAAAPA/AAAAAAAA8D8AAAAAAADwPwAAAAAAAPA/AAAAAAAA8D8AAAAAAADwPwAAAAAAAPA/AAAAAAAA8D8AAAAAAADwPwAAAAAAAPA/AAAAAAAA8D8AAAAAAADwPwAAAAAAAPA/AAAAAAAA8D8AAAAAAADwPwAAAAAAAPA/AAAAAAAA8D8AAAAAAADwPwAAAAAAAPA/AAAAAAAA8D8AAAAAAADwPwAAAAAAAPA/AAAAAAAA8D8AAAAAAADwPwAAAAAAAPA/AAAAAAAA8D8AAAAAAADwPwAAAAAAAPA/AAAAAAAA8D8AAAAAAADwPwAAAAAAAPA/AAAAAAAA8D8AAAAAAADwPwAAAAAAAPA/AAAAAAAA8D8AAAAAAADwP5qZmZmZmfE/mpmZmZmZ8T+amZmZmZnxP5qZmZmZmfE/MzMzMzMz8z8zMzMzMzPzPzMzMzMzM/M/MzMzMzMz8z8zMzMzMzPzPzMzMzMzM/M/MzMzMzMz8z8zMzMzMzPzPzMzMzMzM/M/MzMzMzMz8z8zMzMzMzPzPzMzMzMzM/M/MzMzMzMz8z8zMzMzMzPzPzMzMzMzM/M/MzMzMzMz8z8zMzMzMzPzP83MzMzMzPQ/zczMzMzM9D/NzMzMzMz0P83MzMzMzPQ/zczMzMzM9D9mZmZmZmb2P2ZmZmZmZvY/ZmZmZmZm9j9mZmZmZmb2P2ZmZmZmZvY/ZmZmZmZm9j9mZmZmZmb2P2ZmZmZmZvY/ZmZmZmZm9j9mZmZmZmb2P2ZmZmZmZvY/ZmZmZmZm9j9mZmZmZmb2P2ZmZmZmZvY/ZmZmZmZm9j8AAAAAAAD4PwAAAAAAAPg/AAAAAAAA+D8AAAAAAAD4PwAAAAAAAPg/AAAAAAAA+D8AAAAAAAD4PwAAAAAAAPg/AAAAAAAA+D8AAAAAAAD4PwAAAAAAAPg/AAAAAAAA+D8AAAAAAAD4PwAAAAAAAPg/AAAAAAAA+D8AAAAAAAD4PwAAAAAAAPg/AAAAAAAA+D8AAAAAAAD4PwAAAAAAAPg/AAAAAAAA+D8AAAAAAAD4PwAAAAAAAPg/AAAAAAAA+D8AAAAAAAD4PwAAAAAAAPg/AAAAAAAA+D8AAAAAAAD4PwAAAAAAAPg/AAAAAAAA+D8AAAAAAAD4PwAAAAAAAPg/AAAAAAAA+D8AAAAAAAD4PwAAAAAAAPg/AAAAAAAA+D8AAAAAAAD4PwAAAAAAAPg/AAAAAAAA+D8AAAAAAAD4PwAAAAAAAPg/AAAAAAAA+D8AAAAAAAD4PwAAAAAAAPg/AAAAAAAA+D8AAAAAAAD4PwAAAAAAAPg/AAAAAAAA+D+amZmZmZn5P5qZmZmZmfk/mpmZmZmZ+T+amZmZmZn5P5qZmZmZmfk/mpmZmZmZ+T+amZmZmZn5P5qZmZmZmfk/mpmZmZmZ+T+amZmZmZn5P5qZmZmZmfk/mpmZmZmZ+T+amZmZmZn5P5qZmZmZmfk/MzMzMzMz+z8zMzMzMzP7P83MzMzMzPw/zczMzMzM/D/NzMzMzMz8P83MzMzMzPw/zczMzMzM/D/NzMzMzMz8P83MzMzMzPw/zczMzMzM/D/NzMzMzMz8P83MzMzMzPw/zczMzMzM/D/NzMzMzMz8P2ZmZmZmZv4/ZmZmZmZm/j9mZmZmZmb+P2ZmZmZmZv4/ZmZmZmZm/j8AAAAAAAAAQAAAAAAAAABAAAAAAAAAAEAAAAAAAAAAQAAAAAAAAABAAAAAAAAAAEAAAAAAAAAAQAAAAAAAAABAAAAAAAAAAEAAAAAAAAAAQAAAAAAAAABAAAAAAAAAAEAAAAAAAAAAQAAAAAAAAABAAAAAAAAAAEAAAAAAAAAAQAAAAAAAAABAAAAAAAAAAEAAAAAAAAAAQAAAAAAAAABAAAAAAAAAAEAAAAAAAAAAQAAAAAAAAABAAAAAAAAAAEAAAAAAAAAAQAAAAAAAAABAAAAAAAAAAEAAAAAAAAAAQAAAAAAAAABAAAAAAAAAAEAAAAAAAAAAQAAAAAAAAABAAAAAAAAAAEAAAAAAAAAAQAAAAAAAAABAAAAAAAAAAEAAAAAAAAAAQAAAAAAAAABAAAAAAAAAAEAAAAAAAAAAQAAAAAAAAABAAAAAAAAAAEAAAAAAAAAAQAAAAAAAAABAAAAAAAAAAEAAAAAAAAAAQAAAAAAAAABAAAAAAAAAAEAAAAAAAAAAQAAAAAAAAABAAAAAAAAAAEAAAAAAAAAAQAAAAAAAAABAAAAAAAAAAEAAAAAAAAAAQAAAAAAAAABAAAAAAAAAAEAAAAAAAAAAQAAAAAAAAABAAAAAAAAAAEAAAAAAAAAAQAAAAAAAAABAAAAAAAAAAEAAAAAAAAAAQAAAAAAAAABAAAAAAAAAAEAAAAAAAAAAQAAAAAAAAABAAAAAAAAAAEAAAAAAAAAAQAAAAAAAAABAAAAAAAAAAEAAAAAAAAAAQAAAAAAAAABAAAAAAAAAAEAAAAAAAAAAQM3MzMzMzABAzczMzMzMAECamZmZmZkBQJqZmZmZmQFAmpmZmZmZAUCamZmZmZkBQJqZmZmZmQFAZmZmZmZmAkBmZmZmZmYCQDMzMzMzMwNAMzMzMzMzA0AzMzMzMzMDQDMzMzMzMwNAAAAAAAAABEAAAAAAAAAEQAAAAAAAAARAAAAAAAAABEAAAAAAAAAEQAAAAAAAAARAAAAAAAAABEAAAAAAAAAEQAAAAAAAAARAAAAAAAAABEAAAAAAAAAEQAAAAAAAAARAAAAAAAAABEAAAAAAAAAEQAAAAAAAAARAAAAAAAAABEDNzMzMzMwEQM3MzMzMzARAzczMzMzMBEDNzMzMzMwEQM3MzMzMzARAzczMzMzMBEDNzMzMzMwEQGZmZmZmZgZAZmZmZmZmBkBmZmZmZmYGQGZmZmZmZgZAZmZmZmZmBkBmZmZmZmYGQGZmZmZmZgZAMzMzMzMzB0AAAAAAAAAIQAAAAAAAAAhAAAAAAAAACEAAAAAAAAAIQAAAAAAAAAhAAAAAAAAACEAAAAAAAAAIQAAAAAAAAAhAAAAAAAAACEAAAAAAAAAIQAAAAAAAAAhAAAAAAAAACEAAAAAAAAAIQAAAAAAAAAhAAAAAAAAACEAAAAAAAAAIQAAAAAAAAAhAAAAAAAAACEAAAAAAAAAIQAAAAAAAAAhAAAAAAAAACEAAAAAAAAAIQAAAAAAAAAhAAAAAAAAACEAAAAAAAAAIQAAAAAAAAAhAAAAAAAAACEAAAAAAAAAIQM3MzMzMzAhAmpmZmZmZCUCamZmZmZkJQDMzMzMzMwtAMzMzMzMzC0AzMzMzMzMLQAAAAAAAAAxAAAAAAAAADEDNzMzMzMwMQM3MzMzMzAxAzczMzMzMDEDNzMzMzMwMQJqZmZmZmQ1AZmZmZmZmDkAAAAAAAAAQQAAAAAAAABBAAAAAAAAAEEAAAAAAAAAQQAAAAAAAABBAAAAAAAAAEEAAAAAAAAAQQAAAAAAAABBAzczMzMzMEEDNzMzMzMwQQJqZmZmZmRFAAAAAAAAAFEBmZmZmZmYWQM3MzMzMzBhA",
          "dtype": "f8"
         },
         "yaxis": "y3"
        },
        {
         "name": "Violin Plot",
         "type": "violin",
         "xaxis": "x4",
         "y": {
          "bdata": "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",
          "dtype": "f8"
         },
         "yaxis": "y4"
        }
       ],
       "layout": {
        "annotations": [
         {
          "font": {
           "size": 16
          },
          "showarrow": false,
          "text": "Distribution",
          "x": 0.225,
          "xanchor": "center",
          "xref": "paper",
          "y": 1,
          "yanchor": "bottom",
          "yref": "paper"
         },
         {
          "font": {
           "size": 16
          },
          "showarrow": false,
          "text": "Box Plot",
          "x": 0.775,
          "xanchor": "center",
          "xref": "paper",
          "y": 1,
          "yanchor": "bottom",
          "yref": "paper"
         },
         {
          "font": {
           "size": 16
          },
          "showarrow": false,
          "text": "Q-Q Plot",
          "x": 0.225,
          "xanchor": "center",
          "xref": "paper",
          "y": 0.375,
          "yanchor": "bottom",
          "yref": "paper"
         },
         {
          "font": {
           "size": 16
          },
          "showarrow": false,
          "text": "Violin Plot",
          "x": 0.775,
          "xanchor": "center",
          "xref": "paper",
          "y": 0.375,
          "yanchor": "bottom",
          "yref": "paper"
         }
        ],
        "height": 800,
        "showlegend": false,
        "template": {
         "data": {
          "bar": [
           {
            "error_x": {
             "color": "#2a3f5f"
            },
            "error_y": {
             "color": "#2a3f5f"
            },
            "marker": {
             "line": {
              "color": "#E5ECF6",
              "width": 0.5
             },
             "pattern": {
              "fillmode": "overlay",
              "size": 10,
              "solidity": 0.2
             }
            },
            "type": "bar"
           }
          ],
          "barpolar": [
           {
            "marker": {
             "line": {
              "color": "#E5ECF6",
              "width": 0.5
             },
             "pattern": {
              "fillmode": "overlay",
              "size": 10,
              "solidity": 0.2
             }
            },
            "type": "barpolar"
           }
          ],
          "carpet": [
           {
            "aaxis": {
             "endlinecolor": "#2a3f5f",
             "gridcolor": "white",
             "linecolor": "white",
             "minorgridcolor": "white",
             "startlinecolor": "#2a3f5f"
            },
            "baxis": {
             "endlinecolor": "#2a3f5f",
             "gridcolor": "white",
             "linecolor": "white",
             "minorgridcolor": "white",
             "startlinecolor": "#2a3f5f"
            },
            "type": "carpet"
           }
          ],
          "choropleth": [
           {
            "colorbar": {
             "outlinewidth": 0,
             "ticks": ""
            },
            "type": "choropleth"
           }
          ],
          "contour": [
           {
            "colorbar": {
             "outlinewidth": 0,
             "ticks": ""
            },
            "colorscale": [
             [
              0,
              "#0d0887"
             ],
             [
              0.1111111111111111,
              "#46039f"
             ],
             [
              0.2222222222222222,
              "#7201a8"
             ],
             [
              0.3333333333333333,
              "#9c179e"
             ],
             [
              0.4444444444444444,
              "#bd3786"
             ],
             [
              0.5555555555555556,
              "#d8576b"
             ],
             [
              0.6666666666666666,
              "#ed7953"
             ],
             [
              0.7777777777777778,
              "#fb9f3a"
             ],
             [
              0.8888888888888888,
              "#fdca26"
             ],
             [
              1,
              "#f0f921"
             ]
            ],
            "type": "contour"
           }
          ],
          "contourcarpet": [
           {
            "colorbar": {
             "outlinewidth": 0,
             "ticks": ""
            },
            "type": "contourcarpet"
           }
          ],
          "heatmap": [
           {
            "colorbar": {
             "outlinewidth": 0,
             "ticks": ""
            },
            "colorscale": [
             [
              0,
              "#0d0887"
             ],
             [
              0.1111111111111111,
              "#46039f"
             ],
             [
              0.2222222222222222,
              "#7201a8"
             ],
             [
              0.3333333333333333,
              "#9c179e"
             ],
             [
              0.4444444444444444,
              "#bd3786"
             ],
             [
              0.5555555555555556,
              "#d8576b"
             ],
             [
              0.6666666666666666,
              "#ed7953"
             ],
             [
              0.7777777777777778,
              "#fb9f3a"
             ],
             [
              0.8888888888888888,
              "#fdca26"
             ],
             [
              1,
              "#f0f921"
             ]
            ],
            "type": "heatmap"
           }
          ],
          "histogram": [
           {
            "marker": {
             "pattern": {
              "fillmode": "overlay",
              "size": 10,
              "solidity": 0.2
             }
            },
            "type": "histogram"
           }
          ],
          "histogram2d": [
           {
            "colorbar": {
             "outlinewidth": 0,
             "ticks": ""
            },
            "colorscale": [
             [
              0,
              "#0d0887"
             ],
             [
              0.1111111111111111,
              "#46039f"
             ],
             [
              0.2222222222222222,
              "#7201a8"
             ],
             [
              0.3333333333333333,
              "#9c179e"
             ],
             [
              0.4444444444444444,
              "#bd3786"
             ],
             [
              0.5555555555555556,
              "#d8576b"
             ],
             [
              0.6666666666666666,
              "#ed7953"
             ],
             [
              0.7777777777777778,
              "#fb9f3a"
             ],
             [
              0.8888888888888888,
              "#fdca26"
             ],
             [
              1,
              "#f0f921"
             ]
            ],
            "type": "histogram2d"
           }
          ],
          "histogram2dcontour": [
           {
            "colorbar": {
             "outlinewidth": 0,
             "ticks": ""
            },
            "colorscale": [
             [
              0,
              "#0d0887"
             ],
             [
              0.1111111111111111,
              "#46039f"
             ],
             [
              0.2222222222222222,
              "#7201a8"
             ],
             [
              0.3333333333333333,
              "#9c179e"
             ],
             [
              0.4444444444444444,
              "#bd3786"
             ],
             [
              0.5555555555555556,
              "#d8576b"
             ],
             [
              0.6666666666666666,
              "#ed7953"
             ],
             [
              0.7777777777777778,
              "#fb9f3a"
             ],
             [
              0.8888888888888888,
              "#fdca26"
             ],
             [
              1,
              "#f0f921"
             ]
            ],
            "type": "histogram2dcontour"
           }
          ],
          "mesh3d": [
           {
            "colorbar": {
             "outlinewidth": 0,
             "ticks": ""
            },
            "type": "mesh3d"
           }
          ],
          "parcoords": [
           {
            "line": {
             "colorbar": {
              "outlinewidth": 0,
              "ticks": ""
             }
            },
            "type": "parcoords"
           }
          ],
          "pie": [
           {
            "automargin": true,
            "type": "pie"
           }
          ],
          "scatter": [
           {
            "fillpattern": {
             "fillmode": "overlay",
             "size": 10,
             "solidity": 0.2
            },
            "type": "scatter"
           }
          ],
          "scatter3d": [
           {
            "line": {
             "colorbar": {
              "outlinewidth": 0,
              "ticks": ""
             }
            },
            "marker": {
             "colorbar": {
              "outlinewidth": 0,
              "ticks": ""
             }
            },
            "type": "scatter3d"
           }
          ],
          "scattercarpet": [
           {
            "marker": {
             "colorbar": {
              "outlinewidth": 0,
              "ticks": ""
             }
            },
            "type": "scattercarpet"
           }
          ],
          "scattergeo": [
           {
            "marker": {
             "colorbar": {
              "outlinewidth": 0,
              "ticks": ""
             }
            },
            "type": "scattergeo"
           }
          ],
          "scattergl": [
           {
            "marker": {
             "colorbar": {
              "outlinewidth": 0,
              "ticks": ""
             }
            },
            "type": "scattergl"
           }
          ],
          "scattermap": [
           {
            "marker": {
             "colorbar": {
              "outlinewidth": 0,
              "ticks": ""
             }
            },
            "type": "scattermap"
           }
          ],
          "scattermapbox": [
           {
            "marker": {
             "colorbar": {
              "outlinewidth": 0,
              "ticks": ""
             }
            },
            "type": "scattermapbox"
           }
          ],
          "scatterpolar": [
           {
            "marker": {
             "colorbar": {
              "outlinewidth": 0,
              "ticks": ""
             }
            },
            "type": "scatterpolar"
           }
          ],
          "scatterpolargl": [
           {
            "marker": {
             "colorbar": {
              "outlinewidth": 0,
              "ticks": ""
             }
            },
            "type": "scatterpolargl"
           }
          ],
          "scatterternary": [
           {
            "marker": {
             "colorbar": {
              "outlinewidth": 0,
              "ticks": ""
             }
            },
            "type": "scatterternary"
           }
          ],
          "surface": [
           {
            "colorbar": {
             "outlinewidth": 0,
             "ticks": ""
            },
            "colorscale": [
             [
              0,
              "#0d0887"
             ],
             [
              0.1111111111111111,
              "#46039f"
             ],
             [
              0.2222222222222222,
              "#7201a8"
             ],
             [
              0.3333333333333333,
              "#9c179e"
             ],
             [
              0.4444444444444444,
              "#bd3786"
             ],
             [
              0.5555555555555556,
              "#d8576b"
             ],
             [
              0.6666666666666666,
              "#ed7953"
             ],
             [
              0.7777777777777778,
              "#fb9f3a"
             ],
             [
              0.8888888888888888,
              "#fdca26"
             ],
             [
              1,
              "#f0f921"
             ]
            ],
            "type": "surface"
           }
          ],
          "table": [
           {
            "cells": {
             "fill": {
              "color": "#EBF0F8"
             },
             "line": {
              "color": "white"
             }
            },
            "header": {
             "fill": {
              "color": "#C8D4E3"
             },
             "line": {
              "color": "white"
             }
            },
            "type": "table"
           }
          ]
         },
         "layout": {
          "annotationdefaults": {
           "arrowcolor": "#2a3f5f",
           "arrowhead": 0,
           "arrowwidth": 1
          },
          "autotypenumbers": "strict",
          "coloraxis": {
           "colorbar": {
            "outlinewidth": 0,
            "ticks": ""
           }
          },
          "colorscale": {
           "diverging": [
            [
             0,
             "#8e0152"
            ],
            [
             0.1,
             "#c51b7d"
            ],
            [
             0.2,
             "#de77ae"
            ],
            [
             0.3,
             "#f1b6da"
            ],
            [
             0.4,
             "#fde0ef"
            ],
            [
             0.5,
             "#f7f7f7"
            ],
            [
             0.6,
             "#e6f5d0"
            ],
            [
             0.7,
             "#b8e186"
            ],
            [
             0.8,
             "#7fbc41"
            ],
            [
             0.9,
             "#4d9221"
            ],
            [
             1,
             "#276419"
            ]
           ],
           "sequential": [
            [
             0,
             "#0d0887"
            ],
            [
             0.1111111111111111,
             "#46039f"
            ],
            [
             0.2222222222222222,
             "#7201a8"
            ],
            [
             0.3333333333333333,
             "#9c179e"
            ],
            [
             0.4444444444444444,
             "#bd3786"
            ],
            [
             0.5555555555555556,
             "#d8576b"
            ],
            [
             0.6666666666666666,
             "#ed7953"
            ],
            [
             0.7777777777777778,
             "#fb9f3a"
            ],
            [
             0.8888888888888888,
             "#fdca26"
            ],
            [
             1,
             "#f0f921"
            ]
           ],
           "sequentialminus": [
            [
             0,
             "#0d0887"
            ],
            [
             0.1111111111111111,
             "#46039f"
            ],
            [
             0.2222222222222222,
             "#7201a8"
            ],
            [
             0.3333333333333333,
             "#9c179e"
            ],
            [
             0.4444444444444444,
             "#bd3786"
            ],
            [
             0.5555555555555556,
             "#d8576b"
            ],
            [
             0.6666666666666666,
             "#ed7953"
            ],
            [
             0.7777777777777778,
             "#fb9f3a"
            ],
            [
             0.8888888888888888,
             "#fdca26"
            ],
            [
             1,
             "#f0f921"
            ]
           ]
          },
          "colorway": [
           "#636efa",
           "#EF553B",
           "#00cc96",
           "#ab63fa",
           "#FFA15A",
           "#19d3f3",
           "#FF6692",
           "#B6E880",
           "#FF97FF",
           "#FECB52"
          ],
          "font": {
           "color": "#2a3f5f"
          },
          "geo": {
           "bgcolor": "white",
           "lakecolor": "white",
           "landcolor": "#E5ECF6",
           "showlakes": true,
           "showland": true,
           "subunitcolor": "white"
          },
          "hoverlabel": {
           "align": "left"
          },
          "hovermode": "closest",
          "mapbox": {
           "style": "light"
          },
          "paper_bgcolor": "white",
          "plot_bgcolor": "#E5ECF6",
          "polar": {
           "angularaxis": {
            "gridcolor": "white",
            "linecolor": "white",
            "ticks": ""
           },
           "bgcolor": "#E5ECF6",
           "radialaxis": {
            "gridcolor": "white",
            "linecolor": "white",
            "ticks": ""
           }
          },
          "scene": {
           "xaxis": {
            "backgroundcolor": "#E5ECF6",
            "gridcolor": "white",
            "gridwidth": 2,
            "linecolor": "white",
            "showbackground": true,
            "ticks": "",
            "zerolinecolor": "white"
           },
           "yaxis": {
            "backgroundcolor": "#E5ECF6",
            "gridcolor": "white",
            "gridwidth": 2,
            "linecolor": "white",
            "showbackground": true,
            "ticks": "",
            "zerolinecolor": "white"
           },
           "zaxis": {
            "backgroundcolor": "#E5ECF6",
            "gridcolor": "white",
            "gridwidth": 2,
            "linecolor": "white",
            "showbackground": true,
            "ticks": "",
            "zerolinecolor": "white"
           }
          },
          "shapedefaults": {
           "line": {
            "color": "#2a3f5f"
           }
          },
          "ternary": {
           "aaxis": {
            "gridcolor": "white",
            "linecolor": "white",
            "ticks": ""
           },
           "baxis": {
            "gridcolor": "white",
            "linecolor": "white",
            "ticks": ""
           },
           "bgcolor": "#E5ECF6",
           "caxis": {
            "gridcolor": "white",
            "linecolor": "white",
            "ticks": ""
           }
          },
          "title": {
           "x": 0.05
          },
          "xaxis": {
           "automargin": true,
           "gridcolor": "white",
           "linecolor": "white",
           "ticks": "",
           "title": {
            "standoff": 15
           },
           "zerolinecolor": "white",
           "zerolinewidth": 2
          },
          "yaxis": {
           "automargin": true,
           "gridcolor": "white",
           "linecolor": "white",
           "ticks": "",
           "title": {
            "standoff": 15
           },
           "zerolinecolor": "white",
           "zerolinewidth": 2
          }
         }
        },
        "title": {
         "text": "EDA for oldpeak"
        },
        "xaxis": {
         "anchor": "y",
         "domain": [
          0,
          0.45
         ]
        },
        "xaxis2": {
         "anchor": "y2",
         "domain": [
          0.55,
          1
         ]
        },
        "xaxis3": {
         "anchor": "y3",
         "domain": [
          0,
          0.45
         ]
        },
        "xaxis4": {
         "anchor": "y4",
         "domain": [
          0.55,
          1
         ]
        },
        "yaxis": {
         "anchor": "x",
         "domain": [
          0.625,
          1
         ]
        },
        "yaxis2": {
         "anchor": "x2",
         "domain": [
          0.625,
          1
         ]
        },
        "yaxis3": {
         "anchor": "x3",
         "domain": [
          0,
          0.375
         ]
        },
        "yaxis4": {
         "anchor": "x4",
         "domain": [
          0,
          0.375
         ]
        }
       }
      }
     },
     "metadata": {},
     "output_type": "display_data"
    },
    {
     "name": "stdout",
     "output_type": "stream",
     "text": [
      "Column: ca\n",
      "\n",
      "Basic Statistics:\n",
      "count: 309\n",
      "missing: 611\n",
      "mean: 0.68\n",
      "median: 0.0\n",
      "std: 0.94\n",
      "min: 0.0\n",
      "max: 3.0\n",
      "skew: 1.17\n",
      "kurtosis: 0.2\n",
      "\n",
      "Outliers: 20 found\n",
      "Outlier bounds: [-1.50, 2.50]\n"
     ]
    },
    {
     "data": {
      "application/vnd.plotly.v1+json": {
       "config": {
        "plotlyServerURL": "https://plot.ly"
       },
       "data": [
        {
         "name": "Histogram",
         "nbinsx": 30,
         "type": "histogram",
         "x": {
          "bdata": "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",
          "dtype": "f8"
         },
         "xaxis": "x",
         "yaxis": "y"
        },
        {
         "name": "Box Plot",
         "type": "box",
         "xaxis": "x2",
         "y": {
          "bdata": "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",
          "dtype": "f8"
         },
         "yaxis": "y2"
        },
        {
         "mode": "markers",
         "name": "Q-Q Plot",
         "type": "scatter",
         "x": {
          "bdata": "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",
          "dtype": "f8"
         },
         "xaxis": "x3",
         "y": {
          "bdata": "AAAAAAAAAAAAAAAAAAAAAAAAAAAAAAAAAAAAAAAAAAAAAAAAAAAAAAAAAAAAAAAAAAAAAAAAAAAAAAAAAAAAAAAAAAAAAAAAAAAAAAAAAAAAAAAAAAAAAAAAAAAAAAAAAAAAAAAAAAAAAAAAAAAAAAAAAAAAAAAAAAAAAAAAAAAAAAAAAAAAAAAAAAAAAAAAAAAAAAAAAAAAAAAAAAAAAAAAAAAAAAAAAAAAAAAAAAAAAAAAAAAAAAAAAAAAAAAAAAAAAAAAAAAAAAAAAAAAAAAAAAAAAAAAAAAAAAAAAAAAAAAAAAAAAAAAAAAAAAAAAAAAAAAAAAAAAAAAAAAAAAAAAAAAAAAAAAAAAAAAAAAAAAAAAAAAAAAAAAAAAAAAAAAAAAAAAAAAAAAAAAAAAAAAAAAAAAAAAAAAAAAAAAAAAAAAAAAAAAAAAAAAAAAAAAAAAAAAAAAAAAAAAAAAAAAAAAAAAAAAAAAAAAAAAAAAAAAAAAAAAAAAAAAAAAAAAAAAAAAAAAAAAAAAAAAAAAAAAAAAAAAAAAAAAAAAAAAAAAAAAAAAAAAAAAAAAAAAAAAAAAAAAAAAAAAAAAAAAAAAAAAAAAAAAAAAAAAAAAAAAAAAAAAAAAAAAAAAAAAAAAAAAAAAAAAAAAAAAAAAAAAAAAAAAAAAAAAAAAAAAAAAAAAAAAAAAAAAAAAAAAAAAAAAAAAAAAAAAAAAAAAAAAAAAAAAAAAAAAAAAAAAAAAAAAAAAAAAAAAAAAAAAAAAAAAAAAAAAAAAAAAAAAAAAAAAAAAAAAAAAAAAAAAAAAAAAAAAAAAAAAAAAAAAAAAAAAAAAAAAAAAAAAAAAAAAAAAAAAAAAAAAAAAAAAAAAAAAAAAAAAAAAAAAAAAAAAAAAAAAAAAAAAAAAAAAAAAAAAAAAAAAAAAAAAAAAAAAAAAAAAAAAAAAAAAAAAAAAAAAAAAAAAAAAAAAAAAAAAAAAAAAAAAAAAAAAAAAAAAAAAAAAAAAAAAAAAAAAAAAAAAAAAAAAAAAAAAAAAAAAAAAAAAAAAAAAAAAAAAAAAAAAAAAAAAAAAAAAAAAAAAAAAAAAAAAAAAAAAAAAAAAAAAAAAAAAAAAAAAAAAAAAAAAAAAAAAAAAAAAAAAAAAAAAAAAAAAAAAAAAAAAAAAAAAAAAAAAAAAAAAAAAAAAAAAAAAAAAAAAAAAAAAAAAAAAAAAAAAAAAAAAAAAAAAAAAAAAAAAAAAAAAAAAAAAAAAAAAAAAAAAAAAAAAAAAAAAAAAAAAAAAAAAAAAAAAAAAAAAAAAAAAAAAAAAAAAAAAAAAAAAAAAAAAAAAAAAAAAAAAAAAAAAAAAAAAAAAAAAAAAAAAAAAAAAAAAAAAAAAAAAAAAAAAAAAAAAAAAAAAAAAAAAAAAAAAAAAAAAAAAAAAAAAAAAAAAAAAAAAAAAAAAAAAAAAAAAAAAAAAAAAAAAAAAAAAAAAAAAAAAAAAAAAAAAAAAAAAAAAAAAAAAAAAAAAAAAAAAAAAAAAAAAAAAAAAAAAAAAAAAAAAAAAAAAAAAAAAAAAAAAAAAAAAAAAAAAAAAAAAAAAAAAAAAAAAAAAAAAAAAAAAAAAAAAAAAAAAAAAAAAAAAAAAAAAAAAAAAAAAAAAAAAAAAAAAAAAAAAAAAAAAAAAAAAAAAAAAAAAAAAAAAAAAAAAAAAAAAAAAAAAAAAAAAAAAAAAAAAAAAAAAAAAAAAAAAAAAAAAAAAAAAAAAAAAAAAAAAAAAAAAAAAAAAAAAAAAAAAAAAAAAAAAAAAAAAAAAAAAAAAAAAAAAAAAAAAAAAAAAAAAAAAAAAAAAAAAAAAAAAAAAAAAAAAAAAAAAAAAAAAAAAAAAAAAAAAAAAAAAAAAAAAAAAAAAAAAAAAAAAAAAAAAAAAAAAAAAAAAAAAAAAAAAAAAAAAAAADwPwAAAAAAAPA/AAAAAAAA8D8AAAAAAADwPwAAAAAAAPA/AAAAAAAA8D8AAAAAAADwPwAAAAAAAPA/AAAAAAAA8D8AAAAAAADwPwAAAAAAAPA/AAAAAAAA8D8AAAAAAADwPwAAAAAAAPA/AAAAAAAA8D8AAAAAAADwPwAAAAAAAPA/AAAAAAAA8D8AAAAAAADwPwAAAAAAAPA/AAAAAAAA8D8AAAAAAADwPwAAAAAAAPA/AAAAAAAA8D8AAAAAAADwPwAAAAAAAPA/AAAAAAAA8D8AAAAAAADwPwAAAAAAAPA/AAAAAAAA8D8AAAAAAADwPwAAAAAAAPA/AAAAAAAA8D8AAAAAAADwPwAAAAAAAPA/AAAAAAAA8D8AAAAAAADwPwAAAAAAAPA/AAAAAAAA8D8AAAAAAADwPwAAAAAAAPA/AAAAAAAA8D8AAAAAAADwPwAAAAAAAPA/AAAAAAAA8D8AAAAAAADwPwAAAAAAAPA/AAAAAAAA8D8AAAAAAADwPwAAAAAAAPA/AAAAAAAA8D8AAAAAAADwPwAAAAAAAPA/AAAAAAAA8D8AAAAAAADwPwAAAAAAAPA/AAAAAAAA8D8AAAAAAADwPwAAAAAAAPA/AAAAAAAA8D8AAAAAAADwPwAAAAAAAPA/AAAAAAAA8D8AAAAAAADwPwAAAAAAAPA/AAAAAAAA8D8AAAAAAADwPwAAAAAAAABAAAAAAAAAAEAAAAAAAAAAQAAAAAAAAABAAAAAAAAAAEAAAAAAAAAAQAAAAAAAAABAAAAAAAAAAEAAAAAAAAAAQAAAAAAAAABAAAAAAAAAAEAAAAAAAAAAQAAAAAAAAABAAAAAAAAAAEAAAAAAAAAAQAAAAAAAAABAAAAAAAAAAEAAAAAAAAAAQAAAAAAAAABAAAAAAAAAAEAAAAAAAAAAQAAAAAAAAABAAAAAAAAAAEAAAAAAAAAAQAAAAAAAAABAAAAAAAAAAEAAAAAAAAAAQAAAAAAAAABAAAAAAAAAAEAAAAAAAAAAQAAAAAAAAABAAAAAAAAAAEAAAAAAAAAAQAAAAAAAAABAAAAAAAAAAEAAAAAAAAAAQAAAAAAAAABAAAAAAAAAAEAAAAAAAAAAQAAAAAAAAABAAAAAAAAAAEAAAAAAAAAIQAAAAAAAAAhAAAAAAAAACEAAAAAAAAAIQAAAAAAAAAhAAAAAAAAACEAAAAAAAAAIQAAAAAAAAAhAAAAAAAAACEAAAAAAAAAIQAAAAAAAAAhAAAAAAAAACEAAAAAAAAAIQAAAAAAAAAhAAAAAAAAACEAAAAAAAAAIQAAAAAAAAAhAAAAAAAAACEAAAAAAAAAIQAAAAAAAAAhA",
          "dtype": "f8"
         },
         "yaxis": "y3"
        },
        {
         "name": "Violin Plot",
         "type": "violin",
         "xaxis": "x4",
         "y": {
          "bdata": "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",
          "dtype": "f8"
         },
         "yaxis": "y4"
        }
       ],
       "layout": {
        "annotations": [
         {
          "font": {
           "size": 16
          },
          "showarrow": false,
          "text": "Distribution",
          "x": 0.225,
          "xanchor": "center",
          "xref": "paper",
          "y": 1,
          "yanchor": "bottom",
          "yref": "paper"
         },
         {
          "font": {
           "size": 16
          },
          "showarrow": false,
          "text": "Box Plot",
          "x": 0.775,
          "xanchor": "center",
          "xref": "paper",
          "y": 1,
          "yanchor": "bottom",
          "yref": "paper"
         },
         {
          "font": {
           "size": 16
          },
          "showarrow": false,
          "text": "Q-Q Plot",
          "x": 0.225,
          "xanchor": "center",
          "xref": "paper",
          "y": 0.375,
          "yanchor": "bottom",
          "yref": "paper"
         },
         {
          "font": {
           "size": 16
          },
          "showarrow": false,
          "text": "Violin Plot",
          "x": 0.775,
          "xanchor": "center",
          "xref": "paper",
          "y": 0.375,
          "yanchor": "bottom",
          "yref": "paper"
         }
        ],
        "height": 800,
        "showlegend": false,
        "template": {
         "data": {
          "bar": [
           {
            "error_x": {
             "color": "#2a3f5f"
            },
            "error_y": {
             "color": "#2a3f5f"
            },
            "marker": {
             "line": {
              "color": "#E5ECF6",
              "width": 0.5
             },
             "pattern": {
              "fillmode": "overlay",
              "size": 10,
              "solidity": 0.2
             }
            },
            "type": "bar"
           }
          ],
          "barpolar": [
           {
            "marker": {
             "line": {
              "color": "#E5ECF6",
              "width": 0.5
             },
             "pattern": {
              "fillmode": "overlay",
              "size": 10,
              "solidity": 0.2
             }
            },
            "type": "barpolar"
           }
          ],
          "carpet": [
           {
            "aaxis": {
             "endlinecolor": "#2a3f5f",
             "gridcolor": "white",
             "linecolor": "white",
             "minorgridcolor": "white",
             "startlinecolor": "#2a3f5f"
            },
            "baxis": {
             "endlinecolor": "#2a3f5f",
             "gridcolor": "white",
             "linecolor": "white",
             "minorgridcolor": "white",
             "startlinecolor": "#2a3f5f"
            },
            "type": "carpet"
           }
          ],
          "choropleth": [
           {
            "colorbar": {
             "outlinewidth": 0,
             "ticks": ""
            },
            "type": "choropleth"
           }
          ],
          "contour": [
           {
            "colorbar": {
             "outlinewidth": 0,
             "ticks": ""
            },
            "colorscale": [
             [
              0,
              "#0d0887"
             ],
             [
              0.1111111111111111,
              "#46039f"
             ],
             [
              0.2222222222222222,
              "#7201a8"
             ],
             [
              0.3333333333333333,
              "#9c179e"
             ],
             [
              0.4444444444444444,
              "#bd3786"
             ],
             [
              0.5555555555555556,
              "#d8576b"
             ],
             [
              0.6666666666666666,
              "#ed7953"
             ],
             [
              0.7777777777777778,
              "#fb9f3a"
             ],
             [
              0.8888888888888888,
              "#fdca26"
             ],
             [
              1,
              "#f0f921"
             ]
            ],
            "type": "contour"
           }
          ],
          "contourcarpet": [
           {
            "colorbar": {
             "outlinewidth": 0,
             "ticks": ""
            },
            "type": "contourcarpet"
           }
          ],
          "heatmap": [
           {
            "colorbar": {
             "outlinewidth": 0,
             "ticks": ""
            },
            "colorscale": [
             [
              0,
              "#0d0887"
             ],
             [
              0.1111111111111111,
              "#46039f"
             ],
             [
              0.2222222222222222,
              "#7201a8"
             ],
             [
              0.3333333333333333,
              "#9c179e"
             ],
             [
              0.4444444444444444,
              "#bd3786"
             ],
             [
              0.5555555555555556,
              "#d8576b"
             ],
             [
              0.6666666666666666,
              "#ed7953"
             ],
             [
              0.7777777777777778,
              "#fb9f3a"
             ],
             [
              0.8888888888888888,
              "#fdca26"
             ],
             [
              1,
              "#f0f921"
             ]
            ],
            "type": "heatmap"
           }
          ],
          "histogram": [
           {
            "marker": {
             "pattern": {
              "fillmode": "overlay",
              "size": 10,
              "solidity": 0.2
             }
            },
            "type": "histogram"
           }
          ],
          "histogram2d": [
           {
            "colorbar": {
             "outlinewidth": 0,
             "ticks": ""
            },
            "colorscale": [
             [
              0,
              "#0d0887"
             ],
             [
              0.1111111111111111,
              "#46039f"
             ],
             [
              0.2222222222222222,
              "#7201a8"
             ],
             [
              0.3333333333333333,
              "#9c179e"
             ],
             [
              0.4444444444444444,
              "#bd3786"
             ],
             [
              0.5555555555555556,
              "#d8576b"
             ],
             [
              0.6666666666666666,
              "#ed7953"
             ],
             [
              0.7777777777777778,
              "#fb9f3a"
             ],
             [
              0.8888888888888888,
              "#fdca26"
             ],
             [
              1,
              "#f0f921"
             ]
            ],
            "type": "histogram2d"
           }
          ],
          "histogram2dcontour": [
           {
            "colorbar": {
             "outlinewidth": 0,
             "ticks": ""
            },
            "colorscale": [
             [
              0,
              "#0d0887"
             ],
             [
              0.1111111111111111,
              "#46039f"
             ],
             [
              0.2222222222222222,
              "#7201a8"
             ],
             [
              0.3333333333333333,
              "#9c179e"
             ],
             [
              0.4444444444444444,
              "#bd3786"
             ],
             [
              0.5555555555555556,
              "#d8576b"
             ],
             [
              0.6666666666666666,
              "#ed7953"
             ],
             [
              0.7777777777777778,
              "#fb9f3a"
             ],
             [
              0.8888888888888888,
              "#fdca26"
             ],
             [
              1,
              "#f0f921"
             ]
            ],
            "type": "histogram2dcontour"
           }
          ],
          "mesh3d": [
           {
            "colorbar": {
             "outlinewidth": 0,
             "ticks": ""
            },
            "type": "mesh3d"
           }
          ],
          "parcoords": [
           {
            "line": {
             "colorbar": {
              "outlinewidth": 0,
              "ticks": ""
             }
            },
            "type": "parcoords"
           }
          ],
          "pie": [
           {
            "automargin": true,
            "type": "pie"
           }
          ],
          "scatter": [
           {
            "fillpattern": {
             "fillmode": "overlay",
             "size": 10,
             "solidity": 0.2
            },
            "type": "scatter"
           }
          ],
          "scatter3d": [
           {
            "line": {
             "colorbar": {
              "outlinewidth": 0,
              "ticks": ""
             }
            },
            "marker": {
             "colorbar": {
              "outlinewidth": 0,
              "ticks": ""
             }
            },
            "type": "scatter3d"
           }
          ],
          "scattercarpet": [
           {
            "marker": {
             "colorbar": {
              "outlinewidth": 0,
              "ticks": ""
             }
            },
            "type": "scattercarpet"
           }
          ],
          "scattergeo": [
           {
            "marker": {
             "colorbar": {
              "outlinewidth": 0,
              "ticks": ""
             }
            },
            "type": "scattergeo"
           }
          ],
          "scattergl": [
           {
            "marker": {
             "colorbar": {
              "outlinewidth": 0,
              "ticks": ""
             }
            },
            "type": "scattergl"
           }
          ],
          "scattermap": [
           {
            "marker": {
             "colorbar": {
              "outlinewidth": 0,
              "ticks": ""
             }
            },
            "type": "scattermap"
           }
          ],
          "scattermapbox": [
           {
            "marker": {
             "colorbar": {
              "outlinewidth": 0,
              "ticks": ""
             }
            },
            "type": "scattermapbox"
           }
          ],
          "scatterpolar": [
           {
            "marker": {
             "colorbar": {
              "outlinewidth": 0,
              "ticks": ""
             }
            },
            "type": "scatterpolar"
           }
          ],
          "scatterpolargl": [
           {
            "marker": {
             "colorbar": {
              "outlinewidth": 0,
              "ticks": ""
             }
            },
            "type": "scatterpolargl"
           }
          ],
          "scatterternary": [
           {
            "marker": {
             "colorbar": {
              "outlinewidth": 0,
              "ticks": ""
             }
            },
            "type": "scatterternary"
           }
          ],
          "surface": [
           {
            "colorbar": {
             "outlinewidth": 0,
             "ticks": ""
            },
            "colorscale": [
             [
              0,
              "#0d0887"
             ],
             [
              0.1111111111111111,
              "#46039f"
             ],
             [
              0.2222222222222222,
              "#7201a8"
             ],
             [
              0.3333333333333333,
              "#9c179e"
             ],
             [
              0.4444444444444444,
              "#bd3786"
             ],
             [
              0.5555555555555556,
              "#d8576b"
             ],
             [
              0.6666666666666666,
              "#ed7953"
             ],
             [
              0.7777777777777778,
              "#fb9f3a"
             ],
             [
              0.8888888888888888,
              "#fdca26"
             ],
             [
              1,
              "#f0f921"
             ]
            ],
            "type": "surface"
           }
          ],
          "table": [
           {
            "cells": {
             "fill": {
              "color": "#EBF0F8"
             },
             "line": {
              "color": "white"
             }
            },
            "header": {
             "fill": {
              "color": "#C8D4E3"
             },
             "line": {
              "color": "white"
             }
            },
            "type": "table"
           }
          ]
         },
         "layout": {
          "annotationdefaults": {
           "arrowcolor": "#2a3f5f",
           "arrowhead": 0,
           "arrowwidth": 1
          },
          "autotypenumbers": "strict",
          "coloraxis": {
           "colorbar": {
            "outlinewidth": 0,
            "ticks": ""
           }
          },
          "colorscale": {
           "diverging": [
            [
             0,
             "#8e0152"
            ],
            [
             0.1,
             "#c51b7d"
            ],
            [
             0.2,
             "#de77ae"
            ],
            [
             0.3,
             "#f1b6da"
            ],
            [
             0.4,
             "#fde0ef"
            ],
            [
             0.5,
             "#f7f7f7"
            ],
            [
             0.6,
             "#e6f5d0"
            ],
            [
             0.7,
             "#b8e186"
            ],
            [
             0.8,
             "#7fbc41"
            ],
            [
             0.9,
             "#4d9221"
            ],
            [
             1,
             "#276419"
            ]
           ],
           "sequential": [
            [
             0,
             "#0d0887"
            ],
            [
             0.1111111111111111,
             "#46039f"
            ],
            [
             0.2222222222222222,
             "#7201a8"
            ],
            [
             0.3333333333333333,
             "#9c179e"
            ],
            [
             0.4444444444444444,
             "#bd3786"
            ],
            [
             0.5555555555555556,
             "#d8576b"
            ],
            [
             0.6666666666666666,
             "#ed7953"
            ],
            [
             0.7777777777777778,
             "#fb9f3a"
            ],
            [
             0.8888888888888888,
             "#fdca26"
            ],
            [
             1,
             "#f0f921"
            ]
           ],
           "sequentialminus": [
            [
             0,
             "#0d0887"
            ],
            [
             0.1111111111111111,
             "#46039f"
            ],
            [
             0.2222222222222222,
             "#7201a8"
            ],
            [
             0.3333333333333333,
             "#9c179e"
            ],
            [
             0.4444444444444444,
             "#bd3786"
            ],
            [
             0.5555555555555556,
             "#d8576b"
            ],
            [
             0.6666666666666666,
             "#ed7953"
            ],
            [
             0.7777777777777778,
             "#fb9f3a"
            ],
            [
             0.8888888888888888,
             "#fdca26"
            ],
            [
             1,
             "#f0f921"
            ]
           ]
          },
          "colorway": [
           "#636efa",
           "#EF553B",
           "#00cc96",
           "#ab63fa",
           "#FFA15A",
           "#19d3f3",
           "#FF6692",
           "#B6E880",
           "#FF97FF",
           "#FECB52"
          ],
          "font": {
           "color": "#2a3f5f"
          },
          "geo": {
           "bgcolor": "white",
           "lakecolor": "white",
           "landcolor": "#E5ECF6",
           "showlakes": true,
           "showland": true,
           "subunitcolor": "white"
          },
          "hoverlabel": {
           "align": "left"
          },
          "hovermode": "closest",
          "mapbox": {
           "style": "light"
          },
          "paper_bgcolor": "white",
          "plot_bgcolor": "#E5ECF6",
          "polar": {
           "angularaxis": {
            "gridcolor": "white",
            "linecolor": "white",
            "ticks": ""
           },
           "bgcolor": "#E5ECF6",
           "radialaxis": {
            "gridcolor": "white",
            "linecolor": "white",
            "ticks": ""
           }
          },
          "scene": {
           "xaxis": {
            "backgroundcolor": "#E5ECF6",
            "gridcolor": "white",
            "gridwidth": 2,
            "linecolor": "white",
            "showbackground": true,
            "ticks": "",
            "zerolinecolor": "white"
           },
           "yaxis": {
            "backgroundcolor": "#E5ECF6",
            "gridcolor": "white",
            "gridwidth": 2,
            "linecolor": "white",
            "showbackground": true,
            "ticks": "",
            "zerolinecolor": "white"
           },
           "zaxis": {
            "backgroundcolor": "#E5ECF6",
            "gridcolor": "white",
            "gridwidth": 2,
            "linecolor": "white",
            "showbackground": true,
            "ticks": "",
            "zerolinecolor": "white"
           }
          },
          "shapedefaults": {
           "line": {
            "color": "#2a3f5f"
           }
          },
          "ternary": {
           "aaxis": {
            "gridcolor": "white",
            "linecolor": "white",
            "ticks": ""
           },
           "baxis": {
            "gridcolor": "white",
            "linecolor": "white",
            "ticks": ""
           },
           "bgcolor": "#E5ECF6",
           "caxis": {
            "gridcolor": "white",
            "linecolor": "white",
            "ticks": ""
           }
          },
          "title": {
           "x": 0.05
          },
          "xaxis": {
           "automargin": true,
           "gridcolor": "white",
           "linecolor": "white",
           "ticks": "",
           "title": {
            "standoff": 15
           },
           "zerolinecolor": "white",
           "zerolinewidth": 2
          },
          "yaxis": {
           "automargin": true,
           "gridcolor": "white",
           "linecolor": "white",
           "ticks": "",
           "title": {
            "standoff": 15
           },
           "zerolinecolor": "white",
           "zerolinewidth": 2
          }
         }
        },
        "title": {
         "text": "EDA for ca"
        },
        "xaxis": {
         "anchor": "y",
         "domain": [
          0,
          0.45
         ]
        },
        "xaxis2": {
         "anchor": "y2",
         "domain": [
          0.55,
          1
         ]
        },
        "xaxis3": {
         "anchor": "y3",
         "domain": [
          0,
          0.45
         ]
        },
        "xaxis4": {
         "anchor": "y4",
         "domain": [
          0.55,
          1
         ]
        },
        "yaxis": {
         "anchor": "x",
         "domain": [
          0.625,
          1
         ]
        },
        "yaxis2": {
         "anchor": "x2",
         "domain": [
          0.625,
          1
         ]
        },
        "yaxis3": {
         "anchor": "x3",
         "domain": [
          0,
          0.375
         ]
        },
        "yaxis4": {
         "anchor": "x4",
         "domain": [
          0,
          0.375
         ]
        }
       }
      }
     },
     "metadata": {},
     "output_type": "display_data"
    },
    {
     "name": "stdout",
     "output_type": "stream",
     "text": [
      "Column: num\n",
      "\n",
      "Basic Statistics:\n",
      "count: 920\n",
      "missing: 0\n",
      "mean: 1.0\n",
      "median: 1.0\n",
      "std: 1.14\n",
      "min: 0\n",
      "max: 4\n",
      "skew: 0.97\n",
      "kurtosis: -0.1\n",
      "\n",
      "Outliers: 0 found\n",
      "Outlier bounds: [-3.00, 5.00]\n"
     ]
    },
    {
     "data": {
      "application/vnd.plotly.v1+json": {
       "config": {
        "plotlyServerURL": "https://plot.ly"
       },
       "data": [
        {
         "name": "Histogram",
         "nbinsx": 30,
         "type": "histogram",
         "x": {
          "bdata": "AAIBAAAAAwACAQAAAgAAAAEAAAAAAAEDBAAAAAADAAIBAAAAAwEDAAQAAAABBAAEAAAAAAIAAQEBAQAAAgABAAICAQACAQADAQEBAAEAAAMAAAADAAAAAAAAAAMAAAABAgMAAAAAAAADAAIBAgMBAQACAgAAAAMCAwQAAwEAAwMAAAAAAAAAAAQDAQAAAQABAAEEAAAAAAAABAMBAQECAAAEAAAAAAAAAQADAAEABAEAAQAAAwIAAAEAAAIBAgADAQIAAwAAAAEAAAAAAAMDAwABAAQAAwEAAAAAAAAAAAMBAAAAAwIAAgEAAAMCAQAAAAAAAgACAgEDAAABAAAAAAAAAAEAAwAABAICAgEAAQACAAEAAAABAAIAAwACBAIAAAABAAICAQADAQECAwEAAAAAAAAAAAAAAAAAAAAAAAAAAAAAAAAAAAAAAAAAAAAAAAAAAAAAAAAAAAAAAAAAAAAAAAAAAAAAAAAAAAAAAAAAAAAAAAAAAAAAAAAAAAAAAAAAAAAAAAAAAAAAAAAAAAAAAAAAAAAAAAAAAAAAAAAAAAAAAAAAAAAAAAAAAAAAAAAAAAAAAAAAAAAAAAAAAAAAAAAAAAAAAAAAAAAAAAAAAAAAAAAAAAAAAAAAAAAAAAAAAAAAAAAAAAABAQEBAQEBAQEBAQEBAQEBAQEBAQEBAQEBAQEBAQEBAQEBAQEBAQEBAQEBAQEBAQEBAQEBAQEBAQEBAQEBAQEBAQEBAQEBAQEBAQEBAQEBAQEBAQEBAQEBAQEBAQEBAQEBAQEBAQEBAQEBAQEDAQIBAAECAQICAQIDBAIAAQEBAwIBAgEDAwECBAMCAQICAgICAgMAAQEBBAIAAgMBAAEEAgACAgECAgMBAQMCAwIBAQQBAQMCAQEBAwEDAwEDAQEDAwMBAgICAQEDAgEDAQIDAwEDAQEBAwADAQMCAwEBAwEDAAEBAgACAQAAAwADAQABAQEBAAQBAAACAQMAAgICAQEDAwMDAwIDAgABAAMBAwAEAgEAAgABAAIAAQICAwABAAIBBAICAwEBAQACAAMDAQIDAgEAAgICBAIDAAEBAwADAQADAAEBAAEDAQEAAwEBAAADAAMBAQMCAgMBAgMBAAEEAQIAAAEDAQADAAMDAAIABAIEAAAAAQMDAAMBAQICAgICAQQDAwMBAwIAAgEBAAMBAAAEAgMBAQABAQABAwICAAAEAwECAQACAAE=",
          "dtype": "i1"
         },
         "xaxis": "x",
         "yaxis": "y"
        },
        {
         "name": "Box Plot",
         "type": "box",
         "xaxis": "x2",
         "y": {
          "bdata": "AAIBAAAAAwACAQAAAgAAAAEAAAAAAAEDBAAAAAADAAIBAAAAAwEDAAQAAAABBAAEAAAAAAIAAQEBAQAAAgABAAICAQACAQADAQEBAAEAAAMAAAADAAAAAAAAAAMAAAABAgMAAAAAAAADAAIBAgMBAQACAgAAAAMCAwQAAwEAAwMAAAAAAAAAAAQDAQAAAQABAAEEAAAAAAAABAMBAQECAAAEAAAAAAAAAQADAAEABAEAAQAAAwIAAAEAAAIBAgADAQIAAwAAAAEAAAAAAAMDAwABAAQAAwEAAAAAAAAAAAMBAAAAAwIAAgEAAAMCAQAAAAAAAgACAgEDAAABAAAAAAAAAAEAAwAABAICAgEAAQACAAEAAAABAAIAAwACBAIAAAABAAICAQADAQECAwEAAAAAAAAAAAAAAAAAAAAAAAAAAAAAAAAAAAAAAAAAAAAAAAAAAAAAAAAAAAAAAAAAAAAAAAAAAAAAAAAAAAAAAAAAAAAAAAAAAAAAAAAAAAAAAAAAAAAAAAAAAAAAAAAAAAAAAAAAAAAAAAAAAAAAAAAAAAAAAAAAAAAAAAAAAAAAAAAAAAAAAAAAAAAAAAAAAAAAAAAAAAAAAAAAAAAAAAAAAAAAAAAAAAAAAAAAAAAAAAAAAAAAAAAAAAABAQEBAQEBAQEBAQEBAQEBAQEBAQEBAQEBAQEBAQEBAQEBAQEBAQEBAQEBAQEBAQEBAQEBAQEBAQEBAQEBAQEBAQEBAQEBAQEBAQEBAQEBAQEBAQEBAQEBAQEBAQEBAQEBAQEBAQEBAQEBAQEDAQIBAAECAQICAQIDBAIAAQEBAwIBAgEDAwECBAMCAQICAgICAgMAAQEBBAIAAgMBAAEEAgACAgECAgMBAQMCAwIBAQQBAQMCAQEBAwEDAwEDAQEDAwMBAgICAQEDAgEDAQIDAwEDAQEBAwADAQMCAwEBAwEDAAEBAgACAQAAAwADAQABAQEBAAQBAAACAQMAAgICAQEDAwMDAwIDAgABAAMBAwAEAgEAAgABAAIAAQICAwABAAIBBAICAwEBAQACAAMDAQIDAgEAAgICBAIDAAEBAwADAQADAAEBAAEDAQEAAwEBAAADAAMBAQMCAgMBAgMBAAEEAQIAAAEDAQADAAMDAAIABAIEAAAAAQMDAAMBAQICAgICAQQDAwMBAwIAAgEBAAMBAAAEAgMBAQABAQABAwICAAAEAwECAQACAAE=",
          "dtype": "i1"
         },
         "yaxis": "y2"
        },
        {
         "mode": "markers",
         "name": "Q-Q Plot",
         "type": "scatter",
         "x": {
          "bdata": "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",
          "dtype": "f8"
         },
         "xaxis": "x3",
         "y": {
          "bdata": "AAAAAAAAAAAAAAAAAAAAAAAAAAAAAAAAAAAAAAAAAAAAAAAAAAAAAAAAAAAAAAAAAAAAAAAAAAAAAAAAAAAAAAAAAAAAAAAAAAAAAAAAAAAAAAAAAAAAAAAAAAAAAAAAAAAAAAAAAAAAAAAAAAAAAAAAAAAAAAAAAAAAAAAAAAAAAAAAAAAAAAAAAAAAAAAAAAAAAAAAAAAAAAAAAAAAAAAAAAAAAAAAAAAAAAAAAAAAAAAAAAAAAAAAAAAAAAAAAAAAAAAAAAAAAAAAAAAAAAAAAAAAAAAAAAAAAAAAAAAAAAAAAAAAAAAAAAAAAAAAAAAAAAAAAAAAAAAAAAAAAAAAAAAAAAAAAAAAAAAAAAAAAAAAAAAAAAAAAAAAAAAAAAAAAAAAAAAAAAAAAAAAAAAAAAAAAAAAAAAAAAAAAAAAAAAAAAAAAAAAAAAAAAAAAAAAAAAAAAAAAAAAAAAAAAAAAAAAAAAAAAAAAAAAAAAAAAAAAAAAAAAAAAAAAAAAAAAAAAAAAAAAAAAAAAAAAAAAAAAAAAAAAAAAAQEBAQEBAQEBAQEBAQEBAQEBAQEBAQEBAQEBAQEBAQEBAQEBAQEBAQEBAQEBAQEBAQEBAQEBAQEBAQEBAQEBAQEBAQEBAQEBAQEBAQEBAQEBAQEBAQEBAQEBAQEBAQEBAQEBAQEBAQEBAQEBAQEBAQEBAQEBAQEBAQEBAQEBAQEBAQEBAQEBAQEBAQEBAQEBAQEBAQEBAQEBAQEBAQEBAQEBAQEBAQEBAQEBAQEBAQEBAQEBAQEBAQEBAQEBAQEBAQEBAQEBAQEBAQEBAQEBAQEBAQEBAQEBAQEBAQEBAQEBAQEBAQEBAQEBAQEBAQEBAQEBAQEBAQEBAQEBAQEBAQEBAQEBAQEBAQICAgICAgICAgICAgICAgICAgICAgICAgICAgICAgICAgICAgICAgICAgICAgICAgICAgICAgICAgICAgICAgICAgICAgICAgICAgICAgICAgICAgICAgICAgICAgICAgICAgICAgICAgICAgIDAwMDAwMDAwMDAwMDAwMDAwMDAwMDAwMDAwMDAwMDAwMDAwMDAwMDAwMDAwMDAwMDAwMDAwMDAwMDAwMDAwMDAwMDAwMDAwMDAwMDAwMDAwMDAwMDAwMDAwMDAwMDAwMDAwMDAwMDAwMDAwQEBAQEBAQEBAQEBAQEBAQEBAQEBAQEBAQEBAQ=",
          "dtype": "i1"
         },
         "yaxis": "y3"
        },
        {
         "name": "Violin Plot",
         "type": "violin",
         "xaxis": "x4",
         "y": {
          "bdata": "AAIBAAAAAwACAQAAAgAAAAEAAAAAAAEDBAAAAAADAAIBAAAAAwEDAAQAAAABBAAEAAAAAAIAAQEBAQAAAgABAAICAQACAQADAQEBAAEAAAMAAAADAAAAAAAAAAMAAAABAgMAAAAAAAADAAIBAgMBAQACAgAAAAMCAwQAAwEAAwMAAAAAAAAAAAQDAQAAAQABAAEEAAAAAAAABAMBAQECAAAEAAAAAAAAAQADAAEABAEAAQAAAwIAAAEAAAIBAgADAQIAAwAAAAEAAAAAAAMDAwABAAQAAwEAAAAAAAAAAAMBAAAAAwIAAgEAAAMCAQAAAAAAAgACAgEDAAABAAAAAAAAAAEAAwAABAICAgEAAQACAAEAAAABAAIAAwACBAIAAAABAAICAQADAQECAwEAAAAAAAAAAAAAAAAAAAAAAAAAAAAAAAAAAAAAAAAAAAAAAAAAAAAAAAAAAAAAAAAAAAAAAAAAAAAAAAAAAAAAAAAAAAAAAAAAAAAAAAAAAAAAAAAAAAAAAAAAAAAAAAAAAAAAAAAAAAAAAAAAAAAAAAAAAAAAAAAAAAAAAAAAAAAAAAAAAAAAAAAAAAAAAAAAAAAAAAAAAAAAAAAAAAAAAAAAAAAAAAAAAAAAAAAAAAAAAAAAAAAAAAAAAAABAQEBAQEBAQEBAQEBAQEBAQEBAQEBAQEBAQEBAQEBAQEBAQEBAQEBAQEBAQEBAQEBAQEBAQEBAQEBAQEBAQEBAQEBAQEBAQEBAQEBAQEBAQEBAQEBAQEBAQEBAQEBAQEBAQEBAQEBAQEBAQEDAQIBAAECAQICAQIDBAIAAQEBAwIBAgEDAwECBAMCAQICAgICAgMAAQEBBAIAAgMBAAEEAgACAgECAgMBAQMCAwIBAQQBAQMCAQEBAwEDAwEDAQEDAwMBAgICAQEDAgEDAQIDAwEDAQEBAwADAQMCAwEBAwEDAAEBAgACAQAAAwADAQABAQEBAAQBAAACAQMAAgICAQEDAwMDAwIDAgABAAMBAwAEAgEAAgABAAIAAQICAwABAAIBBAICAwEBAQACAAMDAQIDAgEAAgICBAIDAAEBAwADAQADAAEBAAEDAQEAAwEBAAADAAMBAQMCAgMBAgMBAAEEAQIAAAEDAQADAAMDAAIABAIEAAAAAQMDAAMBAQICAgICAQQDAwMBAwIAAgEBAAMBAAAEAgMBAQABAQABAwICAAAEAwECAQACAAE=",
          "dtype": "i1"
         },
         "yaxis": "y4"
        }
       ],
       "layout": {
        "annotations": [
         {
          "font": {
           "size": 16
          },
          "showarrow": false,
          "text": "Distribution",
          "x": 0.225,
          "xanchor": "center",
          "xref": "paper",
          "y": 1,
          "yanchor": "bottom",
          "yref": "paper"
         },
         {
          "font": {
           "size": 16
          },
          "showarrow": false,
          "text": "Box Plot",
          "x": 0.775,
          "xanchor": "center",
          "xref": "paper",
          "y": 1,
          "yanchor": "bottom",
          "yref": "paper"
         },
         {
          "font": {
           "size": 16
          },
          "showarrow": false,
          "text": "Q-Q Plot",
          "x": 0.225,
          "xanchor": "center",
          "xref": "paper",
          "y": 0.375,
          "yanchor": "bottom",
          "yref": "paper"
         },
         {
          "font": {
           "size": 16
          },
          "showarrow": false,
          "text": "Violin Plot",
          "x": 0.775,
          "xanchor": "center",
          "xref": "paper",
          "y": 0.375,
          "yanchor": "bottom",
          "yref": "paper"
         }
        ],
        "height": 800,
        "showlegend": false,
        "template": {
         "data": {
          "bar": [
           {
            "error_x": {
             "color": "#2a3f5f"
            },
            "error_y": {
             "color": "#2a3f5f"
            },
            "marker": {
             "line": {
              "color": "#E5ECF6",
              "width": 0.5
             },
             "pattern": {
              "fillmode": "overlay",
              "size": 10,
              "solidity": 0.2
             }
            },
            "type": "bar"
           }
          ],
          "barpolar": [
           {
            "marker": {
             "line": {
              "color": "#E5ECF6",
              "width": 0.5
             },
             "pattern": {
              "fillmode": "overlay",
              "size": 10,
              "solidity": 0.2
             }
            },
            "type": "barpolar"
           }
          ],
          "carpet": [
           {
            "aaxis": {
             "endlinecolor": "#2a3f5f",
             "gridcolor": "white",
             "linecolor": "white",
             "minorgridcolor": "white",
             "startlinecolor": "#2a3f5f"
            },
            "baxis": {
             "endlinecolor": "#2a3f5f",
             "gridcolor": "white",
             "linecolor": "white",
             "minorgridcolor": "white",
             "startlinecolor": "#2a3f5f"
            },
            "type": "carpet"
           }
          ],
          "choropleth": [
           {
            "colorbar": {
             "outlinewidth": 0,
             "ticks": ""
            },
            "type": "choropleth"
           }
          ],
          "contour": [
           {
            "colorbar": {
             "outlinewidth": 0,
             "ticks": ""
            },
            "colorscale": [
             [
              0,
              "#0d0887"
             ],
             [
              0.1111111111111111,
              "#46039f"
             ],
             [
              0.2222222222222222,
              "#7201a8"
             ],
             [
              0.3333333333333333,
              "#9c179e"
             ],
             [
              0.4444444444444444,
              "#bd3786"
             ],
             [
              0.5555555555555556,
              "#d8576b"
             ],
             [
              0.6666666666666666,
              "#ed7953"
             ],
             [
              0.7777777777777778,
              "#fb9f3a"
             ],
             [
              0.8888888888888888,
              "#fdca26"
             ],
             [
              1,
              "#f0f921"
             ]
            ],
            "type": "contour"
           }
          ],
          "contourcarpet": [
           {
            "colorbar": {
             "outlinewidth": 0,
             "ticks": ""
            },
            "type": "contourcarpet"
           }
          ],
          "heatmap": [
           {
            "colorbar": {
             "outlinewidth": 0,
             "ticks": ""
            },
            "colorscale": [
             [
              0,
              "#0d0887"
             ],
             [
              0.1111111111111111,
              "#46039f"
             ],
             [
              0.2222222222222222,
              "#7201a8"
             ],
             [
              0.3333333333333333,
              "#9c179e"
             ],
             [
              0.4444444444444444,
              "#bd3786"
             ],
             [
              0.5555555555555556,
              "#d8576b"
             ],
             [
              0.6666666666666666,
              "#ed7953"
             ],
             [
              0.7777777777777778,
              "#fb9f3a"
             ],
             [
              0.8888888888888888,
              "#fdca26"
             ],
             [
              1,
              "#f0f921"
             ]
            ],
            "type": "heatmap"
           }
          ],
          "histogram": [
           {
            "marker": {
             "pattern": {
              "fillmode": "overlay",
              "size": 10,
              "solidity": 0.2
             }
            },
            "type": "histogram"
           }
          ],
          "histogram2d": [
           {
            "colorbar": {
             "outlinewidth": 0,
             "ticks": ""
            },
            "colorscale": [
             [
              0,
              "#0d0887"
             ],
             [
              0.1111111111111111,
              "#46039f"
             ],
             [
              0.2222222222222222,
              "#7201a8"
             ],
             [
              0.3333333333333333,
              "#9c179e"
             ],
             [
              0.4444444444444444,
              "#bd3786"
             ],
             [
              0.5555555555555556,
              "#d8576b"
             ],
             [
              0.6666666666666666,
              "#ed7953"
             ],
             [
              0.7777777777777778,
              "#fb9f3a"
             ],
             [
              0.8888888888888888,
              "#fdca26"
             ],
             [
              1,
              "#f0f921"
             ]
            ],
            "type": "histogram2d"
           }
          ],
          "histogram2dcontour": [
           {
            "colorbar": {
             "outlinewidth": 0,
             "ticks": ""
            },
            "colorscale": [
             [
              0,
              "#0d0887"
             ],
             [
              0.1111111111111111,
              "#46039f"
             ],
             [
              0.2222222222222222,
              "#7201a8"
             ],
             [
              0.3333333333333333,
              "#9c179e"
             ],
             [
              0.4444444444444444,
              "#bd3786"
             ],
             [
              0.5555555555555556,
              "#d8576b"
             ],
             [
              0.6666666666666666,
              "#ed7953"
             ],
             [
              0.7777777777777778,
              "#fb9f3a"
             ],
             [
              0.8888888888888888,
              "#fdca26"
             ],
             [
              1,
              "#f0f921"
             ]
            ],
            "type": "histogram2dcontour"
           }
          ],
          "mesh3d": [
           {
            "colorbar": {
             "outlinewidth": 0,
             "ticks": ""
            },
            "type": "mesh3d"
           }
          ],
          "parcoords": [
           {
            "line": {
             "colorbar": {
              "outlinewidth": 0,
              "ticks": ""
             }
            },
            "type": "parcoords"
           }
          ],
          "pie": [
           {
            "automargin": true,
            "type": "pie"
           }
          ],
          "scatter": [
           {
            "fillpattern": {
             "fillmode": "overlay",
             "size": 10,
             "solidity": 0.2
            },
            "type": "scatter"
           }
          ],
          "scatter3d": [
           {
            "line": {
             "colorbar": {
              "outlinewidth": 0,
              "ticks": ""
             }
            },
            "marker": {
             "colorbar": {
              "outlinewidth": 0,
              "ticks": ""
             }
            },
            "type": "scatter3d"
           }
          ],
          "scattercarpet": [
           {
            "marker": {
             "colorbar": {
              "outlinewidth": 0,
              "ticks": ""
             }
            },
            "type": "scattercarpet"
           }
          ],
          "scattergeo": [
           {
            "marker": {
             "colorbar": {
              "outlinewidth": 0,
              "ticks": ""
             }
            },
            "type": "scattergeo"
           }
          ],
          "scattergl": [
           {
            "marker": {
             "colorbar": {
              "outlinewidth": 0,
              "ticks": ""
             }
            },
            "type": "scattergl"
           }
          ],
          "scattermap": [
           {
            "marker": {
             "colorbar": {
              "outlinewidth": 0,
              "ticks": ""
             }
            },
            "type": "scattermap"
           }
          ],
          "scattermapbox": [
           {
            "marker": {
             "colorbar": {
              "outlinewidth": 0,
              "ticks": ""
             }
            },
            "type": "scattermapbox"
           }
          ],
          "scatterpolar": [
           {
            "marker": {
             "colorbar": {
              "outlinewidth": 0,
              "ticks": ""
             }
            },
            "type": "scatterpolar"
           }
          ],
          "scatterpolargl": [
           {
            "marker": {
             "colorbar": {
              "outlinewidth": 0,
              "ticks": ""
             }
            },
            "type": "scatterpolargl"
           }
          ],
          "scatterternary": [
           {
            "marker": {
             "colorbar": {
              "outlinewidth": 0,
              "ticks": ""
             }
            },
            "type": "scatterternary"
           }
          ],
          "surface": [
           {
            "colorbar": {
             "outlinewidth": 0,
             "ticks": ""
            },
            "colorscale": [
             [
              0,
              "#0d0887"
             ],
             [
              0.1111111111111111,
              "#46039f"
             ],
             [
              0.2222222222222222,
              "#7201a8"
             ],
             [
              0.3333333333333333,
              "#9c179e"
             ],
             [
              0.4444444444444444,
              "#bd3786"
             ],
             [
              0.5555555555555556,
              "#d8576b"
             ],
             [
              0.6666666666666666,
              "#ed7953"
             ],
             [
              0.7777777777777778,
              "#fb9f3a"
             ],
             [
              0.8888888888888888,
              "#fdca26"
             ],
             [
              1,
              "#f0f921"
             ]
            ],
            "type": "surface"
           }
          ],
          "table": [
           {
            "cells": {
             "fill": {
              "color": "#EBF0F8"
             },
             "line": {
              "color": "white"
             }
            },
            "header": {
             "fill": {
              "color": "#C8D4E3"
             },
             "line": {
              "color": "white"
             }
            },
            "type": "table"
           }
          ]
         },
         "layout": {
          "annotationdefaults": {
           "arrowcolor": "#2a3f5f",
           "arrowhead": 0,
           "arrowwidth": 1
          },
          "autotypenumbers": "strict",
          "coloraxis": {
           "colorbar": {
            "outlinewidth": 0,
            "ticks": ""
           }
          },
          "colorscale": {
           "diverging": [
            [
             0,
             "#8e0152"
            ],
            [
             0.1,
             "#c51b7d"
            ],
            [
             0.2,
             "#de77ae"
            ],
            [
             0.3,
             "#f1b6da"
            ],
            [
             0.4,
             "#fde0ef"
            ],
            [
             0.5,
             "#f7f7f7"
            ],
            [
             0.6,
             "#e6f5d0"
            ],
            [
             0.7,
             "#b8e186"
            ],
            [
             0.8,
             "#7fbc41"
            ],
            [
             0.9,
             "#4d9221"
            ],
            [
             1,
             "#276419"
            ]
           ],
           "sequential": [
            [
             0,
             "#0d0887"
            ],
            [
             0.1111111111111111,
             "#46039f"
            ],
            [
             0.2222222222222222,
             "#7201a8"
            ],
            [
             0.3333333333333333,
             "#9c179e"
            ],
            [
             0.4444444444444444,
             "#bd3786"
            ],
            [
             0.5555555555555556,
             "#d8576b"
            ],
            [
             0.6666666666666666,
             "#ed7953"
            ],
            [
             0.7777777777777778,
             "#fb9f3a"
            ],
            [
             0.8888888888888888,
             "#fdca26"
            ],
            [
             1,
             "#f0f921"
            ]
           ],
           "sequentialminus": [
            [
             0,
             "#0d0887"
            ],
            [
             0.1111111111111111,
             "#46039f"
            ],
            [
             0.2222222222222222,
             "#7201a8"
            ],
            [
             0.3333333333333333,
             "#9c179e"
            ],
            [
             0.4444444444444444,
             "#bd3786"
            ],
            [
             0.5555555555555556,
             "#d8576b"
            ],
            [
             0.6666666666666666,
             "#ed7953"
            ],
            [
             0.7777777777777778,
             "#fb9f3a"
            ],
            [
             0.8888888888888888,
             "#fdca26"
            ],
            [
             1,
             "#f0f921"
            ]
           ]
          },
          "colorway": [
           "#636efa",
           "#EF553B",
           "#00cc96",
           "#ab63fa",
           "#FFA15A",
           "#19d3f3",
           "#FF6692",
           "#B6E880",
           "#FF97FF",
           "#FECB52"
          ],
          "font": {
           "color": "#2a3f5f"
          },
          "geo": {
           "bgcolor": "white",
           "lakecolor": "white",
           "landcolor": "#E5ECF6",
           "showlakes": true,
           "showland": true,
           "subunitcolor": "white"
          },
          "hoverlabel": {
           "align": "left"
          },
          "hovermode": "closest",
          "mapbox": {
           "style": "light"
          },
          "paper_bgcolor": "white",
          "plot_bgcolor": "#E5ECF6",
          "polar": {
           "angularaxis": {
            "gridcolor": "white",
            "linecolor": "white",
            "ticks": ""
           },
           "bgcolor": "#E5ECF6",
           "radialaxis": {
            "gridcolor": "white",
            "linecolor": "white",
            "ticks": ""
           }
          },
          "scene": {
           "xaxis": {
            "backgroundcolor": "#E5ECF6",
            "gridcolor": "white",
            "gridwidth": 2,
            "linecolor": "white",
            "showbackground": true,
            "ticks": "",
            "zerolinecolor": "white"
           },
           "yaxis": {
            "backgroundcolor": "#E5ECF6",
            "gridcolor": "white",
            "gridwidth": 2,
            "linecolor": "white",
            "showbackground": true,
            "ticks": "",
            "zerolinecolor": "white"
           },
           "zaxis": {
            "backgroundcolor": "#E5ECF6",
            "gridcolor": "white",
            "gridwidth": 2,
            "linecolor": "white",
            "showbackground": true,
            "ticks": "",
            "zerolinecolor": "white"
           }
          },
          "shapedefaults": {
           "line": {
            "color": "#2a3f5f"
           }
          },
          "ternary": {
           "aaxis": {
            "gridcolor": "white",
            "linecolor": "white",
            "ticks": ""
           },
           "baxis": {
            "gridcolor": "white",
            "linecolor": "white",
            "ticks": ""
           },
           "bgcolor": "#E5ECF6",
           "caxis": {
            "gridcolor": "white",
            "linecolor": "white",
            "ticks": ""
           }
          },
          "title": {
           "x": 0.05
          },
          "xaxis": {
           "automargin": true,
           "gridcolor": "white",
           "linecolor": "white",
           "ticks": "",
           "title": {
            "standoff": 15
           },
           "zerolinecolor": "white",
           "zerolinewidth": 2
          },
          "yaxis": {
           "automargin": true,
           "gridcolor": "white",
           "linecolor": "white",
           "ticks": "",
           "title": {
            "standoff": 15
           },
           "zerolinecolor": "white",
           "zerolinewidth": 2
          }
         }
        },
        "title": {
         "text": "EDA for num"
        },
        "xaxis": {
         "anchor": "y",
         "domain": [
          0,
          0.45
         ]
        },
        "xaxis2": {
         "anchor": "y2",
         "domain": [
          0.55,
          1
         ]
        },
        "xaxis3": {
         "anchor": "y3",
         "domain": [
          0,
          0.45
         ]
        },
        "xaxis4": {
         "anchor": "y4",
         "domain": [
          0.55,
          1
         ]
        },
        "yaxis": {
         "anchor": "x",
         "domain": [
          0.625,
          1
         ]
        },
        "yaxis2": {
         "anchor": "x2",
         "domain": [
          0.625,
          1
         ]
        },
        "yaxis3": {
         "anchor": "x3",
         "domain": [
          0,
          0.375
         ]
        },
        "yaxis4": {
         "anchor": "x4",
         "domain": [
          0,
          0.375
         ]
        }
       }
      }
     },
     "metadata": {},
     "output_type": "display_data"
    },
    {
     "data": {
      "image/png": "[encoded data removed]",
      "text/plain": [
       "<Figure size 640x480 with 1 Axes>"
      ]
     },
     "metadata": {},
     "output_type": "display_data"
    }
   ],
   "source": [
    "import numpy as np\n",
    "\n",
    "def analyze_numeric_column(df, column_name):\n",
    "    \"\"\"\n",
    "    Perform EDA on a numeric column using Plotly visualizations\n",
    "    \"\"\"\n",
    "    import pandas as pd\n",
    "    import numpy as np\n",
    "    import plotly.graph_objects as go\n",
    "    import plotly.express as px\n",
    "    from plotly.subplots import make_subplots\n",
    "    from scipy import stats\n",
    "\n",
    "    # Input validation\n",
    "    if column_name not in df.columns:\n",
    "        raise ValueError(f\"Column '{column_name}' not found\")\n",
    "    if not pd.api.types.is_numeric_dtype(df[column_name]):\n",
    "        raise ValueError(f\"Column '{column_name}' is not numeric\")\n",
    "\n",
    "    # Calculate statistics\n",
    "    stats_dict = {\n",
    "        'count': df[column_name].count(),\n",
    "        'missing': df[column_name].isnull().sum(),\n",
    "        'mean': round(df[column_name].mean(), 2),\n",
    "        'median': df[column_name].median(),\n",
    "        'std': round(df[column_name].std(), 2),\n",
    "        'min': df[column_name].min(),\n",
    "        'max': df[column_name].max(),\n",
    "        'skew': round(df[column_name].skew(), 2),\n",
    "        'kurtosis': round(df[column_name].kurtosis(), 2)\n",
    "    }\n",
    "\n",
    "    # Calculate quartiles and IQR\n",
    "    q1 = df[column_name].quantile(0.25)\n",
    "    q3 = df[column_name].quantile(0.75)\n",
    "    iqr = q3 - q1\n",
    "    lower_bound = q1 - 1.5 * iqr\n",
    "    upper_bound = q3 + 1.5 * iqr\n",
    "    outliers = df[column_name][(df[column_name] < lower_bound) | (df[column_name] > upper_bound)]\n",
    "\n",
    "    # Create subplots\n",
    "    fig = make_subplots(\n",
    "        rows=2, cols=2,\n",
    "        subplot_titles=('Distribution', 'Box Plot', 'Q-Q Plot', 'Violin Plot')\n",
    "    )\n",
    "\n",
    "    # Histogram with KDE\n",
    "    hist_data = go.Histogram(x=df[column_name], name='Histogram', nbinsx=30)\n",
    "    kde = df[column_name].plot(kind='kde')\n",
    "    fig.add_trace(hist_data, row=1, col=1)\n",
    "\n",
    "    # Box plot\n",
    "    box_data = go.Box(y=df[column_name], name='Box Plot')\n",
    "    fig.add_trace(box_data, row=1, col=2)\n",
    "\n",
    "    # Q-Q plot\n",
    "    qq = stats.probplot(df[column_name].dropna(), dist='norm')\n",
    "    qq_data = go.Scatter(x=qq[0][0], y=qq[0][1], mode='markers', name='Q-Q Plot')\n",
    "    fig.add_trace(qq_data, row=2, col=1)\n",
    "\n",
    "    # Violin plot\n",
    "    violin_data = go.Violin(y=df[column_name], name='Violin Plot')\n",
    "    fig.add_trace(violin_data, row=2, col=2)\n",
    "\n",
    "    # Update layout\n",
    "    fig.update_layout(\n",
    "        title=f'EDA for {column_name}',\n",
    "        showlegend=False,\n",
    "        height=800\n",
    "    )\n",
    "\n",
    "    # Display results\n",
    "    print(\"\\nBasic Statistics:\")\n",
    "    for k, v in stats_dict.items():\n",
    "        print(f\"{k}: {v}\")\n",
    "    \n",
    "    print(f\"\\nOutliers: {len(outliers)} found\")\n",
    "    print(f\"Outlier bounds: [{lower_bound:.2f}, {upper_bound:.2f}]\")\n",
    "\n",
    "    fig.show()\n",
    "\n",
    "    return stats_dict\n",
    "\n",
    "for col in df.select_dtypes(include=np.number).columns:\n",
    "    if col == 'id':\n",
    "        continue\n",
    "    print(f\"Column: {col}\")\n",
    "    analyze_numeric_column(df, col)"
   ]
  },
  {
   "cell_type": "code",
   "execution_count": 7,
   "metadata": {},
   "outputs": [
    {
     "name": "stdout",
     "output_type": "stream",
     "text": [
      "Column: sex\n"
     ]
    },
    {
     "data": {
      "application/vnd.plotly.v1+json": {
       "config": {
        "plotlyServerURL": "https://plot.ly"
       },
       "data": [
        {
         "type": "bar",
         "x": [
          "Male",
          "Female"
         ],
         "xaxis": "x",
         "y": {
          "bdata": "1gLCAA==",
          "dtype": "i2"
         },
         "yaxis": "y"
        },
        {
         "domain": {
          "x": [
           0.55,
           1
          ],
          "y": [
           0.625,
           1
          ]
         },
         "labels": [
          "Male",
          "Female"
         ],
         "type": "pie",
         "values": {
          "bdata": "1gLCAA==",
          "dtype": "i2"
         }
        },
        {
         "type": "bar",
         "x": [
          "Missing",
          "Present"
         ],
         "xaxis": "x2",
         "y": [
          0,
          920
         ],
         "yaxis": "y2"
        },
        {
         "type": "heatmap",
         "x": [
          "Cleveland",
          "Hungary",
          "Switzerland",
          "VA Long Beach"
         ],
         "xaxis": "x3",
         "y": [
          "Female",
          "Male"
         ],
         "yaxis": "y3",
         "z": {
          "bdata": "YQBRAAoABgDPANQAcQDCAA==",
          "dtype": "i2",
          "shape": "2, 4"
         }
        }
       ],
       "layout": {
        "annotations": [
         {
          "font": {
           "size": 16
          },
          "showarrow": false,
          "text": "Value Counts",
          "x": 0.225,
          "xanchor": "center",
          "xref": "paper",
          "y": 1,
          "yanchor": "bottom",
          "yref": "paper"
         },
         {
          "font": {
           "size": 16
          },
          "showarrow": false,
          "text": "Proportions",
          "x": 0.775,
          "xanchor": "center",
          "xref": "paper",
          "y": 1,
          "yanchor": "bottom",
          "yref": "paper"
         },
         {
          "font": {
           "size": 16
          },
          "showarrow": false,
          "text": "Missing Values",
          "x": 0.225,
          "xanchor": "center",
          "xref": "paper",
          "y": 0.375,
          "yanchor": "bottom",
          "yref": "paper"
         },
         {
          "font": {
           "size": 16
          },
          "showarrow": false,
          "text": "Co-occurrence",
          "x": 0.775,
          "xanchor": "center",
          "xref": "paper",
          "y": 0.375,
          "yanchor": "bottom",
          "yref": "paper"
         }
        ],
        "height": 800,
        "showlegend": false,
        "template": {
         "data": {
          "bar": [
           {
            "error_x": {
             "color": "#2a3f5f"
            },
            "error_y": {
             "color": "#2a3f5f"
            },
            "marker": {
             "line": {
              "color": "#E5ECF6",
              "width": 0.5
             },
             "pattern": {
              "fillmode": "overlay",
              "size": 10,
              "solidity": 0.2
             }
            },
            "type": "bar"
           }
          ],
          "barpolar": [
           {
            "marker": {
             "line": {
              "color": "#E5ECF6",
              "width": 0.5
             },
             "pattern": {
              "fillmode": "overlay",
              "size": 10,
              "solidity": 0.2
             }
            },
            "type": "barpolar"
           }
          ],
          "carpet": [
           {
            "aaxis": {
             "endlinecolor": "#2a3f5f",
             "gridcolor": "white",
             "linecolor": "white",
             "minorgridcolor": "white",
             "startlinecolor": "#2a3f5f"
            },
            "baxis": {
             "endlinecolor": "#2a3f5f",
             "gridcolor": "white",
             "linecolor": "white",
             "minorgridcolor": "white",
             "startlinecolor": "#2a3f5f"
            },
            "type": "carpet"
           }
          ],
          "choropleth": [
           {
            "colorbar": {
             "outlinewidth": 0,
             "ticks": ""
            },
            "type": "choropleth"
           }
          ],
          "contour": [
           {
            "colorbar": {
             "outlinewidth": 0,
             "ticks": ""
            },
            "colorscale": [
             [
              0,
              "#0d0887"
             ],
             [
              0.1111111111111111,
              "#46039f"
             ],
             [
              0.2222222222222222,
              "#7201a8"
             ],
             [
              0.3333333333333333,
              "#9c179e"
             ],
             [
              0.4444444444444444,
              "#bd3786"
             ],
             [
              0.5555555555555556,
              "#d8576b"
             ],
             [
              0.6666666666666666,
              "#ed7953"
             ],
             [
              0.7777777777777778,
              "#fb9f3a"
             ],
             [
              0.8888888888888888,
              "#fdca26"
             ],
             [
              1,
              "#f0f921"
             ]
            ],
            "type": "contour"
           }
          ],
          "contourcarpet": [
           {
            "colorbar": {
             "outlinewidth": 0,
             "ticks": ""
            },
            "type": "contourcarpet"
           }
          ],
          "heatmap": [
           {
            "colorbar": {
             "outlinewidth": 0,
             "ticks": ""
            },
            "colorscale": [
             [
              0,
              "#0d0887"
             ],
             [
              0.1111111111111111,
              "#46039f"
             ],
             [
              0.2222222222222222,
              "#7201a8"
             ],
             [
              0.3333333333333333,
              "#9c179e"
             ],
             [
              0.4444444444444444,
              "#bd3786"
             ],
             [
              0.5555555555555556,
              "#d8576b"
             ],
             [
              0.6666666666666666,
              "#ed7953"
             ],
             [
              0.7777777777777778,
              "#fb9f3a"
             ],
             [
              0.8888888888888888,
              "#fdca26"
             ],
             [
              1,
              "#f0f921"
             ]
            ],
            "type": "heatmap"
           }
          ],
          "histogram": [
           {
            "marker": {
             "pattern": {
              "fillmode": "overlay",
              "size": 10,
              "solidity": 0.2
             }
            },
            "type": "histogram"
           }
          ],
          "histogram2d": [
           {
            "colorbar": {
             "outlinewidth": 0,
             "ticks": ""
            },
            "colorscale": [
             [
              0,
              "#0d0887"
             ],
             [
              0.1111111111111111,
              "#46039f"
             ],
             [
              0.2222222222222222,
              "#7201a8"
             ],
             [
              0.3333333333333333,
              "#9c179e"
             ],
             [
              0.4444444444444444,
              "#bd3786"
             ],
             [
              0.5555555555555556,
              "#d8576b"
             ],
             [
              0.6666666666666666,
              "#ed7953"
             ],
             [
              0.7777777777777778,
              "#fb9f3a"
             ],
             [
              0.8888888888888888,
              "#fdca26"
             ],
             [
              1,
              "#f0f921"
             ]
            ],
            "type": "histogram2d"
           }
          ],
          "histogram2dcontour": [
           {
            "colorbar": {
             "outlinewidth": 0,
             "ticks": ""
            },
            "colorscale": [
             [
              0,
              "#0d0887"
             ],
             [
              0.1111111111111111,
              "#46039f"
             ],
             [
              0.2222222222222222,
              "#7201a8"
             ],
             [
              0.3333333333333333,
              "#9c179e"
             ],
             [
              0.4444444444444444,
              "#bd3786"
             ],
             [
              0.5555555555555556,
              "#d8576b"
             ],
             [
              0.6666666666666666,
              "#ed7953"
             ],
             [
              0.7777777777777778,
              "#fb9f3a"
             ],
             [
              0.8888888888888888,
              "#fdca26"
             ],
             [
              1,
              "#f0f921"
             ]
            ],
            "type": "histogram2dcontour"
           }
          ],
          "mesh3d": [
           {
            "colorbar": {
             "outlinewidth": 0,
             "ticks": ""
            },
            "type": "mesh3d"
           }
          ],
          "parcoords": [
           {
            "line": {
             "colorbar": {
              "outlinewidth": 0,
              "ticks": ""
             }
            },
            "type": "parcoords"
           }
          ],
          "pie": [
           {
            "automargin": true,
            "type": "pie"
           }
          ],
          "scatter": [
           {
            "fillpattern": {
             "fillmode": "overlay",
             "size": 10,
             "solidity": 0.2
            },
            "type": "scatter"
           }
          ],
          "scatter3d": [
           {
            "line": {
             "colorbar": {
              "outlinewidth": 0,
              "ticks": ""
             }
            },
            "marker": {
             "colorbar": {
              "outlinewidth": 0,
              "ticks": ""
             }
            },
            "type": "scatter3d"
           }
          ],
          "scattercarpet": [
           {
            "marker": {
             "colorbar": {
              "outlinewidth": 0,
              "ticks": ""
             }
            },
            "type": "scattercarpet"
           }
          ],
          "scattergeo": [
           {
            "marker": {
             "colorbar": {
              "outlinewidth": 0,
              "ticks": ""
             }
            },
            "type": "scattergeo"
           }
          ],
          "scattergl": [
           {
            "marker": {
             "colorbar": {
              "outlinewidth": 0,
              "ticks": ""
             }
            },
            "type": "scattergl"
           }
          ],
          "scattermap": [
           {
            "marker": {
             "colorbar": {
              "outlinewidth": 0,
              "ticks": ""
             }
            },
            "type": "scattermap"
           }
          ],
          "scattermapbox": [
           {
            "marker": {
             "colorbar": {
              "outlinewidth": 0,
              "ticks": ""
             }
            },
            "type": "scattermapbox"
           }
          ],
          "scatterpolar": [
           {
            "marker": {
             "colorbar": {
              "outlinewidth": 0,
              "ticks": ""
             }
            },
            "type": "scatterpolar"
           }
          ],
          "scatterpolargl": [
           {
            "marker": {
             "colorbar": {
              "outlinewidth": 0,
              "ticks": ""
             }
            },
            "type": "scatterpolargl"
           }
          ],
          "scatterternary": [
           {
            "marker": {
             "colorbar": {
              "outlinewidth": 0,
              "ticks": ""
             }
            },
            "type": "scatterternary"
           }
          ],
          "surface": [
           {
            "colorbar": {
             "outlinewidth": 0,
             "ticks": ""
            },
            "colorscale": [
             [
              0,
              "#0d0887"
             ],
             [
              0.1111111111111111,
              "#46039f"
             ],
             [
              0.2222222222222222,
              "#7201a8"
             ],
             [
              0.3333333333333333,
              "#9c179e"
             ],
             [
              0.4444444444444444,
              "#bd3786"
             ],
             [
              0.5555555555555556,
              "#d8576b"
             ],
             [
              0.6666666666666666,
              "#ed7953"
             ],
             [
              0.7777777777777778,
              "#fb9f3a"
             ],
             [
              0.8888888888888888,
              "#fdca26"
             ],
             [
              1,
              "#f0f921"
             ]
            ],
            "type": "surface"
           }
          ],
          "table": [
           {
            "cells": {
             "fill": {
              "color": "#EBF0F8"
             },
             "line": {
              "color": "white"
             }
            },
            "header": {
             "fill": {
              "color": "#C8D4E3"
             },
             "line": {
              "color": "white"
             }
            },
            "type": "table"
           }
          ]
         },
         "layout": {
          "annotationdefaults": {
           "arrowcolor": "#2a3f5f",
           "arrowhead": 0,
           "arrowwidth": 1
          },
          "autotypenumbers": "strict",
          "coloraxis": {
           "colorbar": {
            "outlinewidth": 0,
            "ticks": ""
           }
          },
          "colorscale": {
           "diverging": [
            [
             0,
             "#8e0152"
            ],
            [
             0.1,
             "#c51b7d"
            ],
            [
             0.2,
             "#de77ae"
            ],
            [
             0.3,
             "#f1b6da"
            ],
            [
             0.4,
             "#fde0ef"
            ],
            [
             0.5,
             "#f7f7f7"
            ],
            [
             0.6,
             "#e6f5d0"
            ],
            [
             0.7,
             "#b8e186"
            ],
            [
             0.8,
             "#7fbc41"
            ],
            [
             0.9,
             "#4d9221"
            ],
            [
             1,
             "#276419"
            ]
           ],
           "sequential": [
            [
             0,
             "#0d0887"
            ],
            [
             0.1111111111111111,
             "#46039f"
            ],
            [
             0.2222222222222222,
             "#7201a8"
            ],
            [
             0.3333333333333333,
             "#9c179e"
            ],
            [
             0.4444444444444444,
             "#bd3786"
            ],
            [
             0.5555555555555556,
             "#d8576b"
            ],
            [
             0.6666666666666666,
             "#ed7953"
            ],
            [
             0.7777777777777778,
             "#fb9f3a"
            ],
            [
             0.8888888888888888,
             "#fdca26"
            ],
            [
             1,
             "#f0f921"
            ]
           ],
           "sequentialminus": [
            [
             0,
             "#0d0887"
            ],
            [
             0.1111111111111111,
             "#46039f"
            ],
            [
             0.2222222222222222,
             "#7201a8"
            ],
            [
             0.3333333333333333,
             "#9c179e"
            ],
            [
             0.4444444444444444,
             "#bd3786"
            ],
            [
             0.5555555555555556,
             "#d8576b"
            ],
            [
             0.6666666666666666,
             "#ed7953"
            ],
            [
             0.7777777777777778,
             "#fb9f3a"
            ],
            [
             0.8888888888888888,
             "#fdca26"
            ],
            [
             1,
             "#f0f921"
            ]
           ]
          },
          "colorway": [
           "#636efa",
           "#EF553B",
           "#00cc96",
           "#ab63fa",
           "#FFA15A",
           "#19d3f3",
           "#FF6692",
           "#B6E880",
           "#FF97FF",
           "#FECB52"
          ],
          "font": {
           "color": "#2a3f5f"
          },
          "geo": {
           "bgcolor": "white",
           "lakecolor": "white",
           "landcolor": "#E5ECF6",
           "showlakes": true,
           "showland": true,
           "subunitcolor": "white"
          },
          "hoverlabel": {
           "align": "left"
          },
          "hovermode": "closest",
          "mapbox": {
           "style": "light"
          },
          "paper_bgcolor": "white",
          "plot_bgcolor": "#E5ECF6",
          "polar": {
           "angularaxis": {
            "gridcolor": "white",
            "linecolor": "white",
            "ticks": ""
           },
           "bgcolor": "#E5ECF6",
           "radialaxis": {
            "gridcolor": "white",
            "linecolor": "white",
            "ticks": ""
           }
          },
          "scene": {
           "xaxis": {
            "backgroundcolor": "#E5ECF6",
            "gridcolor": "white",
            "gridwidth": 2,
            "linecolor": "white",
            "showbackground": true,
            "ticks": "",
            "zerolinecolor": "white"
           },
           "yaxis": {
            "backgroundcolor": "#E5ECF6",
            "gridcolor": "white",
            "gridwidth": 2,
            "linecolor": "white",
            "showbackground": true,
            "ticks": "",
            "zerolinecolor": "white"
           },
           "zaxis": {
            "backgroundcolor": "#E5ECF6",
            "gridcolor": "white",
            "gridwidth": 2,
            "linecolor": "white",
            "showbackground": true,
            "ticks": "",
            "zerolinecolor": "white"
           }
          },
          "shapedefaults": {
           "line": {
            "color": "#2a3f5f"
           }
          },
          "ternary": {
           "aaxis": {
            "gridcolor": "white",
            "linecolor": "white",
            "ticks": ""
           },
           "baxis": {
            "gridcolor": "white",
            "linecolor": "white",
            "ticks": ""
           },
           "bgcolor": "#E5ECF6",
           "caxis": {
            "gridcolor": "white",
            "linecolor": "white",
            "ticks": ""
           }
          },
          "title": {
           "x": 0.05
          },
          "xaxis": {
           "automargin": true,
           "gridcolor": "white",
           "linecolor": "white",
           "ticks": "",
           "title": {
            "standoff": 15
           },
           "zerolinecolor": "white",
           "zerolinewidth": 2
          },
          "yaxis": {
           "automargin": true,
           "gridcolor": "white",
           "linecolor": "white",
           "ticks": "",
           "title": {
            "standoff": 15
           },
           "zerolinecolor": "white",
           "zerolinewidth": 2
          }
         }
        },
        "title": {
         "text": "EDA for sex"
        },
        "xaxis": {
         "anchor": "y",
         "domain": [
          0,
          0.45
         ]
        },
        "xaxis2": {
         "anchor": "y2",
         "domain": [
          0,
          0.45
         ]
        },
        "xaxis3": {
         "anchor": "y3",
         "domain": [
          0.55,
          1
         ]
        },
        "yaxis": {
         "anchor": "x",
         "domain": [
          0.625,
          1
         ]
        },
        "yaxis2": {
         "anchor": "x2",
         "domain": [
          0,
          0.375
         ]
        },
        "yaxis3": {
         "anchor": "x3",
         "domain": [
          0,
          0.375
         ]
        }
       }
      }
     },
     "metadata": {},
     "output_type": "display_data"
    },
    {
     "name": "stdout",
     "output_type": "stream",
     "text": [
      "Column: dataset\n"
     ]
    },
    {
     "data": {
      "application/vnd.plotly.v1+json": {
       "config": {
        "plotlyServerURL": "https://plot.ly"
       },
       "data": [
        {
         "type": "bar",
         "x": [
          "Cleveland",
          "Hungary",
          "VA Long Beach",
          "Switzerland"
         ],
         "xaxis": "x",
         "y": {
          "bdata": "MAElAcgAewA=",
          "dtype": "i2"
         },
         "yaxis": "y"
        },
        {
         "domain": {
          "x": [
           0.55,
           1
          ],
          "y": [
           0.625,
           1
          ]
         },
         "labels": [
          "Cleveland",
          "Hungary",
          "VA Long Beach",
          "Switzerland"
         ],
         "type": "pie",
         "values": {
          "bdata": "MAElAcgAewA=",
          "dtype": "i2"
         }
        },
        {
         "type": "bar",
         "x": [
          "Missing",
          "Present"
         ],
         "xaxis": "x2",
         "y": [
          0,
          920
         ],
         "yaxis": "y2"
        },
        {
         "type": "heatmap",
         "x": [
          "Female",
          "Male"
         ],
         "xaxis": "x3",
         "y": [
          "Cleveland",
          "Hungary",
          "Switzerland",
          "VA Long Beach"
         ],
         "yaxis": "y3",
         "z": {
          "bdata": "YQDPAFEA1AAKAHEABgDCAA==",
          "dtype": "i2",
          "shape": "4, 2"
         }
        }
       ],
       "layout": {
        "annotations": [
         {
          "font": {
           "size": 16
          },
          "showarrow": false,
          "text": "Value Counts",
          "x": 0.225,
          "xanchor": "center",
          "xref": "paper",
          "y": 1,
          "yanchor": "bottom",
          "yref": "paper"
         },
         {
          "font": {
           "size": 16
          },
          "showarrow": false,
          "text": "Proportions",
          "x": 0.775,
          "xanchor": "center",
          "xref": "paper",
          "y": 1,
          "yanchor": "bottom",
          "yref": "paper"
         },
         {
          "font": {
           "size": 16
          },
          "showarrow": false,
          "text": "Missing Values",
          "x": 0.225,
          "xanchor": "center",
          "xref": "paper",
          "y": 0.375,
          "yanchor": "bottom",
          "yref": "paper"
         },
         {
          "font": {
           "size": 16
          },
          "showarrow": false,
          "text": "Co-occurrence",
          "x": 0.775,
          "xanchor": "center",
          "xref": "paper",
          "y": 0.375,
          "yanchor": "bottom",
          "yref": "paper"
         }
        ],
        "height": 800,
        "showlegend": false,
        "template": {
         "data": {
          "bar": [
           {
            "error_x": {
             "color": "#2a3f5f"
            },
            "error_y": {
             "color": "#2a3f5f"
            },
            "marker": {
             "line": {
              "color": "#E5ECF6",
              "width": 0.5
             },
             "pattern": {
              "fillmode": "overlay",
              "size": 10,
              "solidity": 0.2
             }
            },
            "type": "bar"
           }
          ],
          "barpolar": [
           {
            "marker": {
             "line": {
              "color": "#E5ECF6",
              "width": 0.5
             },
             "pattern": {
              "fillmode": "overlay",
              "size": 10,
              "solidity": 0.2
             }
            },
            "type": "barpolar"
           }
          ],
          "carpet": [
           {
            "aaxis": {
             "endlinecolor": "#2a3f5f",
             "gridcolor": "white",
             "linecolor": "white",
             "minorgridcolor": "white",
             "startlinecolor": "#2a3f5f"
            },
            "baxis": {
             "endlinecolor": "#2a3f5f",
             "gridcolor": "white",
             "linecolor": "white",
             "minorgridcolor": "white",
             "startlinecolor": "#2a3f5f"
            },
            "type": "carpet"
           }
          ],
          "choropleth": [
           {
            "colorbar": {
             "outlinewidth": 0,
             "ticks": ""
            },
            "type": "choropleth"
           }
          ],
          "contour": [
           {
            "colorbar": {
             "outlinewidth": 0,
             "ticks": ""
            },
            "colorscale": [
             [
              0,
              "#0d0887"
             ],
             [
              0.1111111111111111,
              "#46039f"
             ],
             [
              0.2222222222222222,
              "#7201a8"
             ],
             [
              0.3333333333333333,
              "#9c179e"
             ],
             [
              0.4444444444444444,
              "#bd3786"
             ],
             [
              0.5555555555555556,
              "#d8576b"
             ],
             [
              0.6666666666666666,
              "#ed7953"
             ],
             [
              0.7777777777777778,
              "#fb9f3a"
             ],
             [
              0.8888888888888888,
              "#fdca26"
             ],
             [
              1,
              "#f0f921"
             ]
            ],
            "type": "contour"
           }
          ],
          "contourcarpet": [
           {
            "colorbar": {
             "outlinewidth": 0,
             "ticks": ""
            },
            "type": "contourcarpet"
           }
          ],
          "heatmap": [
           {
            "colorbar": {
             "outlinewidth": 0,
             "ticks": ""
            },
            "colorscale": [
             [
              0,
              "#0d0887"
             ],
             [
              0.1111111111111111,
              "#46039f"
             ],
             [
              0.2222222222222222,
              "#7201a8"
             ],
             [
              0.3333333333333333,
              "#9c179e"
             ],
             [
              0.4444444444444444,
              "#bd3786"
             ],
             [
              0.5555555555555556,
              "#d8576b"
             ],
             [
              0.6666666666666666,
              "#ed7953"
             ],
             [
              0.7777777777777778,
              "#fb9f3a"
             ],
             [
              0.8888888888888888,
              "#fdca26"
             ],
             [
              1,
              "#f0f921"
             ]
            ],
            "type": "heatmap"
           }
          ],
          "histogram": [
           {
            "marker": {
             "pattern": {
              "fillmode": "overlay",
              "size": 10,
              "solidity": 0.2
             }
            },
            "type": "histogram"
           }
          ],
          "histogram2d": [
           {
            "colorbar": {
             "outlinewidth": 0,
             "ticks": ""
            },
            "colorscale": [
             [
              0,
              "#0d0887"
             ],
             [
              0.1111111111111111,
              "#46039f"
             ],
             [
              0.2222222222222222,
              "#7201a8"
             ],
             [
              0.3333333333333333,
              "#9c179e"
             ],
             [
              0.4444444444444444,
              "#bd3786"
             ],
             [
              0.5555555555555556,
              "#d8576b"
             ],
             [
              0.6666666666666666,
              "#ed7953"
             ],
             [
              0.7777777777777778,
              "#fb9f3a"
             ],
             [
              0.8888888888888888,
              "#fdca26"
             ],
             [
              1,
              "#f0f921"
             ]
            ],
            "type": "histogram2d"
           }
          ],
          "histogram2dcontour": [
           {
            "colorbar": {
             "outlinewidth": 0,
             "ticks": ""
            },
            "colorscale": [
             [
              0,
              "#0d0887"
             ],
             [
              0.1111111111111111,
              "#46039f"
             ],
             [
              0.2222222222222222,
              "#7201a8"
             ],
             [
              0.3333333333333333,
              "#9c179e"
             ],
             [
              0.4444444444444444,
              "#bd3786"
             ],
             [
              0.5555555555555556,
              "#d8576b"
             ],
             [
              0.6666666666666666,
              "#ed7953"
             ],
             [
              0.7777777777777778,
              "#fb9f3a"
             ],
             [
              0.8888888888888888,
              "#fdca26"
             ],
             [
              1,
              "#f0f921"
             ]
            ],
            "type": "histogram2dcontour"
           }
          ],
          "mesh3d": [
           {
            "colorbar": {
             "outlinewidth": 0,
             "ticks": ""
            },
            "type": "mesh3d"
           }
          ],
          "parcoords": [
           {
            "line": {
             "colorbar": {
              "outlinewidth": 0,
              "ticks": ""
             }
            },
            "type": "parcoords"
           }
          ],
          "pie": [
           {
            "automargin": true,
            "type": "pie"
           }
          ],
          "scatter": [
           {
            "fillpattern": {
             "fillmode": "overlay",
             "size": 10,
             "solidity": 0.2
            },
            "type": "scatter"
           }
          ],
          "scatter3d": [
           {
            "line": {
             "colorbar": {
              "outlinewidth": 0,
              "ticks": ""
             }
            },
            "marker": {
             "colorbar": {
              "outlinewidth": 0,
              "ticks": ""
             }
            },
            "type": "scatter3d"
           }
          ],
          "scattercarpet": [
           {
            "marker": {
             "colorbar": {
              "outlinewidth": 0,
              "ticks": ""
             }
            },
            "type": "scattercarpet"
           }
          ],
          "scattergeo": [
           {
            "marker": {
             "colorbar": {
              "outlinewidth": 0,
              "ticks": ""
             }
            },
            "type": "scattergeo"
           }
          ],
          "scattergl": [
           {
            "marker": {
             "colorbar": {
              "outlinewidth": 0,
              "ticks": ""
             }
            },
            "type": "scattergl"
           }
          ],
          "scattermap": [
           {
            "marker": {
             "colorbar": {
              "outlinewidth": 0,
              "ticks": ""
             }
            },
            "type": "scattermap"
           }
          ],
          "scattermapbox": [
           {
            "marker": {
             "colorbar": {
              "outlinewidth": 0,
              "ticks": ""
             }
            },
            "type": "scattermapbox"
           }
          ],
          "scatterpolar": [
           {
            "marker": {
             "colorbar": {
              "outlinewidth": 0,
              "ticks": ""
             }
            },
            "type": "scatterpolar"
           }
          ],
          "scatterpolargl": [
           {
            "marker": {
             "colorbar": {
              "outlinewidth": 0,
              "ticks": ""
             }
            },
            "type": "scatterpolargl"
           }
          ],
          "scatterternary": [
           {
            "marker": {
             "colorbar": {
              "outlinewidth": 0,
              "ticks": ""
             }
            },
            "type": "scatterternary"
           }
          ],
          "surface": [
           {
            "colorbar": {
             "outlinewidth": 0,
             "ticks": ""
            },
            "colorscale": [
             [
              0,
              "#0d0887"
             ],
             [
              0.1111111111111111,
              "#46039f"
             ],
             [
              0.2222222222222222,
              "#7201a8"
             ],
             [
              0.3333333333333333,
              "#9c179e"
             ],
             [
              0.4444444444444444,
              "#bd3786"
             ],
             [
              0.5555555555555556,
              "#d8576b"
             ],
             [
              0.6666666666666666,
              "#ed7953"
             ],
             [
              0.7777777777777778,
              "#fb9f3a"
             ],
             [
              0.8888888888888888,
              "#fdca26"
             ],
             [
              1,
              "#f0f921"
             ]
            ],
            "type": "surface"
           }
          ],
          "table": [
           {
            "cells": {
             "fill": {
              "color": "#EBF0F8"
             },
             "line": {
              "color": "white"
             }
            },
            "header": {
             "fill": {
              "color": "#C8D4E3"
             },
             "line": {
              "color": "white"
             }
            },
            "type": "table"
           }
          ]
         },
         "layout": {
          "annotationdefaults": {
           "arrowcolor": "#2a3f5f",
           "arrowhead": 0,
           "arrowwidth": 1
          },
          "autotypenumbers": "strict",
          "coloraxis": {
           "colorbar": {
            "outlinewidth": 0,
            "ticks": ""
           }
          },
          "colorscale": {
           "diverging": [
            [
             0,
             "#8e0152"
            ],
            [
             0.1,
             "#c51b7d"
            ],
            [
             0.2,
             "#de77ae"
            ],
            [
             0.3,
             "#f1b6da"
            ],
            [
             0.4,
             "#fde0ef"
            ],
            [
             0.5,
             "#f7f7f7"
            ],
            [
             0.6,
             "#e6f5d0"
            ],
            [
             0.7,
             "#b8e186"
            ],
            [
             0.8,
             "#7fbc41"
            ],
            [
             0.9,
             "#4d9221"
            ],
            [
             1,
             "#276419"
            ]
           ],
           "sequential": [
            [
             0,
             "#0d0887"
            ],
            [
             0.1111111111111111,
             "#46039f"
            ],
            [
             0.2222222222222222,
             "#7201a8"
            ],
            [
             0.3333333333333333,
             "#9c179e"
            ],
            [
             0.4444444444444444,
             "#bd3786"
            ],
            [
             0.5555555555555556,
             "#d8576b"
            ],
            [
             0.6666666666666666,
             "#ed7953"
            ],
            [
             0.7777777777777778,
             "#fb9f3a"
            ],
            [
             0.8888888888888888,
             "#fdca26"
            ],
            [
             1,
             "#f0f921"
            ]
           ],
           "sequentialminus": [
            [
             0,
             "#0d0887"
            ],
            [
             0.1111111111111111,
             "#46039f"
            ],
            [
             0.2222222222222222,
             "#7201a8"
            ],
            [
             0.3333333333333333,
             "#9c179e"
            ],
            [
             0.4444444444444444,
             "#bd3786"
            ],
            [
             0.5555555555555556,
             "#d8576b"
            ],
            [
             0.6666666666666666,
             "#ed7953"
            ],
            [
             0.7777777777777778,
             "#fb9f3a"
            ],
            [
             0.8888888888888888,
             "#fdca26"
            ],
            [
             1,
             "#f0f921"
            ]
           ]
          },
          "colorway": [
           "#636efa",
           "#EF553B",
           "#00cc96",
           "#ab63fa",
           "#FFA15A",
           "#19d3f3",
           "#FF6692",
           "#B6E880",
           "#FF97FF",
           "#FECB52"
          ],
          "font": {
           "color": "#2a3f5f"
          },
          "geo": {
           "bgcolor": "white",
           "lakecolor": "white",
           "landcolor": "#E5ECF6",
           "showlakes": true,
           "showland": true,
           "subunitcolor": "white"
          },
          "hoverlabel": {
           "align": "left"
          },
          "hovermode": "closest",
          "mapbox": {
           "style": "light"
          },
          "paper_bgcolor": "white",
          "plot_bgcolor": "#E5ECF6",
          "polar": {
           "angularaxis": {
            "gridcolor": "white",
            "linecolor": "white",
            "ticks": ""
           },
           "bgcolor": "#E5ECF6",
           "radialaxis": {
            "gridcolor": "white",
            "linecolor": "white",
            "ticks": ""
           }
          },
          "scene": {
           "xaxis": {
            "backgroundcolor": "#E5ECF6",
            "gridcolor": "white",
            "gridwidth": 2,
            "linecolor": "white",
            "showbackground": true,
            "ticks": "",
            "zerolinecolor": "white"
           },
           "yaxis": {
            "backgroundcolor": "#E5ECF6",
            "gridcolor": "white",
            "gridwidth": 2,
            "linecolor": "white",
            "showbackground": true,
            "ticks": "",
            "zerolinecolor": "white"
           },
           "zaxis": {
            "backgroundcolor": "#E5ECF6",
            "gridcolor": "white",
            "gridwidth": 2,
            "linecolor": "white",
            "showbackground": true,
            "ticks": "",
            "zerolinecolor": "white"
           }
          },
          "shapedefaults": {
           "line": {
            "color": "#2a3f5f"
           }
          },
          "ternary": {
           "aaxis": {
            "gridcolor": "white",
            "linecolor": "white",
            "ticks": ""
           },
           "baxis": {
            "gridcolor": "white",
            "linecolor": "white",
            "ticks": ""
           },
           "bgcolor": "#E5ECF6",
           "caxis": {
            "gridcolor": "white",
            "linecolor": "white",
            "ticks": ""
           }
          },
          "title": {
           "x": 0.05
          },
          "xaxis": {
           "automargin": true,
           "gridcolor": "white",
           "linecolor": "white",
           "ticks": "",
           "title": {
            "standoff": 15
           },
           "zerolinecolor": "white",
           "zerolinewidth": 2
          },
          "yaxis": {
           "automargin": true,
           "gridcolor": "white",
           "linecolor": "white",
           "ticks": "",
           "title": {
            "standoff": 15
           },
           "zerolinecolor": "white",
           "zerolinewidth": 2
          }
         }
        },
        "title": {
         "text": "EDA for dataset"
        },
        "xaxis": {
         "anchor": "y",
         "domain": [
          0,
          0.45
         ]
        },
        "xaxis2": {
         "anchor": "y2",
         "domain": [
          0,
          0.45
         ]
        },
        "xaxis3": {
         "anchor": "y3",
         "domain": [
          0.55,
          1
         ]
        },
        "yaxis": {
         "anchor": "x",
         "domain": [
          0.625,
          1
         ]
        },
        "yaxis2": {
         "anchor": "x2",
         "domain": [
          0,
          0.375
         ]
        },
        "yaxis3": {
         "anchor": "x3",
         "domain": [
          0,
          0.375
         ]
        }
       }
      }
     },
     "metadata": {},
     "output_type": "display_data"
    },
    {
     "name": "stdout",
     "output_type": "stream",
     "text": [
      "Column: cp\n"
     ]
    },
    {
     "data": {
      "application/vnd.plotly.v1+json": {
       "config": {
        "plotlyServerURL": "https://plot.ly"
       },
       "data": [
        {
         "type": "bar",
         "x": [
          "asymptomatic",
          "non-anginal",
          "atypical angina",
          "typical angina"
         ],
         "xaxis": "x",
         "y": {
          "bdata": "8AHMAK4ALgA=",
          "dtype": "i2"
         },
         "yaxis": "y"
        },
        {
         "domain": {
          "x": [
           0.55,
           1
          ],
          "y": [
           0.625,
           1
          ]
         },
         "labels": [
          "asymptomatic",
          "non-anginal",
          "atypical angina",
          "typical angina"
         ],
         "type": "pie",
         "values": {
          "bdata": "8AHMAK4ALgA=",
          "dtype": "i2"
         }
        },
        {
         "type": "bar",
         "x": [
          "Missing",
          "Present"
         ],
         "xaxis": "x2",
         "y": [
          0,
          920
         ],
         "yaxis": "y2"
        },
        {
         "type": "heatmap",
         "x": [
          "Female",
          "Male"
         ],
         "xaxis": "x3",
         "y": [
          "asymptomatic",
          "atypical angina",
          "non-anginal",
          "typical angina"
         ],
         "yaxis": "y3",
         "z": {
          "bdata": "RgCqAT0AcQA1AJcACgAkAA==",
          "dtype": "i2",
          "shape": "4, 2"
         }
        }
       ],
       "layout": {
        "annotations": [
         {
          "font": {
           "size": 16
          },
          "showarrow": false,
          "text": "Value Counts",
          "x": 0.225,
          "xanchor": "center",
          "xref": "paper",
          "y": 1,
          "yanchor": "bottom",
          "yref": "paper"
         },
         {
          "font": {
           "size": 16
          },
          "showarrow": false,
          "text": "Proportions",
          "x": 0.775,
          "xanchor": "center",
          "xref": "paper",
          "y": 1,
          "yanchor": "bottom",
          "yref": "paper"
         },
         {
          "font": {
           "size": 16
          },
          "showarrow": false,
          "text": "Missing Values",
          "x": 0.225,
          "xanchor": "center",
          "xref": "paper",
          "y": 0.375,
          "yanchor": "bottom",
          "yref": "paper"
         },
         {
          "font": {
           "size": 16
          },
          "showarrow": false,
          "text": "Co-occurrence",
          "x": 0.775,
          "xanchor": "center",
          "xref": "paper",
          "y": 0.375,
          "yanchor": "bottom",
          "yref": "paper"
         }
        ],
        "height": 800,
        "showlegend": false,
        "template": {
         "data": {
          "bar": [
           {
            "error_x": {
             "color": "#2a3f5f"
            },
            "error_y": {
             "color": "#2a3f5f"
            },
            "marker": {
             "line": {
              "color": "#E5ECF6",
              "width": 0.5
             },
             "pattern": {
              "fillmode": "overlay",
              "size": 10,
              "solidity": 0.2
             }
            },
            "type": "bar"
           }
          ],
          "barpolar": [
           {
            "marker": {
             "line": {
              "color": "#E5ECF6",
              "width": 0.5
             },
             "pattern": {
              "fillmode": "overlay",
              "size": 10,
              "solidity": 0.2
             }
            },
            "type": "barpolar"
           }
          ],
          "carpet": [
           {
            "aaxis": {
             "endlinecolor": "#2a3f5f",
             "gridcolor": "white",
             "linecolor": "white",
             "minorgridcolor": "white",
             "startlinecolor": "#2a3f5f"
            },
            "baxis": {
             "endlinecolor": "#2a3f5f",
             "gridcolor": "white",
             "linecolor": "white",
             "minorgridcolor": "white",
             "startlinecolor": "#2a3f5f"
            },
            "type": "carpet"
           }
          ],
          "choropleth": [
           {
            "colorbar": {
             "outlinewidth": 0,
             "ticks": ""
            },
            "type": "choropleth"
           }
          ],
          "contour": [
           {
            "colorbar": {
             "outlinewidth": 0,
             "ticks": ""
            },
            "colorscale": [
             [
              0,
              "#0d0887"
             ],
             [
              0.1111111111111111,
              "#46039f"
             ],
             [
              0.2222222222222222,
              "#7201a8"
             ],
             [
              0.3333333333333333,
              "#9c179e"
             ],
             [
              0.4444444444444444,
              "#bd3786"
             ],
             [
              0.5555555555555556,
              "#d8576b"
             ],
             [
              0.6666666666666666,
              "#ed7953"
             ],
             [
              0.7777777777777778,
              "#fb9f3a"
             ],
             [
              0.8888888888888888,
              "#fdca26"
             ],
             [
              1,
              "#f0f921"
             ]
            ],
            "type": "contour"
           }
          ],
          "contourcarpet": [
           {
            "colorbar": {
             "outlinewidth": 0,
             "ticks": ""
            },
            "type": "contourcarpet"
           }
          ],
          "heatmap": [
           {
            "colorbar": {
             "outlinewidth": 0,
             "ticks": ""
            },
            "colorscale": [
             [
              0,
              "#0d0887"
             ],
             [
              0.1111111111111111,
              "#46039f"
             ],
             [
              0.2222222222222222,
              "#7201a8"
             ],
             [
              0.3333333333333333,
              "#9c179e"
             ],
             [
              0.4444444444444444,
              "#bd3786"
             ],
             [
              0.5555555555555556,
              "#d8576b"
             ],
             [
              0.6666666666666666,
              "#ed7953"
             ],
             [
              0.7777777777777778,
              "#fb9f3a"
             ],
             [
              0.8888888888888888,
              "#fdca26"
             ],
             [
              1,
              "#f0f921"
             ]
            ],
            "type": "heatmap"
           }
          ],
          "histogram": [
           {
            "marker": {
             "pattern": {
              "fillmode": "overlay",
              "size": 10,
              "solidity": 0.2
             }
            },
            "type": "histogram"
           }
          ],
          "histogram2d": [
           {
            "colorbar": {
             "outlinewidth": 0,
             "ticks": ""
            },
            "colorscale": [
             [
              0,
              "#0d0887"
             ],
             [
              0.1111111111111111,
              "#46039f"
             ],
             [
              0.2222222222222222,
              "#7201a8"
             ],
             [
              0.3333333333333333,
              "#9c179e"
             ],
             [
              0.4444444444444444,
              "#bd3786"
             ],
             [
              0.5555555555555556,
              "#d8576b"
             ],
             [
              0.6666666666666666,
              "#ed7953"
             ],
             [
              0.7777777777777778,
              "#fb9f3a"
             ],
             [
              0.8888888888888888,
              "#fdca26"
             ],
             [
              1,
              "#f0f921"
             ]
            ],
            "type": "histogram2d"
           }
          ],
          "histogram2dcontour": [
           {
            "colorbar": {
             "outlinewidth": 0,
             "ticks": ""
            },
            "colorscale": [
             [
              0,
              "#0d0887"
             ],
             [
              0.1111111111111111,
              "#46039f"
             ],
             [
              0.2222222222222222,
              "#7201a8"
             ],
             [
              0.3333333333333333,
              "#9c179e"
             ],
             [
              0.4444444444444444,
              "#bd3786"
             ],
             [
              0.5555555555555556,
              "#d8576b"
             ],
             [
              0.6666666666666666,
              "#ed7953"
             ],
             [
              0.7777777777777778,
              "#fb9f3a"
             ],
             [
              0.8888888888888888,
              "#fdca26"
             ],
             [
              1,
              "#f0f921"
             ]
            ],
            "type": "histogram2dcontour"
           }
          ],
          "mesh3d": [
           {
            "colorbar": {
             "outlinewidth": 0,
             "ticks": ""
            },
            "type": "mesh3d"
           }
          ],
          "parcoords": [
           {
            "line": {
             "colorbar": {
              "outlinewidth": 0,
              "ticks": ""
             }
            },
            "type": "parcoords"
           }
          ],
          "pie": [
           {
            "automargin": true,
            "type": "pie"
           }
          ],
          "scatter": [
           {
            "fillpattern": {
             "fillmode": "overlay",
             "size": 10,
             "solidity": 0.2
            },
            "type": "scatter"
           }
          ],
          "scatter3d": [
           {
            "line": {
             "colorbar": {
              "outlinewidth": 0,
              "ticks": ""
             }
            },
            "marker": {
             "colorbar": {
              "outlinewidth": 0,
              "ticks": ""
             }
            },
            "type": "scatter3d"
           }
          ],
          "scattercarpet": [
           {
            "marker": {
             "colorbar": {
              "outlinewidth": 0,
              "ticks": ""
             }
            },
            "type": "scattercarpet"
           }
          ],
          "scattergeo": [
           {
            "marker": {
             "colorbar": {
              "outlinewidth": 0,
              "ticks": ""
             }
            },
            "type": "scattergeo"
           }
          ],
          "scattergl": [
           {
            "marker": {
             "colorbar": {
              "outlinewidth": 0,
              "ticks": ""
             }
            },
            "type": "scattergl"
           }
          ],
          "scattermap": [
           {
            "marker": {
             "colorbar": {
              "outlinewidth": 0,
              "ticks": ""
             }
            },
            "type": "scattermap"
           }
          ],
          "scattermapbox": [
           {
            "marker": {
             "colorbar": {
              "outlinewidth": 0,
              "ticks": ""
             }
            },
            "type": "scattermapbox"
           }
          ],
          "scatterpolar": [
           {
            "marker": {
             "colorbar": {
              "outlinewidth": 0,
              "ticks": ""
             }
            },
            "type": "scatterpolar"
           }
          ],
          "scatterpolargl": [
           {
            "marker": {
             "colorbar": {
              "outlinewidth": 0,
              "ticks": ""
             }
            },
            "type": "scatterpolargl"
           }
          ],
          "scatterternary": [
           {
            "marker": {
             "colorbar": {
              "outlinewidth": 0,
              "ticks": ""
             }
            },
            "type": "scatterternary"
           }
          ],
          "surface": [
           {
            "colorbar": {
             "outlinewidth": 0,
             "ticks": ""
            },
            "colorscale": [
             [
              0,
              "#0d0887"
             ],
             [
              0.1111111111111111,
              "#46039f"
             ],
             [
              0.2222222222222222,
              "#7201a8"
             ],
             [
              0.3333333333333333,
              "#9c179e"
             ],
             [
              0.4444444444444444,
              "#bd3786"
             ],
             [
              0.5555555555555556,
              "#d8576b"
             ],
             [
              0.6666666666666666,
              "#ed7953"
             ],
             [
              0.7777777777777778,
              "#fb9f3a"
             ],
             [
              0.8888888888888888,
              "#fdca26"
             ],
             [
              1,
              "#f0f921"
             ]
            ],
            "type": "surface"
           }
          ],
          "table": [
           {
            "cells": {
             "fill": {
              "color": "#EBF0F8"
             },
             "line": {
              "color": "white"
             }
            },
            "header": {
             "fill": {
              "color": "#C8D4E3"
             },
             "line": {
              "color": "white"
             }
            },
            "type": "table"
           }
          ]
         },
         "layout": {
          "annotationdefaults": {
           "arrowcolor": "#2a3f5f",
           "arrowhead": 0,
           "arrowwidth": 1
          },
          "autotypenumbers": "strict",
          "coloraxis": {
           "colorbar": {
            "outlinewidth": 0,
            "ticks": ""
           }
          },
          "colorscale": {
           "diverging": [
            [
             0,
             "#8e0152"
            ],
            [
             0.1,
             "#c51b7d"
            ],
            [
             0.2,
             "#de77ae"
            ],
            [
             0.3,
             "#f1b6da"
            ],
            [
             0.4,
             "#fde0ef"
            ],
            [
             0.5,
             "#f7f7f7"
            ],
            [
             0.6,
             "#e6f5d0"
            ],
            [
             0.7,
             "#b8e186"
            ],
            [
             0.8,
             "#7fbc41"
            ],
            [
             0.9,
             "#4d9221"
            ],
            [
             1,
             "#276419"
            ]
           ],
           "sequential": [
            [
             0,
             "#0d0887"
            ],
            [
             0.1111111111111111,
             "#46039f"
            ],
            [
             0.2222222222222222,
             "#7201a8"
            ],
            [
             0.3333333333333333,
             "#9c179e"
            ],
            [
             0.4444444444444444,
             "#bd3786"
            ],
            [
             0.5555555555555556,
             "#d8576b"
            ],
            [
             0.6666666666666666,
             "#ed7953"
            ],
            [
             0.7777777777777778,
             "#fb9f3a"
            ],
            [
             0.8888888888888888,
             "#fdca26"
            ],
            [
             1,
             "#f0f921"
            ]
           ],
           "sequentialminus": [
            [
             0,
             "#0d0887"
            ],
            [
             0.1111111111111111,
             "#46039f"
            ],
            [
             0.2222222222222222,
             "#7201a8"
            ],
            [
             0.3333333333333333,
             "#9c179e"
            ],
            [
             0.4444444444444444,
             "#bd3786"
            ],
            [
             0.5555555555555556,
             "#d8576b"
            ],
            [
             0.6666666666666666,
             "#ed7953"
            ],
            [
             0.7777777777777778,
             "#fb9f3a"
            ],
            [
             0.8888888888888888,
             "#fdca26"
            ],
            [
             1,
             "#f0f921"
            ]
           ]
          },
          "colorway": [
           "#636efa",
           "#EF553B",
           "#00cc96",
           "#ab63fa",
           "#FFA15A",
           "#19d3f3",
           "#FF6692",
           "#B6E880",
           "#FF97FF",
           "#FECB52"
          ],
          "font": {
           "color": "#2a3f5f"
          },
          "geo": {
           "bgcolor": "white",
           "lakecolor": "white",
           "landcolor": "#E5ECF6",
           "showlakes": true,
           "showland": true,
           "subunitcolor": "white"
          },
          "hoverlabel": {
           "align": "left"
          },
          "hovermode": "closest",
          "mapbox": {
           "style": "light"
          },
          "paper_bgcolor": "white",
          "plot_bgcolor": "#E5ECF6",
          "polar": {
           "angularaxis": {
            "gridcolor": "white",
            "linecolor": "white",
            "ticks": ""
           },
           "bgcolor": "#E5ECF6",
           "radialaxis": {
            "gridcolor": "white",
            "linecolor": "white",
            "ticks": ""
           }
          },
          "scene": {
           "xaxis": {
            "backgroundcolor": "#E5ECF6",
            "gridcolor": "white",
            "gridwidth": 2,
            "linecolor": "white",
            "showbackground": true,
            "ticks": "",
            "zerolinecolor": "white"
           },
           "yaxis": {
            "backgroundcolor": "#E5ECF6",
            "gridcolor": "white",
            "gridwidth": 2,
            "linecolor": "white",
            "showbackground": true,
            "ticks": "",
            "zerolinecolor": "white"
           },
           "zaxis": {
            "backgroundcolor": "#E5ECF6",
            "gridcolor": "white",
            "gridwidth": 2,
            "linecolor": "white",
            "showbackground": true,
            "ticks": "",
            "zerolinecolor": "white"
           }
          },
          "shapedefaults": {
           "line": {
            "color": "#2a3f5f"
           }
          },
          "ternary": {
           "aaxis": {
            "gridcolor": "white",
            "linecolor": "white",
            "ticks": ""
           },
           "baxis": {
            "gridcolor": "white",
            "linecolor": "white",
            "ticks": ""
           },
           "bgcolor": "#E5ECF6",
           "caxis": {
            "gridcolor": "white",
            "linecolor": "white",
            "ticks": ""
           }
          },
          "title": {
           "x": 0.05
          },
          "xaxis": {
           "automargin": true,
           "gridcolor": "white",
           "linecolor": "white",
           "ticks": "",
           "title": {
            "standoff": 15
           },
           "zerolinecolor": "white",
           "zerolinewidth": 2
          },
          "yaxis": {
           "automargin": true,
           "gridcolor": "white",
           "linecolor": "white",
           "ticks": "",
           "title": {
            "standoff": 15
           },
           "zerolinecolor": "white",
           "zerolinewidth": 2
          }
         }
        },
        "title": {
         "text": "EDA for cp"
        },
        "xaxis": {
         "anchor": "y",
         "domain": [
          0,
          0.45
         ]
        },
        "xaxis2": {
         "anchor": "y2",
         "domain": [
          0,
          0.45
         ]
        },
        "xaxis3": {
         "anchor": "y3",
         "domain": [
          0.55,
          1
         ]
        },
        "yaxis": {
         "anchor": "x",
         "domain": [
          0.625,
          1
         ]
        },
        "yaxis2": {
         "anchor": "x2",
         "domain": [
          0,
          0.375
         ]
        },
        "yaxis3": {
         "anchor": "x3",
         "domain": [
          0,
          0.375
         ]
        }
       }
      }
     },
     "metadata": {},
     "output_type": "display_data"
    },
    {
     "name": "stdout",
     "output_type": "stream",
     "text": [
      "Column: fbs\n"
     ]
    },
    {
     "data": {
      "application/vnd.plotly.v1+json": {
       "config": {
        "plotlyServerURL": "https://plot.ly"
       },
       "data": [
        {
         "type": "bar",
         "x": [
          false,
          true
         ],
         "xaxis": "x",
         "y": {
          "bdata": "tAKKAA==",
          "dtype": "i2"
         },
         "yaxis": "y"
        },
        {
         "domain": {
          "x": [
           0.55,
           1
          ],
          "y": [
           0.625,
           1
          ]
         },
         "labels": [
          false,
          true
         ],
         "type": "pie",
         "values": {
          "bdata": "tAKKAA==",
          "dtype": "i2"
         }
        },
        {
         "type": "bar",
         "x": [
          "Missing",
          "Present"
         ],
         "xaxis": "x2",
         "y": [
          90,
          830
         ],
         "yaxis": "y2"
        },
        {
         "type": "heatmap",
         "x": [
          "Female",
          "Male"
         ],
         "xaxis": "x3",
         "y": [
          false,
          true
         ],
         "yaxis": "y3",
         "z": {
          "bdata": "pAAQAhMAdwA=",
          "dtype": "i2",
          "shape": "2, 2"
         }
        }
       ],
       "layout": {
        "annotations": [
         {
          "font": {
           "size": 16
          },
          "showarrow": false,
          "text": "Value Counts",
          "x": 0.225,
          "xanchor": "center",
          "xref": "paper",
          "y": 1,
          "yanchor": "bottom",
          "yref": "paper"
         },
         {
          "font": {
           "size": 16
          },
          "showarrow": false,
          "text": "Proportions",
          "x": 0.775,
          "xanchor": "center",
          "xref": "paper",
          "y": 1,
          "yanchor": "bottom",
          "yref": "paper"
         },
         {
          "font": {
           "size": 16
          },
          "showarrow": false,
          "text": "Missing Values",
          "x": 0.225,
          "xanchor": "center",
          "xref": "paper",
          "y": 0.375,
          "yanchor": "bottom",
          "yref": "paper"
         },
         {
          "font": {
           "size": 16
          },
          "showarrow": false,
          "text": "Co-occurrence",
          "x": 0.775,
          "xanchor": "center",
          "xref": "paper",
          "y": 0.375,
          "yanchor": "bottom",
          "yref": "paper"
         }
        ],
        "height": 800,
        "showlegend": false,
        "template": {
         "data": {
          "bar": [
           {
            "error_x": {
             "color": "#2a3f5f"
            },
            "error_y": {
             "color": "#2a3f5f"
            },
            "marker": {
             "line": {
              "color": "#E5ECF6",
              "width": 0.5
             },
             "pattern": {
              "fillmode": "overlay",
              "size": 10,
              "solidity": 0.2
             }
            },
            "type": "bar"
           }
          ],
          "barpolar": [
           {
            "marker": {
             "line": {
              "color": "#E5ECF6",
              "width": 0.5
             },
             "pattern": {
              "fillmode": "overlay",
              "size": 10,
              "solidity": 0.2
             }
            },
            "type": "barpolar"
           }
          ],
          "carpet": [
           {
            "aaxis": {
             "endlinecolor": "#2a3f5f",
             "gridcolor": "white",
             "linecolor": "white",
             "minorgridcolor": "white",
             "startlinecolor": "#2a3f5f"
            },
            "baxis": {
             "endlinecolor": "#2a3f5f",
             "gridcolor": "white",
             "linecolor": "white",
             "minorgridcolor": "white",
             "startlinecolor": "#2a3f5f"
            },
            "type": "carpet"
           }
          ],
          "choropleth": [
           {
            "colorbar": {
             "outlinewidth": 0,
             "ticks": ""
            },
            "type": "choropleth"
           }
          ],
          "contour": [
           {
            "colorbar": {
             "outlinewidth": 0,
             "ticks": ""
            },
            "colorscale": [
             [
              0,
              "#0d0887"
             ],
             [
              0.1111111111111111,
              "#46039f"
             ],
             [
              0.2222222222222222,
              "#7201a8"
             ],
             [
              0.3333333333333333,
              "#9c179e"
             ],
             [
              0.4444444444444444,
              "#bd3786"
             ],
             [
              0.5555555555555556,
              "#d8576b"
             ],
             [
              0.6666666666666666,
              "#ed7953"
             ],
             [
              0.7777777777777778,
              "#fb9f3a"
             ],
             [
              0.8888888888888888,
              "#fdca26"
             ],
             [
              1,
              "#f0f921"
             ]
            ],
            "type": "contour"
           }
          ],
          "contourcarpet": [
           {
            "colorbar": {
             "outlinewidth": 0,
             "ticks": ""
            },
            "type": "contourcarpet"
           }
          ],
          "heatmap": [
           {
            "colorbar": {
             "outlinewidth": 0,
             "ticks": ""
            },
            "colorscale": [
             [
              0,
              "#0d0887"
             ],
             [
              0.1111111111111111,
              "#46039f"
             ],
             [
              0.2222222222222222,
              "#7201a8"
             ],
             [
              0.3333333333333333,
              "#9c179e"
             ],
             [
              0.4444444444444444,
              "#bd3786"
             ],
             [
              0.5555555555555556,
              "#d8576b"
             ],
             [
              0.6666666666666666,
              "#ed7953"
             ],
             [
              0.7777777777777778,
              "#fb9f3a"
             ],
             [
              0.8888888888888888,
              "#fdca26"
             ],
             [
              1,
              "#f0f921"
             ]
            ],
            "type": "heatmap"
           }
          ],
          "histogram": [
           {
            "marker": {
             "pattern": {
              "fillmode": "overlay",
              "size": 10,
              "solidity": 0.2
             }
            },
            "type": "histogram"
           }
          ],
          "histogram2d": [
           {
            "colorbar": {
             "outlinewidth": 0,
             "ticks": ""
            },
            "colorscale": [
             [
              0,
              "#0d0887"
             ],
             [
              0.1111111111111111,
              "#46039f"
             ],
             [
              0.2222222222222222,
              "#7201a8"
             ],
             [
              0.3333333333333333,
              "#9c179e"
             ],
             [
              0.4444444444444444,
              "#bd3786"
             ],
             [
              0.5555555555555556,
              "#d8576b"
             ],
             [
              0.6666666666666666,
              "#ed7953"
             ],
             [
              0.7777777777777778,
              "#fb9f3a"
             ],
             [
              0.8888888888888888,
              "#fdca26"
             ],
             [
              1,
              "#f0f921"
             ]
            ],
            "type": "histogram2d"
           }
          ],
          "histogram2dcontour": [
           {
            "colorbar": {
             "outlinewidth": 0,
             "ticks": ""
            },
            "colorscale": [
             [
              0,
              "#0d0887"
             ],
             [
              0.1111111111111111,
              "#46039f"
             ],
             [
              0.2222222222222222,
              "#7201a8"
             ],
             [
              0.3333333333333333,
              "#9c179e"
             ],
             [
              0.4444444444444444,
              "#bd3786"
             ],
             [
              0.5555555555555556,
              "#d8576b"
             ],
             [
              0.6666666666666666,
              "#ed7953"
             ],
             [
              0.7777777777777778,
              "#fb9f3a"
             ],
             [
              0.8888888888888888,
              "#fdca26"
             ],
             [
              1,
              "#f0f921"
             ]
            ],
            "type": "histogram2dcontour"
           }
          ],
          "mesh3d": [
           {
            "colorbar": {
             "outlinewidth": 0,
             "ticks": ""
            },
            "type": "mesh3d"
           }
          ],
          "parcoords": [
           {
            "line": {
             "colorbar": {
              "outlinewidth": 0,
              "ticks": ""
             }
            },
            "type": "parcoords"
           }
          ],
          "pie": [
           {
            "automargin": true,
            "type": "pie"
           }
          ],
          "scatter": [
           {
            "fillpattern": {
             "fillmode": "overlay",
             "size": 10,
             "solidity": 0.2
            },
            "type": "scatter"
           }
          ],
          "scatter3d": [
           {
            "line": {
             "colorbar": {
              "outlinewidth": 0,
              "ticks": ""
             }
            },
            "marker": {
             "colorbar": {
              "outlinewidth": 0,
              "ticks": ""
             }
            },
            "type": "scatter3d"
           }
          ],
          "scattercarpet": [
           {
            "marker": {
             "colorbar": {
              "outlinewidth": 0,
              "ticks": ""
             }
            },
            "type": "scattercarpet"
           }
          ],
          "scattergeo": [
           {
            "marker": {
             "colorbar": {
              "outlinewidth": 0,
              "ticks": ""
             }
            },
            "type": "scattergeo"
           }
          ],
          "scattergl": [
           {
            "marker": {
             "colorbar": {
              "outlinewidth": 0,
              "ticks": ""
             }
            },
            "type": "scattergl"
           }
          ],
          "scattermap": [
           {
            "marker": {
             "colorbar": {
              "outlinewidth": 0,
              "ticks": ""
             }
            },
            "type": "scattermap"
           }
          ],
          "scattermapbox": [
           {
            "marker": {
             "colorbar": {
              "outlinewidth": 0,
              "ticks": ""
             }
            },
            "type": "scattermapbox"
           }
          ],
          "scatterpolar": [
           {
            "marker": {
             "colorbar": {
              "outlinewidth": 0,
              "ticks": ""
             }
            },
            "type": "scatterpolar"
           }
          ],
          "scatterpolargl": [
           {
            "marker": {
             "colorbar": {
              "outlinewidth": 0,
              "ticks": ""
             }
            },
            "type": "scatterpolargl"
           }
          ],
          "scatterternary": [
           {
            "marker": {
             "colorbar": {
              "outlinewidth": 0,
              "ticks": ""
             }
            },
            "type": "scatterternary"
           }
          ],
          "surface": [
           {
            "colorbar": {
             "outlinewidth": 0,
             "ticks": ""
            },
            "colorscale": [
             [
              0,
              "#0d0887"
             ],
             [
              0.1111111111111111,
              "#46039f"
             ],
             [
              0.2222222222222222,
              "#7201a8"
             ],
             [
              0.3333333333333333,
              "#9c179e"
             ],
             [
              0.4444444444444444,
              "#bd3786"
             ],
             [
              0.5555555555555556,
              "#d8576b"
             ],
             [
              0.6666666666666666,
              "#ed7953"
             ],
             [
              0.7777777777777778,
              "#fb9f3a"
             ],
             [
              0.8888888888888888,
              "#fdca26"
             ],
             [
              1,
              "#f0f921"
             ]
            ],
            "type": "surface"
           }
          ],
          "table": [
           {
            "cells": {
             "fill": {
              "color": "#EBF0F8"
             },
             "line": {
              "color": "white"
             }
            },
            "header": {
             "fill": {
              "color": "#C8D4E3"
             },
             "line": {
              "color": "white"
             }
            },
            "type": "table"
           }
          ]
         },
         "layout": {
          "annotationdefaults": {
           "arrowcolor": "#2a3f5f",
           "arrowhead": 0,
           "arrowwidth": 1
          },
          "autotypenumbers": "strict",
          "coloraxis": {
           "colorbar": {
            "outlinewidth": 0,
            "ticks": ""
           }
          },
          "colorscale": {
           "diverging": [
            [
             0,
             "#8e0152"
            ],
            [
             0.1,
             "#c51b7d"
            ],
            [
             0.2,
             "#de77ae"
            ],
            [
             0.3,
             "#f1b6da"
            ],
            [
             0.4,
             "#fde0ef"
            ],
            [
             0.5,
             "#f7f7f7"
            ],
            [
             0.6,
             "#e6f5d0"
            ],
            [
             0.7,
             "#b8e186"
            ],
            [
             0.8,
             "#7fbc41"
            ],
            [
             0.9,
             "#4d9221"
            ],
            [
             1,
             "#276419"
            ]
           ],
           "sequential": [
            [
             0,
             "#0d0887"
            ],
            [
             0.1111111111111111,
             "#46039f"
            ],
            [
             0.2222222222222222,
             "#7201a8"
            ],
            [
             0.3333333333333333,
             "#9c179e"
            ],
            [
             0.4444444444444444,
             "#bd3786"
            ],
            [
             0.5555555555555556,
             "#d8576b"
            ],
            [
             0.6666666666666666,
             "#ed7953"
            ],
            [
             0.7777777777777778,
             "#fb9f3a"
            ],
            [
             0.8888888888888888,
             "#fdca26"
            ],
            [
             1,
             "#f0f921"
            ]
           ],
           "sequentialminus": [
            [
             0,
             "#0d0887"
            ],
            [
             0.1111111111111111,
             "#46039f"
            ],
            [
             0.2222222222222222,
             "#7201a8"
            ],
            [
             0.3333333333333333,
             "#9c179e"
            ],
            [
             0.4444444444444444,
             "#bd3786"
            ],
            [
             0.5555555555555556,
             "#d8576b"
            ],
            [
             0.6666666666666666,
             "#ed7953"
            ],
            [
             0.7777777777777778,
             "#fb9f3a"
            ],
            [
             0.8888888888888888,
             "#fdca26"
            ],
            [
             1,
             "#f0f921"
            ]
           ]
          },
          "colorway": [
           "#636efa",
           "#EF553B",
           "#00cc96",
           "#ab63fa",
           "#FFA15A",
           "#19d3f3",
           "#FF6692",
           "#B6E880",
           "#FF97FF",
           "#FECB52"
          ],
          "font": {
           "color": "#2a3f5f"
          },
          "geo": {
           "bgcolor": "white",
           "lakecolor": "white",
           "landcolor": "#E5ECF6",
           "showlakes": true,
           "showland": true,
           "subunitcolor": "white"
          },
          "hoverlabel": {
           "align": "left"
          },
          "hovermode": "closest",
          "mapbox": {
           "style": "light"
          },
          "paper_bgcolor": "white",
          "plot_bgcolor": "#E5ECF6",
          "polar": {
           "angularaxis": {
            "gridcolor": "white",
            "linecolor": "white",
            "ticks": ""
           },
           "bgcolor": "#E5ECF6",
           "radialaxis": {
            "gridcolor": "white",
            "linecolor": "white",
            "ticks": ""
           }
          },
          "scene": {
           "xaxis": {
            "backgroundcolor": "#E5ECF6",
            "gridcolor": "white",
            "gridwidth": 2,
            "linecolor": "white",
            "showbackground": true,
            "ticks": "",
            "zerolinecolor": "white"
           },
           "yaxis": {
            "backgroundcolor": "#E5ECF6",
            "gridcolor": "white",
            "gridwidth": 2,
            "linecolor": "white",
            "showbackground": true,
            "ticks": "",
            "zerolinecolor": "white"
           },
           "zaxis": {
            "backgroundcolor": "#E5ECF6",
            "gridcolor": "white",
            "gridwidth": 2,
            "linecolor": "white",
            "showbackground": true,
            "ticks": "",
            "zerolinecolor": "white"
           }
          },
          "shapedefaults": {
           "line": {
            "color": "#2a3f5f"
           }
          },
          "ternary": {
           "aaxis": {
            "gridcolor": "white",
            "linecolor": "white",
            "ticks": ""
           },
           "baxis": {
            "gridcolor": "white",
            "linecolor": "white",
            "ticks": ""
           },
           "bgcolor": "#E5ECF6",
           "caxis": {
            "gridcolor": "white",
            "linecolor": "white",
            "ticks": ""
           }
          },
          "title": {
           "x": 0.05
          },
          "xaxis": {
           "automargin": true,
           "gridcolor": "white",
           "linecolor": "white",
           "ticks": "",
           "title": {
            "standoff": 15
           },
           "zerolinecolor": "white",
           "zerolinewidth": 2
          },
          "yaxis": {
           "automargin": true,
           "gridcolor": "white",
           "linecolor": "white",
           "ticks": "",
           "title": {
            "standoff": 15
           },
           "zerolinecolor": "white",
           "zerolinewidth": 2
          }
         }
        },
        "title": {
         "text": "EDA for fbs"
        },
        "xaxis": {
         "anchor": "y",
         "domain": [
          0,
          0.45
         ]
        },
        "xaxis2": {
         "anchor": "y2",
         "domain": [
          0,
          0.45
         ]
        },
        "xaxis3": {
         "anchor": "y3",
         "domain": [
          0.55,
          1
         ]
        },
        "yaxis": {
         "anchor": "x",
         "domain": [
          0.625,
          1
         ]
        },
        "yaxis2": {
         "anchor": "x2",
         "domain": [
          0,
          0.375
         ]
        },
        "yaxis3": {
         "anchor": "x3",
         "domain": [
          0,
          0.375
         ]
        }
       }
      }
     },
     "metadata": {},
     "output_type": "display_data"
    },
    {
     "name": "stdout",
     "output_type": "stream",
     "text": [
      "Column: restecg\n"
     ]
    },
    {
     "data": {
      "application/vnd.plotly.v1+json": {
       "config": {
        "plotlyServerURL": "https://plot.ly"
       },
       "data": [
        {
         "type": "bar",
         "x": [
          "normal",
          "lv hypertrophy",
          "st-t abnormality"
         ],
         "xaxis": "x",
         "y": {
          "bdata": "JwK8ALMA",
          "dtype": "i2"
         },
         "yaxis": "y"
        },
        {
         "domain": {
          "x": [
           0.55,
           1
          ],
          "y": [
           0.625,
           1
          ]
         },
         "labels": [
          "normal",
          "lv hypertrophy",
          "st-t abnormality"
         ],
         "type": "pie",
         "values": {
          "bdata": "JwK8ALMA",
          "dtype": "i2"
         }
        },
        {
         "type": "bar",
         "x": [
          "Missing",
          "Present"
         ],
         "xaxis": "x2",
         "y": [
          2,
          918
         ],
         "yaxis": "y2"
        },
        {
         "type": "heatmap",
         "x": [
          "Female",
          "Male"
         ],
         "xaxis": "x3",
         "y": [
          "lv hypertrophy",
          "normal",
          "st-t abnormality"
         ],
         "yaxis": "y3",
         "z": {
          "bdata": "LwCNAHcAsAEcAJcA",
          "dtype": "i2",
          "shape": "3, 2"
         }
        }
       ],
       "layout": {
        "annotations": [
         {
          "font": {
           "size": 16
          },
          "showarrow": false,
          "text": "Value Counts",
          "x": 0.225,
          "xanchor": "center",
          "xref": "paper",
          "y": 1,
          "yanchor": "bottom",
          "yref": "paper"
         },
         {
          "font": {
           "size": 16
          },
          "showarrow": false,
          "text": "Proportions",
          "x": 0.775,
          "xanchor": "center",
          "xref": "paper",
          "y": 1,
          "yanchor": "bottom",
          "yref": "paper"
         },
         {
          "font": {
           "size": 16
          },
          "showarrow": false,
          "text": "Missing Values",
          "x": 0.225,
          "xanchor": "center",
          "xref": "paper",
          "y": 0.375,
          "yanchor": "bottom",
          "yref": "paper"
         },
         {
          "font": {
           "size": 16
          },
          "showarrow": false,
          "text": "Co-occurrence",
          "x": 0.775,
          "xanchor": "center",
          "xref": "paper",
          "y": 0.375,
          "yanchor": "bottom",
          "yref": "paper"
         }
        ],
        "height": 800,
        "showlegend": false,
        "template": {
         "data": {
          "bar": [
           {
            "error_x": {
             "color": "#2a3f5f"
            },
            "error_y": {
             "color": "#2a3f5f"
            },
            "marker": {
             "line": {
              "color": "#E5ECF6",
              "width": 0.5
             },
             "pattern": {
              "fillmode": "overlay",
              "size": 10,
              "solidity": 0.2
             }
            },
            "type": "bar"
           }
          ],
          "barpolar": [
           {
            "marker": {
             "line": {
              "color": "#E5ECF6",
              "width": 0.5
             },
             "pattern": {
              "fillmode": "overlay",
              "size": 10,
              "solidity": 0.2
             }
            },
            "type": "barpolar"
           }
          ],
          "carpet": [
           {
            "aaxis": {
             "endlinecolor": "#2a3f5f",
             "gridcolor": "white",
             "linecolor": "white",
             "minorgridcolor": "white",
             "startlinecolor": "#2a3f5f"
            },
            "baxis": {
             "endlinecolor": "#2a3f5f",
             "gridcolor": "white",
             "linecolor": "white",
             "minorgridcolor": "white",
             "startlinecolor": "#2a3f5f"
            },
            "type": "carpet"
           }
          ],
          "choropleth": [
           {
            "colorbar": {
             "outlinewidth": 0,
             "ticks": ""
            },
            "type": "choropleth"
           }
          ],
          "contour": [
           {
            "colorbar": {
             "outlinewidth": 0,
             "ticks": ""
            },
            "colorscale": [
             [
              0,
              "#0d0887"
             ],
             [
              0.1111111111111111,
              "#46039f"
             ],
             [
              0.2222222222222222,
              "#7201a8"
             ],
             [
              0.3333333333333333,
              "#9c179e"
             ],
             [
              0.4444444444444444,
              "#bd3786"
             ],
             [
              0.5555555555555556,
              "#d8576b"
             ],
             [
              0.6666666666666666,
              "#ed7953"
             ],
             [
              0.7777777777777778,
              "#fb9f3a"
             ],
             [
              0.8888888888888888,
              "#fdca26"
             ],
             [
              1,
              "#f0f921"
             ]
            ],
            "type": "contour"
           }
          ],
          "contourcarpet": [
           {
            "colorbar": {
             "outlinewidth": 0,
             "ticks": ""
            },
            "type": "contourcarpet"
           }
          ],
          "heatmap": [
           {
            "colorbar": {
             "outlinewidth": 0,
             "ticks": ""
            },
            "colorscale": [
             [
              0,
              "#0d0887"
             ],
             [
              0.1111111111111111,
              "#46039f"
             ],
             [
              0.2222222222222222,
              "#7201a8"
             ],
             [
              0.3333333333333333,
              "#9c179e"
             ],
             [
              0.4444444444444444,
              "#bd3786"
             ],
             [
              0.5555555555555556,
              "#d8576b"
             ],
             [
              0.6666666666666666,
              "#ed7953"
             ],
             [
              0.7777777777777778,
              "#fb9f3a"
             ],
             [
              0.8888888888888888,
              "#fdca26"
             ],
             [
              1,
              "#f0f921"
             ]
            ],
            "type": "heatmap"
           }
          ],
          "histogram": [
           {
            "marker": {
             "pattern": {
              "fillmode": "overlay",
              "size": 10,
              "solidity": 0.2
             }
            },
            "type": "histogram"
           }
          ],
          "histogram2d": [
           {
            "colorbar": {
             "outlinewidth": 0,
             "ticks": ""
            },
            "colorscale": [
             [
              0,
              "#0d0887"
             ],
             [
              0.1111111111111111,
              "#46039f"
             ],
             [
              0.2222222222222222,
              "#7201a8"
             ],
             [
              0.3333333333333333,
              "#9c179e"
             ],
             [
              0.4444444444444444,
              "#bd3786"
             ],
             [
              0.5555555555555556,
              "#d8576b"
             ],
             [
              0.6666666666666666,
              "#ed7953"
             ],
             [
              0.7777777777777778,
              "#fb9f3a"
             ],
             [
              0.8888888888888888,
              "#fdca26"
             ],
             [
              1,
              "#f0f921"
             ]
            ],
            "type": "histogram2d"
           }
          ],
          "histogram2dcontour": [
           {
            "colorbar": {
             "outlinewidth": 0,
             "ticks": ""
            },
            "colorscale": [
             [
              0,
              "#0d0887"
             ],
             [
              0.1111111111111111,
              "#46039f"
             ],
             [
              0.2222222222222222,
              "#7201a8"
             ],
             [
              0.3333333333333333,
              "#9c179e"
             ],
             [
              0.4444444444444444,
              "#bd3786"
             ],
             [
              0.5555555555555556,
              "#d8576b"
             ],
             [
              0.6666666666666666,
              "#ed7953"
             ],
             [
              0.7777777777777778,
              "#fb9f3a"
             ],
             [
              0.8888888888888888,
              "#fdca26"
             ],
             [
              1,
              "#f0f921"
             ]
            ],
            "type": "histogram2dcontour"
           }
          ],
          "mesh3d": [
           {
            "colorbar": {
             "outlinewidth": 0,
             "ticks": ""
            },
            "type": "mesh3d"
           }
          ],
          "parcoords": [
           {
            "line": {
             "colorbar": {
              "outlinewidth": 0,
              "ticks": ""
             }
            },
            "type": "parcoords"
           }
          ],
          "pie": [
           {
            "automargin": true,
            "type": "pie"
           }
          ],
          "scatter": [
           {
            "fillpattern": {
             "fillmode": "overlay",
             "size": 10,
             "solidity": 0.2
            },
            "type": "scatter"
           }
          ],
          "scatter3d": [
           {
            "line": {
             "colorbar": {
              "outlinewidth": 0,
              "ticks": ""
             }
            },
            "marker": {
             "colorbar": {
              "outlinewidth": 0,
              "ticks": ""
             }
            },
            "type": "scatter3d"
           }
          ],
          "scattercarpet": [
           {
            "marker": {
             "colorbar": {
              "outlinewidth": 0,
              "ticks": ""
             }
            },
            "type": "scattercarpet"
           }
          ],
          "scattergeo": [
           {
            "marker": {
             "colorbar": {
              "outlinewidth": 0,
              "ticks": ""
             }
            },
            "type": "scattergeo"
           }
          ],
          "scattergl": [
           {
            "marker": {
             "colorbar": {
              "outlinewidth": 0,
              "ticks": ""
             }
            },
            "type": "scattergl"
           }
          ],
          "scattermap": [
           {
            "marker": {
             "colorbar": {
              "outlinewidth": 0,
              "ticks": ""
             }
            },
            "type": "scattermap"
           }
          ],
          "scattermapbox": [
           {
            "marker": {
             "colorbar": {
              "outlinewidth": 0,
              "ticks": ""
             }
            },
            "type": "scattermapbox"
           }
          ],
          "scatterpolar": [
           {
            "marker": {
             "colorbar": {
              "outlinewidth": 0,
              "ticks": ""
             }
            },
            "type": "scatterpolar"
           }
          ],
          "scatterpolargl": [
           {
            "marker": {
             "colorbar": {
              "outlinewidth": 0,
              "ticks": ""
             }
            },
            "type": "scatterpolargl"
           }
          ],
          "scatterternary": [
           {
            "marker": {
             "colorbar": {
              "outlinewidth": 0,
              "ticks": ""
             }
            },
            "type": "scatterternary"
           }
          ],
          "surface": [
           {
            "colorbar": {
             "outlinewidth": 0,
             "ticks": ""
            },
            "colorscale": [
             [
              0,
              "#0d0887"
             ],
             [
              0.1111111111111111,
              "#46039f"
             ],
             [
              0.2222222222222222,
              "#7201a8"
             ],
             [
              0.3333333333333333,
              "#9c179e"
             ],
             [
              0.4444444444444444,
              "#bd3786"
             ],
             [
              0.5555555555555556,
              "#d8576b"
             ],
             [
              0.6666666666666666,
              "#ed7953"
             ],
             [
              0.7777777777777778,
              "#fb9f3a"
             ],
             [
              0.8888888888888888,
              "#fdca26"
             ],
             [
              1,
              "#f0f921"
             ]
            ],
            "type": "surface"
           }
          ],
          "table": [
           {
            "cells": {
             "fill": {
              "color": "#EBF0F8"
             },
             "line": {
              "color": "white"
             }
            },
            "header": {
             "fill": {
              "color": "#C8D4E3"
             },
             "line": {
              "color": "white"
             }
            },
            "type": "table"
           }
          ]
         },
         "layout": {
          "annotationdefaults": {
           "arrowcolor": "#2a3f5f",
           "arrowhead": 0,
           "arrowwidth": 1
          },
          "autotypenumbers": "strict",
          "coloraxis": {
           "colorbar": {
            "outlinewidth": 0,
            "ticks": ""
           }
          },
          "colorscale": {
           "diverging": [
            [
             0,
             "#8e0152"
            ],
            [
             0.1,
             "#c51b7d"
            ],
            [
             0.2,
             "#de77ae"
            ],
            [
             0.3,
             "#f1b6da"
            ],
            [
             0.4,
             "#fde0ef"
            ],
            [
             0.5,
             "#f7f7f7"
            ],
            [
             0.6,
             "#e6f5d0"
            ],
            [
             0.7,
             "#b8e186"
            ],
            [
             0.8,
             "#7fbc41"
            ],
            [
             0.9,
             "#4d9221"
            ],
            [
             1,
             "#276419"
            ]
           ],
           "sequential": [
            [
             0,
             "#0d0887"
            ],
            [
             0.1111111111111111,
             "#46039f"
            ],
            [
             0.2222222222222222,
             "#7201a8"
            ],
            [
             0.3333333333333333,
             "#9c179e"
            ],
            [
             0.4444444444444444,
             "#bd3786"
            ],
            [
             0.5555555555555556,
             "#d8576b"
            ],
            [
             0.6666666666666666,
             "#ed7953"
            ],
            [
             0.7777777777777778,
             "#fb9f3a"
            ],
            [
             0.8888888888888888,
             "#fdca26"
            ],
            [
             1,
             "#f0f921"
            ]
           ],
           "sequentialminus": [
            [
             0,
             "#0d0887"
            ],
            [
             0.1111111111111111,
             "#46039f"
            ],
            [
             0.2222222222222222,
             "#7201a8"
            ],
            [
             0.3333333333333333,
             "#9c179e"
            ],
            [
             0.4444444444444444,
             "#bd3786"
            ],
            [
             0.5555555555555556,
             "#d8576b"
            ],
            [
             0.6666666666666666,
             "#ed7953"
            ],
            [
             0.7777777777777778,
             "#fb9f3a"
            ],
            [
             0.8888888888888888,
             "#fdca26"
            ],
            [
             1,
             "#f0f921"
            ]
           ]
          },
          "colorway": [
           "#636efa",
           "#EF553B",
           "#00cc96",
           "#ab63fa",
           "#FFA15A",
           "#19d3f3",
           "#FF6692",
           "#B6E880",
           "#FF97FF",
           "#FECB52"
          ],
          "font": {
           "color": "#2a3f5f"
          },
          "geo": {
           "bgcolor": "white",
           "lakecolor": "white",
           "landcolor": "#E5ECF6",
           "showlakes": true,
           "showland": true,
           "subunitcolor": "white"
          },
          "hoverlabel": {
           "align": "left"
          },
          "hovermode": "closest",
          "mapbox": {
           "style": "light"
          },
          "paper_bgcolor": "white",
          "plot_bgcolor": "#E5ECF6",
          "polar": {
           "angularaxis": {
            "gridcolor": "white",
            "linecolor": "white",
            "ticks": ""
           },
           "bgcolor": "#E5ECF6",
           "radialaxis": {
            "gridcolor": "white",
            "linecolor": "white",
            "ticks": ""
           }
          },
          "scene": {
           "xaxis": {
            "backgroundcolor": "#E5ECF6",
            "gridcolor": "white",
            "gridwidth": 2,
            "linecolor": "white",
            "showbackground": true,
            "ticks": "",
            "zerolinecolor": "white"
           },
           "yaxis": {
            "backgroundcolor": "#E5ECF6",
            "gridcolor": "white",
            "gridwidth": 2,
            "linecolor": "white",
            "showbackground": true,
            "ticks": "",
            "zerolinecolor": "white"
           },
           "zaxis": {
            "backgroundcolor": "#E5ECF6",
            "gridcolor": "white",
            "gridwidth": 2,
            "linecolor": "white",
            "showbackground": true,
            "ticks": "",
            "zerolinecolor": "white"
           }
          },
          "shapedefaults": {
           "line": {
            "color": "#2a3f5f"
           }
          },
          "ternary": {
           "aaxis": {
            "gridcolor": "white",
            "linecolor": "white",
            "ticks": ""
           },
           "baxis": {
            "gridcolor": "white",
            "linecolor": "white",
            "ticks": ""
           },
           "bgcolor": "#E5ECF6",
           "caxis": {
            "gridcolor": "white",
            "linecolor": "white",
            "ticks": ""
           }
          },
          "title": {
           "x": 0.05
          },
          "xaxis": {
           "automargin": true,
           "gridcolor": "white",
           "linecolor": "white",
           "ticks": "",
           "title": {
            "standoff": 15
           },
           "zerolinecolor": "white",
           "zerolinewidth": 2
          },
          "yaxis": {
           "automargin": true,
           "gridcolor": "white",
           "linecolor": "white",
           "ticks": "",
           "title": {
            "standoff": 15
           },
           "zerolinecolor": "white",
           "zerolinewidth": 2
          }
         }
        },
        "title": {
         "text": "EDA for restecg"
        },
        "xaxis": {
         "anchor": "y",
         "domain": [
          0,
          0.45
         ]
        },
        "xaxis2": {
         "anchor": "y2",
         "domain": [
          0,
          0.45
         ]
        },
        "xaxis3": {
         "anchor": "y3",
         "domain": [
          0.55,
          1
         ]
        },
        "yaxis": {
         "anchor": "x",
         "domain": [
          0.625,
          1
         ]
        },
        "yaxis2": {
         "anchor": "x2",
         "domain": [
          0,
          0.375
         ]
        },
        "yaxis3": {
         "anchor": "x3",
         "domain": [
          0,
          0.375
         ]
        }
       }
      }
     },
     "metadata": {},
     "output_type": "display_data"
    },
    {
     "name": "stdout",
     "output_type": "stream",
     "text": [
      "Column: exang\n"
     ]
    },
    {
     "data": {
      "application/vnd.plotly.v1+json": {
       "config": {
        "plotlyServerURL": "https://plot.ly"
       },
       "data": [
        {
         "type": "bar",
         "x": [
          false,
          true
         ],
         "xaxis": "x",
         "y": {
          "bdata": "EAJRAQ==",
          "dtype": "i2"
         },
         "yaxis": "y"
        },
        {
         "domain": {
          "x": [
           0.55,
           1
          ],
          "y": [
           0.625,
           1
          ]
         },
         "labels": [
          false,
          true
         ],
         "type": "pie",
         "values": {
          "bdata": "EAJRAQ==",
          "dtype": "i2"
         }
        },
        {
         "type": "bar",
         "x": [
          "Missing",
          "Present"
         ],
         "xaxis": "x2",
         "y": [
          55,
          865
         ],
         "yaxis": "y2"
        },
        {
         "type": "heatmap",
         "x": [
          "Female",
          "Male"
         ],
         "xaxis": "x3",
         "y": [
          false,
          true
         ],
         "yaxis": "y3",
         "z": {
          "bdata": "lQB7ASsAJgE=",
          "dtype": "i2",
          "shape": "2, 2"
         }
        }
       ],
       "layout": {
        "annotations": [
         {
          "font": {
           "size": 16
          },
          "showarrow": false,
          "text": "Value Counts",
          "x": 0.225,
          "xanchor": "center",
          "xref": "paper",
          "y": 1,
          "yanchor": "bottom",
          "yref": "paper"
         },
         {
          "font": {
           "size": 16
          },
          "showarrow": false,
          "text": "Proportions",
          "x": 0.775,
          "xanchor": "center",
          "xref": "paper",
          "y": 1,
          "yanchor": "bottom",
          "yref": "paper"
         },
         {
          "font": {
           "size": 16
          },
          "showarrow": false,
          "text": "Missing Values",
          "x": 0.225,
          "xanchor": "center",
          "xref": "paper",
          "y": 0.375,
          "yanchor": "bottom",
          "yref": "paper"
         },
         {
          "font": {
           "size": 16
          },
          "showarrow": false,
          "text": "Co-occurrence",
          "x": 0.775,
          "xanchor": "center",
          "xref": "paper",
          "y": 0.375,
          "yanchor": "bottom",
          "yref": "paper"
         }
        ],
        "height": 800,
        "showlegend": false,
        "template": {
         "data": {
          "bar": [
           {
            "error_x": {
             "color": "#2a3f5f"
            },
            "error_y": {
             "color": "#2a3f5f"
            },
            "marker": {
             "line": {
              "color": "#E5ECF6",
              "width": 0.5
             },
             "pattern": {
              "fillmode": "overlay",
              "size": 10,
              "solidity": 0.2
             }
            },
            "type": "bar"
           }
          ],
          "barpolar": [
           {
            "marker": {
             "line": {
              "color": "#E5ECF6",
              "width": 0.5
             },
             "pattern": {
              "fillmode": "overlay",
              "size": 10,
              "solidity": 0.2
             }
            },
            "type": "barpolar"
           }
          ],
          "carpet": [
           {
            "aaxis": {
             "endlinecolor": "#2a3f5f",
             "gridcolor": "white",
             "linecolor": "white",
             "minorgridcolor": "white",
             "startlinecolor": "#2a3f5f"
            },
            "baxis": {
             "endlinecolor": "#2a3f5f",
             "gridcolor": "white",
             "linecolor": "white",
             "minorgridcolor": "white",
             "startlinecolor": "#2a3f5f"
            },
            "type": "carpet"
           }
          ],
          "choropleth": [
           {
            "colorbar": {
             "outlinewidth": 0,
             "ticks": ""
            },
            "type": "choropleth"
           }
          ],
          "contour": [
           {
            "colorbar": {
             "outlinewidth": 0,
             "ticks": ""
            },
            "colorscale": [
             [
              0,
              "#0d0887"
             ],
             [
              0.1111111111111111,
              "#46039f"
             ],
             [
              0.2222222222222222,
              "#7201a8"
             ],
             [
              0.3333333333333333,
              "#9c179e"
             ],
             [
              0.4444444444444444,
              "#bd3786"
             ],
             [
              0.5555555555555556,
              "#d8576b"
             ],
             [
              0.6666666666666666,
              "#ed7953"
             ],
             [
              0.7777777777777778,
              "#fb9f3a"
             ],
             [
              0.8888888888888888,
              "#fdca26"
             ],
             [
              1,
              "#f0f921"
             ]
            ],
            "type": "contour"
           }
          ],
          "contourcarpet": [
           {
            "colorbar": {
             "outlinewidth": 0,
             "ticks": ""
            },
            "type": "contourcarpet"
           }
          ],
          "heatmap": [
           {
            "colorbar": {
             "outlinewidth": 0,
             "ticks": ""
            },
            "colorscale": [
             [
              0,
              "#0d0887"
             ],
             [
              0.1111111111111111,
              "#46039f"
             ],
             [
              0.2222222222222222,
              "#7201a8"
             ],
             [
              0.3333333333333333,
              "#9c179e"
             ],
             [
              0.4444444444444444,
              "#bd3786"
             ],
             [
              0.5555555555555556,
              "#d8576b"
             ],
             [
              0.6666666666666666,
              "#ed7953"
             ],
             [
              0.7777777777777778,
              "#fb9f3a"
             ],
             [
              0.8888888888888888,
              "#fdca26"
             ],
             [
              1,
              "#f0f921"
             ]
            ],
            "type": "heatmap"
           }
          ],
          "histogram": [
           {
            "marker": {
             "pattern": {
              "fillmode": "overlay",
              "size": 10,
              "solidity": 0.2
             }
            },
            "type": "histogram"
           }
          ],
          "histogram2d": [
           {
            "colorbar": {
             "outlinewidth": 0,
             "ticks": ""
            },
            "colorscale": [
             [
              0,
              "#0d0887"
             ],
             [
              0.1111111111111111,
              "#46039f"
             ],
             [
              0.2222222222222222,
              "#7201a8"
             ],
             [
              0.3333333333333333,
              "#9c179e"
             ],
             [
              0.4444444444444444,
              "#bd3786"
             ],
             [
              0.5555555555555556,
              "#d8576b"
             ],
             [
              0.6666666666666666,
              "#ed7953"
             ],
             [
              0.7777777777777778,
              "#fb9f3a"
             ],
             [
              0.8888888888888888,
              "#fdca26"
             ],
             [
              1,
              "#f0f921"
             ]
            ],
            "type": "histogram2d"
           }
          ],
          "histogram2dcontour": [
           {
            "colorbar": {
             "outlinewidth": 0,
             "ticks": ""
            },
            "colorscale": [
             [
              0,
              "#0d0887"
             ],
             [
              0.1111111111111111,
              "#46039f"
             ],
             [
              0.2222222222222222,
              "#7201a8"
             ],
             [
              0.3333333333333333,
              "#9c179e"
             ],
             [
              0.4444444444444444,
              "#bd3786"
             ],
             [
              0.5555555555555556,
              "#d8576b"
             ],
             [
              0.6666666666666666,
              "#ed7953"
             ],
             [
              0.7777777777777778,
              "#fb9f3a"
             ],
             [
              0.8888888888888888,
              "#fdca26"
             ],
             [
              1,
              "#f0f921"
             ]
            ],
            "type": "histogram2dcontour"
           }
          ],
          "mesh3d": [
           {
            "colorbar": {
             "outlinewidth": 0,
             "ticks": ""
            },
            "type": "mesh3d"
           }
          ],
          "parcoords": [
           {
            "line": {
             "colorbar": {
              "outlinewidth": 0,
              "ticks": ""
             }
            },
            "type": "parcoords"
           }
          ],
          "pie": [
           {
            "automargin": true,
            "type": "pie"
           }
          ],
          "scatter": [
           {
            "fillpattern": {
             "fillmode": "overlay",
             "size": 10,
             "solidity": 0.2
            },
            "type": "scatter"
           }
          ],
          "scatter3d": [
           {
            "line": {
             "colorbar": {
              "outlinewidth": 0,
              "ticks": ""
             }
            },
            "marker": {
             "colorbar": {
              "outlinewidth": 0,
              "ticks": ""
             }
            },
            "type": "scatter3d"
           }
          ],
          "scattercarpet": [
           {
            "marker": {
             "colorbar": {
              "outlinewidth": 0,
              "ticks": ""
             }
            },
            "type": "scattercarpet"
           }
          ],
          "scattergeo": [
           {
            "marker": {
             "colorbar": {
              "outlinewidth": 0,
              "ticks": ""
             }
            },
            "type": "scattergeo"
           }
          ],
          "scattergl": [
           {
            "marker": {
             "colorbar": {
              "outlinewidth": 0,
              "ticks": ""
             }
            },
            "type": "scattergl"
           }
          ],
          "scattermap": [
           {
            "marker": {
             "colorbar": {
              "outlinewidth": 0,
              "ticks": ""
             }
            },
            "type": "scattermap"
           }
          ],
          "scattermapbox": [
           {
            "marker": {
             "colorbar": {
              "outlinewidth": 0,
              "ticks": ""
             }
            },
            "type": "scattermapbox"
           }
          ],
          "scatterpolar": [
           {
            "marker": {
             "colorbar": {
              "outlinewidth": 0,
              "ticks": ""
             }
            },
            "type": "scatterpolar"
           }
          ],
          "scatterpolargl": [
           {
            "marker": {
             "colorbar": {
              "outlinewidth": 0,
              "ticks": ""
             }
            },
            "type": "scatterpolargl"
           }
          ],
          "scatterternary": [
           {
            "marker": {
             "colorbar": {
              "outlinewidth": 0,
              "ticks": ""
             }
            },
            "type": "scatterternary"
           }
          ],
          "surface": [
           {
            "colorbar": {
             "outlinewidth": 0,
             "ticks": ""
            },
            "colorscale": [
             [
              0,
              "#0d0887"
             ],
             [
              0.1111111111111111,
              "#46039f"
             ],
             [
              0.2222222222222222,
              "#7201a8"
             ],
             [
              0.3333333333333333,
              "#9c179e"
             ],
             [
              0.4444444444444444,
              "#bd3786"
             ],
             [
              0.5555555555555556,
              "#d8576b"
             ],
             [
              0.6666666666666666,
              "#ed7953"
             ],
             [
              0.7777777777777778,
              "#fb9f3a"
             ],
             [
              0.8888888888888888,
              "#fdca26"
             ],
             [
              1,
              "#f0f921"
             ]
            ],
            "type": "surface"
           }
          ],
          "table": [
           {
            "cells": {
             "fill": {
              "color": "#EBF0F8"
             },
             "line": {
              "color": "white"
             }
            },
            "header": {
             "fill": {
              "color": "#C8D4E3"
             },
             "line": {
              "color": "white"
             }
            },
            "type": "table"
           }
          ]
         },
         "layout": {
          "annotationdefaults": {
           "arrowcolor": "#2a3f5f",
           "arrowhead": 0,
           "arrowwidth": 1
          },
          "autotypenumbers": "strict",
          "coloraxis": {
           "colorbar": {
            "outlinewidth": 0,
            "ticks": ""
           }
          },
          "colorscale": {
           "diverging": [
            [
             0,
             "#8e0152"
            ],
            [
             0.1,
             "#c51b7d"
            ],
            [
             0.2,
             "#de77ae"
            ],
            [
             0.3,
             "#f1b6da"
            ],
            [
             0.4,
             "#fde0ef"
            ],
            [
             0.5,
             "#f7f7f7"
            ],
            [
             0.6,
             "#e6f5d0"
            ],
            [
             0.7,
             "#b8e186"
            ],
            [
             0.8,
             "#7fbc41"
            ],
            [
             0.9,
             "#4d9221"
            ],
            [
             1,
             "#276419"
            ]
           ],
           "sequential": [
            [
             0,
             "#0d0887"
            ],
            [
             0.1111111111111111,
             "#46039f"
            ],
            [
             0.2222222222222222,
             "#7201a8"
            ],
            [
             0.3333333333333333,
             "#9c179e"
            ],
            [
             0.4444444444444444,
             "#bd3786"
            ],
            [
             0.5555555555555556,
             "#d8576b"
            ],
            [
             0.6666666666666666,
             "#ed7953"
            ],
            [
             0.7777777777777778,
             "#fb9f3a"
            ],
            [
             0.8888888888888888,
             "#fdca26"
            ],
            [
             1,
             "#f0f921"
            ]
           ],
           "sequentialminus": [
            [
             0,
             "#0d0887"
            ],
            [
             0.1111111111111111,
             "#46039f"
            ],
            [
             0.2222222222222222,
             "#7201a8"
            ],
            [
             0.3333333333333333,
             "#9c179e"
            ],
            [
             0.4444444444444444,
             "#bd3786"
            ],
            [
             0.5555555555555556,
             "#d8576b"
            ],
            [
             0.6666666666666666,
             "#ed7953"
            ],
            [
             0.7777777777777778,
             "#fb9f3a"
            ],
            [
             0.8888888888888888,
             "#fdca26"
            ],
            [
             1,
             "#f0f921"
            ]
           ]
          },
          "colorway": [
           "#636efa",
           "#EF553B",
           "#00cc96",
           "#ab63fa",
           "#FFA15A",
           "#19d3f3",
           "#FF6692",
           "#B6E880",
           "#FF97FF",
           "#FECB52"
          ],
          "font": {
           "color": "#2a3f5f"
          },
          "geo": {
           "bgcolor": "white",
           "lakecolor": "white",
           "landcolor": "#E5ECF6",
           "showlakes": true,
           "showland": true,
           "subunitcolor": "white"
          },
          "hoverlabel": {
           "align": "left"
          },
          "hovermode": "closest",
          "mapbox": {
           "style": "light"
          },
          "paper_bgcolor": "white",
          "plot_bgcolor": "#E5ECF6",
          "polar": {
           "angularaxis": {
            "gridcolor": "white",
            "linecolor": "white",
            "ticks": ""
           },
           "bgcolor": "#E5ECF6",
           "radialaxis": {
            "gridcolor": "white",
            "linecolor": "white",
            "ticks": ""
           }
          },
          "scene": {
           "xaxis": {
            "backgroundcolor": "#E5ECF6",
            "gridcolor": "white",
            "gridwidth": 2,
            "linecolor": "white",
            "showbackground": true,
            "ticks": "",
            "zerolinecolor": "white"
           },
           "yaxis": {
            "backgroundcolor": "#E5ECF6",
            "gridcolor": "white",
            "gridwidth": 2,
            "linecolor": "white",
            "showbackground": true,
            "ticks": "",
            "zerolinecolor": "white"
           },
           "zaxis": {
            "backgroundcolor": "#E5ECF6",
            "gridcolor": "white",
            "gridwidth": 2,
            "linecolor": "white",
            "showbackground": true,
            "ticks": "",
            "zerolinecolor": "white"
           }
          },
          "shapedefaults": {
           "line": {
            "color": "#2a3f5f"
           }
          },
          "ternary": {
           "aaxis": {
            "gridcolor": "white",
            "linecolor": "white",
            "ticks": ""
           },
           "baxis": {
            "gridcolor": "white",
            "linecolor": "white",
            "ticks": ""
           },
           "bgcolor": "#E5ECF6",
           "caxis": {
            "gridcolor": "white",
            "linecolor": "white",
            "ticks": ""
           }
          },
          "title": {
           "x": 0.05
          },
          "xaxis": {
           "automargin": true,
           "gridcolor": "white",
           "linecolor": "white",
           "ticks": "",
           "title": {
            "standoff": 15
           },
           "zerolinecolor": "white",
           "zerolinewidth": 2
          },
          "yaxis": {
           "automargin": true,
           "gridcolor": "white",
           "linecolor": "white",
           "ticks": "",
           "title": {
            "standoff": 15
           },
           "zerolinecolor": "white",
           "zerolinewidth": 2
          }
         }
        },
        "title": {
         "text": "EDA for exang"
        },
        "xaxis": {
         "anchor": "y",
         "domain": [
          0,
          0.45
         ]
        },
        "xaxis2": {
         "anchor": "y2",
         "domain": [
          0,
          0.45
         ]
        },
        "xaxis3": {
         "anchor": "y3",
         "domain": [
          0.55,
          1
         ]
        },
        "yaxis": {
         "anchor": "x",
         "domain": [
          0.625,
          1
         ]
        },
        "yaxis2": {
         "anchor": "x2",
         "domain": [
          0,
          0.375
         ]
        },
        "yaxis3": {
         "anchor": "x3",
         "domain": [
          0,
          0.375
         ]
        }
       }
      }
     },
     "metadata": {},
     "output_type": "display_data"
    },
    {
     "name": "stdout",
     "output_type": "stream",
     "text": [
      "Column: slope\n"
     ]
    },
    {
     "data": {
      "application/vnd.plotly.v1+json": {
       "config": {
        "plotlyServerURL": "https://plot.ly"
       },
       "data": [
        {
         "type": "bar",
         "x": [
          "flat",
          "upsloping",
          "downsloping"
         ],
         "xaxis": "x",
         "y": {
          "bdata": "WQHLAD8A",
          "dtype": "i2"
         },
         "yaxis": "y"
        },
        {
         "domain": {
          "x": [
           0.55,
           1
          ],
          "y": [
           0.625,
           1
          ]
         },
         "labels": [
          "flat",
          "upsloping",
          "downsloping"
         ],
         "type": "pie",
         "values": {
          "bdata": "WQHLAD8A",
          "dtype": "i2"
         }
        },
        {
         "type": "bar",
         "x": [
          "Missing",
          "Present"
         ],
         "xaxis": "x2",
         "y": [
          309,
          611
         ],
         "yaxis": "y2"
        },
        {
         "type": "heatmap",
         "x": [
          "Female",
          "Male"
         ],
         "xaxis": "x3",
         "y": [
          "downsloping",
          "flat",
          "upsloping"
         ],
         "yaxis": "y3",
         "z": {
          "bdata": "BwA4AEUAFAE5AJIA",
          "dtype": "i2",
          "shape": "3, 2"
         }
        }
       ],
       "layout": {
        "annotations": [
         {
          "font": {
           "size": 16
          },
          "showarrow": false,
          "text": "Value Counts",
          "x": 0.225,
          "xanchor": "center",
          "xref": "paper",
          "y": 1,
          "yanchor": "bottom",
          "yref": "paper"
         },
         {
          "font": {
           "size": 16
          },
          "showarrow": false,
          "text": "Proportions",
          "x": 0.775,
          "xanchor": "center",
          "xref": "paper",
          "y": 1,
          "yanchor": "bottom",
          "yref": "paper"
         },
         {
          "font": {
           "size": 16
          },
          "showarrow": false,
          "text": "Missing Values",
          "x": 0.225,
          "xanchor": "center",
          "xref": "paper",
          "y": 0.375,
          "yanchor": "bottom",
          "yref": "paper"
         },
         {
          "font": {
           "size": 16
          },
          "showarrow": false,
          "text": "Co-occurrence",
          "x": 0.775,
          "xanchor": "center",
          "xref": "paper",
          "y": 0.375,
          "yanchor": "bottom",
          "yref": "paper"
         }
        ],
        "height": 800,
        "showlegend": false,
        "template": {
         "data": {
          "bar": [
           {
            "error_x": {
             "color": "#2a3f5f"
            },
            "error_y": {
             "color": "#2a3f5f"
            },
            "marker": {
             "line": {
              "color": "#E5ECF6",
              "width": 0.5
             },
             "pattern": {
              "fillmode": "overlay",
              "size": 10,
              "solidity": 0.2
             }
            },
            "type": "bar"
           }
          ],
          "barpolar": [
           {
            "marker": {
             "line": {
              "color": "#E5ECF6",
              "width": 0.5
             },
             "pattern": {
              "fillmode": "overlay",
              "size": 10,
              "solidity": 0.2
             }
            },
            "type": "barpolar"
           }
          ],
          "carpet": [
           {
            "aaxis": {
             "endlinecolor": "#2a3f5f",
             "gridcolor": "white",
             "linecolor": "white",
             "minorgridcolor": "white",
             "startlinecolor": "#2a3f5f"
            },
            "baxis": {
             "endlinecolor": "#2a3f5f",
             "gridcolor": "white",
             "linecolor": "white",
             "minorgridcolor": "white",
             "startlinecolor": "#2a3f5f"
            },
            "type": "carpet"
           }
          ],
          "choropleth": [
           {
            "colorbar": {
             "outlinewidth": 0,
             "ticks": ""
            },
            "type": "choropleth"
           }
          ],
          "contour": [
           {
            "colorbar": {
             "outlinewidth": 0,
             "ticks": ""
            },
            "colorscale": [
             [
              0,
              "#0d0887"
             ],
             [
              0.1111111111111111,
              "#46039f"
             ],
             [
              0.2222222222222222,
              "#7201a8"
             ],
             [
              0.3333333333333333,
              "#9c179e"
             ],
             [
              0.4444444444444444,
              "#bd3786"
             ],
             [
              0.5555555555555556,
              "#d8576b"
             ],
             [
              0.6666666666666666,
              "#ed7953"
             ],
             [
              0.7777777777777778,
              "#fb9f3a"
             ],
             [
              0.8888888888888888,
              "#fdca26"
             ],
             [
              1,
              "#f0f921"
             ]
            ],
            "type": "contour"
           }
          ],
          "contourcarpet": [
           {
            "colorbar": {
             "outlinewidth": 0,
             "ticks": ""
            },
            "type": "contourcarpet"
           }
          ],
          "heatmap": [
           {
            "colorbar": {
             "outlinewidth": 0,
             "ticks": ""
            },
            "colorscale": [
             [
              0,
              "#0d0887"
             ],
             [
              0.1111111111111111,
              "#46039f"
             ],
             [
              0.2222222222222222,
              "#7201a8"
             ],
             [
              0.3333333333333333,
              "#9c179e"
             ],
             [
              0.4444444444444444,
              "#bd3786"
             ],
             [
              0.5555555555555556,
              "#d8576b"
             ],
             [
              0.6666666666666666,
              "#ed7953"
             ],
             [
              0.7777777777777778,
              "#fb9f3a"
             ],
             [
              0.8888888888888888,
              "#fdca26"
             ],
             [
              1,
              "#f0f921"
             ]
            ],
            "type": "heatmap"
           }
          ],
          "histogram": [
           {
            "marker": {
             "pattern": {
              "fillmode": "overlay",
              "size": 10,
              "solidity": 0.2
             }
            },
            "type": "histogram"
           }
          ],
          "histogram2d": [
           {
            "colorbar": {
             "outlinewidth": 0,
             "ticks": ""
            },
            "colorscale": [
             [
              0,
              "#0d0887"
             ],
             [
              0.1111111111111111,
              "#46039f"
             ],
             [
              0.2222222222222222,
              "#7201a8"
             ],
             [
              0.3333333333333333,
              "#9c179e"
             ],
             [
              0.4444444444444444,
              "#bd3786"
             ],
             [
              0.5555555555555556,
              "#d8576b"
             ],
             [
              0.6666666666666666,
              "#ed7953"
             ],
             [
              0.7777777777777778,
              "#fb9f3a"
             ],
             [
              0.8888888888888888,
              "#fdca26"
             ],
             [
              1,
              "#f0f921"
             ]
            ],
            "type": "histogram2d"
           }
          ],
          "histogram2dcontour": [
           {
            "colorbar": {
             "outlinewidth": 0,
             "ticks": ""
            },
            "colorscale": [
             [
              0,
              "#0d0887"
             ],
             [
              0.1111111111111111,
              "#46039f"
             ],
             [
              0.2222222222222222,
              "#7201a8"
             ],
             [
              0.3333333333333333,
              "#9c179e"
             ],
             [
              0.4444444444444444,
              "#bd3786"
             ],
             [
              0.5555555555555556,
              "#d8576b"
             ],
             [
              0.6666666666666666,
              "#ed7953"
             ],
             [
              0.7777777777777778,
              "#fb9f3a"
             ],
             [
              0.8888888888888888,
              "#fdca26"
             ],
             [
              1,
              "#f0f921"
             ]
            ],
            "type": "histogram2dcontour"
           }
          ],
          "mesh3d": [
           {
            "colorbar": {
             "outlinewidth": 0,
             "ticks": ""
            },
            "type": "mesh3d"
           }
          ],
          "parcoords": [
           {
            "line": {
             "colorbar": {
              "outlinewidth": 0,
              "ticks": ""
             }
            },
            "type": "parcoords"
           }
          ],
          "pie": [
           {
            "automargin": true,
            "type": "pie"
           }
          ],
          "scatter": [
           {
            "fillpattern": {
             "fillmode": "overlay",
             "size": 10,
             "solidity": 0.2
            },
            "type": "scatter"
           }
          ],
          "scatter3d": [
           {
            "line": {
             "colorbar": {
              "outlinewidth": 0,
              "ticks": ""
             }
            },
            "marker": {
             "colorbar": {
              "outlinewidth": 0,
              "ticks": ""
             }
            },
            "type": "scatter3d"
           }
          ],
          "scattercarpet": [
           {
            "marker": {
             "colorbar": {
              "outlinewidth": 0,
              "ticks": ""
             }
            },
            "type": "scattercarpet"
           }
          ],
          "scattergeo": [
           {
            "marker": {
             "colorbar": {
              "outlinewidth": 0,
              "ticks": ""
             }
            },
            "type": "scattergeo"
           }
          ],
          "scattergl": [
           {
            "marker": {
             "colorbar": {
              "outlinewidth": 0,
              "ticks": ""
             }
            },
            "type": "scattergl"
           }
          ],
          "scattermap": [
           {
            "marker": {
             "colorbar": {
              "outlinewidth": 0,
              "ticks": ""
             }
            },
            "type": "scattermap"
           }
          ],
          "scattermapbox": [
           {
            "marker": {
             "colorbar": {
              "outlinewidth": 0,
              "ticks": ""
             }
            },
            "type": "scattermapbox"
           }
          ],
          "scatterpolar": [
           {
            "marker": {
             "colorbar": {
              "outlinewidth": 0,
              "ticks": ""
             }
            },
            "type": "scatterpolar"
           }
          ],
          "scatterpolargl": [
           {
            "marker": {
             "colorbar": {
              "outlinewidth": 0,
              "ticks": ""
             }
            },
            "type": "scatterpolargl"
           }
          ],
          "scatterternary": [
           {
            "marker": {
             "colorbar": {
              "outlinewidth": 0,
              "ticks": ""
             }
            },
            "type": "scatterternary"
           }
          ],
          "surface": [
           {
            "colorbar": {
             "outlinewidth": 0,
             "ticks": ""
            },
            "colorscale": [
             [
              0,
              "#0d0887"
             ],
             [
              0.1111111111111111,
              "#46039f"
             ],
             [
              0.2222222222222222,
              "#7201a8"
             ],
             [
              0.3333333333333333,
              "#9c179e"
             ],
             [
              0.4444444444444444,
              "#bd3786"
             ],
             [
              0.5555555555555556,
              "#d8576b"
             ],
             [
              0.6666666666666666,
              "#ed7953"
             ],
             [
              0.7777777777777778,
              "#fb9f3a"
             ],
             [
              0.8888888888888888,
              "#fdca26"
             ],
             [
              1,
              "#f0f921"
             ]
            ],
            "type": "surface"
           }
          ],
          "table": [
           {
            "cells": {
             "fill": {
              "color": "#EBF0F8"
             },
             "line": {
              "color": "white"
             }
            },
            "header": {
             "fill": {
              "color": "#C8D4E3"
             },
             "line": {
              "color": "white"
             }
            },
            "type": "table"
           }
          ]
         },
         "layout": {
          "annotationdefaults": {
           "arrowcolor": "#2a3f5f",
           "arrowhead": 0,
           "arrowwidth": 1
          },
          "autotypenumbers": "strict",
          "coloraxis": {
           "colorbar": {
            "outlinewidth": 0,
            "ticks": ""
           }
          },
          "colorscale": {
           "diverging": [
            [
             0,
             "#8e0152"
            ],
            [
             0.1,
             "#c51b7d"
            ],
            [
             0.2,
             "#de77ae"
            ],
            [
             0.3,
             "#f1b6da"
            ],
            [
             0.4,
             "#fde0ef"
            ],
            [
             0.5,
             "#f7f7f7"
            ],
            [
             0.6,
             "#e6f5d0"
            ],
            [
             0.7,
             "#b8e186"
            ],
            [
             0.8,
             "#7fbc41"
            ],
            [
             0.9,
             "#4d9221"
            ],
            [
             1,
             "#276419"
            ]
           ],
           "sequential": [
            [
             0,
             "#0d0887"
            ],
            [
             0.1111111111111111,
             "#46039f"
            ],
            [
             0.2222222222222222,
             "#7201a8"
            ],
            [
             0.3333333333333333,
             "#9c179e"
            ],
            [
             0.4444444444444444,
             "#bd3786"
            ],
            [
             0.5555555555555556,
             "#d8576b"
            ],
            [
             0.6666666666666666,
             "#ed7953"
            ],
            [
             0.7777777777777778,
             "#fb9f3a"
            ],
            [
             0.8888888888888888,
             "#fdca26"
            ],
            [
             1,
             "#f0f921"
            ]
           ],
           "sequentialminus": [
            [
             0,
             "#0d0887"
            ],
            [
             0.1111111111111111,
             "#46039f"
            ],
            [
             0.2222222222222222,
             "#7201a8"
            ],
            [
             0.3333333333333333,
             "#9c179e"
            ],
            [
             0.4444444444444444,
             "#bd3786"
            ],
            [
             0.5555555555555556,
             "#d8576b"
            ],
            [
             0.6666666666666666,
             "#ed7953"
            ],
            [
             0.7777777777777778,
             "#fb9f3a"
            ],
            [
             0.8888888888888888,
             "#fdca26"
            ],
            [
             1,
             "#f0f921"
            ]
           ]
          },
          "colorway": [
           "#636efa",
           "#EF553B",
           "#00cc96",
           "#ab63fa",
           "#FFA15A",
           "#19d3f3",
           "#FF6692",
           "#B6E880",
           "#FF97FF",
           "#FECB52"
          ],
          "font": {
           "color": "#2a3f5f"
          },
          "geo": {
           "bgcolor": "white",
           "lakecolor": "white",
           "landcolor": "#E5ECF6",
           "showlakes": true,
           "showland": true,
           "subunitcolor": "white"
          },
          "hoverlabel": {
           "align": "left"
          },
          "hovermode": "closest",
          "mapbox": {
           "style": "light"
          },
          "paper_bgcolor": "white",
          "plot_bgcolor": "#E5ECF6",
          "polar": {
           "angularaxis": {
            "gridcolor": "white",
            "linecolor": "white",
            "ticks": ""
           },
           "bgcolor": "#E5ECF6",
           "radialaxis": {
            "gridcolor": "white",
            "linecolor": "white",
            "ticks": ""
           }
          },
          "scene": {
           "xaxis": {
            "backgroundcolor": "#E5ECF6",
            "gridcolor": "white",
            "gridwidth": 2,
            "linecolor": "white",
            "showbackground": true,
            "ticks": "",
            "zerolinecolor": "white"
           },
           "yaxis": {
            "backgroundcolor": "#E5ECF6",
            "gridcolor": "white",
            "gridwidth": 2,
            "linecolor": "white",
            "showbackground": true,
            "ticks": "",
            "zerolinecolor": "white"
           },
           "zaxis": {
            "backgroundcolor": "#E5ECF6",
            "gridcolor": "white",
            "gridwidth": 2,
            "linecolor": "white",
            "showbackground": true,
            "ticks": "",
            "zerolinecolor": "white"
           }
          },
          "shapedefaults": {
           "line": {
            "color": "#2a3f5f"
           }
          },
          "ternary": {
           "aaxis": {
            "gridcolor": "white",
            "linecolor": "white",
            "ticks": ""
           },
           "baxis": {
            "gridcolor": "white",
            "linecolor": "white",
            "ticks": ""
           },
           "bgcolor": "#E5ECF6",
           "caxis": {
            "gridcolor": "white",
            "linecolor": "white",
            "ticks": ""
           }
          },
          "title": {
           "x": 0.05
          },
          "xaxis": {
           "automargin": true,
           "gridcolor": "white",
           "linecolor": "white",
           "ticks": "",
           "title": {
            "standoff": 15
           },
           "zerolinecolor": "white",
           "zerolinewidth": 2
          },
          "yaxis": {
           "automargin": true,
           "gridcolor": "white",
           "linecolor": "white",
           "ticks": "",
           "title": {
            "standoff": 15
           },
           "zerolinecolor": "white",
           "zerolinewidth": 2
          }
         }
        },
        "title": {
         "text": "EDA for slope"
        },
        "xaxis": {
         "anchor": "y",
         "domain": [
          0,
          0.45
         ]
        },
        "xaxis2": {
         "anchor": "y2",
         "domain": [
          0,
          0.45
         ]
        },
        "xaxis3": {
         "anchor": "y3",
         "domain": [
          0.55,
          1
         ]
        },
        "yaxis": {
         "anchor": "x",
         "domain": [
          0.625,
          1
         ]
        },
        "yaxis2": {
         "anchor": "x2",
         "domain": [
          0,
          0.375
         ]
        },
        "yaxis3": {
         "anchor": "x3",
         "domain": [
          0,
          0.375
         ]
        }
       }
      }
     },
     "metadata": {},
     "output_type": "display_data"
    },
    {
     "name": "stdout",
     "output_type": "stream",
     "text": [
      "Column: thal\n"
     ]
    },
    {
     "data": {
      "application/vnd.plotly.v1+json": {
       "config": {
        "plotlyServerURL": "https://plot.ly"
       },
       "data": [
        {
         "type": "bar",
         "x": [
          "normal",
          "reversable defect",
          "fixed defect"
         ],
         "xaxis": "x",
         "y": {
          "bdata": "xADAAC4A",
          "dtype": "i2"
         },
         "yaxis": "y"
        },
        {
         "domain": {
          "x": [
           0.55,
           1
          ],
          "y": [
           0.625,
           1
          ]
         },
         "labels": [
          "normal",
          "reversable defect",
          "fixed defect"
         ],
         "type": "pie",
         "values": {
          "bdata": "xADAAC4A",
          "dtype": "i2"
         }
        },
        {
         "type": "bar",
         "x": [
          "Missing",
          "Present"
         ],
         "xaxis": "x2",
         "y": [
          486,
          434
         ],
         "yaxis": "y2"
        },
        {
         "type": "heatmap",
         "x": [
          "Female",
          "Male"
         ],
         "xaxis": "x3",
         "y": [
          "fixed defect",
          "normal",
          "reversable defect"
         ],
         "yaxis": "y3",
         "z": {
          "bdata": "BAAqAFYAbgAVAKsA",
          "dtype": "i2",
          "shape": "3, 2"
         }
        }
       ],
       "layout": {
        "annotations": [
         {
          "font": {
           "size": 16
          },
          "showarrow": false,
          "text": "Value Counts",
          "x": 0.225,
          "xanchor": "center",
          "xref": "paper",
          "y": 1,
          "yanchor": "bottom",
          "yref": "paper"
         },
         {
          "font": {
           "size": 16
          },
          "showarrow": false,
          "text": "Proportions",
          "x": 0.775,
          "xanchor": "center",
          "xref": "paper",
          "y": 1,
          "yanchor": "bottom",
          "yref": "paper"
         },
         {
          "font": {
           "size": 16
          },
          "showarrow": false,
          "text": "Missing Values",
          "x": 0.225,
          "xanchor": "center",
          "xref": "paper",
          "y": 0.375,
          "yanchor": "bottom",
          "yref": "paper"
         },
         {
          "font": {
           "size": 16
          },
          "showarrow": false,
          "text": "Co-occurrence",
          "x": 0.775,
          "xanchor": "center",
          "xref": "paper",
          "y": 0.375,
          "yanchor": "bottom",
          "yref": "paper"
         }
        ],
        "height": 800,
        "showlegend": false,
        "template": {
         "data": {
          "bar": [
           {
            "error_x": {
             "color": "#2a3f5f"
            },
            "error_y": {
             "color": "#2a3f5f"
            },
            "marker": {
             "line": {
              "color": "#E5ECF6",
              "width": 0.5
             },
             "pattern": {
              "fillmode": "overlay",
              "size": 10,
              "solidity": 0.2
             }
            },
            "type": "bar"
           }
          ],
          "barpolar": [
           {
            "marker": {
             "line": {
              "color": "#E5ECF6",
              "width": 0.5
             },
             "pattern": {
              "fillmode": "overlay",
              "size": 10,
              "solidity": 0.2
             }
            },
            "type": "barpolar"
           }
          ],
          "carpet": [
           {
            "aaxis": {
             "endlinecolor": "#2a3f5f",
             "gridcolor": "white",
             "linecolor": "white",
             "minorgridcolor": "white",
             "startlinecolor": "#2a3f5f"
            },
            "baxis": {
             "endlinecolor": "#2a3f5f",
             "gridcolor": "white",
             "linecolor": "white",
             "minorgridcolor": "white",
             "startlinecolor": "#2a3f5f"
            },
            "type": "carpet"
           }
          ],
          "choropleth": [
           {
            "colorbar": {
             "outlinewidth": 0,
             "ticks": ""
            },
            "type": "choropleth"
           }
          ],
          "contour": [
           {
            "colorbar": {
             "outlinewidth": 0,
             "ticks": ""
            },
            "colorscale": [
             [
              0,
              "#0d0887"
             ],
             [
              0.1111111111111111,
              "#46039f"
             ],
             [
              0.2222222222222222,
              "#7201a8"
             ],
             [
              0.3333333333333333,
              "#9c179e"
             ],
             [
              0.4444444444444444,
              "#bd3786"
             ],
             [
              0.5555555555555556,
              "#d8576b"
             ],
             [
              0.6666666666666666,
              "#ed7953"
             ],
             [
              0.7777777777777778,
              "#fb9f3a"
             ],
             [
              0.8888888888888888,
              "#fdca26"
             ],
             [
              1,
              "#f0f921"
             ]
            ],
            "type": "contour"
           }
          ],
          "contourcarpet": [
           {
            "colorbar": {
             "outlinewidth": 0,
             "ticks": ""
            },
            "type": "contourcarpet"
           }
          ],
          "heatmap": [
           {
            "colorbar": {
             "outlinewidth": 0,
             "ticks": ""
            },
            "colorscale": [
             [
              0,
              "#0d0887"
             ],
             [
              0.1111111111111111,
              "#46039f"
             ],
             [
              0.2222222222222222,
              "#7201a8"
             ],
             [
              0.3333333333333333,
              "#9c179e"
             ],
             [
              0.4444444444444444,
              "#bd3786"
             ],
             [
              0.5555555555555556,
              "#d8576b"
             ],
             [
              0.6666666666666666,
              "#ed7953"
             ],
             [
              0.7777777777777778,
              "#fb9f3a"
             ],
             [
              0.8888888888888888,
              "#fdca26"
             ],
             [
              1,
              "#f0f921"
             ]
            ],
            "type": "heatmap"
           }
          ],
          "histogram": [
           {
            "marker": {
             "pattern": {
              "fillmode": "overlay",
              "size": 10,
              "solidity": 0.2
             }
            },
            "type": "histogram"
           }
          ],
          "histogram2d": [
           {
            "colorbar": {
             "outlinewidth": 0,
             "ticks": ""
            },
            "colorscale": [
             [
              0,
              "#0d0887"
             ],
             [
              0.1111111111111111,
              "#46039f"
             ],
             [
              0.2222222222222222,
              "#7201a8"
             ],
             [
              0.3333333333333333,
              "#9c179e"
             ],
             [
              0.4444444444444444,
              "#bd3786"
             ],
             [
              0.5555555555555556,
              "#d8576b"
             ],
             [
              0.6666666666666666,
              "#ed7953"
             ],
             [
              0.7777777777777778,
              "#fb9f3a"
             ],
             [
              0.8888888888888888,
              "#fdca26"
             ],
             [
              1,
              "#f0f921"
             ]
            ],
            "type": "histogram2d"
           }
          ],
          "histogram2dcontour": [
           {
            "colorbar": {
             "outlinewidth": 0,
             "ticks": ""
            },
            "colorscale": [
             [
              0,
              "#0d0887"
             ],
             [
              0.1111111111111111,
              "#46039f"
             ],
             [
              0.2222222222222222,
              "#7201a8"
             ],
             [
              0.3333333333333333,
              "#9c179e"
             ],
             [
              0.4444444444444444,
              "#bd3786"
             ],
             [
              0.5555555555555556,
              "#d8576b"
             ],
             [
              0.6666666666666666,
              "#ed7953"
             ],
             [
              0.7777777777777778,
              "#fb9f3a"
             ],
             [
              0.8888888888888888,
              "#fdca26"
             ],
             [
              1,
              "#f0f921"
             ]
            ],
            "type": "histogram2dcontour"
           }
          ],
          "mesh3d": [
           {
            "colorbar": {
             "outlinewidth": 0,
             "ticks": ""
            },
            "type": "mesh3d"
           }
          ],
          "parcoords": [
           {
            "line": {
             "colorbar": {
              "outlinewidth": 0,
              "ticks": ""
             }
            },
            "type": "parcoords"
           }
          ],
          "pie": [
           {
            "automargin": true,
            "type": "pie"
           }
          ],
          "scatter": [
           {
            "fillpattern": {
             "fillmode": "overlay",
             "size": 10,
             "solidity": 0.2
            },
            "type": "scatter"
           }
          ],
          "scatter3d": [
           {
            "line": {
             "colorbar": {
              "outlinewidth": 0,
              "ticks": ""
             }
            },
            "marker": {
             "colorbar": {
              "outlinewidth": 0,
              "ticks": ""
             }
            },
            "type": "scatter3d"
           }
          ],
          "scattercarpet": [
           {
            "marker": {
             "colorbar": {
              "outlinewidth": 0,
              "ticks": ""
             }
            },
            "type": "scattercarpet"
           }
          ],
          "scattergeo": [
           {
            "marker": {
             "colorbar": {
              "outlinewidth": 0,
              "ticks": ""
             }
            },
            "type": "scattergeo"
           }
          ],
          "scattergl": [
           {
            "marker": {
             "colorbar": {
              "outlinewidth": 0,
              "ticks": ""
             }
            },
            "type": "scattergl"
           }
          ],
          "scattermap": [
           {
            "marker": {
             "colorbar": {
              "outlinewidth": 0,
              "ticks": ""
             }
            },
            "type": "scattermap"
           }
          ],
          "scattermapbox": [
           {
            "marker": {
             "colorbar": {
              "outlinewidth": 0,
              "ticks": ""
             }
            },
            "type": "scattermapbox"
           }
          ],
          "scatterpolar": [
           {
            "marker": {
             "colorbar": {
              "outlinewidth": 0,
              "ticks": ""
             }
            },
            "type": "scatterpolar"
           }
          ],
          "scatterpolargl": [
           {
            "marker": {
             "colorbar": {
              "outlinewidth": 0,
              "ticks": ""
             }
            },
            "type": "scatterpolargl"
           }
          ],
          "scatterternary": [
           {
            "marker": {
             "colorbar": {
              "outlinewidth": 0,
              "ticks": ""
             }
            },
            "type": "scatterternary"
           }
          ],
          "surface": [
           {
            "colorbar": {
             "outlinewidth": 0,
             "ticks": ""
            },
            "colorscale": [
             [
              0,
              "#0d0887"
             ],
             [
              0.1111111111111111,
              "#46039f"
             ],
             [
              0.2222222222222222,
              "#7201a8"
             ],
             [
              0.3333333333333333,
              "#9c179e"
             ],
             [
              0.4444444444444444,
              "#bd3786"
             ],
             [
              0.5555555555555556,
              "#d8576b"
             ],
             [
              0.6666666666666666,
              "#ed7953"
             ],
             [
              0.7777777777777778,
              "#fb9f3a"
             ],
             [
              0.8888888888888888,
              "#fdca26"
             ],
             [
              1,
              "#f0f921"
             ]
            ],
            "type": "surface"
           }
          ],
          "table": [
           {
            "cells": {
             "fill": {
              "color": "#EBF0F8"
             },
             "line": {
              "color": "white"
             }
            },
            "header": {
             "fill": {
              "color": "#C8D4E3"
             },
             "line": {
              "color": "white"
             }
            },
            "type": "table"
           }
          ]
         },
         "layout": {
          "annotationdefaults": {
           "arrowcolor": "#2a3f5f",
           "arrowhead": 0,
           "arrowwidth": 1
          },
          "autotypenumbers": "strict",
          "coloraxis": {
           "colorbar": {
            "outlinewidth": 0,
            "ticks": ""
           }
          },
          "colorscale": {
           "diverging": [
            [
             0,
             "#8e0152"
            ],
            [
             0.1,
             "#c51b7d"
            ],
            [
             0.2,
             "#de77ae"
            ],
            [
             0.3,
             "#f1b6da"
            ],
            [
             0.4,
             "#fde0ef"
            ],
            [
             0.5,
             "#f7f7f7"
            ],
            [
             0.6,
             "#e6f5d0"
            ],
            [
             0.7,
             "#b8e186"
            ],
            [
             0.8,
             "#7fbc41"
            ],
            [
             0.9,
             "#4d9221"
            ],
            [
             1,
             "#276419"
            ]
           ],
           "sequential": [
            [
             0,
             "#0d0887"
            ],
            [
             0.1111111111111111,
             "#46039f"
            ],
            [
             0.2222222222222222,
             "#7201a8"
            ],
            [
             0.3333333333333333,
             "#9c179e"
            ],
            [
             0.4444444444444444,
             "#bd3786"
            ],
            [
             0.5555555555555556,
             "#d8576b"
            ],
            [
             0.6666666666666666,
             "#ed7953"
            ],
            [
             0.7777777777777778,
             "#fb9f3a"
            ],
            [
             0.8888888888888888,
             "#fdca26"
            ],
            [
             1,
             "#f0f921"
            ]
           ],
           "sequentialminus": [
            [
             0,
             "#0d0887"
            ],
            [
             0.1111111111111111,
             "#46039f"
            ],
            [
             0.2222222222222222,
             "#7201a8"
            ],
            [
             0.3333333333333333,
             "#9c179e"
            ],
            [
             0.4444444444444444,
             "#bd3786"
            ],
            [
             0.5555555555555556,
             "#d8576b"
            ],
            [
             0.6666666666666666,
             "#ed7953"
            ],
            [
             0.7777777777777778,
             "#fb9f3a"
            ],
            [
             0.8888888888888888,
             "#fdca26"
            ],
            [
             1,
             "#f0f921"
            ]
           ]
          },
          "colorway": [
           "#636efa",
           "#EF553B",
           "#00cc96",
           "#ab63fa",
           "#FFA15A",
           "#19d3f3",
           "#FF6692",
           "#B6E880",
           "#FF97FF",
           "#FECB52"
          ],
          "font": {
           "color": "#2a3f5f"
          },
          "geo": {
           "bgcolor": "white",
           "lakecolor": "white",
           "landcolor": "#E5ECF6",
           "showlakes": true,
           "showland": true,
           "subunitcolor": "white"
          },
          "hoverlabel": {
           "align": "left"
          },
          "hovermode": "closest",
          "mapbox": {
           "style": "light"
          },
          "paper_bgcolor": "white",
          "plot_bgcolor": "#E5ECF6",
          "polar": {
           "angularaxis": {
            "gridcolor": "white",
            "linecolor": "white",
            "ticks": ""
           },
           "bgcolor": "#E5ECF6",
           "radialaxis": {
            "gridcolor": "white",
            "linecolor": "white",
            "ticks": ""
           }
          },
          "scene": {
           "xaxis": {
            "backgroundcolor": "#E5ECF6",
            "gridcolor": "white",
            "gridwidth": 2,
            "linecolor": "white",
            "showbackground": true,
            "ticks": "",
            "zerolinecolor": "white"
           },
           "yaxis": {
            "backgroundcolor": "#E5ECF6",
            "gridcolor": "white",
            "gridwidth": 2,
            "linecolor": "white",
            "showbackground": true,
            "ticks": "",
            "zerolinecolor": "white"
           },
           "zaxis": {
            "backgroundcolor": "#E5ECF6",
            "gridcolor": "white",
            "gridwidth": 2,
            "linecolor": "white",
            "showbackground": true,
            "ticks": "",
            "zerolinecolor": "white"
           }
          },
          "shapedefaults": {
           "line": {
            "color": "#2a3f5f"
           }
          },
          "ternary": {
           "aaxis": {
            "gridcolor": "white",
            "linecolor": "white",
            "ticks": ""
           },
           "baxis": {
            "gridcolor": "white",
            "linecolor": "white",
            "ticks": ""
           },
           "bgcolor": "#E5ECF6",
           "caxis": {
            "gridcolor": "white",
            "linecolor": "white",
            "ticks": ""
           }
          },
          "title": {
           "x": 0.05
          },
          "xaxis": {
           "automargin": true,
           "gridcolor": "white",
           "linecolor": "white",
           "ticks": "",
           "title": {
            "standoff": 15
           },
           "zerolinecolor": "white",
           "zerolinewidth": 2
          },
          "yaxis": {
           "automargin": true,
           "gridcolor": "white",
           "linecolor": "white",
           "ticks": "",
           "title": {
            "standoff": 15
           },
           "zerolinecolor": "white",
           "zerolinewidth": 2
          }
         }
        },
        "title": {
         "text": "EDA for thal"
        },
        "xaxis": {
         "anchor": "y",
         "domain": [
          0,
          0.45
         ]
        },
        "xaxis2": {
         "anchor": "y2",
         "domain": [
          0,
          0.45
         ]
        },
        "xaxis3": {
         "anchor": "y3",
         "domain": [
          0.55,
          1
         ]
        },
        "yaxis": {
         "anchor": "x",
         "domain": [
          0.625,
          1
         ]
        },
        "yaxis2": {
         "anchor": "x2",
         "domain": [
          0,
          0.375
         ]
        },
        "yaxis3": {
         "anchor": "x3",
         "domain": [
          0,
          0.375
         ]
        }
       }
      }
     },
     "metadata": {},
     "output_type": "display_data"
    }
   ],
   "source": [
    "import numpy as np\n",
    "\n",
    "def analyze_object_column(df, column_name, target_col=None):\n",
    "    \"\"\"Perform EDA on categorical column with Plotly visualizations\"\"\"\n",
    "    import pandas as pd\n",
    "    import plotly.graph_objects as go\n",
    "    import plotly.express as px\n",
    "    from plotly.subplots import make_subplots\n",
    "    from scipy.stats import chi2_contingency\n",
    "    \n",
    "    # Input validation\n",
    "    if column_name not in df.columns:\n",
    "        raise ValueError(f\"Column '{column_name}' not found\")\n",
    "    if not pd.api.types.is_object_dtype(df[column_name]):\n",
    "        raise ValueError(f\"Column '{column_name}' is not object type\")\n",
    "\n",
    "    results = {}\n",
    "    \n",
    "    # Basic statistics\n",
    "    value_counts = df[column_name].value_counts()\n",
    "    missing_count = df[column_name].isnull().sum()\n",
    "    \n",
    "    results['stats'] = {\n",
    "        'unique_values': df[column_name].nunique(),\n",
    "        'missing_count': missing_count,\n",
    "        'missing_percentage': (missing_count / len(df)) * 100,\n",
    "        'mode': df[column_name].mode()[0],\n",
    "        'value_counts': value_counts.to_dict()\n",
    "    }\n",
    "    \n",
    "    # Create subplots\n",
    "    fig = make_subplots(\n",
    "        rows=2, cols=2,\n",
    "        subplot_titles=('Value Counts', 'Proportions', 'Missing Values', 'Co-occurrence'),\n",
    "        specs=[[{\"type\": \"xy\"}, {\"type\": \"domain\"}], [{\"type\": \"xy\"}, {\"type\": \"xy\"}]]\n",
    "    )\n",
    "    \n",
    "    # Bar chart\n",
    "    bar = go.Bar(x=value_counts.index, y=value_counts.values)\n",
    "    fig.add_trace(bar, row=1, col=1)\n",
    "    \n",
    "    # Pie chart\n",
    "    pie = go.Pie(labels=value_counts.index, values=value_counts.values)\n",
    "    fig.add_trace(pie, row=1, col=2)\n",
    "    \n",
    "    # Missing values visualization\n",
    "    missing_data = go.Bar(\n",
    "        x=['Missing', 'Present'],\n",
    "        y=[missing_count, len(df) - missing_count]\n",
    "    )\n",
    "    fig.add_trace(missing_data, row=2, col=1)\n",
    "    \n",
    "    # Co-occurrence with other object columns\n",
    "    other_cats = df.select_dtypes(include=['object']).columns\n",
    "    other_cats = other_cats[other_cats != column_name]\n",
    "    \n",
    "    if len(other_cats) > 0:\n",
    "        # Create co-occurrence matrix with first categorical column\n",
    "        cooc = pd.crosstab(df[column_name], df[other_cats[0]])\n",
    "        heatmap = go.Heatmap(\n",
    "            z=cooc.values,\n",
    "            x=cooc.columns,\n",
    "            y=cooc.index\n",
    "        )\n",
    "        fig.add_trace(heatmap, row=2, col=2)\n",
    "    \n",
    "    # Target variable analysis\n",
    "    if target_col and target_col in df.columns:\n",
    "        contingency = pd.crosstab(df[column_name], df[target_col])\n",
    "        chi2, p_value, _, _ = chi2_contingency(contingency)\n",
    "        results['target_analysis'] = {\n",
    "            'chi2_statistic': chi2,\n",
    "            'p_value': p_value,\n",
    "            'contingency_table': contingency.to_dict()\n",
    "        }\n",
    "    \n",
    "    # Update layout\n",
    "    fig.update_layout(\n",
    "        height=800,\n",
    "        title=f'EDA for {column_name}',\n",
    "        showlegend=False\n",
    "    )\n",
    "    \n",
    "    fig.show()\n",
    "    return results\n",
    "\n",
    "for col in df.select_dtypes(include=object).columns:\n",
    "    print(f\"Column: {col}\")\n",
    "    analyze_object_column(df, col, target_col='num')"
   ]
  },
  {
   "cell_type": "code",
   "execution_count": 8,
   "metadata": {},
   "outputs": [
    {
     "data": {
      "text/plain": [
       "'Create interactive correlation heatmap for all variables'"
      ]
     },
     "execution_count": 8,
     "metadata": {},
     "output_type": "execute_result"
    }
   ],
   "source": [
    "\"\"\"Create interactive correlation heatmap for all variables\"\"\"\n",
    "# todo: add correlation matrix"
   ]
  },
  {
   "cell_type": "code",
   "execution_count": 9,
   "metadata": {},
   "outputs": [],
   "source": [
    "df['label'] = df['num'] > 0\n",
    "df.drop(columns=['num'], inplace=True)"
   ]
  },
  {
   "cell_type": "markdown",
   "metadata": {},
   "source": [
    "## Label analysis"
   ]
  },
  {
   "cell_type": "code",
   "execution_count": 10,
   "metadata": {},
   "outputs": [
    {
     "data": {
      "text/plain": [
       "label\n",
       "True     509\n",
       "False    411\n",
       "Name: count, dtype: int64"
      ]
     },
     "execution_count": 10,
     "metadata": {},
     "output_type": "execute_result"
    }
   ],
   "source": [
    "df['label'].value_counts()"
   ]
  },
  {
   "cell_type": "code",
   "execution_count": 11,
   "metadata": {},
   "outputs": [],
   "source": [
    "df.to_csv('data/model_ready.csv', index=False)"
   ]
  }
 ],
 "metadata": {
  "kernelspec": {
   "display_name": "hd_cursor",
   "language": "python",
   "name": "python3"
  },
  "language_info": {
   "codemirror_mode": {
    "name": "ipython",
    "version": 3
   },
   "file_extension": ".py",
   "mimetype": "text/x-python",
   "name": "python",
   "nbconvert_exporter": "python",
   "pygments_lexer": "ipython3",
   "version": "3.12.8"
  }
 },
 "nbformat": 4,
 "nbformat_minor": 2
}
